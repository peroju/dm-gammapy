{
 "cells": [
  {
   "cell_type": "code",
   "execution_count": 1,
   "metadata": {},
   "outputs": [],
   "source": [
    "from astropy.table import Table\n",
    "from astropy import units\n",
    "\n",
    "from gammapy.spectrum import FluxPoints, FluxPointFit\n",
    "\n",
    "from matplotlib import pyplot as plt\n",
    "%matplotlib inline"
   ]
  },
  {
   "cell_type": "code",
   "execution_count": 2,
   "metadata": {},
   "outputs": [],
   "source": [
    "opts = {\n",
    "   'format': 'ascii',\n",
    "   'names': ['e_ref', 'e2_flux'], \n",
    "}\n",
    "\n",
    "t = Table.read('../datasets/spectra_CIRELLI11_EW_GAMMA_m2000.txt', **opts)\n",
    "\n",
    "# Let's add some units\n",
    "t['e_ref'].unit, t['e2_flux'].unit = \"MeV\", \"cm-2 s-1 MeV\""
   ]
  },
  {
   "cell_type": "code",
   "execution_count": 3,
   "metadata": {},
   "outputs": [
    {
     "data": {
      "text/html": [
       "<i>Table length=100</i>\n",
       "<table id=\"table4562140912\" class=\"table-striped table-bordered table-condensed\">\n",
       "<thead><tr><th>e_ref</th><th>e2_flux</th></tr></thead>\n",
       "<thead><tr><th>MeV</th><th>MeV / (cm2 s)</th></tr></thead>\n",
       "<thead><tr><th>float64</th><th>float64</th></tr></thead>\n",
       "<tr><td>1000.0</td><td>3.61e-12</td></tr>\n",
       "<tr><td>1089.8</td><td>3.95e-12</td></tr>\n",
       "<tr><td>1187.8</td><td>4.33e-12</td></tr>\n",
       "<tr><td>1294.5</td><td>4.73e-12</td></tr>\n",
       "<tr><td>1410.8</td><td>5.16e-12</td></tr>\n",
       "<tr><td>1537.5</td><td>5.62e-12</td></tr>\n",
       "<tr><td>1675.6</td><td>6.11e-12</td></tr>\n",
       "<tr><td>1826.2</td><td>6.64e-12</td></tr>\n",
       "<tr><td>1990.2</td><td>7.2e-12</td></tr>\n",
       "<tr><td>...</td><td>...</td></tr>\n",
       "<tr><td>2305200.0</td><td>1e-40</td></tr>\n",
       "<tr><td>2512300.0</td><td>1e-40</td></tr>\n",
       "<tr><td>2738000.0</td><td>1e-40</td></tr>\n",
       "<tr><td>2983900.0</td><td>1e-40</td></tr>\n",
       "<tr><td>3252000.0</td><td>1e-40</td></tr>\n",
       "<tr><td>3544200.0</td><td>1e-40</td></tr>\n",
       "<tr><td>3862600.0</td><td>1e-40</td></tr>\n",
       "<tr><td>4209600.0</td><td>1e-40</td></tr>\n",
       "<tr><td>4587800.0</td><td>1e-40</td></tr>\n",
       "<tr><td>5000000.0</td><td>1e-40</td></tr>\n",
       "</table>"
      ],
      "text/plain": [
       "<Table length=100>\n",
       "  e_ref      e2_flux   \n",
       "   MeV    MeV / (cm2 s)\n",
       " float64     float64   \n",
       "--------- -------------\n",
       "   1000.0      3.61e-12\n",
       "   1089.8      3.95e-12\n",
       "   1187.8      4.33e-12\n",
       "   1294.5      4.73e-12\n",
       "   1410.8      5.16e-12\n",
       "   1537.5      5.62e-12\n",
       "   1675.6      6.11e-12\n",
       "   1826.2      6.64e-12\n",
       "   1990.2       7.2e-12\n",
       "      ...           ...\n",
       "2305200.0         1e-40\n",
       "2512300.0         1e-40\n",
       "2738000.0         1e-40\n",
       "2983900.0         1e-40\n",
       "3252000.0         1e-40\n",
       "3544200.0         1e-40\n",
       "3862600.0         1e-40\n",
       "4209600.0         1e-40\n",
       "4587800.0         1e-40\n",
       "5000000.0         1e-40"
      ]
     },
     "execution_count": 3,
     "metadata": {},
     "output_type": "execute_result"
    }
   ],
   "source": [
    "t"
   ]
  },
  {
   "cell_type": "code",
   "execution_count": 4,
   "metadata": {},
   "outputs": [],
   "source": [
    "t['dnde'] = t['e2_flux']/(t['e_ref']*t['e_ref'])\n",
    "t['dnde'].unit = \"cm-2 s-1 MeV-1\"\n",
    "t['dnde_err'] = 1e-25\n",
    "t['dnde_err'].unit = \"cm-2 s-1 MeV-1\"\n",
    "#t['dnde_errp'] = 1e-18\n",
    "#t['dnde_errp'].unit = \"cm-2 s-1 MeV-1\""
   ]
  },
  {
   "cell_type": "code",
   "execution_count": 5,
   "metadata": {},
   "outputs": [
    {
     "data": {
      "text/html": [
       "<i>Table length=100</i>\n",
       "<table id=\"table4562140912\" class=\"table-striped table-bordered table-condensed\">\n",
       "<thead><tr><th>e_ref</th><th>e2_flux</th><th>dnde</th><th>dnde_err</th></tr></thead>\n",
       "<thead><tr><th>MeV</th><th>MeV / (cm2 s)</th><th>1 / (cm2 MeV s)</th><th>1 / (cm2 MeV s)</th></tr></thead>\n",
       "<thead><tr><th>float64</th><th>float64</th><th>float64</th><th>float64</th></tr></thead>\n",
       "<tr><td>1000.0</td><td>3.61e-12</td><td>3.61e-18</td><td>1e-25</td></tr>\n",
       "<tr><td>1089.8</td><td>3.95e-12</td><td>3.3258563591771293e-18</td><td>1e-25</td></tr>\n",
       "<tr><td>1187.8</td><td>4.33e-12</td><td>3.069030853357e-18</td><td>1e-25</td></tr>\n",
       "<tr><td>1294.5</td><td>4.73e-12</td><td>2.822650005870575e-18</td><td>1e-25</td></tr>\n",
       "<tr><td>1410.8</td><td>5.16e-12</td><td>2.5925002063951716e-18</td><td>1e-25</td></tr>\n",
       "<tr><td>1537.5</td><td>5.62e-12</td><td>2.3774208473792054e-18</td><td>1e-25</td></tr>\n",
       "<tr><td>1675.6</td><td>6.11e-12</td><td>2.176208523032706e-18</td><td>1e-25</td></tr>\n",
       "<tr><td>1826.2</td><td>6.64e-12</td><td>1.9910006530602083e-18</td><td>1e-25</td></tr>\n",
       "<tr><td>1990.2</td><td>7.2e-12</td><td>1.8177705062918034e-18</td><td>1e-25</td></tr>\n",
       "<tr><td>...</td><td>...</td><td>...</td><td>...</td></tr>\n",
       "<tr><td>2305200.0</td><td>1e-40</td><td>1.8818403579724045e-53</td><td>1e-25</td></tr>\n",
       "<tr><td>2512300.0</td><td>1e-40</td><td>1.5843714331689575e-53</td><td>1e-25</td></tr>\n",
       "<tr><td>2738000.0</td><td>1e-40</td><td>1.3339302226436256e-53</td><td>1e-25</td></tr>\n",
       "<tr><td>2983900.0</td><td>1e-40</td><td>1.1231337323387964e-53</td><td>1e-25</td></tr>\n",
       "<tr><td>3252000.0</td><td>1e-40</td><td>9.455814115336725e-54</td><td>1e-25</td></tr>\n",
       "<tr><td>3544200.0</td><td>1e-40</td><td>7.960925459622678e-54</td><td>1e-25</td></tr>\n",
       "<tr><td>3862600.0</td><td>1e-40</td><td>6.702557180259289e-54</td><td>1e-25</td></tr>\n",
       "<tr><td>4209600.0</td><td>1e-40</td><td>5.643107694259062e-54</td><td>1e-25</td></tr>\n",
       "<tr><td>4587800.0</td><td>1e-40</td><td>4.7510658070676055e-54</td><td>1e-25</td></tr>\n",
       "<tr><td>5000000.0</td><td>1e-40</td><td>3.9999999999999995e-54</td><td>1e-25</td></tr>\n",
       "</table>"
      ],
      "text/plain": [
       "<Table length=100>\n",
       "  e_ref      e2_flux             dnde              dnde_err   \n",
       "   MeV    MeV / (cm2 s)    1 / (cm2 MeV s)     1 / (cm2 MeV s)\n",
       " float64     float64           float64             float64    \n",
       "--------- ------------- ---------------------- ---------------\n",
       "   1000.0      3.61e-12               3.61e-18           1e-25\n",
       "   1089.8      3.95e-12 3.3258563591771293e-18           1e-25\n",
       "   1187.8      4.33e-12     3.069030853357e-18           1e-25\n",
       "   1294.5      4.73e-12  2.822650005870575e-18           1e-25\n",
       "   1410.8      5.16e-12 2.5925002063951716e-18           1e-25\n",
       "   1537.5      5.62e-12 2.3774208473792054e-18           1e-25\n",
       "   1675.6      6.11e-12  2.176208523032706e-18           1e-25\n",
       "   1826.2      6.64e-12 1.9910006530602083e-18           1e-25\n",
       "   1990.2       7.2e-12 1.8177705062918034e-18           1e-25\n",
       "      ...           ...                    ...             ...\n",
       "2305200.0         1e-40 1.8818403579724045e-53           1e-25\n",
       "2512300.0         1e-40 1.5843714331689575e-53           1e-25\n",
       "2738000.0         1e-40 1.3339302226436256e-53           1e-25\n",
       "2983900.0         1e-40 1.1231337323387964e-53           1e-25\n",
       "3252000.0         1e-40  9.455814115336725e-54           1e-25\n",
       "3544200.0         1e-40  7.960925459622678e-54           1e-25\n",
       "3862600.0         1e-40  6.702557180259289e-54           1e-25\n",
       "4209600.0         1e-40  5.643107694259062e-54           1e-25\n",
       "4587800.0         1e-40 4.7510658070676055e-54           1e-25\n",
       "5000000.0         1e-40 3.9999999999999995e-54           1e-25"
      ]
     },
     "execution_count": 5,
     "metadata": {},
     "output_type": "execute_result"
    }
   ],
   "source": [
    "t"
   ]
  },
  {
   "cell_type": "code",
   "execution_count": 6,
   "metadata": {},
   "outputs": [],
   "source": [
    "mask = t['dnde']>1e-30\n",
    "t = t[mask]"
   ]
  },
  {
   "cell_type": "code",
   "execution_count": 7,
   "metadata": {},
   "outputs": [],
   "source": [
    "#t.remove_column('e2_flux')"
   ]
  },
  {
   "cell_type": "code",
   "execution_count": 8,
   "metadata": {},
   "outputs": [],
   "source": [
    "t.meta['SED_TYPE'] = 'dnde'\n",
    "flux_points = FluxPoints(t)"
   ]
  },
  {
   "cell_type": "code",
   "execution_count": 9,
   "metadata": {},
   "outputs": [
    {
     "data": {
      "image/png": "[encoded data removed]",
      "text/plain": [
       "<Figure size 432x288 with 1 Axes>"
      ]
     },
     "metadata": {
      "needs_background": "light"
     },
     "output_type": "display_data"
    }
   ],
   "source": [
    "ax = flux_points.plot(energy_power=2)"
   ]
  },
  {
   "cell_type": "code",
   "execution_count": 10,
   "metadata": {},
   "outputs": [],
   "source": [
    "from gammapy.spectrum.models import ExponentialCutoffPowerLaw"
   ]
  },
  {
   "cell_type": "code",
   "execution_count": 11,
   "metadata": {},
   "outputs": [],
   "source": [
    "ecpl = ExponentialCutoffPowerLaw(\n",
    "    index=9.678e-01,\n",
    "    amplitude=\"4.729e-15 cm-2 s-1 TeV-1\",\n",
    "    reference=\"1 TeV\",\n",
    "    lambda_=\"2.2e+01 TeV-1\",\n",
    ")"
   ]
  },
  {
   "cell_type": "code",
   "execution_count": 12,
   "metadata": {},
   "outputs": [],
   "source": [
    "fitter = FluxPointFit(ecpl, flux_points)"
   ]
  },
  {
   "cell_type": "code",
   "execution_count": 13,
   "metadata": {},
   "outputs": [
    {
     "name": "stdout",
     "output_type": "stream",
     "text": [
      "ExponentialCutoffPowerLaw\n",
      "\n",
      "Parameters: \n",
      "\n",
      "\t   name     value     error        unit      min max\n",
      "\t--------- --------- --------- -------------- --- ---\n",
      "\t    index 9.678e-01 5.809e-08                nan nan\n",
      "\tamplitude 4.729e-15 1.931e-21 cm-2 s-1 TeV-1 nan nan\n",
      "\treference 1.000e+00 0.000e+00            TeV nan nan\n",
      "\t  lambda_ 3.762e+01 1.998e-05          TeV-1 nan nan\n",
      "\n",
      "Covariance: \n",
      "\n",
      "\t   name     index    amplitude  reference  lambda_  \n",
      "\t--------- ---------- ---------- --------- ----------\n",
      "\t    index  3.374e-15 -1.121e-28 0.000e+00 -1.047e-12\n",
      "\tamplitude -1.121e-28  3.729e-42 0.000e+00  3.539e-26\n",
      "\treference  0.000e+00  0.000e+00 0.000e+00  0.000e+00\n",
      "\t  lambda_ -1.047e-12  3.539e-26 0.000e+00  3.994e-10\n"
     ]
    }
   ],
   "source": [
    "result_ecpl = fitter.run()\n",
    "print(result_ecpl.model)"
   ]
  },
  {
   "cell_type": "code",
   "execution_count": 14,
   "metadata": {},
   "outputs": [
    {
     "data": {
      "text/plain": [
       "<matplotlib.axes._subplots.AxesSubplot at 0x112225780>"
      ]
     },
     "execution_count": 14,
     "metadata": {},
     "output_type": "execute_result"
    },
    {
     "data": {
      "image/png": "[encoded data removed]",
      "text/plain": [
       "<Figure size 432x288 with 1 Axes>"
      ]
     },
     "metadata": {
      "needs_background": "light"
     },
     "output_type": "display_data"
    }
   ],
   "source": [
    "ax = flux_points.plot(energy_power=2)\n",
    "result_ecpl.model.plot(energy_range=[1e-3, 1] * units.TeV, ax=ax, energy_power=2)\n",
    "result_ecpl.model.plot_error(\n",
    "    energy_range=[1e-3, 1] * units.TeV, ax=ax, energy_power=2\n",
    ")"
   ]
  },
  {
   "cell_type": "code",
   "execution_count": null,
   "metadata": {},
   "outputs": [],
   "source": []
  }
 ],
 "metadata": {
  "kernelspec": {
   "display_name": "Python 3",
   "language": "python",
   "name": "python3"
  },
  "language_info": {
   "codemirror_mode": {
    "name": "ipython",
    "version": 3
   },
   "file_extension": ".py",
   "mimetype": "text/x-python",
   "name": "python",
   "nbconvert_exporter": "python",
   "pygments_lexer": "ipython3",
   "version": "3.6.0"
  }
 },
 "nbformat": 4,
 "nbformat_minor": 2
}
