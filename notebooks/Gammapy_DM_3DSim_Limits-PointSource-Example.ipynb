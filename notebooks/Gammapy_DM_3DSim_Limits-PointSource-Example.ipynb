{
 "cells": [
  {
   "cell_type": "markdown",
   "metadata": {},
   "source": [
    "## Imports and versions"
   ]
  },
  {
   "cell_type": "code",
   "execution_count": 33,
   "metadata": {},
   "outputs": [],
   "source": [
    "import warnings"
   ]
  },
  {
   "cell_type": "code",
   "execution_count": 34,
   "metadata": {},
   "outputs": [],
   "source": [
    "warnings.simplefilter(action='ignore', category=FutureWarning)"
   ]
  },
  {
   "cell_type": "code",
   "execution_count": 35,
   "metadata": {},
   "outputs": [],
   "source": [
    "warnings.simplefilter(action='ignore', category=Warning)"
   ]
  },
  {
   "cell_type": "code",
   "execution_count": 36,
   "metadata": {},
   "outputs": [],
   "source": [
    "import matplotlib.pyplot as plt\n",
    "from scipy.optimize import brentq\n",
    "import scipy.stats as st\n",
    "import pandas as pd\n",
    "import time "
   ]
  },
  {
   "cell_type": "code",
   "execution_count": 37,
   "metadata": {},
   "outputs": [],
   "source": [
    "import numpy as np\n",
    "import astropy.units as u\n",
    "from astropy.coordinates import SkyCoord, Angle\n",
    "from gammapy.irf import (\n",
    "    EffectiveAreaTable2D,\n",
    "    EnergyDispersion2D,\n",
    "    EnergyDependentMultiGaussPSF,\n",
    "    Background3D,\n",
    ")\n",
    "from gammapy.maps import WcsGeom, MapAxis, WcsNDMap, Map\n",
    "from gammapy.spectrum import models\n",
    "from gammapy.image.models import SkyDiffuseMap, SkyPointSource\n",
    "from gammapy.cube.models import SkyModel, SkyModels\n",
    "from gammapy.cube import MapFit, MapEvaluator, PSFKernel\n",
    "from gammapy.cube import make_map_exposure_true_energy, make_map_background_irf\n",
    "from regions import CircleSkyRegion\n",
    "from gammapy.astro.darkmatter import PrimaryFlux \n",
    "from gammapy.utils.fitting import Parameter, Parameters"
   ]
  },
  {
   "cell_type": "code",
   "execution_count": null,
   "metadata": {},
   "outputs": [],
   "source": []
  },
  {
   "cell_type": "code",
   "execution_count": null,
   "metadata": {},
   "outputs": [],
   "source": []
  },
  {
   "cell_type": "code",
   "execution_count": 38,
   "metadata": {},
   "outputs": [
    {
     "name": "stdout",
     "output_type": "stream",
     "text": [
      "\n",
      "Gammapy package:\n",
      "\n",
      "\tpath                   : /Users/grod/Library/Python/3.6/lib/python/site-packages/gammapy \n",
      "\tversion                : 0.10.dev7939 \n",
      "\tgithash                : 48a822faa648b85b2af2e8a822bb6c62d9eeb9eb \n",
      "\n",
      "\n",
      "Other packages:\n",
      "\n",
      "\tnumpy                  : 1.14.2     \n",
      "\tscipy                  : 1.1.0      \n",
      "\tmatplotlib             : 3.0.2      \n",
      "\tcython                 : 0.28.3     \n",
      "\tastropy                : 3.0.3      \n",
      "\tastropy_healpix        : 0.3.1      \n",
      "\treproject              : 0.4        \n",
      "\tsherpa                 : 4.10.0+18.gc1a4824-py3.6-macosx-10.9-x86_64.egg \n",
      "\tpytest                 : 3.6.3      \n",
      "\tsphinx                 : 1.8.2      \n",
      "\thealpy                 : 1.9.0      \n",
      "\tregions                : 0.3        \n",
      "\timinuit                : 1.3.2      \n",
      "\tnaima                  : 0.8.3      \n",
      "\tuncertainties          : 3.0.2      \n",
      "\n",
      "\n",
      "Gammapy environment variables:\n",
      "\n",
      "\tGAMMAPY_DATA           : /Users/grod/CTA/CTOOLS/software/gammapy-extra/datasets \n",
      "\tGAMMAPY_EXTRA          : not set    \n",
      "\tGAMMA_CAT              : not set    \n",
      "\tGAMMAPY_FERMI_LAT_DATA : not set    \n",
      "\tCTADATA                : /Users/grod/CTA/Data.Challenge/1dc \n",
      "\n"
     ]
    }
   ],
   "source": [
    "!gammapy info --no-system"
   ]
  },
  {
   "cell_type": "markdown",
   "metadata": {},
   "source": [
    "## Simulate"
   ]
  },
  {
   "cell_type": "code",
   "execution_count": 39,
   "metadata": {},
   "outputs": [],
   "source": [
    "def get_irfs():\n",
    "    \"\"\"Load CTA IRFs\"\"\"\n",
    "    #filename = \"$CALDB/data/cta/prod3b-v1/bcf/North_z20_average_50h/irf_file.fits\"\n",
    "    filename = \"$CALDB/data/cta/prod3b-v1/bcf/South_z20_average_50h/irf_file.fits\"\n",
    "    psf = EnergyDependentMultiGaussPSF.read(\n",
    "        filename, hdu=\"POINT SPREAD FUNCTION\"\n",
    "    )\n",
    "    aeff = EffectiveAreaTable2D.read(filename, hdu=\"EFFECTIVE AREA\")\n",
    "    edisp = EnergyDispersion2D.read(filename, hdu=\"ENERGY DISPERSION\")\n",
    "    bkg = Background3D.read(filename, hdu=\"BACKGROUND\")\n",
    "    return dict(psf=psf, aeff=aeff, edisp=edisp, bkg=bkg)\n",
    "\n",
    "\n",
    "irfs = get_irfs()"
   ]
  },
  {
   "cell_type": "code",
   "execution_count": null,
   "metadata": {},
   "outputs": [],
   "source": []
  },
  {
   "cell_type": "code",
   "execution_count": 40,
   "metadata": {},
   "outputs": [],
   "source": [
    "emin=0.03\n",
    "emax=100\n",
    "GLON=96.34\n",
    "GLAT=-60.19"
   ]
  },
  {
   "cell_type": "code",
   "execution_count": 41,
   "metadata": {},
   "outputs": [],
   "source": [
    "src_pos = SkyCoord(GLON, GLAT, unit=\"deg\", frame=\"galactic\")"
   ]
  },
  {
   "cell_type": "code",
   "execution_count": 42,
   "metadata": {},
   "outputs": [],
   "source": [
    "pi8 = 8*np.pi;\n",
    "cross_section = 0.01e-26 * u.Unit('cm3 s-1')\n",
    "Jfac = 3.41e19 * u.Unit('GeV2 cm-5')\n",
    "mass = 5000"
   ]
  },
  {
   "cell_type": "code",
   "execution_count": 43,
   "metadata": {},
   "outputs": [],
   "source": [
    "dNdE = PrimaryFlux(1000*u.GeV, channel='b')"
   ]
  },
  {
   "cell_type": "code",
   "execution_count": 44,
   "metadata": {},
   "outputs": [
    {
     "data": {
      "text/plain": [
       "{'eL': 'eL',\n",
       " 'eR': 'eR',\n",
       " 'e': 'e',\n",
       " 'muL': '\\\\[Mu]L',\n",
       " 'muR': '\\\\[Mu]R',\n",
       " 'mu': '\\\\[Mu]',\n",
       " 'tauL': '\\\\[Tau]L',\n",
       " 'tauR': '\\\\[Tau]R',\n",
       " 'tau': '\\\\[Tau]',\n",
       " 'q': 'q',\n",
       " 'c': 'c',\n",
       " 'b': 'b',\n",
       " 't': 't',\n",
       " 'WL': 'WL',\n",
       " 'WT': 'WT',\n",
       " 'W': 'W',\n",
       " 'ZL': 'ZL',\n",
       " 'ZT': 'ZT',\n",
       " 'Z': 'Z',\n",
       " 'g': 'g',\n",
       " 'gamma': '\\\\[Gamma]',\n",
       " 'h': 'h',\n",
       " 'nu_e': '\\\\[Nu]e',\n",
       " 'nu_mu': '\\\\[Nu]\\\\[Mu]',\n",
       " 'nu_tau': '\\\\[Nu]\\\\[Tau]',\n",
       " 'V->e': 'V->e',\n",
       " 'V->mu': 'V->\\\\[Mu]',\n",
       " 'V->tau': 'V->\\\\[Tau]'}"
      ]
     },
     "execution_count": 44,
     "metadata": {},
     "output_type": "execute_result"
    }
   ],
   "source": [
    "dNdE.channel_registry"
   ]
  },
  {
   "cell_type": "code",
   "execution_count": 45,
   "metadata": {},
   "outputs": [],
   "source": [
    "#channel = ['b','tau','mu','W']\n",
    "channel = ['b']"
   ]
  },
  {
   "cell_type": "code",
   "execution_count": 46,
   "metadata": {},
   "outputs": [],
   "source": [
    "class UserModel(models.SpectralModel):\n",
    "    def __init__(self, Norm, mass, channel_index, cross_section, Jfac):\n",
    "        self.parameters = Parameters([\n",
    "                Parameter('Norm', Norm, min=0),\n",
    "                Parameter('mass', mass, frozen=True),\n",
    "                Parameter('channel_index', channel_index, frozen=True),\n",
    "                Parameter('cross_section', cross_section, frozen=True),\n",
    "                Parameter('Jfac', Jfac, frozen=True)\n",
    "            ])\n",
    "        dNdE.mDM = mass\n",
    "        dNdE.channel=channel[int(channel_index)]\n",
    "    @staticmethod\n",
    "    def evaluate(energy, Norm, mass, channel_index, cross_section, Jfac):\n",
    "        theFlux = Norm * Jfac * cross_section * dNdE.table_model.evaluate(energy=energy, norm=1 * u.Unit('')) / mass / mass / pi8\n",
    "        return theFlux"
   ]
  },
  {
   "cell_type": "code",
   "execution_count": null,
   "metadata": {},
   "outputs": [],
   "source": []
  },
  {
   "cell_type": "code",
   "execution_count": null,
   "metadata": {},
   "outputs": [],
   "source": []
  },
  {
   "cell_type": "code",
   "execution_count": null,
   "metadata": {},
   "outputs": [],
   "source": []
  },
  {
   "cell_type": "code",
   "execution_count": 47,
   "metadata": {},
   "outputs": [],
   "source": [
    "# Define map geometry\n",
    "lg_emin = np.log10(emin)\n",
    "lg_emax = np.log10(emax)\n",
    "nbins = 31\n",
    "axis = MapAxis.from_edges(\n",
    "    np.logspace(lg_emin, lg_emax, nbins), unit=\"TeV\", name=\"energy\", interp=\"log\"\n",
    ")\n",
    "geom = WcsGeom.create(\n",
    "    skydir=(GLON, GLAT), binsz=0.02, width=(2, 2), coordsys=\"GAL\", axes=[axis]\n",
    ")"
   ]
  },
  {
   "cell_type": "code",
   "execution_count": 48,
   "metadata": {},
   "outputs": [],
   "source": [
    "# Define some observation parameters\n",
    "pointing = SkyCoord(GLON, GLAT, unit=\"deg\", frame=\"galactic\")\n",
    "livetime = 100 * u.hour\n",
    "offset_max = 2 * u.deg\n",
    "offset = Angle(\"2 deg\")"
   ]
  },
  {
   "cell_type": "code",
   "execution_count": 49,
   "metadata": {},
   "outputs": [
    {
     "data": {
      "image/png": "[encoded data removed]",
      "text/plain": [
       "<Figure size 432x288 with 2 Axes>"
      ]
     },
     "metadata": {},
     "output_type": "display_data"
    }
   ],
   "source": [
    "exposure = make_map_exposure_true_energy(\n",
    "    pointing=pointing, livetime=livetime, aeff=irfs[\"aeff\"], geom=geom,\n",
    ")\n",
    "exposure.slice_by_idx({\"energy\": 3}).plot(add_cbar=True);"
   ]
  },
  {
   "cell_type": "code",
   "execution_count": 50,
   "metadata": {},
   "outputs": [
    {
     "data": {
      "image/png": "[encoded data removed]",
      "text/plain": [
       "<Figure size 432x288 with 2 Axes>"
      ]
     },
     "metadata": {},
     "output_type": "display_data"
    }
   ],
   "source": [
    "background = make_map_background_irf(\n",
    "    pointing=pointing, ontime=livetime, bkg=irfs[\"bkg\"], geom=geom\n",
    ")\n",
    "background.slice_by_idx({\"energy\": 3}).plot(add_cbar=True);"
   ]
  },
  {
   "cell_type": "code",
   "execution_count": 51,
   "metadata": {},
   "outputs": [
    {
     "data": {
      "image/png": "[encoded data removed]",
      "text/plain": [
       "<Figure size 432x288 with 1 Axes>"
      ]
     },
     "metadata": {},
     "output_type": "display_data"
    }
   ],
   "source": [
    "psf = irfs[\"psf\"].to_energy_dependent_table_psf(theta=offset)\n",
    "psf_kernel = PSFKernel.from_table_psf(psf, geom, max_radius=0.3 * u.deg)\n",
    "psf_kernel.psf_kernel_map.sum_over_axes().plot(stretch=\"log\");"
   ]
  },
  {
   "cell_type": "code",
   "execution_count": 52,
   "metadata": {},
   "outputs": [],
   "source": [
    "edisp = irfs[\"edisp\"].to_energy_dispersion(offset=offset)\n",
    "#edisp.plot_matrix();"
   ]
  },
  {
   "cell_type": "code",
   "execution_count": null,
   "metadata": {},
   "outputs": [],
   "source": []
  },
  {
   "cell_type": "code",
   "execution_count": 53,
   "metadata": {},
   "outputs": [],
   "source": [
    "spectral_model = UserModel(\n",
    "                    Norm=1 * u.Unit(''),\n",
    "                    mass = mass * u.GeV,\n",
    "                    channel_index = 0 * u.Unit(''),\n",
    "                    cross_section=cross_section,\n",
    "                    Jfac = Jfac\n",
    ")"
   ]
  },
  {
   "cell_type": "code",
   "execution_count": 54,
   "metadata": {},
   "outputs": [],
   "source": [
    "# Define sky model to simulate the data\n",
    "GLON=96.34\n",
    "GLAT=-60.19\n",
    "spatial_model =  SkyPointSource(lat_0='-60.19 deg',lon_0='96.34 deg')"
   ]
  },
  {
   "cell_type": "code",
   "execution_count": 55,
   "metadata": {},
   "outputs": [],
   "source": [
    "sky_model = SkyModel(\n",
    "                    spatial_model=spatial_model, spectral_model=spectral_model\n",
    "                    )"
   ]
  },
  {
   "cell_type": "code",
   "execution_count": 56,
   "metadata": {},
   "outputs": [],
   "source": [
    "evaluator = MapEvaluator(\n",
    "    model=sky_model, exposure=exposure, background=background, psf=psf_kernel\n",
    ")"
   ]
  },
  {
   "cell_type": "code",
   "execution_count": 57,
   "metadata": {},
   "outputs": [],
   "source": [
    "npred = evaluator.compute_npred()\n",
    "npred_map = WcsNDMap(geom, npred)"
   ]
  },
  {
   "cell_type": "code",
   "execution_count": null,
   "metadata": {},
   "outputs": [],
   "source": []
  },
  {
   "cell_type": "code",
   "execution_count": null,
   "metadata": {},
   "outputs": [],
   "source": []
  },
  {
   "cell_type": "code",
   "execution_count": 58,
   "metadata": {},
   "outputs": [
    {
     "name": "stdout",
     "output_type": "stream",
     "text": [
      "0\n",
      "1\n",
      "2\n",
      "3\n",
      "4\n",
      "CPU times: user 1min 49s, sys: 7.81 s, total: 1min 57s\n",
      "Wall time: 2min 1s\n"
     ]
    }
   ],
   "source": [
    "%%time\n",
    "massval = [70, 200, 500, 5000, 10000, 50000, 100000]\n",
    "\n",
    "columns = ['run', 'mass', 'sigma_v']\n",
    "df = pd.DataFrame(columns=columns)\n",
    "\n",
    "fNumberOfRuns = 5\n",
    "for run in range(fNumberOfRuns):\n",
    "    \n",
    "    rng = np.random.RandomState(seed=run+int(time.time()))\n",
    "    counts = rng.poisson(npred)\n",
    "    counts_map = WcsNDMap(geom, counts)\n",
    "       \n",
    "    \n",
    "    for ch in range(len(channel)):\n",
    "         for mass in massval:\n",
    "        \n",
    "                \n",
    "            spectral_model = UserModel(\n",
    "                            Norm = 1 * u.Unit(''),\n",
    "                            mass = mass * u.GeV,\n",
    "                            channel_index = ch * u.Unit(''),\n",
    "                            cross_section = cross_section,\n",
    "                            Jfac = Jfac\n",
    "                            )\n",
    "        \n",
    "            fit_model = SkyModel(\n",
    "                            spatial_model=spatial_model, spectral_model=spectral_model\n",
    "                            )\n",
    "            \n",
    "               \n",
    "                \n",
    "            fit_model.parameters['lat_0'].frozen=True\n",
    "            fit_model.parameters['lon_0'].frozen=True\n",
    "        \n",
    "            fit = MapFit(\n",
    "                        model=fit_model,\n",
    "                        #mask=mask,\n",
    "                        counts=counts_map,\n",
    "                        exposure=exposure,\n",
    "                        background=background,\n",
    "                        psf=psf_kernel,\n",
    "                        )\n",
    "        \n",
    "            result = fit.run()\n",
    "        \n",
    "            #Here is where we calculate the 95% confidence level for the Norm parameter\n",
    "            pars = result.model.parameters\n",
    "            delta_ts=4 # <- 3 sigma!\n",
    "            stat_best_fit = fit.total_stat(pars) # <- minimum likelihood from fit\n",
    "            \n",
    "            def ts_diff(x):\n",
    "                pars = result.model.parameters\n",
    "                pars['Norm'].value = x\n",
    "                stat = fit.total_stat(pars)\n",
    "                return (stat_best_fit + delta_ts) - stat\n",
    "\n",
    "            Norm = result.model.parameters['Norm'].value\n",
    "            Norm_err = result.model.parameters.error('Norm')\n",
    "            Norm_max = Norm + 100 * Norm_err\n",
    "            Norm_min = Norm\n",
    "        \n",
    "            # sanity check to avoid errors with the brentq function\n",
    "            factor = 100\n",
    "            while (ts_diff(Norm_max) > 0 ):\n",
    "                factor = factor * 5\n",
    "                Norm_max = Norm + factor * Norm_err\n",
    "            \n",
    "            # OK we are ready to find the 95% confidence level\n",
    "            scale = brentq(ts_diff, Norm_min, Norm_max, maxiter=100, rtol=1e-2)\n",
    "            fSigma_v = scale * cross_section.value\n",
    "            \n",
    "            df = df.append({'run':run,'mass':mass, 'sigma_v':fSigma_v},\n",
    "                         ignore_index=True)\n",
    "    print(run)"
   ]
  },
  {
   "cell_type": "code",
   "execution_count": 60,
   "metadata": {},
   "outputs": [
    {
     "name": "stdout",
     "output_type": "stream",
     "text": [
      "       run       sigma_v\n",
      "mass                    \n",
      "70       2  1.057065e-23\n",
      "200      2  2.201501e-24\n",
      "500      2  1.361085e-24\n",
      "5000     2  1.305551e-24\n",
      "10000    2  1.435316e-24\n",
      "            run       sigma_v\n",
      "mass                         \n",
      "70     1.581139  4.411086e-24\n",
      "200    1.581139  7.571206e-25\n",
      "500    1.581139  3.762850e-25\n",
      "5000   1.581139  5.412231e-25\n",
      "10000  1.581139  8.346115e-25\n"
     ]
    }
   ],
   "source": [
    "df[['run']]  = df[['run']].astype(int)\n",
    "df[['mass']] = df[['mass']].astype(int)\n",
    "\n",
    "stats = df.groupby(['mass']).mean()\n",
    "stats2 = df.groupby(['mass']).std()\n",
    "\n",
    "print(stats.head())\n",
    "print(stats2.head())"
   ]
  },
  {
   "cell_type": "code",
   "execution_count": 61,
   "metadata": {},
   "outputs": [],
   "source": [
    "stats2.columns = ['std_run', 'std_sigma_v']\n",
    "stats = pd.merge(stats,stats2, left_index=True, right_index=True)\n",
    "\n",
    "stats.to_csv('gammapy_example.dat',sep=' ')"
   ]
  },
  {
   "cell_type": "code",
   "execution_count": 62,
   "metadata": {},
   "outputs": [],
   "source": [
    "test = pd.read_csv('gammapy_example.dat', delim_whitespace=True)"
   ]
  },
  {
   "cell_type": "code",
   "execution_count": 63,
   "metadata": {},
   "outputs": [],
   "source": [
    "test.drop(['run','std_run'],axis=1, inplace=True)"
   ]
  },
  {
   "cell_type": "code",
   "execution_count": 64,
   "metadata": {},
   "outputs": [
    {
     "data": {
      "text/html": [
       "<div>\n",
       "<style scoped>\n",
       "    .dataframe tbody tr th:only-of-type {\n",
       "        vertical-align: middle;\n",
       "    }\n",
       "\n",
       "    .dataframe tbody tr th {\n",
       "        vertical-align: top;\n",
       "    }\n",
       "\n",
       "    .dataframe thead th {\n",
       "        text-align: right;\n",
       "    }\n",
       "</style>\n",
       "<table border=\"1\" class=\"dataframe\">\n",
       "  <thead>\n",
       "    <tr style=\"text-align: right;\">\n",
       "      <th></th>\n",
       "      <th>mass</th>\n",
       "      <th>sigma_v</th>\n",
       "      <th>std_sigma_v</th>\n",
       "    </tr>\n",
       "  </thead>\n",
       "  <tbody>\n",
       "    <tr>\n",
       "      <th>0</th>\n",
       "      <td>70</td>\n",
       "      <td>1.057065e-23</td>\n",
       "      <td>4.411086e-24</td>\n",
       "    </tr>\n",
       "    <tr>\n",
       "      <th>1</th>\n",
       "      <td>200</td>\n",
       "      <td>2.201501e-24</td>\n",
       "      <td>7.571206e-25</td>\n",
       "    </tr>\n",
       "    <tr>\n",
       "      <th>2</th>\n",
       "      <td>500</td>\n",
       "      <td>1.361085e-24</td>\n",
       "      <td>3.762850e-25</td>\n",
       "    </tr>\n",
       "    <tr>\n",
       "      <th>3</th>\n",
       "      <td>5000</td>\n",
       "      <td>1.305551e-24</td>\n",
       "      <td>5.412231e-25</td>\n",
       "    </tr>\n",
       "    <tr>\n",
       "      <th>4</th>\n",
       "      <td>10000</td>\n",
       "      <td>1.435316e-24</td>\n",
       "      <td>8.346115e-25</td>\n",
       "    </tr>\n",
       "    <tr>\n",
       "      <th>5</th>\n",
       "      <td>50000</td>\n",
       "      <td>2.690816e-24</td>\n",
       "      <td>1.816731e-24</td>\n",
       "    </tr>\n",
       "    <tr>\n",
       "      <th>6</th>\n",
       "      <td>100000</td>\n",
       "      <td>4.566855e-24</td>\n",
       "      <td>2.334890e-24</td>\n",
       "    </tr>\n",
       "  </tbody>\n",
       "</table>\n",
       "</div>"
      ],
      "text/plain": [
       "     mass       sigma_v   std_sigma_v\n",
       "0      70  1.057065e-23  4.411086e-24\n",
       "1     200  2.201501e-24  7.571206e-25\n",
       "2     500  1.361085e-24  3.762850e-25\n",
       "3    5000  1.305551e-24  5.412231e-25\n",
       "4   10000  1.435316e-24  8.346115e-25\n",
       "5   50000  2.690816e-24  1.816731e-24\n",
       "6  100000  4.566855e-24  2.334890e-24"
      ]
     },
     "execution_count": 64,
     "metadata": {},
     "output_type": "execute_result"
    }
   ],
   "source": [
    "test.head(10)"
   ]
  },
  {
   "cell_type": "code",
   "execution_count": 65,
   "metadata": {},
   "outputs": [],
   "source": [
    "test.dropna(inplace=True)"
   ]
  },
  {
   "cell_type": "code",
   "execution_count": 66,
   "metadata": {},
   "outputs": [
    {
     "data": {
      "text/html": [
       "<div>\n",
       "<style scoped>\n",
       "    .dataframe tbody tr th:only-of-type {\n",
       "        vertical-align: middle;\n",
       "    }\n",
       "\n",
       "    .dataframe tbody tr th {\n",
       "        vertical-align: top;\n",
       "    }\n",
       "\n",
       "    .dataframe thead th {\n",
       "        text-align: right;\n",
       "    }\n",
       "</style>\n",
       "<table border=\"1\" class=\"dataframe\">\n",
       "  <thead>\n",
       "    <tr style=\"text-align: right;\">\n",
       "      <th></th>\n",
       "      <th>mass</th>\n",
       "      <th>sigma_v</th>\n",
       "      <th>std_sigma_v</th>\n",
       "    </tr>\n",
       "  </thead>\n",
       "  <tbody>\n",
       "    <tr>\n",
       "      <th>0</th>\n",
       "      <td>70</td>\n",
       "      <td>1.057065e-23</td>\n",
       "      <td>4.411086e-24</td>\n",
       "    </tr>\n",
       "    <tr>\n",
       "      <th>1</th>\n",
       "      <td>200</td>\n",
       "      <td>2.201501e-24</td>\n",
       "      <td>7.571206e-25</td>\n",
       "    </tr>\n",
       "    <tr>\n",
       "      <th>2</th>\n",
       "      <td>500</td>\n",
       "      <td>1.361085e-24</td>\n",
       "      <td>3.762850e-25</td>\n",
       "    </tr>\n",
       "    <tr>\n",
       "      <th>3</th>\n",
       "      <td>5000</td>\n",
       "      <td>1.305551e-24</td>\n",
       "      <td>5.412231e-25</td>\n",
       "    </tr>\n",
       "    <tr>\n",
       "      <th>4</th>\n",
       "      <td>10000</td>\n",
       "      <td>1.435316e-24</td>\n",
       "      <td>8.346115e-25</td>\n",
       "    </tr>\n",
       "    <tr>\n",
       "      <th>5</th>\n",
       "      <td>50000</td>\n",
       "      <td>2.690816e-24</td>\n",
       "      <td>1.816731e-24</td>\n",
       "    </tr>\n",
       "    <tr>\n",
       "      <th>6</th>\n",
       "      <td>100000</td>\n",
       "      <td>4.566855e-24</td>\n",
       "      <td>2.334890e-24</td>\n",
       "    </tr>\n",
       "  </tbody>\n",
       "</table>\n",
       "</div>"
      ],
      "text/plain": [
       "     mass       sigma_v   std_sigma_v\n",
       "0      70  1.057065e-23  4.411086e-24\n",
       "1     200  2.201501e-24  7.571206e-25\n",
       "2     500  1.361085e-24  3.762850e-25\n",
       "3    5000  1.305551e-24  5.412231e-25\n",
       "4   10000  1.435316e-24  8.346115e-25\n",
       "5   50000  2.690816e-24  1.816731e-24\n",
       "6  100000  4.566855e-24  2.334890e-24"
      ]
     },
     "execution_count": 66,
     "metadata": {},
     "output_type": "execute_result"
    }
   ],
   "source": [
    "test.head(10)"
   ]
  },
  {
   "cell_type": "code",
   "execution_count": 67,
   "metadata": {},
   "outputs": [
    {
     "data": {
      "text/plain": [
       "<matplotlib.legend.Legend at 0x10d360d68>"
      ]
     },
     "execution_count": 67,
     "metadata": {},
     "output_type": "execute_result"
    },
    {
     "data": {
      "image/png": "[encoded data removed]",
      "text/plain": [
       "<Figure size 1008x504 with 1 Axes>"
      ]
     },
     "metadata": {},
     "output_type": "display_data"
    }
   ],
   "source": [
    "fig, ax1 = plt.subplots(1, figsize=(14, 7))\n",
    "\n",
    "ax1.loglog(test['mass'],test['sigma_v'], color='black', ls='-', label='Gammapy Ret II')\n",
    "\n",
    "ax1.set_xlabel('M$_{DM}$ (GeV)', fontsize=16)\n",
    "ax1.set_ylabel(r\"<$\\sigma_{ann}v$> [cm$^3$s$^{-1}$]\", fontsize=16)\n",
    "ax1.set_ylim(1e-24,1e-22)\n",
    "ax1.legend(title=r\"CTOOLS, Einasto, t=100h, b$\\bar{b}$\", fontsize=14)"
   ]
  },
  {
   "cell_type": "code",
   "execution_count": null,
   "metadata": {},
   "outputs": [],
   "source": []
  }
 ],
 "metadata": {
  "kernelspec": {
   "display_name": "Python 3",
   "language": "python",
   "name": "python3"
  },
  "language_info": {
   "codemirror_mode": {
    "name": "ipython",
    "version": 3
   },
   "file_extension": ".py",
   "mimetype": "text/x-python",
   "name": "python",
   "nbconvert_exporter": "python",
   "pygments_lexer": "ipython3",
   "version": "3.6.6"
  }
 },
 "nbformat": 4,
 "nbformat_minor": 2
}
