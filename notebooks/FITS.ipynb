{
 "cells": [
  {
   "cell_type": "markdown",
   "metadata": {},
   "source": [
    "# Handling FITS Files \n",
    "\n",
    "* [Format definition of HEALPIX headers in FITS for Maps](https://gamma-astro-data-formats.readthedocs.io/en/latest/skymaps/healpix/index.html#healpix-skymap)\n",
    "* https://docs.gammapy.org/dev/_modules/gammapy/maps/hpx.html\n",
    "* https://clumpy.gitlab.io/CLUMPY/quick_start.html#displaying-a-2d-run-with-python\n"
   ]
  },
  {
   "cell_type": "markdown",
   "metadata": {},
   "source": [
    "## Setup"
   ]
  },
  {
   "cell_type": "code",
   "execution_count": 1,
   "metadata": {},
   "outputs": [],
   "source": [
    "from astropy.io import fits\n",
    "from gammapy.maps import Map\n",
    "from matplotlib import pyplot as plt\n",
    "import healpy as hp\n",
    "import numpy as np\n",
    "%matplotlib notebook\n"
   ]
  },
  {
   "cell_type": "markdown",
   "metadata": {},
   "source": [
    "## Open FITS"
   ]
  },
  {
   "cell_type": "code",
   "execution_count": 2,
   "metadata": {},
   "outputs": [
    {
     "name": "stdout",
     "output_type": "stream",
     "text": [
      "Filename: ./datasets/annihil_Perseus_A4262D_FOVdiameter2.0deg_nside1024.fits\n",
      "No.    Name      Ver    Type      Cards   Dimensions   Format\n",
      "  0  PRIMARY       1 PrimaryHDU       7   ()      \n",
      "  1  JFACTOR       1 BinTableHDU    144   960R x 6C   [1J, 1E, 1E, 1E, 1E, 1E]   \n",
      "  2  JFACTOR_PER_SR    1 BinTableHDU    144   960R x 6C   [1J, 1E, 1E, 1E, 1E, 1E]   \n",
      "  3  INTEGRATED_FLUXES    1 BinTableHDU    172   960R x 5C   [1J, 1E, 1E, 1E, 1E]   \n"
     ]
    }
   ],
   "source": [
    "outfile = './datasets/annihil_Perseus_A4262D_FOVdiameter2.0deg_nside1024.fits'\n",
    "hdulist = fits.open(outfile)\n",
    "hdulist.info()"
   ]
  },
  {
   "cell_type": "markdown",
   "metadata": {},
   "source": [
    "**Select HDU 3 and insoect headers**"
   ]
  },
  {
   "cell_type": "code",
   "execution_count": 3,
   "metadata": {
    "scrolled": false
   },
   "outputs": [
    {
     "data": {
      "text/plain": [
       "XTENSION= 'BINTABLE'           / binary table extension                         \n",
       "BITPIX  =                    8 / 8-bit bytes                                    \n",
       "NAXIS   =                    2 / 2-dimensional binary table                     \n",
       "NAXIS1  =                   20 / width of table in bytes                        \n",
       "NAXIS2  =                  960 / number of rows in table                        \n",
       "PCOUNT  =                    0 / size of special data area                      \n",
       "GCOUNT  =                    1 / one data group (required keyword)              \n",
       "TFIELDS =                    5 / number of fields in each row                   \n",
       "TTYPE1  = 'PIXEL   '           / label for field   1                            \n",
       "TFORM1  = '1J      '           / data format of field: 4-byte INTEGER           \n",
       "TTYPE2  = 'Flux_gamma'         / label for field 2                              \n",
       "TFORM2  = '1E      '           / data format of field: 4-byte REAL              \n",
       "TUNIT2  = 'cm^-2 s^-1'         / physical unit of field                         \n",
       "TTYPE3  = 'Flux_neutrino'      / label for field 3                              \n",
       "TFORM3  = '1E      '           / data format of field: 4-byte REAL              \n",
       "TUNIT3  = 'cm^-2 s^-1'         / physical unit of field                         \n",
       "TTYPE4  = 'Intensity_gamma'    / label for field 4                              \n",
       "TFORM4  = '1E      '           / data format of field: 4-byte REAL              \n",
       "TUNIT4  = 'cm^-2 s^-1 sr^-1'   / physical unit of field                         \n",
       "TTYPE5  = 'Intensity_neutrino' / label for field 5                              \n",
       "TFORM5  = '1E      '           / data format of field: 4-byte REAL              \n",
       "TUNIT5  = 'cm^-2 s^-1 sr^-1'   / physical unit of field                         \n",
       "EXTNAME = 'INTEGRATED_FLUXES'  / name of this binary table extension            \n",
       "COMMENT ------------------------------------------------------------------------\n",
       "COMMENT ------------------------------------------------------------------------\n",
       "COMMENT HEALPIX specific keywords                                               \n",
       "COMMENT ------------------------------------------------------------------------\n",
       "PIXTYPE = 'HEALPIX '           / HEALPIX Pixelisation                           \n",
       "NSIDE   =                 1024 / Resolution parameter for HEALPix               \n",
       "ORDERING= 'NESTED  '           / Pixel ordering scheme, either RING or NESTED   \n",
       "INDXSCHM= 'EXPLICIT'           / Indexing : IMPLICIT or EXPLICIT                \n",
       "GRAIN   =                    1 / Grain of pixel indexing                        \n",
       "COMMENT GRAIN=0 : no indexing of pixel data (IMPLICIT)                          \n",
       "COMMENT GRAIN=1 : 1 pixel index -> 1 pixel data (EXPLICIT)                      \n",
       "COMMENT GRAIN>1 : 1 pixel index -> data of GRAIN consecutive pixels (EXPLICIT)  \n",
       "COORDSYS= 'G       '           / Pixelisation coordinate system                 \n",
       "COMMENT G = Galactic, E = ecliptic, C = celestial = equatorial                  \n",
       "OBJECT  = 'PARTIAL '           / Sky coverage represented by data               \n",
       "OBS_NPIX=                  960 / Number of pixels observed and recorded         \n",
       "BAD_DATA=          -1.6375E+30 / Sentinel value given to bad pixels             \n",
       "COMMENT ------------------------------------------------------------------------\n",
       "COMMENT ------------------------------------------------------------------------\n",
       "COMMENT Clumpy specific keywords                                                \n",
       "COMMENT ------------------------------------------------------------------------\n",
       "CREATOR = 'Clumpy (LPSC & DESY)' / Software having created this file            \n",
       "VERSION = 'v3.0_ID39070bd'     / Software version                               \n",
       "COMMENT ------------------------------------------------------------------------\n",
       "COMMENT ------------------------------------------------------------------------\n",
       "COMMENT Input parameters for this output file:                                  \n",
       "COMMENT ------------------------------------------------------------------------\n",
       "SIMUMODE= 'h5      '           / Type of performed simulation                   \n",
       "DELTA0  =                 200. / Overdensity factor at z=0;-1 for kBRYANNORMAN98\n",
       "FLAGDELT= 'kRHO_CRIT'          / Reference density of the overdensity factor    \n",
       "HUBBLE  =                0.678 / Reduced dimensionless Hubble parameter         \n",
       "OMEGA0_M=                0.308 / Dark and Baryonic Mass Omega0_mass             \n",
       "OMEGA0_K=                   0. / Curvature Omega0_k                             \n",
       "GAMMA_T0=               2.7255 / [K], Present-day CMB photon temperature        \n",
       "CDELTSTD=                   0. / log-std. deviation of subhalo scattering       \n",
       "SAT_DENS=              1.0E+19 / [Msol/kpc^3], Dark Matter saturation density   \n",
       "MMINSUBS=              1.0E-06 / [Msol], Smallest subclump mass                 \n",
       "MMAXSUBS=                 0.01 / Biggest subclump mass, fraction of host mass   \n",
       "MULT_SUB=                    1 / Number of multilevel substructures             \n",
       "EGPRFTOT= 'kZHAO   '           / Dark Matter halo density profile               \n",
       "EGSP0TOT=                   1. / Shape parameter 1 of cosmic DM halo profile    \n",
       "EGSP1TOT=                   3. / Shape parameter 2 of cosmic DM halo profile    \n",
       "EGSP2TOT=                   1. / Shape parameter 3 of cosmic DM halo profile    \n",
       "EG_ISTRI=                    F / Triaxial halo (True/False)                     \n",
       "EGTRIAX0=                   1. / 1st axis of triaxial halo                      \n",
       "EGTRIAX1=                   1. / 2nd axis of triaxial halo                      \n",
       "EGTRIAX2=                   1. / 3rd axis of triaxial halo                      \n",
       "EGTRIAN0=                   0. / [deg], 1st rotation angle of triaxial halo     \n",
       "EGTRIAN1=                   0. / [deg], 2nd rotation angle of triaxial halo     \n",
       "EGTRIAN2=                   0. / [deg], 3rd rotation angle of triaxial halo     \n",
       "PROF_ABS= 'kDOMINGUEZ11_REF'   / EBL absorption profile                         \n",
       "LIST_ADD= 'perseus_characteristics.txt' / List of external halos definitions    \n",
       "LIST_OBJ= 'Perseus_A426'       / Object selected out of a list of haloes        \n",
       "LISTDIST=     80573.9847075827 / [kpc], Comoving line-of-sight dist. of halo    \n",
       "LIST_RS =                 477. / [kpc], Scale radius of halo (comoving)         \n",
       "LISTRHOS=              181250. / [Msol/kpc^3], Density at r_scale of halo (comov\n",
       "LISTRVIR=                1900. / [kpc], Virial radius of halo (comoving)        \n",
       "SPHPRFCL= 'kHOST   '           / Halo profile of subclumps                      \n",
       "SPHSP0CL= 'kHOST   '           / Shape parameter 1 of subclumps halo profile    \n",
       "SPHSP1CL= 'kHOST   '           / Shape parameter 2 of subclumps halo profile    \n",
       "SPHSP2CL= 'kHOST   '           / Shape parameter 3 of subclumps halo profile    \n",
       "SPH_C_M = 'kSANCHEZ14_200'     / Mass-concentration model of subclumps          \n",
       "SPHPRFDP= 'kEINASTO'           / dP/dV profile of subhalo distribution in host  \n",
       "SPHSP0DP=                 0.68 / Shape parameter 1 of dP/dV distrib. profile    \n",
       "SPHSP1DP= 'kHOST   '           / Shape parameter 2 of dP/dV distrib. profile    \n",
       "SPHSP2DP= 'kHOST   '           / Shape parameter 3 of dP/dV distrib. profile    \n",
       "SPHRDPDV=                  10. / Scale radius of dP/dV profile to r_s of host   \n",
       "SPH_DPDM=                  1.9 / Slope of power-law subhalo mass spectrum dP/dM \n",
       "SPH_F_DM=                  0.2 / Fraction of host halo mass bound in subhalos   \n",
       "GALPRFCL= 'kHOST   '           / Halo profile of subclumps                      \n",
       "GALSP0CL= 'kHOST   '           / Shape parameter 1 of subclumps halo profile    \n",
       "GALSP1CL= 'kHOST   '           / Shape parameter 2 of subclumps halo profile    \n",
       "GALSP2CL= 'kHOST   '           / Shape parameter 3 of subclumps halo profile    \n",
       "GAL_C_M = 'kSANCHEZ14_200'     / Mass-concentration model of subclumps          \n",
       "GALPRFDP= 'kEINASTO'           / dP/dV profile of subhalo distribution in host  \n",
       "GALSP0DP=                 0.68 / Shape parameter 1 of dP/dV distrib. profile    \n",
       "GALSP1DP= 'kHOST   '           / Shape parameter 2 of dP/dV distrib. profile    \n",
       "GALSP2DP= 'kHOST   '           / Shape parameter 3 of dP/dV distrib. profile    \n",
       "GALRDPDV=                  10. / Scale radius of dP/dV profile to r_s of host   \n",
       "GAL_DPDM=                  1.9 / Slope of power-law subhalo mass spectrum dP/dM \n",
       "GAL_F_DM=                  0.2 / Fraction of host halo mass bound in subhalos   \n",
       "CLUPRFCL= 'kHOST   '           / Halo profile of subclumps                      \n",
       "CLUSP0CL= 'kHOST   '           / Shape parameter 1 of subclumps halo profile    \n",
       "CLUSP1CL= 'kHOST   '           / Shape parameter 2 of subclumps halo profile    \n",
       "CLUSP2CL= 'kHOST   '           / Shape parameter 3 of subclumps halo profile    \n",
       "CLU_C_M = 'kSANCHEZ14_200'     / Mass-concentration model of subclumps          \n",
       "CLUPRFDP= 'kEINASTO'           / dP/dV profile of subhalo distribution in host  \n",
       "CLUSP0DP=                 0.68 / Shape parameter 1 of dP/dV distrib. profile    \n",
       "CLUSP1DP= 'kHOST   '           / Shape parameter 2 of dP/dV distrib. profile    \n",
       "CLUSP2DP= 'kHOST   '           / Shape parameter 3 of dP/dV distrib. profile    \n",
       "CLURDPDV=                  10. / Scale radius of dP/dV profile to r_s of host   \n",
       "CLU_DPDM=                  1.9 / Slope of power-law subhalo mass spectrum dP/dM \n",
       "CLU_F_DM=                  0.2 / Fraction of host halo mass bound in subhalos   \n",
       "BR_00   =                   0. / e_{L}^{+}e_{L}^{-} Branching channel ratio     \n",
       "BR_01   =                   0. / e_{R}^{+}e_{R}^{-} Branching channel ratio     \n",
       "BR_02   =                   0. / e^{+}e^{-} Branching channel ratio             \n",
       "BR_03   =                   0. / #mu_{L}^{+}#mu_{L}^{-} Branching channel ratio \n",
       "BR_04   =                   0. / #mu_{R}^{+}#mu_{R}^{-} Branching channel ratio \n",
       "BR_05   =                   0. / #mu^{+}#mu^{-} Branching channel ratio         \n",
       "BR_06   =                   0. / #tau_{L}^{+}#tau_{L}^{-} Branching channel rati\n",
       "BR_07   =                   0. / #tau_{R}^{+}#tau_{R}^{-} Branching channel rati\n",
       "BR_08   =                   0. / #tau^{+}#tau^{-} Branching channel ratio       \n",
       "BR_09   =                   0. / q#bar{q} Branching channel ratio               \n",
       "BR_10   =                   0. / c#bar{c} Branching channel ratio               \n",
       "BR_11   =                   1. / b#bar{b} Branching channel ratio               \n",
       "BR_12   =                   0. / t#bar{t} Branching channel ratio               \n",
       "BR_13   =                   0. / W_{L}^{+}W_{L}^{-} Branching channel ratio     \n",
       "BR_14   =                   0. / WT^{+}WT^{-} Branching channel ratio           \n",
       "BR_15   =                   0. / W^{+}W^{-} Branching channel ratio             \n",
       "BR_16   =                   0. / Z_{L}Z_{L} Branching channel ratio             \n",
       "BR_17   =                   0. / Z_{T}Z_{T} Branching channel ratio             \n",
       "BR_18   =                   0. / ZZ Branching channel ratio                     \n",
       "BR_19   =                   0. / gluglu Branching channel ratio                 \n",
       "BR_20   =                   0. / #gamma#gamma Branching channel ratio           \n",
       "BR_21   =                   0. / hh Branching channel ratio                     \n",
       "BR_22   =                   0. / #nu_{e}#nu_{e} Branching channel ratio         \n",
       "BR_23   =                   0. / #nu_{#mu}#nu_{#mu} Branching channel ratio     \n",
       "BR_24   =                   0. / #nu_{#tau}#nu_{#tau} Branching channel ratio   \n",
       "BR_25   =                   0. / VV4_{e} Branching channel ratio                \n",
       "BR_26   =                   0. / VV4_{#mu} Branching channel ratio              \n",
       "BR_27   =                   0. / VV4_{#tau} Branching channel ratio             \n",
       "SPEC_MOD= 'kCIRELLI11_EW'      / Spectrum model                                 \n",
       "PP_DELTA=                    2 / Majorana (2) or Dirac (4) particle             \n",
       "SIGMA_V =              3.0E-26 / [cm^3/s], Annihilation cross section           \n",
       "DMMODEL =                    T / Dark Matter Model (0: Decay, 1: Annihilation)  \n",
       "DM_MASS =                2000. / [GeV], [GeV] dark matter particle mass         \n",
       "NU_MIX12=                  34. / [deg], Neutrino mixing angle 1                 \n",
       "NU_MIX13=                   9. / [deg], Neutrino mixing angle 2                 \n",
       "NU_MIX23=                  41. / [deg], Neutrino mixing angle 3                 \n",
       "FLUXBOOL=                    T / Calculate gamma-ray and/or neutrino fluxes     \n",
       "DIFFBOOL=                    T / Flux either differential (0) or integrated (1) \n",
       "E_MIN   =                   1. / [GeV], Lower limit for integrated flux         \n",
       "E_MAX   =                5000. / [GeV], Upper limit for integrated flux         \n",
       "NU_FLAV = 'kNUMU   '           / Considered neutrino flavour                    \n",
       "FWHM_GMA=                  -1. / [deg], FWHM of Gaussian beam of gamma-ray teles\n",
       "FWHM_NEU=                  -1. / [deg], FWHM of Gaussian beam of neutrino telesc\n",
       "HPX_TYPE= 'FLOAT32 '           / HEALPix datatype (FLOAT32 or FLOAT64)          \n",
       "HPX_SCHM= 'NESTED  '           / HEALPix scheme (RING or NESTED)                \n",
       "UNITBOOL=                    F / Output units [Msol]&[kpc] (1) or [GeV]&[cm] (0)\n",
       "REDSHIFT=               0.0183 / Redshift of object(s) in the calculation       \n",
       "PSI_0   =               150.58 / [deg], Galactic long. coordinate of FOV center \n",
       "THETA_0 =               -13.26 / [deg], Galactic lat. coordinate of FOV center  \n",
       "SIZE_X  =                   2. / [deg], Grid diameter in theta_orth-dir.        \n",
       "SIZE_Y  =                   2. / [deg], Grid diameter in theta-dir.             \n",
       "EPS     =                 0.01 / Numeric precision of the simulation            \n",
       "ROOTBOOL=                    F / Write output additionally in ROOT format       \n",
       "OUT_DIR = 'subs1_EBL_AQ_bb/'   / Output directory (absolute or relative)        \n",
       "RANDSEED=                  666 / Random generator seed                          \n",
       "USER_RSE=                  0.5 / Contrast (%) above which 2D subhalos are drawn "
      ]
     },
     "execution_count": 3,
     "metadata": {},
     "output_type": "execute_result"
    }
   ],
   "source": [
    "hdu = hdulist[3]\n",
    "hdu.header"
   ]
  },
  {
   "cell_type": "markdown",
   "metadata": {},
   "source": [
    "## Check existence of header keywords"
   ]
  },
  {
   "cell_type": "markdown",
   "metadata": {},
   "source": [
    "Check if header keywords from [Format definition of HEALPIX headers in FITS for Maps](https://gamma-astro-data-formats.readthedocs.io/en/latest/skymaps/healpix/index.html#healpix-skymap) are present"
   ]
  },
  {
   "cell_type": "code",
   "execution_count": 4,
   "metadata": {},
   "outputs": [
    {
     "name": "stdout",
     "output_type": "stream",
     "text": [
      "HPX_CONV \n",
      "PIXTYPE : HEALPIX\n",
      "INDXSCHM : EXPLICIT\n",
      "ORDERING : NESTED\n",
      "COORDSYS : G\n",
      "ORDER \n",
      "NSIDE : 1024\n",
      "FIRSTPIX \n",
      "LASTPIX \n",
      "HPX_REG \n",
      "BANDSHDU \n"
     ]
    }
   ],
   "source": [
    "keywds = (\n",
    "    'HPX_CONV',\n",
    "    'PIXTYPE',\n",
    "    'INDXSCHM',\n",
    "    'ORDERING',\n",
    "    'COORDSYS',\n",
    "    'ORDER',\n",
    "    'NSIDE',\n",
    "    'FIRSTPIX',\n",
    "    'LASTPIX',\n",
    "    'HPX_REG',\n",
    "    'BANDSHDU',\n",
    ")\n",
    "          \n",
    "for kw in keywds:\n",
    "    if kw in hdu.header:\n",
    "        print(kw, ':', hdu.header[kw])\n",
    "    else:\n",
    "        print(kw, '')"
   ]
  },
  {
   "cell_type": "code",
   "execution_count": 5,
   "metadata": {},
   "outputs": [
    {
     "name": "stdout",
     "output_type": "stream",
     "text": [
      "PIXEL Flux_gamma\n"
     ]
    }
   ],
   "source": [
    "print(hdu.header['TTYPE1'], hdu.header['TTYPE2'])"
   ]
  },
  {
   "cell_type": "markdown",
   "metadata": {},
   "source": [
    "## Modify FITS"
   ]
  },
  {
   "cell_type": "markdown",
   "metadata": {},
   "source": [
    "Let's change some headers to trick [Gammapy code to load healpix images](https://docs.gammapy.org/dev/_modules/gammapy/maps/hpx.html) and write a modified FITS"
   ]
  },
  {
   "cell_type": "code",
   "execution_count": 6,
   "metadata": {
    "scrolled": false
   },
   "outputs": [],
   "source": [
    "hdu.header['HPX_CONV'] = 'FGST-SRCMAP'\n",
    "hdu.header['TTYPE1'] = 'PIX'\n",
    "hdu.header['COORDSYS'] = 'GAL'\n",
    "#hdu.header['TTYPE2'] = 'CHANNEL0'\n",
    "#hdu.header\n",
    "#\n",
    "hdu.writeto('./datasets/annihil_modified.fits', overwrite=True)"
   ]
  },
  {
   "cell_type": "code",
   "execution_count": 7,
   "metadata": {},
   "outputs": [],
   "source": [
    "outfile = './datasets/annihil_modified.fits'\n",
    "#outfile = './datasets/annihil_Perseus_A4262D_FOVdiameter2.0deg_nside1024.fits'"
   ]
  },
  {
   "cell_type": "markdown",
   "metadata": {},
   "source": [
    "## Load FITS with Gammapy Maps"
   ]
  },
  {
   "cell_type": "markdown",
   "metadata": {},
   "source": [
    "Let's try loading modified FITS with Gammapy Map"
   ]
  },
  {
   "cell_type": "code",
   "execution_count": 8,
   "metadata": {},
   "outputs": [
    {
     "data": {
      "text/plain": [
       "(<Figure size 432x288 with 1 Axes>,\n",
       " <matplotlib.axes._subplots.WCSAxesSubplot at 0x115be10b8>,\n",
       " None)"
      ]
     },
     "execution_count": 8,
     "metadata": {},
     "output_type": "execute_result"
    },
    {
     "data": {
      "image/png": "[encoded data removed]",
      "text/plain": [
       "<Figure size 432x288 with 1 Axes>"
      ]
     },
     "metadata": {
      "needs_background": "light"
     },
     "output_type": "display_data"
    }
   ],
   "source": [
    "map_dm = Map.read(outfile)\n",
    "map_dm.plot(vmin=3.34e-18, vmax=5e-17)"
   ]
  },
  {
   "cell_type": "code",
   "execution_count": 9,
   "metadata": {},
   "outputs": [
    {
     "name": "stdout",
     "output_type": "stream",
     "text": [
      "HpxGeom\n",
      "\n",
      "\taxes       : skycoord\n",
      "\tshape      : (12582912,)\n",
      "\tndim       : 2\n",
      "\tnside      : 1024\n",
      "\tnested     : True\n",
      "\tcoordsys   : GAL\n",
      "\tprojection : HPX\n",
      "\tcenter     : 0.0 deg, 0.0 deg\n",
      "\n"
     ]
    }
   ],
   "source": [
    "print(map_dm.geom)"
   ]
  },
  {
   "cell_type": "code",
   "execution_count": 10,
   "metadata": {},
   "outputs": [
    {
     "data": {
      "text/plain": [
       "0.0"
      ]
     },
     "execution_count": 10,
     "metadata": {},
     "output_type": "execute_result"
    }
   ],
   "source": [
    "map_dm.data.sum()\n",
    "#map_dm.data.shape"
   ]
  },
  {
   "cell_type": "markdown",
   "metadata": {},
   "source": [
    "**No values have been loaded, it is an empty Map**"
   ]
  },
  {
   "cell_type": "markdown",
   "metadata": {},
   "source": [
    "## Load values from original FITS file with Healpy"
   ]
  },
  {
   "cell_type": "code",
   "execution_count": 11,
   "metadata": {},
   "outputs": [],
   "source": [
    "outfile = './datasets/annihil_Perseus_A4262D_FOVdiameter2.0deg_nside1024.fits'"
   ]
  },
  {
   "cell_type": "code",
   "execution_count": 22,
   "metadata": {},
   "outputs": [
    {
     "name": "stdout",
     "output_type": "stream",
     "text": [
      "NSIDE = 1024\n",
      "ORDERING = NESTED in fits file\n",
      "INDXSCHM = EXPLICIT\n",
      "Ordering converted to RING\n"
     ]
    }
   ],
   "source": [
    "ext = 3 # fluxes and intensities\n",
    "col = 1 # gamma-ray intensity\n",
    "data = hp.read_map(outfile, partial=True, hdu=ext, field=col-1)"
   ]
  },
  {
   "cell_type": "code",
   "execution_count": 24,
   "metadata": {},
   "outputs": [],
   "source": [
    "hdulist = fits.open(outfile)"
   ]
  },
  {
   "cell_type": "code",
   "execution_count": 26,
   "metadata": {},
   "outputs": [
    {
     "name": "stdout",
     "output_type": "stream",
     "text": [
      "Filename: ./datasets/annihil_Perseus_A4262D_FOVdiameter2.0deg_nside1024.fits\n",
      "No.    Name      Ver    Type      Cards   Dimensions   Format\n",
      "  0  PRIMARY       1 PrimaryHDU       7   ()      \n",
      "  1  JFACTOR       1 BinTableHDU    144   960R x 6C   [1J, 1E, 1E, 1E, 1E, 1E]   \n",
      "  2  JFACTOR_PER_SR    1 BinTableHDU    144   960R x 6C   [1J, 1E, 1E, 1E, 1E, 1E]   \n",
      "  3  INTEGRATED_FLUXES    1 BinTableHDU    172   960R x 5C   [1J, 1E, 1E, 1E, 1E]   \n"
     ]
    }
   ],
   "source": [
    "hdulist.info()"
   ]
  },
  {
   "cell_type": "code",
   "execution_count": 23,
   "metadata": {},
   "outputs": [
    {
     "data": {
      "text/plain": [
       "12582912"
      ]
     },
     "execution_count": 23,
     "metadata": {},
     "output_type": "execute_result"
    }
   ],
   "source": [
    "len(data)"
   ]
  },
  {
   "cell_type": "markdown",
   "metadata": {},
   "source": [
    "## Display original FITS file with Healpy"
   ]
  },
  {
   "cell_type": "code",
   "execution_count": 14,
   "metadata": {},
   "outputs": [
    {
     "data": {
      "image/png": "[encoded data removed]",
      "text/plain": [
       "<Figure size 612x388.8 with 2 Axes>"
      ]
     },
     "metadata": {
      "needs_background": "light"
     },
     "output_type": "display_data"
    }
   ],
   "source": [
    "hdulist = fits.open(outfile)\n",
    "dtheta = hdulist[ext].header['SIZE_Y']\n",
    "dtheta_orth = hdulist[ext].header['SIZE_X']\n",
    "title = hdulist[ext].header['TTYPE'+str(col+1)]\n",
    "units = hdulist[ext].header['TUNIT'+str(col+1)]\n",
    "hdulist.close()\n",
    "hp.cartview(data, lonra=[-dtheta_orth/2,dtheta_orth/2], latra=[-dtheta/2,dtheta/2], norm='log', max=data.max()/50, title=title, unit=units)"
   ]
  },
  {
   "cell_type": "markdown",
   "metadata": {},
   "source": [
    "## Inspect values loaded"
   ]
  },
  {
   "cell_type": "code",
   "execution_count": 15,
   "metadata": {},
   "outputs": [
    {
     "data": {
      "image/png": "[encoded data removed]",
      "text/plain": [
       "<Figure size 432x288 with 1 Axes>"
      ]
     },
     "metadata": {
      "needs_background": "light"
     },
     "output_type": "display_data"
    }
   ],
   "source": [
    "plt.hist(data, bins=100, range=(3e-18, 4.58e-17));"
   ]
  },
  {
   "cell_type": "code",
   "execution_count": 16,
   "metadata": {},
   "outputs": [
    {
     "data": {
      "text/plain": [
       "(960,)"
      ]
     },
     "execution_count": 16,
     "metadata": {},
     "output_type": "execute_result"
    }
   ],
   "source": [
    "data[data>0].shape"
   ]
  },
  {
   "cell_type": "code",
   "execution_count": 17,
   "metadata": {
    "scrolled": true
   },
   "outputs": [
    {
     "data": {
      "text/plain": [
       "array([3.51270229e-18, 3.46120658e-18, 3.37557333e-18, 3.37557333e-18,\n",
       "       3.46120658e-18, 3.51270229e-18, 3.74474796e-18, 3.70337901e-18,\n",
       "       3.63690181e-18, 3.51270229e-18, 3.36603676e-18, 3.36603676e-18,\n",
       "       3.51270229e-18, 3.63690181e-18, 3.70337901e-18, 3.95038506e-18,\n",
       "       3.90065869e-18, 3.79596947e-18, 3.65293670e-18, 3.46120658e-18,\n",
       "       3.46120658e-18, 3.65293670e-18, 3.79596947e-18, 3.90065869e-18,\n",
       "       3.95038506e-18, 4.17872041e-18, 4.14689505e-18, 4.08916777e-18,\n",
       "       3.93473481e-18, 3.76491173e-18, 3.55131963e-18, 3.55131963e-18,\n",
       "       3.76491173e-18, 3.93473481e-18, 4.08916777e-18, 4.14689505e-18,\n",
       "       4.39275257e-18, 4.33376632e-18, 4.21962987e-18, 4.05421195e-18,\n",
       "       3.86545719e-18, 3.61673556e-18, 3.34039933e-18, 3.34039933e-18,\n",
       "       3.61673556e-18, 3.86545719e-18, 4.05421195e-18, 4.21962987e-18,\n",
       "       4.33376632e-18, 4.39275257e-18, 4.63273752e-18, 4.58484293e-18,\n",
       "       4.49898572e-18, 4.36339965e-18, 4.16848860e-18, 3.93473481e-18,\n",
       "       3.67582769e-18, 3.36603676e-18, 3.36603676e-18, 3.67582769e-18,\n",
       "       3.93473481e-18, 4.16848860e-18, 4.36339965e-18, 4.49898572e-18,\n",
       "       4.58484293e-18, 4.84635815e-18, 4.76738805e-18, 4.64919055e-18,\n",
       "       4.47362726e-18, 4.24355317e-18, 3.98565935e-18, 3.68870482e-18,\n",
       "       3.37557333e-18, 3.37557333e-18, 3.68870482e-18, 3.98565935e-18,\n",
       "       4.24355317e-18, 4.47362726e-18, 4.64919055e-18, 4.76738805e-18,\n",
       "       4.84635815e-18, 5.07695708e-18, 5.05056009e-18, 4.93611759e-18,\n",
       "       4.78729621e-18, 4.56281387e-18, 4.32578734e-18, 4.02700349e-18,\n",
       "       3.70337901e-18, 3.36603676e-18, 3.36603676e-18, 3.70337901e-18,\n",
       "       4.02700349e-18, 4.32578734e-18, 4.56281387e-18, 4.78729621e-18,\n",
       "       4.93611759e-18, 5.05056009e-18, 5.31064222e-18, 5.23507431e-18,\n",
       "       5.07695708e-18, 4.89299542e-18, 4.64919055e-18, 4.36339965e-18,\n",
       "       4.04048116e-18, 3.68870482e-18, 3.68870482e-18, 4.04048116e-18,\n",
       "       4.36339965e-18, 4.64919055e-18, 4.89299542e-18, 5.07695708e-18,\n",
       "       5.23507431e-18, 5.31064222e-18, 5.56805421e-18, 5.53013997e-18,\n",
       "       5.41730716e-18, 5.21859853e-18, 4.97338373e-18, 4.69483148e-18,\n",
       "       4.37904040e-18, 4.02700349e-18, 3.65293670e-18, 3.65293670e-18,\n",
       "       4.02700349e-18, 4.37904040e-18, 4.69483148e-18, 4.97338373e-18,\n",
       "       5.21859853e-18, 5.41730716e-18, 5.53013997e-18, 5.81781974e-18,\n",
       "       5.71649094e-18, 5.55045636e-18, 5.31064222e-18, 5.02281273e-18,\n",
       "       4.71698049e-18, 4.36339965e-18, 3.98565935e-18, 3.60014480e-18,\n",
       "       3.60014480e-18, 3.98565935e-18, 4.36339965e-18, 4.71698049e-18,\n",
       "       5.02281273e-18, 5.31064222e-18, 5.55045636e-18, 5.71649094e-18,\n",
       "       5.81781974e-18, 6.11658373e-18, 6.04456401e-18, 5.90559932e-18,\n",
       "       5.67590285e-18, 5.39546959e-18, 5.06872498e-18, 4.69483148e-18,\n",
       "       4.32578734e-18, 3.93473481e-18, 3.51270229e-18, 3.51270229e-18,\n",
       "       3.93473481e-18, 4.32578734e-18, 4.69483148e-18, 5.06872498e-18,\n",
       "       5.39546959e-18, 5.67590285e-18, 5.90559932e-18, 6.04456401e-18,\n",
       "       6.38922991e-18, 6.28348479e-18, 6.04456401e-18, 5.75831361e-18,\n",
       "       5.43506218e-18, 5.06872498e-18, 4.67274742e-18, 4.27023802e-18,\n",
       "       3.86545719e-18, 3.42890600e-18, 3.42890600e-18, 3.86545719e-18,\n",
       "       4.27023802e-18, 4.67274742e-18, 5.06872498e-18, 5.43506218e-18,\n",
       "       5.75831361e-18, 6.04456401e-18, 6.28348479e-18, 6.38922991e-18,\n",
       "       6.78063233e-18, 6.67562341e-18, 6.45787887e-18, 6.16898438e-18,\n",
       "       5.79675807e-18, 5.43506218e-18, 5.02281273e-18, 4.63273752e-18,\n",
       "       4.19280440e-18, 3.76491173e-18, 3.76491173e-18, 4.19280440e-18,\n",
       "       4.63273752e-18, 5.02281273e-18, 5.43506218e-18, 5.79675807e-18,\n",
       "       6.16898438e-18, 6.45787887e-18, 6.67562341e-18, 7.12423199e-18,\n",
       "       6.96051475e-18, 6.63584760e-18, 6.23650962e-18, 5.81781974e-18,\n",
       "       5.39546959e-18, 4.97338373e-18, 4.53722545e-18, 4.09083289e-18,\n",
       "       3.65293670e-18, 3.65293670e-18, 4.09083289e-18, 4.53722545e-18,\n",
       "       4.97338373e-18, 5.39546959e-18, 5.81781974e-18, 6.23650962e-18,\n",
       "       6.63584760e-18, 6.96051475e-18, 7.12423199e-18, 7.66434536e-18,\n",
       "       7.49266568e-18, 7.15887101e-18, 6.74585931e-18, 6.26143381e-18,\n",
       "       5.79675807e-18, 5.32759198e-18, 4.87249995e-18, 4.42812778e-18,\n",
       "       3.97205637e-18, 3.51270229e-18, 3.51270229e-18, 3.97205637e-18,\n",
       "       4.42812778e-18, 4.87249995e-18, 5.32759198e-18, 5.79675807e-18,\n",
       "       6.26143381e-18, 6.74585931e-18, 7.15887101e-18, 7.49266568e-18,\n",
       "       8.18997232e-18, 7.84445484e-18, 7.33518290e-18, 6.78063233e-18,\n",
       "       6.23650962e-18, 5.71649094e-18, 5.23507431e-18, 4.76738805e-18,\n",
       "       4.30226149e-18, 3.83998954e-18, 3.37557333e-18, 3.37557333e-18,\n",
       "       3.83998954e-18, 4.30226149e-18, 4.76738805e-18, 5.23507431e-18,\n",
       "       5.71649094e-18, 6.23650962e-18, 6.78063233e-18, 7.33518290e-18,\n",
       "       7.84445484e-18, 8.18997232e-18, 9.10529647e-18, 8.79974174e-18,\n",
       "       8.14646758e-18, 7.41175336e-18, 6.74585931e-18, 6.16898438e-18,\n",
       "       5.64132628e-18, 5.11705053e-18, 4.64919055e-18, 4.16848860e-18,\n",
       "       3.68870482e-18, 3.68870482e-18, 4.16848860e-18, 4.64919055e-18,\n",
       "       5.11705053e-18, 5.64132628e-18, 6.16898438e-18, 6.74585931e-18,\n",
       "       7.41175336e-18, 8.14646758e-18, 8.79974174e-18, 1.01030086e-17,\n",
       "       9.35201881e-18, 8.29558509e-18, 7.37797709e-18, 6.65433591e-18,\n",
       "       6.04456401e-18, 5.48972641e-18, 4.98782672e-18, 4.49898572e-18,\n",
       "       4.00506749e-18, 3.51270229e-18, 3.51270229e-18, 4.00506749e-18,\n",
       "       4.49898572e-18, 4.98782672e-18, 5.48972641e-18, 6.04456401e-18,\n",
       "       6.65433591e-18, 7.37797709e-18, 8.29558509e-18, 9.35002199e-18,\n",
       "       1.01017555e-17, 1.20320997e-17, 1.12485917e-17, 9.69153261e-18,\n",
       "       8.29558509e-18, 7.26362433e-18, 6.51613223e-18, 5.89039533e-18,\n",
       "       5.32759198e-18, 4.82620762e-18, 4.32578734e-18, 3.82409485e-18,\n",
       "       3.82409485e-18, 4.32578734e-18, 4.82620762e-18, 5.32759198e-18,\n",
       "       5.89039533e-18, 6.51613223e-18, 7.26362433e-18, 8.29558509e-18,\n",
       "       9.68864492e-18, 1.12413713e-17, 1.48631171e-17, 1.20463388e-17,\n",
       "       9.69155080e-18, 8.14646758e-18, 7.09487122e-18, 6.34085638e-18,\n",
       "       5.69465999e-18, 5.15944725e-18, 4.64919055e-18, 4.13195038e-18,\n",
       "       3.63690181e-18, 3.63690181e-18, 4.13195038e-18, 4.64919055e-18,\n",
       "       5.15944725e-18, 5.69465999e-18, 6.34085638e-18, 7.09487122e-18,\n",
       "       8.14646758e-18, 9.68864492e-18, 1.20298630e-17, 1.54452289e-17,\n",
       "       2.84720034e-17, 1.95683189e-17, 1.22421432e-17, 9.43609344e-18,\n",
       "       7.84445484e-18, 6.82861543e-18, 6.11658373e-18, 5.51198501e-18,\n",
       "       4.94850296e-18, 4.45215200e-18, 3.93473481e-18, 3.42890600e-18,\n",
       "       3.42890600e-18, 3.93473481e-18, 4.45215200e-18, 4.94850296e-18,\n",
       "       5.51198501e-18, 6.11658373e-18, 6.82861543e-18, 7.84445484e-18,\n",
       "       9.43441592e-18, 1.22186529e-17, 2.14604185e-17, 5.06923543e-17,\n",
       "       2.34956716e-17, 1.17213470e-17, 8.89006904e-18, 7.46568884e-18,\n",
       "       6.57776794e-18, 5.87329502e-18, 5.29082670e-18, 4.75140774e-18,\n",
       "       4.22772962e-18, 3.72101656e-18, 3.72101656e-18, 4.22772962e-18,\n",
       "       4.75140774e-18, 5.29082670e-18, 5.87329502e-18, 6.57776794e-18,\n",
       "       7.46568884e-18, 8.89006904e-18, 1.17033202e-17, 2.36660410e-17,\n",
       "       5.01228074e-17, 9.44293704e-17, 7.53505621e-17, 2.11092274e-17,\n",
       "       1.06931085e-17, 8.29558509e-18, 7.09487122e-18, 6.26143381e-18,\n",
       "       5.64132628e-18, 5.05056009e-18, 4.52498856e-18, 4.00506749e-18,\n",
       "       3.50013122e-18, 3.50013122e-18, 4.00506749e-18, 4.52498856e-18,\n",
       "       5.05056009e-18, 5.64132628e-18, 6.26143381e-18, 7.09487122e-18,\n",
       "       8.29558509e-18, 1.06870652e-17, 1.85635923e-17, 6.04611522e-17,\n",
       "       1.49881011e-16, 6.17487283e-17, 1.41509179e-17, 9.60121027e-18,\n",
       "       7.74790467e-18, 6.72648468e-18, 5.98735537e-18, 5.36430474e-18,\n",
       "       4.79964519e-18, 4.29034182e-18, 3.78306959e-18, 3.78306959e-18,\n",
       "       4.29034182e-18, 4.79964519e-18, 5.36430474e-18, 5.98735537e-18,\n",
       "       6.72648468e-18, 7.74790467e-18, 9.60121027e-18, 1.40652137e-17,\n",
       "       5.03212910e-17, 1.37185641e-16, 4.58410261e-16, 1.21793915e-16,\n",
       "       3.57560334e-17, 1.17068606e-17, 8.66230569e-18, 7.22476670e-18,\n",
       "       6.35177393e-18, 5.69465999e-18, 5.10254219e-18, 4.56281387e-18,\n",
       "       4.04048116e-18, 3.53474087e-18, 3.53474087e-18, 4.04048116e-18,\n",
       "       4.56281387e-18, 5.10254219e-18, 5.69465999e-18, 6.35177393e-18,\n",
       "       7.22476670e-18, 8.66230569e-18, 1.17035254e-17, 3.19431113e-17,\n",
       "       1.16335184e-16, 4.24780406e-16, 6.71307227e-17, 1.67897498e-17,\n",
       "       9.89171032e-18, 7.90031352e-18, 6.78063233e-18, 6.02143232e-18,\n",
       "       5.39546959e-18, 4.84635815e-18, 4.30226149e-18, 3.79596947e-18,\n",
       "       3.79596947e-18, 4.30226149e-18, 4.84635815e-18, 5.39546959e-18,\n",
       "       6.02143232e-18, 6.78063233e-18, 7.90031352e-18, 9.89247049e-18,\n",
       "       1.62790485e-17, 6.86135664e-17, 4.11346728e-16, 4.52750916e-16,\n",
       "       1.12337983e-16, 3.00075087e-17, 1.17020340e-17, 8.66230569e-18,\n",
       "       7.22476670e-18, 6.35177393e-18, 5.69465999e-18, 5.10254219e-18,\n",
       "       4.56281387e-18, 4.04048116e-18, 3.53474087e-18, 3.53474087e-18,\n",
       "       4.04048116e-18, 4.56281387e-18, 5.10254219e-18, 5.69465999e-18,\n",
       "       6.35177393e-18, 7.22476670e-18, 8.66230569e-18, 1.17117120e-17,\n",
       "       3.66461195e-17, 1.22882550e-16, 1.36627222e-16, 4.71914944e-17,\n",
       "       1.40588709e-17, 9.60121027e-18, 7.74790467e-18, 6.72648468e-18,\n",
       "       5.98735537e-18, 5.36430474e-18, 4.79964519e-18, 4.29034182e-18,\n",
       "       3.78306959e-18, 3.78306959e-18, 4.29034182e-18, 4.79964519e-18,\n",
       "       5.36430474e-18, 5.98735537e-18, 6.72648468e-18, 7.74790467e-18,\n",
       "       9.60270251e-18, 1.41718290e-17, 6.53819637e-17, 1.40911713e-16,\n",
       "       9.12976050e-17, 5.46657726e-17, 1.90534768e-17, 1.06870652e-17,\n",
       "       8.29558509e-18, 7.09487122e-18, 6.26143381e-18, 5.64132628e-18,\n",
       "       5.05056009e-18, 4.52498856e-18, 4.00506749e-18, 3.50013122e-18,\n",
       "       3.50013122e-18, 4.00506749e-18, 4.52498856e-18, 5.05056009e-18,\n",
       "       5.64132628e-18, 6.26143381e-18, 7.09487122e-18, 8.29558509e-18,\n",
       "       1.06971344e-17, 2.51145203e-17, 7.04934501e-17, 4.40830687e-17,\n",
       "       2.16714620e-17, 1.17020340e-17, 8.89006904e-18, 7.46568884e-18,\n",
       "       6.57776794e-18, 5.87329502e-18, 5.29082670e-18, 4.75140774e-18,\n",
       "       4.22772962e-18, 3.72101656e-18, 3.72101656e-18, 4.22772962e-18,\n",
       "       4.75140774e-18, 5.29082670e-18, 5.87329502e-18, 6.57776794e-18,\n",
       "       7.46568884e-18, 8.89082922e-18, 1.17284070e-17, 2.48861407e-17,\n",
       "       5.18387009e-17, 3.01200846e-17, 1.90508744e-17, 1.22127444e-17,\n",
       "       9.43441592e-18, 7.84445484e-18, 6.82861543e-18, 6.11658373e-18,\n",
       "       5.51198501e-18, 4.94850296e-18, 4.45215200e-18, 3.93473481e-18,\n",
       "       3.42890600e-18, 3.42890600e-18, 3.93473481e-18, 4.45215200e-18,\n",
       "       4.94850296e-18, 5.51198501e-18, 6.11658373e-18, 6.82861543e-18,\n",
       "       7.84445484e-18, 9.43632671e-18, 1.22365250e-17, 2.26106793e-17,\n",
       "       1.49278522e-17, 1.20259827e-17, 9.68864492e-18, 8.14646758e-18,\n",
       "       7.09487122e-18, 6.34085638e-18, 5.69465999e-18, 5.15944725e-18,\n",
       "       4.64919055e-18, 4.13195038e-18, 3.63690181e-18, 3.63690181e-18,\n",
       "       4.13195038e-18, 4.64919055e-18, 5.15944725e-18, 5.69465999e-18,\n",
       "       6.34085638e-18, 7.09487122e-18, 8.14646758e-18, 9.69096102e-18,\n",
       "       1.20430259e-17, 1.49626468e-17, 1.20330146e-17, 1.12402728e-17,\n",
       "       9.68864492e-18, 8.29558509e-18, 7.26362433e-18, 6.51613223e-18,\n",
       "       5.89039533e-18, 5.32759198e-18, 4.82620762e-18, 4.32578734e-18,\n",
       "       3.82409485e-18, 3.82409485e-18, 4.32578734e-18, 4.82620762e-18,\n",
       "       5.32759198e-18, 5.89039533e-18, 6.51613223e-18, 7.26362433e-18,\n",
       "       8.29558509e-18, 9.68997585e-18, 1.12477720e-17, 1.01013386e-17,\n",
       "       9.35002199e-18, 8.29558509e-18, 7.37797709e-18, 6.65433591e-18,\n",
       "       6.04456401e-18, 5.48972641e-18, 4.98782672e-18, 4.49898572e-18,\n",
       "       4.00506749e-18, 3.51270229e-18, 3.51270229e-18, 4.00506749e-18,\n",
       "       4.49898572e-18, 4.98782672e-18, 5.48972641e-18, 6.04456401e-18,\n",
       "       6.65433591e-18, 7.37797709e-18, 8.29558509e-18, 9.35054973e-18,\n",
       "       1.01024652e-17, 9.10529647e-18, 8.79974174e-18, 8.14646758e-18,\n",
       "       7.41175336e-18, 6.74585931e-18, 6.16898438e-18, 5.64132628e-18,\n",
       "       5.11705053e-18, 4.64919055e-18, 4.16848860e-18, 3.68870482e-18,\n",
       "       3.68870482e-18, 4.16848860e-18, 4.64919055e-18, 5.11705053e-18,\n",
       "       5.64132628e-18, 6.16898438e-18, 6.74585931e-18, 7.41175336e-18,\n",
       "       8.14646758e-18, 8.79974174e-18, 8.18997232e-18, 7.84445484e-18,\n",
       "       7.33518290e-18, 6.78063233e-18, 6.23650962e-18, 5.71649094e-18,\n",
       "       5.23507431e-18, 4.76738805e-18, 4.30226149e-18, 3.83998954e-18,\n",
       "       3.37557333e-18, 3.37557333e-18, 3.83998954e-18, 4.30226149e-18,\n",
       "       4.76738805e-18, 5.23507431e-18, 5.71649094e-18, 6.23650962e-18,\n",
       "       6.78063233e-18, 7.33518290e-18, 7.84445484e-18, 8.18997232e-18,\n",
       "       7.66434536e-18, 7.49266568e-18, 7.15887101e-18, 6.74585931e-18,\n",
       "       6.26143381e-18, 5.79675807e-18, 5.32759198e-18, 4.87249995e-18,\n",
       "       4.42812778e-18, 3.97205637e-18, 3.51270229e-18, 3.51270229e-18,\n",
       "       3.97205637e-18, 4.42812778e-18, 4.87249995e-18, 5.32759198e-18,\n",
       "       5.79675807e-18, 6.26143381e-18, 6.74585931e-18, 7.15887101e-18,\n",
       "       7.49266568e-18, 7.12423199e-18, 6.96051475e-18, 6.63584760e-18,\n",
       "       6.23650962e-18, 5.81781974e-18, 5.39546959e-18, 4.97338373e-18,\n",
       "       4.53722545e-18, 4.09083289e-18, 3.65293670e-18, 3.65293670e-18,\n",
       "       4.09083289e-18, 4.53722545e-18, 4.97338373e-18, 5.39546959e-18,\n",
       "       5.81781974e-18, 6.23650962e-18, 6.63584760e-18, 6.96051475e-18,\n",
       "       7.12423199e-18, 6.78063233e-18, 6.67562341e-18, 6.45787887e-18,\n",
       "       6.16898438e-18, 5.79675807e-18, 5.43506218e-18, 5.02281273e-18,\n",
       "       4.63273752e-18, 4.19280440e-18, 3.76491173e-18, 3.76491173e-18,\n",
       "       4.19280440e-18, 4.63273752e-18, 5.02281273e-18, 5.43506218e-18,\n",
       "       5.79675807e-18, 6.16898438e-18, 6.45787887e-18, 6.67562341e-18,\n",
       "       6.38922991e-18, 6.28348479e-18, 6.04456401e-18, 5.75831361e-18,\n",
       "       5.43506218e-18, 5.06872498e-18, 4.67274742e-18, 4.27023802e-18,\n",
       "       3.86545719e-18, 3.42890600e-18, 3.42890600e-18, 3.86545719e-18,\n",
       "       4.27023802e-18, 4.67274742e-18, 5.06872498e-18, 5.43506218e-18,\n",
       "       5.75831361e-18, 6.04456401e-18, 6.28348479e-18, 6.38922991e-18,\n",
       "       6.11658373e-18, 6.04456401e-18, 5.90559932e-18, 5.67590285e-18,\n",
       "       5.39546959e-18, 5.06872498e-18, 4.69483148e-18, 4.32578734e-18,\n",
       "       3.93473481e-18, 3.51270229e-18, 3.51270229e-18, 3.93473481e-18,\n",
       "       4.32578734e-18, 4.69483148e-18, 5.06872498e-18, 5.39546959e-18,\n",
       "       5.67590285e-18, 5.90559932e-18, 6.04456401e-18, 5.81781974e-18,\n",
       "       5.71649094e-18, 5.55045636e-18, 5.31064222e-18, 5.02281273e-18,\n",
       "       4.71698049e-18, 4.36339965e-18, 3.98565935e-18, 3.60014480e-18,\n",
       "       3.60014480e-18, 3.98565935e-18, 4.36339965e-18, 4.71698049e-18,\n",
       "       5.02281273e-18, 5.31064222e-18, 5.55045636e-18, 5.71649094e-18,\n",
       "       5.81781974e-18, 5.56805421e-18, 5.53013997e-18, 5.41730716e-18,\n",
       "       5.21859853e-18, 4.97338373e-18, 4.69483148e-18, 4.37904040e-18,\n",
       "       4.02700349e-18, 3.65293670e-18, 3.65293670e-18, 4.02700349e-18,\n",
       "       4.37904040e-18, 4.69483148e-18, 4.97338373e-18, 5.21859853e-18,\n",
       "       5.41730716e-18, 5.53013997e-18, 5.31064222e-18, 5.23507431e-18,\n",
       "       5.07695708e-18, 4.89299542e-18, 4.64919055e-18, 4.36339965e-18,\n",
       "       4.04048116e-18, 3.68870482e-18, 3.68870482e-18, 4.04048116e-18,\n",
       "       4.36339965e-18, 4.64919055e-18, 4.89299542e-18, 5.07695708e-18,\n",
       "       5.23507431e-18, 5.31064222e-18, 5.07695708e-18, 5.05056009e-18,\n",
       "       4.93611759e-18, 4.78729621e-18, 4.56281387e-18, 4.32578734e-18,\n",
       "       4.02700349e-18, 3.70337901e-18, 3.36603676e-18, 3.36603676e-18,\n",
       "       3.70337901e-18, 4.02700349e-18, 4.32578734e-18, 4.56281387e-18,\n",
       "       4.78729621e-18, 4.93611759e-18, 5.05056009e-18, 4.84635815e-18,\n",
       "       4.76738805e-18, 4.64919055e-18, 4.47362726e-18, 4.24355317e-18,\n",
       "       3.98565935e-18, 3.68870482e-18, 3.37557333e-18, 3.37557333e-18,\n",
       "       3.68870482e-18, 3.98565935e-18, 4.24355317e-18, 4.47362726e-18,\n",
       "       4.64919055e-18, 4.76738805e-18, 4.84635815e-18, 4.63273752e-18,\n",
       "       4.58484293e-18, 4.49898572e-18, 4.36339965e-18, 4.16848860e-18,\n",
       "       3.93473481e-18, 3.67582769e-18, 3.36603676e-18, 3.36603676e-18,\n",
       "       3.67582769e-18, 3.93473481e-18, 4.16848860e-18, 4.36339965e-18,\n",
       "       4.49898572e-18, 4.58484293e-18, 4.39275257e-18, 4.33376632e-18,\n",
       "       4.21962987e-18, 4.05421195e-18, 3.86545719e-18, 3.61673556e-18,\n",
       "       3.34039933e-18, 3.34039933e-18, 3.61673556e-18, 3.86545719e-18,\n",
       "       4.05421195e-18, 4.21962987e-18, 4.33376632e-18, 4.39275257e-18,\n",
       "       4.17872041e-18, 4.14689505e-18, 4.08916777e-18, 3.93473481e-18,\n",
       "       3.76491173e-18, 3.55131963e-18, 3.55131963e-18, 3.76491173e-18,\n",
       "       3.93473481e-18, 4.08916777e-18, 4.14689505e-18, 3.95038506e-18,\n",
       "       3.90065869e-18, 3.79596947e-18, 3.65293670e-18, 3.46120658e-18,\n",
       "       3.46120658e-18, 3.65293670e-18, 3.79596947e-18, 3.90065869e-18,\n",
       "       3.95038506e-18, 3.74474796e-18, 3.70337901e-18, 3.63690181e-18,\n",
       "       3.51270229e-18, 3.36603676e-18, 3.36603676e-18, 3.51270229e-18,\n",
       "       3.63690181e-18, 3.70337901e-18, 3.51270229e-18, 3.46120658e-18,\n",
       "       3.37557333e-18, 3.37557333e-18, 3.46120658e-18, 3.51270229e-18])"
      ]
     },
     "execution_count": 17,
     "metadata": {},
     "output_type": "execute_result"
    }
   ],
   "source": [
    "good_data = data[data>0]\n",
    "good_data"
   ]
  },
  {
   "cell_type": "markdown",
   "metadata": {},
   "source": [
    "## Try to create a Gammapy Map from values loaded\n",
    "\n",
    "We will take the first 900 values from ``data`` (it actually contains 960) because we want a spatially squared Map, let's say we want to build a 30pix x 30pix Map 2 deg width in GAL reference frame."
   ]
  },
  {
   "cell_type": "code",
   "execution_count": 18,
   "metadata": {},
   "outputs": [],
   "source": [
    "m_dark = Map.create(\n",
    "    binsz=2/30, width=2, coordsys=\"GAL\")"
   ]
  },
  {
   "cell_type": "code",
   "execution_count": 19,
   "metadata": {},
   "outputs": [],
   "source": [
    "good_data = good_data[:900]"
   ]
  },
  {
   "cell_type": "code",
   "execution_count": 20,
   "metadata": {},
   "outputs": [],
   "source": [
    "m_dark.data = good_data.reshape(30, 30)"
   ]
  },
  {
   "cell_type": "code",
   "execution_count": 21,
   "metadata": {},
   "outputs": [
    {
     "data": {
      "text/plain": [
       "(<Figure size 432x288 with 1 Axes>,\n",
       " <matplotlib.axes._subplots.WCSAxesSubplot at 0x118648470>,\n",
       " None)"
      ]
     },
     "execution_count": 21,
     "metadata": {},
     "output_type": "execute_result"
    },
    {
     "data": {
      "image/png": "[encoded data removed]",
      "text/plain": [
       "<Figure size 432x288 with 1 Axes>"
      ]
     },
     "metadata": {
      "needs_background": "light"
     },
     "output_type": "display_data"
    }
   ],
   "source": [
    "m_dark.plot()"
   ]
  },
  {
   "cell_type": "markdown",
   "metadata": {},
   "source": [
    "**Oups !!!**\n",
    "Obviously, spatial info is not well encoded :)"
   ]
  }
 ],
 "metadata": {
  "kernelspec": {
   "display_name": "Python 3",
   "language": "python",
   "name": "python3"
  },
  "language_info": {
   "codemirror_mode": {
    "name": "ipython",
    "version": 3
   },
   "file_extension": ".py",
   "mimetype": "text/x-python",
   "name": "python",
   "nbconvert_exporter": "python",
   "pygments_lexer": "ipython3",
   "version": "3.6.0"
  }
 },
 "nbformat": 4,
 "nbformat_minor": 2
}
