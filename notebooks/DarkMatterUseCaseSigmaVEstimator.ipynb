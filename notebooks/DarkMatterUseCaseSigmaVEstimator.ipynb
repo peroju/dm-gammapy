{
 "cells": [
  {
   "cell_type": "markdown",
   "metadata": {},
   "source": [
    "# Calculate sigmav vs. mDM for simulated DM datasets"
   ]
  },
  {
   "cell_type": "code",
   "execution_count": 1,
   "metadata": {},
   "outputs": [],
   "source": [
    "%matplotlib inline\n",
    "import matplotlib.pyplot as plt\n",
    "\n",
    "import numpy as np\n",
    "import astropy.units as u\n",
    "\n",
    "from gammapy.astro.darkmatter.utils import SigmaVEstimator\n",
    "from gammapy.spectrum import SpectrumDatasetOnOff, CountsSpectrum\n",
    "from gammapy.astro.darkmatter import DarkMatterAnnihilationSpectralModel\n",
    "from gammapy.irf import load_cta_irfs"
   ]
  },
  {
   "cell_type": "markdown",
   "metadata": {},
   "source": [
    "## Define parameters for simulated observation"
   ]
  },
  {
   "cell_type": "code",
   "execution_count": 2,
   "metadata": {},
   "outputs": [],
   "source": [
    "# -\n",
    "livetime = 100 * u.h # in hours\n",
    "offset = 0.5 * u.deg\n",
    "FOVLON=0 * u.deg\n",
    "FOVLAT=0 * u.deg\n",
    "\n",
    "# Energy from 0.01 to 100 TeV with 20 bins/decade\n",
    "energy = np.logspace(-1.8, 1.5, 20) * u.TeV\n",
    "\n",
    "# Energy true wider range and higher number of bins\n",
    "energy_true = np.logspace(-2, 2, 100) * u.TeV\n",
    "\n",
    "# DMAnnihilation Model\n",
    "JFAC = 3.41e19 * u.Unit(\"GeV2 cm-5\") # point source\n",
    "mDM = 5000*u.Unit(\"GeV\")\n",
    "channel = \"b\"\n",
    "redshift = 0"
   ]
  },
  {
   "cell_type": "markdown",
   "metadata": {},
   "source": [
    "## Build IRFs with the defined parameters"
   ]
  },
  {
   "cell_type": "code",
   "execution_count": 3,
   "metadata": {},
   "outputs": [],
   "source": [
    "# Load IRFs\n",
    "filename = (\n",
    "    \"$GAMMAPY_DATA/cta-1dc/caldb/data/cta/1dc/bcf/South_z20_50h/irf_file.fits\"\n",
    ")\n",
    "cta_irf = load_cta_irfs(filename)"
   ]
  },
  {
   "cell_type": "code",
   "execution_count": 4,
   "metadata": {},
   "outputs": [
    {
     "name": "stdout",
     "output_type": "stream",
     "text": [
      "NDDataArray summary info\n",
      "MapAxis\n",
      "\n",
      "\tname       : energy    \n",
      "\tunit       : 'TeV'     \n",
      "\tnbins      : 42        \n",
      "\tnode type  : edges     \n",
      "\tedges min  : 1.3e-02 TeV\n",
      "\tedges max  : 2.0e+02 TeV\n",
      "\tinterp     : log       \n",
      "MapAxis\n",
      "\n",
      "\tname       : offset    \n",
      "\tunit       : 'deg'     \n",
      "\tnbins      : 6         \n",
      "\tnode type  : edges     \n",
      "\tedges min  : 0.0e+00 deg\n",
      "\tedges max  : 6.0e+00 deg\n",
      "\tinterp     : lin       \n",
      "Data           : size =   252, min =  0.000 m2, max = 5371581.000 m2\n",
      "\n"
     ]
    },
    {
     "data": {
      "image/png": "[encoded data removed]",
      "text/plain": [
       "<Figure size 432x288 with 1 Axes>"
      ]
     },
     "metadata": {
      "needs_background": "light"
     },
     "output_type": "display_data"
    }
   ],
   "source": [
    "aeff = cta_irf[\"aeff\"].to_effective_area_table(offset=offset, energy=energy)\n",
    "aeff.plot()\n",
    "plt.loglog()\n",
    "print(cta_irf[\"aeff\"].data)"
   ]
  },
  {
   "cell_type": "code",
   "execution_count": 5,
   "metadata": {
    "code_folding": []
   },
   "outputs": [],
   "source": [
    "#edisp = cta_irf[\"edisp\"].to_energy_dispersion(\n",
    "#    offset=offset, e_true=energy_true, e_reco=energy\n",
    "#)\n",
    "#edisp.plot_matrix()\n",
    "#print(edisp.data)"
   ]
  },
  {
   "cell_type": "markdown",
   "metadata": {},
   "source": [
    "## Build the background counts from PSF and IRF background"
   ]
  },
  {
   "cell_type": "code",
   "execution_count": 6,
   "metadata": {},
   "outputs": [],
   "source": [
    "containment = 0.68\n",
    "energies = np.sqrt(energy[1:] * energy[:-1])\n",
    "psf = cta_irf[\"psf\"].to_energy_dependent_table_psf(theta=offset)\n",
    "on_radii = psf.containment_radius(energy=energies, fraction=containment)\n",
    "solid_angles = 2 * np.pi * (1 - np.cos(on_radii)) * u.sr\n",
    "\n",
    "#\n",
    "aeff.data.data *= containment"
   ]
  },
  {
   "cell_type": "code",
   "execution_count": 7,
   "metadata": {},
   "outputs": [],
   "source": [
    "bkg_data = cta_irf[\"bkg\"].evaluate_integrate(\n",
    "    fov_lon=FOVLON, fov_lat=FOVLAT, energy_reco=energy\n",
    ")\n",
    "bkg = CountsSpectrum(\n",
    "    energy[:-1],\n",
    "    energy[1:],\n",
    "    data=(bkg_data * solid_angles).to_value(\"h-1\")*livetime\n",
    ")"
   ]
  },
  {
   "cell_type": "code",
   "execution_count": 8,
   "metadata": {},
   "outputs": [
    {
     "data": {
      "text/plain": [
       "<matplotlib.axes._subplots.AxesSubplot at 0x11d2de240>"
      ]
     },
     "execution_count": 8,
     "metadata": {},
     "output_type": "execute_result"
    },
    {
     "data": {
      "image/png": "[encoded data removed]",
      "text/plain": [
       "<Figure size 432x288 with 1 Axes>"
      ]
     },
     "metadata": {
      "needs_background": "light"
     },
     "output_type": "display_data"
    }
   ],
   "source": [
    "bkg.plot_hist()"
   ]
  },
  {
   "cell_type": "markdown",
   "metadata": {},
   "source": [
    "## Simulate OnOff observation with DM emission model"
   ]
  },
  {
   "cell_type": "code",
   "execution_count": 9,
   "metadata": {},
   "outputs": [],
   "source": [
    "# DM Flux\n",
    "flux_model = DarkMatterAnnihilationSpectralModel(\n",
    "    mass=mDM, \n",
    "    channel=channel, \n",
    "    jfactor=JFAC, \n",
    "    z=redshift\n",
    ")"
   ]
  },
  {
   "cell_type": "code",
   "execution_count": 10,
   "metadata": {},
   "outputs": [],
   "source": [
    "dataset = SpectrumDatasetOnOff(\n",
    "    aeff=aeff,\n",
    "    model=flux_model,\n",
    "    livetime=livetime,\n",
    "    acceptance=1,\n",
    "    acceptance_off=5,\n",
    ")\n",
    "# dataset.fake(background_model=bkg) #simulation"
   ]
  },
  {
   "cell_type": "code",
   "execution_count": 11,
   "metadata": {},
   "outputs": [],
   "source": [
    "#from gammapy.modeling.models import Absorption, AbsorbedSpectralModel\n",
    "#absorption_model = Absorption.read_builtin('dominguez')\n",
    "#flux_model = AbsorbedSpectralModel(flux_model, absorption_model, redshift)"
   ]
  },
  {
   "cell_type": "code",
   "execution_count": 12,
   "metadata": {},
   "outputs": [],
   "source": [
    "#type(dataset.model.spectral_model)"
   ]
  },
  {
   "cell_type": "markdown",
   "metadata": {},
   "source": [
    "**Enable inspection**"
   ]
  },
  {
   "cell_type": "code",
   "execution_count": 13,
   "metadata": {},
   "outputs": [],
   "source": [
    "import logging\n",
    "logging.basicConfig()\n",
    "logging.getLogger(\"gammapy.astro.darkmatter.utils\").setLevel(\"WARNING\")\n",
    "#logging.getLogger(\"gammapy.astro.darkmatter.utils\").setLevel(\"ERROR\")"
   ]
  },
  {
   "cell_type": "markdown",
   "metadata": {},
   "source": [
    "**Instatiate estimator**"
   ]
  },
  {
   "cell_type": "code",
   "execution_count": 14,
   "metadata": {},
   "outputs": [],
   "source": [
    "masses = [100, 200, 500, 1000, 5000, 10000, 50000]*u.GeV\n",
    "channels = [\"b\", \"tau\", \"Z\"] \n",
    "estimator = SigmaVEstimator(dataset, masses, channels, background_model=bkg, jfactor=JFAC)"
   ]
  },
  {
   "cell_type": "markdown",
   "metadata": {},
   "source": [
    "**Run estimator and fetch results**"
   ]
  },
  {
   "cell_type": "code",
   "execution_count": 15,
   "metadata": {
    "scrolled": false
   },
   "outputs": [
    {
     "name": "stdout",
     "output_type": "stream",
     "text": [
      "CPU times: user 40.4 s, sys: 1.54 s, total: 42 s\n",
      "Wall time: 46.2 s\n"
     ]
    }
   ],
   "source": [
    "%%time\n",
    "likelihood_profile_opts=dict(bounds=50, nvalues=50)\n",
    "result = estimator.run(10, likelihood_profile_opts=likelihood_profile_opts)\n",
    "#result = estimator.run(30)"
   ]
  },
  {
   "cell_type": "markdown",
   "metadata": {},
   "source": [
    "## Inspection of results"
   ]
  },
  {
   "cell_type": "markdown",
   "metadata": {},
   "source": [
    "**Display results for channel b and second run**"
   ]
  },
  {
   "cell_type": "code",
   "execution_count": 16,
   "metadata": {
    "scrolled": false
   },
   "outputs": [
    {
     "data": {
      "text/html": [
       "<i>Table length=7</i>\n",
       "<table id=\"table4789234152\" class=\"table-striped table-bordered table-condensed\">\n",
       "<thead><tr><th>mass</th><th>sigma_v</th><th>sv_best</th><th>sv_ul</th><th>likeprofile</th></tr></thead>\n",
       "<thead><tr><th>GeV</th><th>cm3 / s</th><th></th><th></th><th></th></tr></thead>\n",
       "<thead><tr><th>float64</th><th>float64</th><th>float64</th><th>float64</th><th>object</th></tr></thead>\n",
       "<tr><td>100.0</td><td>2.0927541999866977e-24</td><td>24.168819467853073</td><td>69.75847333288992</td><td>{&apos;values&apos;: array([-1356.57216591, -1300.215391  , -1243.85861608, -1187.50184117,\n",
       "       -1131.14506626, -1074.78829134, -1018.43151643,  -962.07474152,\n",
       "        -905.7179666 ,  -849.36119169,  -793.00441678,  -736.64764186,\n",
       "        -680.29086695,  -623.93409204,  -567.57731712,  -511.22054221,\n",
       "        -454.8637673 ,  -398.50699238,  -342.15021747,  -285.79344256,\n",
       "        -229.43666764,  -173.07989273,  -116.72311782,   -60.3663429 ,\n",
       "          -4.00956799,    52.34720692,   108.70398184,   165.06075675,\n",
       "         221.41753166,   277.77430658,   334.13108149,   390.48785641,\n",
       "         446.84463132,   503.20140623,   559.55818115,   615.91495606,\n",
       "         672.27173097,   728.62850589,   784.9852808 ,   841.34205571,\n",
       "         897.69883063,   954.05560554,  1010.41238045,  1066.76915537,\n",
       "        1123.12593028,  1179.48270519,  1235.83948011,  1292.19625502,\n",
       "        1348.55302993,  1404.90980485]), &apos;likelihood&apos;: array([2755.51757602, 2527.74775094, 2310.51081321, 2103.7300551 ,\n",
       "       1907.32658978, 1721.21922068, 1545.32435169, 1379.5559438 ,\n",
       "       1223.82552215, 1078.04223491,  942.11296437,  815.94248866,\n",
       "        699.43369258,  592.48782536,  495.00480249,  406.88354736,\n",
       "        328.0223653 ,  258.31933895,  197.67272965,  145.98136785,\n",
       "        103.14501493,   69.06468216,   43.64289672,   26.78391039,\n",
       "         18.3938512 ,   18.3808227 ,   26.65495722,   43.1284316 ,\n",
       "         67.71545299,  100.33222237,  140.89688219,  189.32945347,\n",
       "        245.55176647,  309.48738825,  381.06154949,  460.20107221,\n",
       "        546.83429956,  640.89102849,  742.30244567,  851.00106693,\n",
       "        966.92068029, 1089.99629252, 1220.16407913, 1357.36133758,\n",
       "       1501.5264437 , 1652.59881087, 1810.51885194, 1975.22794366,\n",
       "       2146.66839342, 2324.78340805])}</td></tr>\n",
       "<tr><td>200.0</td><td>1.613305401776662e-24</td><td>25.74338348017717</td><td>53.77684672588873</td><td>{&apos;values&apos;: array([-822.39870505, -787.78066062, -753.16261619, -718.54457176,\n",
       "       -683.92652733, -649.3084829 , -614.69043847, -580.07239404,\n",
       "       -545.45434961, -510.83630518, -476.21826075, -441.60021632,\n",
       "       -406.98217189, -372.36412746, -337.74608303, -303.1280386 ,\n",
       "       -268.50999417, -233.89194974, -199.27390531, -164.65586088,\n",
       "       -130.03781645,  -95.41977202,  -60.80172759,  -26.18368316,\n",
       "          8.43436127,   43.0524057 ,   77.67045013,  112.28849456,\n",
       "        146.90653899,  181.52458342,  216.14262785,  250.76067228,\n",
       "        285.37871671,  319.99676114,  354.61480557,  389.23285   ,\n",
       "        423.85089443,  458.46893886,  493.08698329,  527.70502771,\n",
       "        562.32307214,  596.94111657,  631.559161  ,  666.17720543,\n",
       "        700.79524986,  735.41329429,  770.03133872,  804.64938315,\n",
       "        839.26742758,  873.88547201]), &apos;likelihood&apos;: array([2712.47112533, 2489.89033335, 2277.3800601 , 2074.88949699,\n",
       "       1882.3664233 , 1699.75708572, 1526.99266007, 1363.99175174,\n",
       "       1210.69071521, 1067.02377023,  932.92266643,  808.31669201,\n",
       "        693.13272864,  587.29535529,  490.72700595,  403.34818741,\n",
       "        325.07776164,  255.83329219,  195.53144597,  144.08843361,\n",
       "        101.42046528,   67.44419577,   42.07713365,   25.23799299,\n",
       "         16.84697356,   16.82596378,   25.09866909,   41.59067491,\n",
       "         66.22945653,   98.94434931,  139.66649125,  188.32874805,\n",
       "        244.86562851,  309.21319588,  381.30897916,  461.09188689,\n",
       "        548.50212492,  643.48111926,  745.97144414,  855.91675546,\n",
       "        973.26172959, 1097.95200713, 1229.93414133, 1369.15555093,\n",
       "       1515.56447697, 1669.10994322, 1829.74171998, 1997.41029082,\n",
       "       2172.06682214, 2353.66313514])}</td></tr>\n",
       "<tr><td>500.0</td><td>1.2192124597943584e-24</td><td>21.26742749567033</td><td>40.64041532647861</td><td>{&apos;values&apos;: array([-563.26977408, -539.41111279, -515.5524515 , -491.69379021,\n",
       "       -467.83512892, -443.97646763, -420.11780634, -396.25914506,\n",
       "       -372.40048377, -348.54182248, -324.68316119, -300.8244999 ,\n",
       "       -276.96583861, -253.10717732, -229.24851604, -205.38985475,\n",
       "       -181.53119346, -157.67253217, -133.81387088, -109.95520959,\n",
       "        -86.0965483 ,  -62.23788701,  -38.37922573,  -14.52056444,\n",
       "          9.33809685,   33.19675814,   57.05541943,   80.91408072,\n",
       "        104.77274201,  128.63140329,  152.49006458,  176.34872587,\n",
       "        200.20738716,  224.06604845,  247.92470974,  271.78337103,\n",
       "        295.64203232,  319.5006936 ,  343.35935489,  367.21801618,\n",
       "        391.07667747,  414.93533876,  438.79400005,  462.65266134,\n",
       "        486.51132262,  510.36998391,  534.2286452 ,  558.08730649,\n",
       "        581.94596778,  605.80462907]), &apos;likelihood&apos;: array([2783.76330684, 2551.69165403, 2330.65417874, 2120.52820545,\n",
       "       1921.19122079, 1732.52093792, 1554.3953612 , 1386.69285164,\n",
       "       1229.29219371, 1082.07266392,  944.91410198,  817.69698498,\n",
       "        700.30250482,  592.61264898,  494.51028409,  405.87924146,\n",
       "        326.60440358,  256.57179005,  195.66864153,  143.78349989,\n",
       "        100.80628295,   66.62835199,   41.1425707 ,   24.24335435,\n",
       "         15.8267087 ,   15.7902585 ,   24.03326599,   40.45664027,\n",
       "         64.9629385 ,   97.4563602 ,  137.84273579,  186.02951051,\n",
       "        241.9257247 ,  305.44199135,  376.49047161,  454.98484882,\n",
       "        540.84030169,  633.97347674,  734.30246056,  841.74675193,\n",
       "        956.22723405, 1077.66614698, 1205.9870604 , 1341.11484672,\n",
       "       1482.97565463, 1631.49688311, 1786.60715592, 1948.23629653,\n",
       "       2116.31530364, 2290.7763271 ])}</td></tr>\n",
       "<tr><td>1000.0</td><td>8.782729116966364e-25</td><td>13.3551954444956</td><td>29.275763723221214</td><td>{&apos;values&apos;: array([-466.24485035, -446.66933828, -427.09382621, -407.51831413,\n",
       "       -387.94280206, -368.36728999, -348.79177791, -329.21626584,\n",
       "       -309.64075377, -290.06524169, -270.48972962, -250.91421755,\n",
       "       -231.33870547, -211.7631934 , -192.18768133, -172.61216925,\n",
       "       -153.03665718, -133.46114511, -113.88563303,  -94.31012096,\n",
       "        -74.73460889,  -55.15909681,  -35.58358474,  -16.00807267,\n",
       "          3.56743941,   23.14295148,   42.71846355,   62.29397563,\n",
       "         81.8694877 ,  101.44499977,  121.02051185,  140.59602392,\n",
       "        160.17153599,  179.74704807,  199.32256014,  218.89807221,\n",
       "        238.47358429,  258.04909636,  277.62460843,  297.20012051,\n",
       "        316.77563258,  336.35114465,  355.92665673,  375.5021688 ,\n",
       "        395.07768087,  414.65319295,  434.22870502,  453.80421709,\n",
       "        473.37972917,  492.95524124]), &apos;likelihood&apos;: array([3015.99856674, 2756.10727238, 2509.55298981, 2276.12810158,\n",
       "       2055.62115656, 1847.81761304, 1652.5005849 , 1469.45159355,\n",
       "       1298.45133341, 1139.28046451,  991.7204527 ,  855.54244684,\n",
       "        730.47662499,  616.2945037 ,  512.77478784,  419.69833641,\n",
       "        336.84850931,  264.01143662,  200.97621599,  147.53506176,\n",
       "        103.48344609,   68.62027566,   42.74813009,   25.67355529,\n",
       "         17.20737483,   17.1649718 ,   25.36650427,   41.63703874,\n",
       "         65.80660402,   97.71017924,  137.18763253,  184.08362546,\n",
       "        238.24749553,  299.53312543,  367.79880531,  442.90709197,\n",
       "        524.72466808,  613.1222026 ,  707.97421405,  809.15893689,\n",
       "        916.55819163, 1030.05725891, 1149.5447575 , 1274.91252645,\n",
       "       1406.05551127, 1542.87165408, 1685.26178778, 1833.12953403,\n",
       "       1986.38120494, 2144.9257086 ])}</td></tr>\n",
       "<tr><td>5000.0</td><td>4.841938920886785e-25</td><td>0.0</td><td>16.139796402955948</td><td>{&apos;values&apos;: array([  0.        ,   9.78415319,  29.87567624,  49.9671993 ,\n",
       "        70.05872236,  90.15024541, 110.24176847, 130.33329153,\n",
       "       150.42481458, 170.51633764, 190.6078607 , 210.69938375,\n",
       "       230.79090681, 250.88242987, 270.97395292, 291.06547598,\n",
       "       311.15699903, 331.24852209, 351.34004515, 371.4315682 ,\n",
       "       391.52309126, 411.61461432, 431.70613737, 451.79766043,\n",
       "       471.88918349, 491.98070654]), &apos;likelihood&apos;: array([  18.11735413,   19.14349261,   27.12955553,   42.53880239,\n",
       "         64.84083298,   93.56078554,  128.27338511,  168.59721871,\n",
       "        214.18947074,  264.74120952,  319.97323491,  379.63245601,\n",
       "        443.48874861,  511.33223638,  582.97094089,  658.22874933,\n",
       "        736.94365474,  818.96622928,  904.15829644,  992.39177345,\n",
       "       1083.54765905, 1177.51514595, 1274.19084031, 1373.47807336,\n",
       "       1475.28629254, 1579.53052135])}</td></tr>\n",
       "<tr><td>10000.0</td><td>4.965007046234096e-25</td><td>0.0</td><td>16.550023487446985</td><td>{&apos;values&apos;: array([  0.        ,   8.47566281,  32.28666999,  56.09767717,\n",
       "        79.90868436, 103.71969154, 127.53069872, 151.3417059 ,\n",
       "       175.15271309, 198.96372027, 222.77472745, 246.58573463,\n",
       "       270.39674182, 294.207749  , 318.01875618, 341.82976337,\n",
       "       365.64077055, 389.45177773, 413.26278491, 437.0737921 ,\n",
       "       460.88479928, 484.69580646, 508.50681364, 532.31782083,\n",
       "       556.12882801, 579.93983519]), &apos;likelihood&apos;: array([  18.12400949,   19.0423196 ,   26.77997319,   41.38307481,\n",
       "         62.07619114,   88.21671066,  119.26817216,  154.77872958,\n",
       "        194.36428442,  237.69539603,  284.48711555,  334.49104604,\n",
       "        387.48909213,  443.28849638,  501.71786164,  562.62393538,\n",
       "        625.86898771,  691.32865606,  758.89016002,  828.4508119 ,\n",
       "        899.91676576,  973.20195996, 1048.22721795, 1124.91947941,\n",
       "       1203.21113925, 1283.03947667])}</td></tr>\n",
       "<tr><td>50000.0</td><td>1.3624595439201611e-24</td><td>4.652746573014557</td><td>45.415318130672034</td><td>{&apos;values&apos;: array([-1176.52262   , -1128.31138055, -1080.1001411 , -1031.88890165,\n",
       "        -983.67766219,  -935.46642274,  -887.25518329,  -839.04394384,\n",
       "        -790.83270439,  -742.62146493,  -694.41022548,  -646.19898603,\n",
       "        -597.98774658,  -549.77650713,  -501.56526767,  -453.35402822,\n",
       "        -405.14278877,  -356.93154932,  -308.72030987,  -260.50907041,\n",
       "        -212.29783096,  -164.08659151,  -115.87535206,   -67.66411261,\n",
       "         -19.45287315,    28.7583663 ,    76.96960575,   125.1808452 ,\n",
       "         173.39208466,   221.60332411,   269.81456356,   318.02580301,\n",
       "         366.23704246,   414.44828192,   462.65952137,   510.87076082,\n",
       "         559.08200027,   607.29323972,   655.50447918,   703.71571863,\n",
       "         751.92695808,   800.13819753,   848.34943698,   896.56067644,\n",
       "         944.77191589,   992.98315534,  1041.19439479,  1089.40563424,\n",
       "        1137.6168737 ,  1185.82811315]), &apos;likelihood&apos;: array([2938.60607748, 2754.15867176, 2572.66332914, 2394.27790911,\n",
       "       2219.17699866, 2047.55466437, 1879.62777727, 1715.64001364,\n",
       "       1555.86663557, 1400.62014558, 1250.25688623, 1105.1846247 ,\n",
       "        965.87114713,  832.85396606,  706.70787239,  588.07878693,\n",
       "        477.76885257,  376.71105866,  285.99457003,  206.87213346,\n",
       "        140.69719849,   88.70918454,   51.62154869,   29.0733982 ,\n",
       "         19.1789014 ,   19.06324137,   26.15669884,   38.65871289,\n",
       "         55.36446376,   75.44791382,   98.32124835,  123.55121146,\n",
       "        150.80860749,  179.83675987,  210.43108963,  242.4254468 ,\n",
       "        275.68268727,  310.08800447,  345.54410045,  381.96761685,\n",
       "        419.28644848,  457.43768814,  496.36603113,  536.02252009,\n",
       "        576.3635457 ,  617.35004226,  658.94683371,  701.12209695,\n",
       "        743.84691784,  787.09492074])}</td></tr>\n",
       "</table>"
      ],
      "text/plain": [
       "<Table length=7>\n",
       "  mass  ...\n",
       "  GeV   ...\n",
       "float64 ...\n",
       "------- ...\n",
       "  100.0 ...\n",
       "  200.0 ...\n",
       "  500.0 ...\n",
       " 1000.0 ...\n",
       " 5000.0 ...\n",
       "10000.0 ...\n",
       "50000.0 ..."
      ]
     },
     "execution_count": 16,
     "metadata": {},
     "output_type": "execute_result"
    }
   ],
   "source": [
    "cols = [\"mass\", \"sigma_v\", \"sv_best\", \"sv_ul\", \"likeprofile\"]\n",
    "result[\"runs\"][\"b\"][5][cols]"
   ]
  },
  {
   "cell_type": "markdown",
   "metadata": {},
   "source": [
    "**Plot likelihood profile for a specific fit**"
   ]
  },
  {
   "cell_type": "code",
   "execution_count": 17,
   "metadata": {},
   "outputs": [],
   "source": [
    "mask = result[\"runs\"][\"b\"][5][\"mass\"] == 50000.0\n",
    "profile = result[\"runs\"][\"b\"][5][\"likeprofile\"][mask][0]"
   ]
  },
  {
   "cell_type": "code",
   "execution_count": 18,
   "metadata": {},
   "outputs": [
    {
     "data": {
      "image/png": "[encoded data removed]",
      "text/plain": [
       "<Figure size 432x288 with 1 Axes>"
      ]
     },
     "metadata": {
      "needs_background": "light"
     },
     "output_type": "display_data"
    }
   ],
   "source": [
    "plt.plot(profile[\"values\"], profile[\"likelihood\"]);"
   ]
  },
  {
   "cell_type": "markdown",
   "metadata": {},
   "source": [
    "## Plot obtained results for sigma"
   ]
  },
  {
   "cell_type": "code",
   "execution_count": 19,
   "metadata": {},
   "outputs": [
    {
     "data": {
      "text/html": [
       "<i>Table length=7</i>\n",
       "<table id=\"table4789269784\" class=\"table-striped table-bordered table-condensed\">\n",
       "<thead><tr><th>mass</th><th>sigma_v</th><th>std</th></tr></thead>\n",
       "<thead><tr><th>GeV</th><th>cm3 / s</th><th>cm3 / s</th></tr></thead>\n",
       "<thead><tr><th>float64</th><th>float64</th><th>float64</th></tr></thead>\n",
       "<tr><td>100.0</td><td>1.310105222692225e-24</td><td>4.70760615186888e-25</td></tr>\n",
       "<tr><td>200.0</td><td>9.40289425049099e-25</td><td>3.5515781854968437e-25</td></tr>\n",
       "<tr><td>500.0</td><td>6.802261416035793e-25</td><td>2.7575683350167147e-25</td></tr>\n",
       "<tr><td>1000.0</td><td>5.157888410691992e-25</td><td>1.9440768096793695e-25</td></tr>\n",
       "<tr><td>5000.0</td><td>4.899430926008357e-25</td><td>1.9130558125487674e-25</td></tr>\n",
       "<tr><td>10000.0</td><td>6.03116796253317e-25</td><td>2.4233385023048485e-25</td></tr>\n",
       "<tr><td>50000.0</td><td>1.2899890510662161e-24</td><td>5.6769069541778905e-25</td></tr>\n",
       "</table>"
      ],
      "text/plain": [
       "<Table length=7>\n",
       "  mass         sigma_v                  std          \n",
       "  GeV          cm3 / s                cm3 / s        \n",
       "float64        float64                float64        \n",
       "------- ---------------------- ----------------------\n",
       "  100.0  1.310105222692225e-24   4.70760615186888e-25\n",
       "  200.0   9.40289425049099e-25 3.5515781854968437e-25\n",
       "  500.0  6.802261416035793e-25 2.7575683350167147e-25\n",
       " 1000.0  5.157888410691992e-25 1.9440768096793695e-25\n",
       " 5000.0  4.899430926008357e-25 1.9130558125487674e-25\n",
       "10000.0   6.03116796253317e-25 2.4233385023048485e-25\n",
       "50000.0 1.2899890510662161e-24 5.6769069541778905e-25"
      ]
     },
     "execution_count": 19,
     "metadata": {},
     "output_type": "execute_result"
    }
   ],
   "source": [
    "result[\"mean\"][\"b\"]"
   ]
  },
  {
   "cell_type": "code",
   "execution_count": 20,
   "metadata": {},
   "outputs": [
    {
     "data": {
      "image/png": "[encoded data removed]",
      "text/plain": [
       "<Figure size 648x504 with 1 Axes>"
      ]
     },
     "metadata": {
      "needs_background": "light"
     },
     "output_type": "display_data"
    }
   ],
   "source": [
    "plt.figure(figsize=(9,7))\n",
    "plt.ylim(1e-26, 1e-22)\n",
    "plt.ylabel(r\"<$\\sigma_{ann}v$> (cm$^3$s$^{-1}$)\", fontsize=12)\n",
    "plt.xlabel(\"M$_{DM}$ (GeV)\", fontsize=12)\n",
    "plt.title('m$_{DM}$ 5000 GeV')\n",
    "\n",
    "for ch in channels:\n",
    "    plt.loglog(\n",
    "        result[\"mean\"][ch][\"mass\"].data,\n",
    "        result[\"mean\"][ch][\"sigma_v\"].data,\n",
    "        ls=\"--\",\n",
    "        label='channel {}'.format(ch)\n",
    "       )\n",
    "plt.legend();"
   ]
  },
  {
   "cell_type": "code",
   "execution_count": null,
   "metadata": {},
   "outputs": [],
   "source": []
  }
 ],
 "metadata": {
  "kernelspec": {
   "display_name": "gammapy-dev",
   "language": "python",
   "name": "gammapy-dev"
  },
  "language_info": {
   "codemirror_mode": {
    "name": "ipython",
    "version": 3
   },
   "file_extension": ".py",
   "mimetype": "text/x-python",
   "name": "python",
   "nbconvert_exporter": "python",
   "pygments_lexer": "ipython3",
   "version": "3.7.0"
  },
  "toc": {
   "base_numbering": 1,
   "nav_menu": {},
   "number_sections": false,
   "sideBar": true,
   "skip_h1_title": false,
   "title_cell": "Table of Contents",
   "title_sidebar": "Contents",
   "toc_cell": false,
   "toc_position": {},
   "toc_section_display": true,
   "toc_window_display": false
  },
  "varInspector": {
   "cols": {
    "lenName": 16,
    "lenType": 16,
    "lenVar": 40
   },
   "kernels_config": {
    "python": {
     "delete_cmd_postfix": "",
     "delete_cmd_prefix": "del ",
     "library": "var_list.py",
     "varRefreshCmd": "print(var_dic_list())"
    },
    "r": {
     "delete_cmd_postfix": ") ",
     "delete_cmd_prefix": "rm(",
     "library": "var_list.r",
     "varRefreshCmd": "cat(var_dic_list()) "
    }
   },
   "types_to_exclude": [
    "module",
    "function",
    "builtin_function_or_method",
    "instance",
    "_Feature"
   ],
   "window_display": false
  }
 },
 "nbformat": 4,
 "nbformat_minor": 2
}
