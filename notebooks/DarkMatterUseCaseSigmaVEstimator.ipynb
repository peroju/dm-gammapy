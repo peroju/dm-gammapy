{
 "cells": [
  {
   "cell_type": "markdown",
   "metadata": {},
   "source": [
    "# Calculate sigmav vs. mDM for simulated DM datasets"
   ]
  },
  {
   "cell_type": "code",
   "execution_count": 1,
   "metadata": {},
   "outputs": [],
   "source": [
    "%matplotlib inline\n",
    "import matplotlib.pyplot as plt\n",
    "\n",
    "import numpy as np\n",
    "import astropy.units as u\n",
    "\n",
    "from gammapy.maps import MapAxis, RegionNDMap\n",
    "from gammapy.modeling.models import PointSpatialModel\n",
    "from gammapy.modeling.models import SkyModel, Models\n",
    "from gammapy.astro.darkmatter.utils import SigmaVEstimator, DMDatasetOnOff\n",
    "from gammapy.astro.darkmatter import DarkMatterAnnihilationSpectralModel\n",
    "from gammapy.irf import load_cta_irfs"
   ]
  },
  {
   "cell_type": "markdown",
   "metadata": {},
   "source": [
    "## Define parameters for simulated observation"
   ]
  },
  {
   "cell_type": "code",
   "execution_count": 2,
   "metadata": {},
   "outputs": [],
   "source": [
    "# -\n",
    "livetime = 100 * u.h # in hours\n",
    "offset = 0.5 * u.deg\n",
    "FOVLON=0 * u.deg\n",
    "FOVLAT=0 * u.deg\n",
    "\n",
    "# Energy from 0.01 to 100 TeV with 20 bins/decade\n",
    "energy = np.logspace(-1.8, 1.5, 20) * u.TeV\n",
    "\n",
    "# Energy true wider range and higher number of bins\n",
    "energy_true = np.logspace(-2, 2, 100) * u.TeV\n",
    "\n",
    "# DMAnnihilation Model\n",
    "JFAC = 3.41e19 * u.Unit(\"GeV2 cm-5\") # point source\n",
    "mDM = 5000*u.Unit(\"GeV\")\n",
    "channel = \"b\"\n",
    "redshift = 0"
   ]
  },
  {
   "cell_type": "markdown",
   "metadata": {},
   "source": [
    "## Build IRFs with the defined parameters"
   ]
  },
  {
   "cell_type": "code",
   "execution_count": 3,
   "metadata": {},
   "outputs": [],
   "source": [
    "# Load IRFs\n",
    "filename = (\n",
    "    \"$GAMMAPY_DATA/cta-1dc/caldb/data/cta/1dc/bcf/South_z20_50h/irf_file.fits\"\n",
    ")\n",
    "cta_irf = load_cta_irfs(filename)"
   ]
  },
  {
   "cell_type": "code",
   "execution_count": 4,
   "metadata": {},
   "outputs": [
    {
     "name": "stdout",
     "output_type": "stream",
     "text": [
      "NDDataArray summary info\n",
      "MapAxis\n",
      "\n",
      "\tname       : energy_true\n",
      "\tunit       : 'TeV'     \n",
      "\tnbins      : 42        \n",
      "\tnode type  : edges     \n",
      "\tedges min  : 1.3e-02 TeV\n",
      "\tedges max  : 2.0e+02 TeV\n",
      "\tinterp     : log       \n",
      "MapAxis\n",
      "\n",
      "\tname       : offset    \n",
      "\tunit       : 'deg'     \n",
      "\tnbins      : 6         \n",
      "\tnode type  : edges     \n",
      "\tedges min  : 0.0e+00 deg\n",
      "\tedges max  : 6.0e+00 deg\n",
      "\tinterp     : lin       \n",
      "Data           : size =   252, min =  0.000 m2, max = 5371581.000 m2\n",
      "\n"
     ]
    },
    {
     "data": {
      "image/png": "[encoded data removed]",
      "text/plain": [
       "<Figure size 432x288 with 1 Axes>"
      ]
     },
     "metadata": {
      "needs_background": "light"
     },
     "output_type": "display_data"
    }
   ],
   "source": [
    "aeff = cta_irf[\"aeff\"].to_effective_area_table(offset=offset, energy=energy)\n",
    "aeff.plot()\n",
    "plt.loglog()\n",
    "print(cta_irf[\"aeff\"].data)"
   ]
  },
  {
   "cell_type": "code",
   "execution_count": 5,
   "metadata": {
    "code_folding": []
   },
   "outputs": [],
   "source": [
    "#edisp = cta_irf[\"edisp\"].to_energy_dispersion(\n",
    "#    offset=offset, e_true=energy_true, e_reco=energy\n",
    "#)\n",
    "#edisp.plot_matrix()\n",
    "#print(edisp.data)"
   ]
  },
  {
   "cell_type": "markdown",
   "metadata": {},
   "source": [
    "## Build the background counts from PSF and IRF background"
   ]
  },
  {
   "cell_type": "code",
   "execution_count": 6,
   "metadata": {},
   "outputs": [],
   "source": [
    "containment = 0.68\n",
    "energies = np.sqrt(energy[1:] * energy[:-1])\n",
    "psf = cta_irf[\"psf\"].to_energy_dependent_table_psf(theta=offset)\n",
    "on_radii = psf.containment_radius(energy=energies, fraction=containment)\n",
    "solid_angles = 2 * np.pi * (1 - np.cos(on_radii)) * u.sr\n",
    "\n",
    "#\n",
    "aeff.data.data *= containment"
   ]
  },
  {
   "cell_type": "code",
   "execution_count": 7,
   "metadata": {},
   "outputs": [],
   "source": [
    "bkg_data = cta_irf[\"bkg\"].evaluate_integrate(\n",
    "    fov_lon=FOVLON, fov_lat=FOVLAT, energy_reco=energy\n",
    ")\n",
    "axis = MapAxis.from_nodes(energies * u.TeV, interp=\"log\", name=\"energy\")\n",
    "bkg = RegionNDMap.create(f\"icrs;circle({FOVLON.value}, {FOVLAT.value}, {offset.value})\", axes=[axis])\n",
    "bkg.quantity = (bkg_data * solid_angles).to_value(\"h-1\")*livetime.value\n",
    "\n",
    "#bkg = CountsSpectrum(\n",
    "#    energy[:-1],\n",
    "#    energy[1:],\n",
    "#    data=(bkg_data * solid_angles).to_value(\"h-1\")*livetime\n",
    "#)"
   ]
  },
  {
   "cell_type": "code",
   "execution_count": 8,
   "metadata": {},
   "outputs": [
    {
     "data": {
      "text/plain": [
       "<matplotlib.axes._subplots.AxesSubplot at 0x1206f4a90>"
      ]
     },
     "execution_count": 8,
     "metadata": {},
     "output_type": "execute_result"
    },
    {
     "data": {
      "image/png": "[encoded data removed]",
      "text/plain": [
       "<Figure size 432x288 with 1 Axes>"
      ]
     },
     "metadata": {
      "needs_background": "light"
     },
     "output_type": "display_data"
    }
   ],
   "source": [
    "bkg.plot()"
   ]
  },
  {
   "cell_type": "markdown",
   "metadata": {},
   "source": [
    "## Simulate OnOff observation with DM emission model"
   ]
  },
  {
   "cell_type": "code",
   "execution_count": 9,
   "metadata": {},
   "outputs": [],
   "source": [
    "# DM Spatial Component\n",
    "spatial_model = PointSpatialModel(\n",
    "    lon_0=\"0 deg\", lat_0=\"0 deg\", frame=\"icrs\"\n",
    ")"
   ]
  },
  {
   "cell_type": "code",
   "execution_count": 10,
   "metadata": {},
   "outputs": [],
   "source": [
    "# DM Flux\n",
    "spectral_model = DarkMatterAnnihilationSpectralModel(\n",
    "    mass=mDM, \n",
    "    channel=channel, \n",
    "    jfactor=JFAC, \n",
    "    z=redshift\n",
    ")"
   ]
  },
  {
   "cell_type": "code",
   "execution_count": 11,
   "metadata": {},
   "outputs": [],
   "source": [
    "from gammapy.modeling.models import Absorption, AbsorbedSpectralModel\n",
    "#absorption_model = Absorption.read_builtin('dominguez')\n",
    "#spectral_model = AbsorbedSpectralModel(spectral_model, absorption_model, redshift)"
   ]
  },
  {
   "cell_type": "code",
   "execution_count": 12,
   "metadata": {},
   "outputs": [],
   "source": [
    "sky_model = SkyModel(spatial_model=spatial_model, spectral_model=spectral_model)\n",
    "models = Models([sky_model])"
   ]
  },
  {
   "cell_type": "code",
   "execution_count": 13,
   "metadata": {},
   "outputs": [],
   "source": [
    "dataset = DMDatasetOnOff(\n",
    "    counts=bkg,\n",
    "    aeff=aeff,\n",
    "    models=models,\n",
    "    livetime=livetime,\n",
    "    acceptance=1,\n",
    "    acceptance_off=5\n",
    ")"
   ]
  },
  {
   "cell_type": "code",
   "execution_count": 14,
   "metadata": {},
   "outputs": [],
   "source": [
    "nuisance = dict(\n",
    "    j=JFAC,\n",
    "    jobs=JFAC,\n",
    "    sigmaj=0.1*JFAC,\n",
    "    sigmatau=0.01,\n",
    "    # width=5 # default value / optional param \n",
    ")\n",
    "dataset.nuisance = nuisance"
   ]
  },
  {
   "cell_type": "markdown",
   "metadata": {},
   "source": [
    "## The SigmaVEstimator"
   ]
  },
  {
   "cell_type": "markdown",
   "metadata": {},
   "source": [
    "**Enable inspection**"
   ]
  },
  {
   "cell_type": "code",
   "execution_count": 15,
   "metadata": {},
   "outputs": [],
   "source": [
    "import logging\n",
    "logging.basicConfig()\n",
    "#logging.getLogger(\"gammapy.astro.darkmatter.utils\").setLevel(\"WARNING\")\n",
    "logging.getLogger(\"gammapy.astro.darkmatter.utils\").setLevel(\"DEBUG\")"
   ]
  },
  {
   "cell_type": "markdown",
   "metadata": {},
   "source": [
    "**Instatiate estimator**"
   ]
  },
  {
   "cell_type": "code",
   "execution_count": 16,
   "metadata": {},
   "outputs": [],
   "source": [
    "masses = [100, 200, 500, 1000, 5000, 10000, 50000]*u.GeV\n",
    "channels = [\"b\", \"tau\", \"Z\"] \n",
    "estimator = SigmaVEstimator(dataset, masses, channels)"
   ]
  },
  {
   "cell_type": "markdown",
   "metadata": {},
   "source": [
    "**Run estimator and fetch results**"
   ]
  },
  {
   "cell_type": "code",
   "execution_count": 17,
   "metadata": {
    "scrolled": false
   },
   "outputs": [
    {
     "name": "stderr",
     "output_type": "stream",
     "text": [
      "/opt/miniconda3/envs/gammapy-dev/lib/python3.7/site-packages/astropy/units/quantity.py:481: RuntimeWarning: divide by zero encountered in true_divide\n",
      "  result = super().__array_ufunc__(function, method, *arrays, **kwargs)\n",
      "/opt/miniconda3/envs/gammapy-dev/lib/python3.7/site-packages/astropy/units/quantity.py:481: RuntimeWarning: invalid value encountered in true_divide\n",
      "  result = super().__array_ufunc__(function, method, *arrays, **kwargs)\n",
      "INFO:gammapy.astro.darkmatter.utils:----\n",
      "INFO:gammapy.astro.darkmatter.utils:Run: 0\n",
      "INFO:gammapy.astro.darkmatter.utils:Channel: b\n",
      "INFO:gammapy.astro.darkmatter.utils:Mass: 100.0 GeV\n",
      "/opt/miniconda3/envs/gammapy-dev/lib/python3.7/site-packages/astropy/units/quantity.py:481: RuntimeWarning: divide by zero encountered in true_divide\n",
      "  result = super().__array_ufunc__(function, method, *arrays, **kwargs)\n",
      "/opt/miniconda3/envs/gammapy-dev/lib/python3.7/site-packages/astropy/units/quantity.py:481: RuntimeWarning: invalid value encountered in true_divide\n",
      "  result = super().__array_ufunc__(function, method, *arrays, **kwargs)\n",
      "DEBUG:gammapy.astro.darkmatter.utils:ZeroDeltaL: 0.6504 \t| LZero: 109.350 \t| LMin:  108.699\n",
      "DEBUG:gammapy.astro.darkmatter.utils:MaximumDeltaL: 34.1356 \t| LMax: 143.485 \t| LMin:  109.350\n",
      "DEBUG:gammapy.astro.darkmatter.utils:SvBestFound: -23.637 \t| SvBest: 0.000 \t| SvUL: 30.161\n",
      "DEBUG:gammapy.astro.darkmatter.utils:JBest: 3.4348372351443866e+19 GeV2 / cm5\n",
      "INFO:gammapy.astro.darkmatter.utils:Sigma v:9.048321205414232e-25 cm3 / s\n",
      "INFO:gammapy.astro.darkmatter.utils:----\n",
      "INFO:gammapy.astro.darkmatter.utils:Run: 0\n",
      "INFO:gammapy.astro.darkmatter.utils:Channel: b\n",
      "INFO:gammapy.astro.darkmatter.utils:Mass: 200.0 GeV\n",
      "DEBUG:gammapy.astro.darkmatter.utils:ZeroDeltaL: 0.2423 \t| LZero: 109.350 \t| LMin:  109.108\n",
      "DEBUG:gammapy.astro.darkmatter.utils:MaximumDeltaL: 79.2923 \t| LMax: 188.642 \t| LMin:  109.350\n",
      "DEBUG:gammapy.astro.darkmatter.utils:SvBestFound: -8.717 \t| SvBest: 0.000 \t| SvUL: 21.743\n",
      "DEBUG:gammapy.astro.darkmatter.utils:JBest: 3.405390125157555e+19 GeV2 / cm5\n",
      "INFO:gammapy.astro.darkmatter.utils:Sigma v:6.522841504964427e-25 cm3 / s\n",
      "INFO:gammapy.astro.darkmatter.utils:----\n",
      "INFO:gammapy.astro.darkmatter.utils:Run: 0\n",
      "INFO:gammapy.astro.darkmatter.utils:Channel: b\n",
      "INFO:gammapy.astro.darkmatter.utils:Mass: 500.0 GeV\n",
      "DEBUG:gammapy.astro.darkmatter.utils:ZeroDeltaL: 0.0242 \t| LZero: 109.350 \t| LMin:  109.326\n",
      "DEBUG:gammapy.astro.darkmatter.utils:MaximumDeltaL: 351.0318 \t| LMax: 460.382 \t| LMin:  109.350\n",
      "DEBUG:gammapy.astro.darkmatter.utils:SvBestFound: -1.235 \t| SvBest: 0.000 \t| SvUL: 11.898\n",
      "DEBUG:gammapy.astro.darkmatter.utils:JBest: 5.0844605589101625e+19 GeV2 / cm5\n",
      "INFO:gammapy.astro.darkmatter.utils:Sigma v:3.5692665150709197e-25 cm3 / s\n",
      "INFO:gammapy.astro.darkmatter.utils:----\n",
      "INFO:gammapy.astro.darkmatter.utils:Run: 0\n",
      "INFO:gammapy.astro.darkmatter.utils:Channel: b\n",
      "INFO:gammapy.astro.darkmatter.utils:Mass: 1000.0 GeV\n",
      "DEBUG:gammapy.astro.darkmatter.utils:ZeroDeltaL: 0.0290 \t| LZero: 109.350 \t| LMin:  109.321\n",
      "DEBUG:gammapy.astro.darkmatter.utils:MaximumDeltaL: 357.5714 \t| LMax: 466.892 \t| LMin:  109.321\n",
      "DEBUG:gammapy.astro.darkmatter.utils:SvBestFound: 1.286 \t| SvBest: 1.286 \t| SvUL: 13.864\n",
      "DEBUG:gammapy.astro.darkmatter.utils:JBest: 4.325260715682469e+19 GeV2 / cm5\n",
      "INFO:gammapy.astro.darkmatter.utils:Sigma v:4.159270617074509e-25 cm3 / s\n",
      "INFO:gammapy.astro.darkmatter.utils:----\n",
      "INFO:gammapy.astro.darkmatter.utils:Run: 0\n",
      "INFO:gammapy.astro.darkmatter.utils:Channel: b\n",
      "INFO:gammapy.astro.darkmatter.utils:Mass: 5000.0 GeV\n",
      "DEBUG:gammapy.astro.darkmatter.utils:ZeroDeltaL: 1.2699 \t| LZero: 109.350 \t| LMin:  108.080\n",
      "DEBUG:gammapy.astro.darkmatter.utils:MaximumDeltaL: 112.6902 \t| LMax: 220.770 \t| LMin:  108.080\n",
      "DEBUG:gammapy.astro.darkmatter.utils:SvBestFound: 13.463 \t| SvBest: 13.463 \t| SvUL: 33.476\n",
      "DEBUG:gammapy.astro.darkmatter.utils:JBest: 2.7999505432918053e+19 GeV2 / cm5\n",
      "INFO:gammapy.astro.darkmatter.utils:Sigma v:1.0042921045851876e-24 cm3 / s\n",
      "INFO:gammapy.astro.darkmatter.utils:----\n",
      "INFO:gammapy.astro.darkmatter.utils:Run: 0\n",
      "INFO:gammapy.astro.darkmatter.utils:Channel: b\n",
      "INFO:gammapy.astro.darkmatter.utils:Mass: 10000.0 GeV\n",
      "DEBUG:gammapy.astro.darkmatter.utils:ZeroDeltaL: 0.7493 \t| LZero: 109.350 \t| LMin:  108.601\n",
      "DEBUG:gammapy.astro.darkmatter.utils:MaximumDeltaL: 46.5535 \t| LMax: 155.154 \t| LMin:  108.601\n",
      "DEBUG:gammapy.astro.darkmatter.utils:SvBestFound: 15.717 \t| SvBest: 15.717 \t| SvUL: 46.404\n",
      "DEBUG:gammapy.astro.darkmatter.utils:JBest: 2.2203433246659273e+19 GeV2 / cm5\n",
      "INFO:gammapy.astro.darkmatter.utils:Sigma v:1.392123581835139e-24 cm3 / s\n",
      "INFO:gammapy.astro.darkmatter.utils:----\n",
      "INFO:gammapy.astro.darkmatter.utils:Run: 0\n",
      "INFO:gammapy.astro.darkmatter.utils:Channel: b\n",
      "INFO:gammapy.astro.darkmatter.utils:Mass: 50000.0 GeV\n",
      "DEBUG:gammapy.astro.darkmatter.utils:ZeroDeltaL: 0.0709 \t| LZero: 109.350 \t| LMin:  109.279\n",
      "DEBUG:gammapy.astro.darkmatter.utils:MaximumDeltaL: 43.3346 \t| LMax: 152.614 \t| LMin:  109.279\n",
      "DEBUG:gammapy.astro.darkmatter.utils:SvBestFound: 4.902 \t| SvBest: 4.902 \t| SvUL: 36.868\n",
      "DEBUG:gammapy.astro.darkmatter.utils:JBest: 4.5643324554248765e+19 GeV2 / cm5\n",
      "INFO:gammapy.astro.darkmatter.utils:Sigma v:1.1060395516120198e-24 cm3 / s\n",
      "INFO:gammapy.astro.darkmatter.utils:----\n",
      "INFO:gammapy.astro.darkmatter.utils:Run: 0\n",
      "INFO:gammapy.astro.darkmatter.utils:Channel: tau\n",
      "INFO:gammapy.astro.darkmatter.utils:Mass: 100.0 GeV\n",
      "DEBUG:gammapy.astro.darkmatter.utils:ZeroDeltaL: 0.0076 \t| LZero: 109.350 \t| LMin:  109.342\n",
      "DEBUG:gammapy.astro.darkmatter.utils:MaximumDeltaL: 932.2185 \t| LMax: 1041.568 \t| LMin:  109.350\n",
      "DEBUG:gammapy.astro.darkmatter.utils:SvBestFound: -0.421 \t| SvBest: 0.000 \t| SvUL: 7.540\n",
      "DEBUG:gammapy.astro.darkmatter.utils:JBest: 2.7411081917038506e+19 GeV2 / cm5\n",
      "INFO:gammapy.astro.darkmatter.utils:Sigma v:2.261959479873915e-25 cm3 / s\n",
      "INFO:gammapy.astro.darkmatter.utils:----\n",
      "INFO:gammapy.astro.darkmatter.utils:Run: 0\n",
      "INFO:gammapy.astro.darkmatter.utils:Channel: tau\n",
      "INFO:gammapy.astro.darkmatter.utils:Mass: 200.0 GeV\n",
      "DEBUG:gammapy.astro.darkmatter.utils:ZeroDeltaL: 0.0318 \t| LZero: 109.350 \t| LMin:  109.318\n",
      "DEBUG:gammapy.astro.darkmatter.utils:MaximumDeltaL: 2508.3022 \t| LMax: 2617.652 \t| LMin:  109.350\n",
      "DEBUG:gammapy.astro.darkmatter.utils:SvBestFound: -0.499 \t| SvBest: 0.000 \t| SvUL: 4.135\n",
      "DEBUG:gammapy.astro.darkmatter.utils:JBest: 3.0887035203306177e+19 GeV2 / cm5\n",
      "INFO:gammapy.astro.darkmatter.utils:Sigma v:1.2405299399692066e-25 cm3 / s\n",
      "INFO:gammapy.astro.darkmatter.utils:----\n",
      "INFO:gammapy.astro.darkmatter.utils:Run: 0\n",
      "INFO:gammapy.astro.darkmatter.utils:Channel: tau\n",
      "INFO:gammapy.astro.darkmatter.utils:Mass: 500.0 GeV\n",
      "DEBUG:gammapy.astro.darkmatter.utils:ZeroDeltaL: 0.1799 \t| LZero: 109.350 \t| LMin:  109.170\n",
      "DEBUG:gammapy.astro.darkmatter.utils:MaximumDeltaL: 3148.4777 \t| LMax: 3257.648 \t| LMin:  109.170\n",
      "DEBUG:gammapy.astro.darkmatter.utils:SvBestFound: 0.921 \t| SvBest: 0.921 \t| SvUL: 4.551\n",
      "DEBUG:gammapy.astro.darkmatter.utils:JBest: 3.142265923662454e+19 GeV2 / cm5\n",
      "INFO:gammapy.astro.darkmatter.utils:Sigma v:1.3653475396449194e-25 cm3 / s\n",
      "INFO:gammapy.astro.darkmatter.utils:----\n",
      "INFO:gammapy.astro.darkmatter.utils:Run: 0\n",
      "INFO:gammapy.astro.darkmatter.utils:Channel: tau\n",
      "INFO:gammapy.astro.darkmatter.utils:Mass: 1000.0 GeV\n",
      "DEBUG:gammapy.astro.darkmatter.utils:ZeroDeltaL: 1.8120 \t| LZero: 109.350 \t| LMin:  107.538\n",
      "DEBUG:gammapy.astro.darkmatter.utils:MaximumDeltaL: 3382.9047 \t| LMax: 3490.443 \t| LMin:  107.538\n",
      "DEBUG:gammapy.astro.darkmatter.utils:SvBestFound: 2.356 \t| SvBest: 2.356 \t| SvUL: 5.298\n",
      "DEBUG:gammapy.astro.darkmatter.utils:JBest: 3.898176559481574e+19 GeV2 / cm5\n",
      "INFO:gammapy.astro.darkmatter.utils:Sigma v:1.589458464655062e-25 cm3 / s\n",
      "INFO:gammapy.astro.darkmatter.utils:----\n",
      "INFO:gammapy.astro.darkmatter.utils:Run: 0\n",
      "INFO:gammapy.astro.darkmatter.utils:Channel: tau\n",
      "INFO:gammapy.astro.darkmatter.utils:Mass: 5000.0 GeV\n",
      "DEBUG:gammapy.astro.darkmatter.utils:ZeroDeltaL: 0.0397 \t| LZero: 109.350 \t| LMin:  109.310\n",
      "DEBUG:gammapy.astro.darkmatter.utils:MaximumDeltaL: 790.2670 \t| LMax: 899.617 \t| LMin:  109.350\n",
      "DEBUG:gammapy.astro.darkmatter.utils:SvBestFound: -0.589 \t| SvBest: 0.000 \t| SvUL: 4.518\n",
      "DEBUG:gammapy.astro.darkmatter.utils:JBest: 3.6044716267307893e+19 GeV2 / cm5\n",
      "INFO:gammapy.astro.darkmatter.utils:Sigma v:1.3553155263666608e-25 cm3 / s\n"
     ]
    },
    {
     "name": "stderr",
     "output_type": "stream",
     "text": [
      "INFO:gammapy.astro.darkmatter.utils:----\n",
      "INFO:gammapy.astro.darkmatter.utils:Run: 0\n",
      "INFO:gammapy.astro.darkmatter.utils:Channel: tau\n",
      "INFO:gammapy.astro.darkmatter.utils:Mass: 10000.0 GeV\n",
      "DEBUG:gammapy.astro.darkmatter.utils:ZeroDeltaL: 0.0144 \t| LZero: 109.350 \t| LMin:  109.335\n",
      "DEBUG:gammapy.astro.darkmatter.utils:MaximumDeltaL: 341.4282 \t| LMax: 450.778 \t| LMin:  109.350\n",
      "DEBUG:gammapy.astro.darkmatter.utils:SvBestFound: -0.544 \t| SvBest: 0.000 \t| SvUL: 7.384\n",
      "DEBUG:gammapy.astro.darkmatter.utils:JBest: 3.39531398075622e+19 GeV2 / cm5\n",
      "INFO:gammapy.astro.darkmatter.utils:Sigma v:2.215183928618568e-25 cm3 / s\n",
      "INFO:gammapy.astro.darkmatter.utils:----\n",
      "INFO:gammapy.astro.darkmatter.utils:Run: 0\n",
      "INFO:gammapy.astro.darkmatter.utils:Channel: tau\n",
      "INFO:gammapy.astro.darkmatter.utils:Mass: 50000.0 GeV\n",
      "DEBUG:gammapy.astro.darkmatter.utils:ZeroDeltaL: 4.6776 \t| LZero: 109.350 \t| LMin:  104.672\n",
      "DEBUG:gammapy.astro.darkmatter.utils:MaximumDeltaL: 7.1789 \t| LMax: 111.851 \t| LMin:  104.672\n",
      "DEBUG:gammapy.astro.darkmatter.utils:SvBestFound: 56.636 \t| SvBest: 56.636 \t| SvUL: 110.564\n",
      "DEBUG:gammapy.astro.darkmatter.utils:JBest: 3.1168998693000684e+19 GeV2 / cm5\n",
      "INFO:gammapy.astro.darkmatter.utils:Sigma v:3.316917310887186e-24 cm3 / s\n",
      "INFO:gammapy.astro.darkmatter.utils:----\n",
      "INFO:gammapy.astro.darkmatter.utils:Run: 0\n",
      "INFO:gammapy.astro.darkmatter.utils:Channel: Z\n",
      "INFO:gammapy.astro.darkmatter.utils:Mass: 100.0 GeV\n",
      "DEBUG:gammapy.astro.darkmatter.utils:ZeroDeltaL: 0.6297 \t| LZero: 109.350 \t| LMin:  108.720\n",
      "DEBUG:gammapy.astro.darkmatter.utils:MaximumDeltaL: 16.8048 \t| LMax: 126.155 \t| LMin:  109.350\n",
      "DEBUG:gammapy.astro.darkmatter.utils:SvBestFound: -35.091 \t| SvBest: 0.000 \t| SvUL: 45.785\n",
      "DEBUG:gammapy.astro.darkmatter.utils:JBest: 3.0960567098549277e+19 GeV2 / cm5\n",
      "INFO:gammapy.astro.darkmatter.utils:Sigma v:1.3735495909310592e-24 cm3 / s\n",
      "INFO:gammapy.astro.darkmatter.utils:----\n",
      "INFO:gammapy.astro.darkmatter.utils:Run: 0\n",
      "INFO:gammapy.astro.darkmatter.utils:Channel: Z\n",
      "INFO:gammapy.astro.darkmatter.utils:Mass: 200.0 GeV\n",
      "DEBUG:gammapy.astro.darkmatter.utils:ZeroDeltaL: 0.1194 \t| LZero: 109.350 \t| LMin:  109.230\n",
      "DEBUG:gammapy.astro.darkmatter.utils:MaximumDeltaL: 21.7390 \t| LMax: 131.089 \t| LMin:  109.350\n",
      "DEBUG:gammapy.astro.darkmatter.utils:SvBestFound: -12.176 \t| SvBest: 0.000 \t| SvUL: 46.219\n",
      "DEBUG:gammapy.astro.darkmatter.utils:JBest: 1.706729612239726e+19 GeV2 / cm5\n",
      "INFO:gammapy.astro.darkmatter.utils:Sigma v:1.3865751858953367e-24 cm3 / s\n",
      "INFO:gammapy.astro.darkmatter.utils:----\n",
      "INFO:gammapy.astro.darkmatter.utils:Run: 0\n",
      "INFO:gammapy.astro.darkmatter.utils:Channel: Z\n",
      "INFO:gammapy.astro.darkmatter.utils:Mass: 500.0 GeV\n",
      "DEBUG:gammapy.astro.darkmatter.utils:ZeroDeltaL: 0.0125 \t| LZero: 109.350 \t| LMin:  109.337\n",
      "DEBUG:gammapy.astro.darkmatter.utils:MaximumDeltaL: 324.5100 \t| LMax: 433.860 \t| LMin:  109.350\n",
      "DEBUG:gammapy.astro.darkmatter.utils:SvBestFound: -0.914 \t| SvBest: 0.000 \t| SvUL: 12.605\n",
      "DEBUG:gammapy.astro.darkmatter.utils:JBest: 4.3818940044859875e+19 GeV2 / cm5\n",
      "INFO:gammapy.astro.darkmatter.utils:Sigma v:3.7813674485193267e-25 cm3 / s\n",
      "INFO:gammapy.astro.darkmatter.utils:----\n",
      "INFO:gammapy.astro.darkmatter.utils:Run: 0\n",
      "INFO:gammapy.astro.darkmatter.utils:Channel: Z\n",
      "INFO:gammapy.astro.darkmatter.utils:Mass: 1000.0 GeV\n",
      "DEBUG:gammapy.astro.darkmatter.utils:ZeroDeltaL: 0.2019 \t| LZero: 109.350 \t| LMin:  109.148\n",
      "DEBUG:gammapy.astro.darkmatter.utils:MaximumDeltaL: 246.5836 \t| LMax: 355.731 \t| LMin:  109.148\n",
      "DEBUG:gammapy.astro.darkmatter.utils:SvBestFound: 4.018 \t| SvBest: 4.018 \t| SvUL: 18.807\n",
      "DEBUG:gammapy.astro.darkmatter.utils:JBest: 3.342963784761205e+19 GeV2 / cm5\n",
      "INFO:gammapy.astro.darkmatter.utils:Sigma v:5.642227533748818e-25 cm3 / s\n",
      "INFO:gammapy.astro.darkmatter.utils:----\n",
      "INFO:gammapy.astro.darkmatter.utils:Run: 0\n",
      "INFO:gammapy.astro.darkmatter.utils:Channel: Z\n",
      "INFO:gammapy.astro.darkmatter.utils:Mass: 5000.0 GeV\n",
      "DEBUG:gammapy.astro.darkmatter.utils:ZeroDeltaL: 0.9612 \t| LZero: 109.350 \t| LMin:  108.389\n",
      "DEBUG:gammapy.astro.darkmatter.utils:MaximumDeltaL: 137.7112 \t| LMax: 246.100 \t| LMin:  108.389\n",
      "DEBUG:gammapy.astro.darkmatter.utils:SvBestFound: 10.453 \t| SvBest: 10.453 \t| SvUL: 28.438\n",
      "DEBUG:gammapy.astro.darkmatter.utils:JBest: 3.094742708136904e+19 GeV2 / cm5\n",
      "INFO:gammapy.astro.darkmatter.utils:Sigma v:8.53148410994367e-25 cm3 / s\n",
      "INFO:gammapy.astro.darkmatter.utils:----\n",
      "INFO:gammapy.astro.darkmatter.utils:Run: 0\n",
      "INFO:gammapy.astro.darkmatter.utils:Channel: Z\n",
      "INFO:gammapy.astro.darkmatter.utils:Mass: 10000.0 GeV\n",
      "DEBUG:gammapy.astro.darkmatter.utils:ZeroDeltaL: 0.2727 \t| LZero: 109.350 \t| LMin:  109.077\n",
      "DEBUG:gammapy.astro.darkmatter.utils:MaximumDeltaL: 206.3633 \t| LMax: 315.440 \t| LMin:  109.077\n",
      "DEBUG:gammapy.astro.darkmatter.utils:SvBestFound: 4.367 \t| SvBest: 4.367 \t| SvUL: 18.523\n",
      "DEBUG:gammapy.astro.darkmatter.utils:JBest: 4.8734000118051865e+19 GeV2 / cm5\n",
      "INFO:gammapy.astro.darkmatter.utils:Sigma v:5.556898470482535e-25 cm3 / s\n",
      "INFO:gammapy.astro.darkmatter.utils:----\n",
      "INFO:gammapy.astro.darkmatter.utils:Run: 0\n",
      "INFO:gammapy.astro.darkmatter.utils:Channel: Z\n",
      "INFO:gammapy.astro.darkmatter.utils:Mass: 50000.0 GeV\n",
      "DEBUG:gammapy.astro.darkmatter.utils:ZeroDeltaL: 0.2655 \t| LZero: 109.350 \t| LMin:  109.084\n",
      "DEBUG:gammapy.astro.darkmatter.utils:MaximumDeltaL: 39.4375 \t| LMax: 148.522 \t| LMin:  109.084\n",
      "DEBUG:gammapy.astro.darkmatter.utils:SvBestFound: 9.530 \t| SvBest: 9.530 \t| SvUL: 41.866\n",
      "DEBUG:gammapy.astro.darkmatter.utils:JBest: 5.110833134124441e+19 GeV2 / cm5\n",
      "INFO:gammapy.astro.darkmatter.utils:Sigma v:1.2559818977442054e-24 cm3 / s\n",
      "INFO:gammapy.astro.darkmatter.utils:----\n",
      "INFO:gammapy.astro.darkmatter.utils:Run: 1\n",
      "INFO:gammapy.astro.darkmatter.utils:Channel: b\n",
      "INFO:gammapy.astro.darkmatter.utils:Mass: 100.0 GeV\n",
      "DEBUG:gammapy.astro.darkmatter.utils:ZeroDeltaL: 0.2235 \t| LZero: 116.605 \t| LMin:  116.382\n",
      "DEBUG:gammapy.astro.darkmatter.utils:MaximumDeltaL: 38.3699 \t| LMax: 154.975 \t| LMin:  116.605\n",
      "DEBUG:gammapy.astro.darkmatter.utils:SvBestFound: -12.312 \t| SvBest: 0.000 \t| SvUL: 32.304\n",
      "DEBUG:gammapy.astro.darkmatter.utils:JBest: 3.866430523221493e+19 GeV2 / cm5\n",
      "INFO:gammapy.astro.darkmatter.utils:Sigma v:9.691348400038815e-25 cm3 / s\n",
      "INFO:gammapy.astro.darkmatter.utils:----\n",
      "INFO:gammapy.astro.darkmatter.utils:Run: 1\n",
      "INFO:gammapy.astro.darkmatter.utils:Channel: b\n",
      "INFO:gammapy.astro.darkmatter.utils:Mass: 200.0 GeV\n",
      "DEBUG:gammapy.astro.darkmatter.utils:ZeroDeltaL: 0.0664 \t| LZero: 116.605 \t| LMin:  116.539\n",
      "DEBUG:gammapy.astro.darkmatter.utils:MaximumDeltaL: 94.5096 \t| LMax: 211.115 \t| LMin:  116.605\n",
      "DEBUG:gammapy.astro.darkmatter.utils:SvBestFound: -4.080 \t| SvBest: 0.000 \t| SvUL: 22.223\n",
      "DEBUG:gammapy.astro.darkmatter.utils:JBest: 3.8243184449636475e+19 GeV2 / cm5\n",
      "INFO:gammapy.astro.darkmatter.utils:Sigma v:6.666949150666832e-25 cm3 / s\n",
      "INFO:gammapy.astro.darkmatter.utils:----\n",
      "INFO:gammapy.astro.darkmatter.utils:Run: 1\n",
      "INFO:gammapy.astro.darkmatter.utils:Channel: b\n",
      "INFO:gammapy.astro.darkmatter.utils:Mass: 500.0 GeV\n",
      "DEBUG:gammapy.astro.darkmatter.utils:ZeroDeltaL: 0.0830 \t| LZero: 116.605 \t| LMin:  116.522\n",
      "DEBUG:gammapy.astro.darkmatter.utils:MaximumDeltaL: 269.1680 \t| LMax: 385.690 \t| LMin:  116.522\n",
      "DEBUG:gammapy.astro.darkmatter.utils:SvBestFound: 2.550 \t| SvBest: 2.550 \t| SvUL: 17.137\n",
      "DEBUG:gammapy.astro.darkmatter.utils:JBest: 4.552809104064631e+19 GeV2 / cm5\n",
      "INFO:gammapy.astro.darkmatter.utils:Sigma v:5.141183730780276e-25 cm3 / s\n",
      "INFO:gammapy.astro.darkmatter.utils:----\n",
      "INFO:gammapy.astro.darkmatter.utils:Run: 1\n",
      "INFO:gammapy.astro.darkmatter.utils:Channel: b\n",
      "INFO:gammapy.astro.darkmatter.utils:Mass: 1000.0 GeV\n",
      "DEBUG:gammapy.astro.darkmatter.utils:ZeroDeltaL: 0.6121 \t| LZero: 116.605 \t| LMin:  115.993\n",
      "DEBUG:gammapy.astro.darkmatter.utils:MaximumDeltaL: 419.9092 \t| LMax: 535.902 \t| LMin:  115.993\n",
      "DEBUG:gammapy.astro.darkmatter.utils:SvBestFound: 5.325 \t| SvBest: 5.325 \t| SvUL: 16.580\n",
      "DEBUG:gammapy.astro.darkmatter.utils:JBest: 4.833113875858239e+19 GeV2 / cm5\n",
      "INFO:gammapy.astro.darkmatter.utils:Sigma v:4.973953170988465e-25 cm3 / s\n",
      "INFO:gammapy.astro.darkmatter.utils:----\n",
      "INFO:gammapy.astro.darkmatter.utils:Run: 1\n",
      "INFO:gammapy.astro.darkmatter.utils:Channel: b\n",
      "INFO:gammapy.astro.darkmatter.utils:Mass: 5000.0 GeV\n",
      "DEBUG:gammapy.astro.darkmatter.utils:ZeroDeltaL: 5.0114 \t| LZero: 116.605 \t| LMin:  111.594\n"
     ]
    },
    {
     "name": "stderr",
     "output_type": "stream",
     "text": [
      "DEBUG:gammapy.astro.darkmatter.utils:MaximumDeltaL: 214.4294 \t| LMax: 326.023 \t| LMin:  111.594\n",
      "DEBUG:gammapy.astro.darkmatter.utils:SvBestFound: 18.194 \t| SvBest: 18.194 \t| SvUL: 31.895\n",
      "DEBUG:gammapy.astro.darkmatter.utils:JBest: 4.1798595132355035e+19 GeV2 / cm5\n",
      "INFO:gammapy.astro.darkmatter.utils:Sigma v:9.56862388367594e-25 cm3 / s\n",
      "INFO:gammapy.astro.darkmatter.utils:----\n",
      "INFO:gammapy.astro.darkmatter.utils:Run: 1\n",
      "INFO:gammapy.astro.darkmatter.utils:Channel: b\n",
      "INFO:gammapy.astro.darkmatter.utils:Mass: 10000.0 GeV\n",
      "DEBUG:gammapy.astro.darkmatter.utils:ZeroDeltaL: 7.3085 \t| LZero: 116.605 \t| LMin:  109.297\n",
      "DEBUG:gammapy.astro.darkmatter.utils:MaximumDeltaL: 118.2207 \t| LMax: 227.517 \t| LMin:  109.297\n",
      "DEBUG:gammapy.astro.darkmatter.utils:SvBestFound: 26.649 \t| SvBest: 26.649 \t| SvUL: 43.643\n",
      "DEBUG:gammapy.astro.darkmatter.utils:JBest: 4.0971909024698106e+19 GeV2 / cm5\n",
      "INFO:gammapy.astro.darkmatter.utils:Sigma v:1.3092830309081411e-24 cm3 / s\n",
      "INFO:gammapy.astro.darkmatter.utils:----\n",
      "INFO:gammapy.astro.darkmatter.utils:Run: 1\n",
      "INFO:gammapy.astro.darkmatter.utils:Channel: b\n",
      "INFO:gammapy.astro.darkmatter.utils:Mass: 50000.0 GeV\n",
      "DEBUG:gammapy.astro.darkmatter.utils:ZeroDeltaL: 3.7474 \t| LZero: 116.605 \t| LMin:  112.858\n",
      "DEBUG:gammapy.astro.darkmatter.utils:MaximumDeltaL: 22.0555 \t| LMax: 134.913 \t| LMin:  112.858\n",
      "DEBUG:gammapy.astro.darkmatter.utils:SvBestFound: 39.296 \t| SvBest: 39.296 \t| SvUL: 75.634\n",
      "DEBUG:gammapy.astro.darkmatter.utils:JBest: 4.46420222528733e+19 GeV2 / cm5\n",
      "INFO:gammapy.astro.darkmatter.utils:Sigma v:2.2690183701240063e-24 cm3 / s\n",
      "INFO:gammapy.astro.darkmatter.utils:----\n",
      "INFO:gammapy.astro.darkmatter.utils:Run: 1\n",
      "INFO:gammapy.astro.darkmatter.utils:Channel: tau\n",
      "INFO:gammapy.astro.darkmatter.utils:Mass: 100.0 GeV\n",
      "DEBUG:gammapy.astro.darkmatter.utils:ZeroDeltaL: 0.0110 \t| LZero: 116.605 \t| LMin:  116.594\n",
      "DEBUG:gammapy.astro.darkmatter.utils:MaximumDeltaL: 614.8056 \t| LMax: 731.400 \t| LMin:  116.594\n",
      "DEBUG:gammapy.astro.darkmatter.utils:SvBestFound: 0.618 \t| SvBest: 0.618 \t| SvUL: 10.381\n",
      "DEBUG:gammapy.astro.darkmatter.utils:JBest: 2.2308970909682266e+19 GeV2 / cm5\n",
      "INFO:gammapy.astro.darkmatter.utils:Sigma v:3.1143104769118214e-25 cm3 / s\n",
      "INFO:gammapy.astro.darkmatter.utils:----\n",
      "INFO:gammapy.astro.darkmatter.utils:Run: 1\n",
      "INFO:gammapy.astro.darkmatter.utils:Channel: tau\n",
      "INFO:gammapy.astro.darkmatter.utils:Mass: 200.0 GeV\n",
      "DEBUG:gammapy.astro.darkmatter.utils:ZeroDeltaL: 0.0011 \t| LZero: 116.605 \t| LMin:  116.604\n",
      "DEBUG:gammapy.astro.darkmatter.utils:MaximumDeltaL: 816.9439 \t| LMax: 933.548 \t| LMin:  116.604\n",
      "DEBUG:gammapy.astro.darkmatter.utils:SvBestFound: 0.163 \t| SvBest: 0.163 \t| SvUL: 8.460\n",
      "DEBUG:gammapy.astro.darkmatter.utils:JBest: 1.7137892914732577e+19 GeV2 / cm5\n",
      "INFO:gammapy.astro.darkmatter.utils:Sigma v:2.537877366661454e-25 cm3 / s\n",
      "INFO:gammapy.astro.darkmatter.utils:----\n",
      "INFO:gammapy.astro.darkmatter.utils:Run: 1\n",
      "INFO:gammapy.astro.darkmatter.utils:Channel: tau\n",
      "INFO:gammapy.astro.darkmatter.utils:Mass: 500.0 GeV\n",
      "DEBUG:gammapy.astro.darkmatter.utils:ZeroDeltaL: 0.4065 \t| LZero: 116.605 \t| LMin:  116.199\n",
      "DEBUG:gammapy.astro.darkmatter.utils:MaximumDeltaL: 4428.4009 \t| LMax: 4544.600 \t| LMin:  116.199\n",
      "DEBUG:gammapy.astro.darkmatter.utils:SvBestFound: 1.137 \t| SvBest: 1.137 \t| SvUL: 4.098\n",
      "DEBUG:gammapy.astro.darkmatter.utils:JBest: 3.869754539743982e+19 GeV2 / cm5\n",
      "INFO:gammapy.astro.darkmatter.utils:Sigma v:1.2293946957717258e-25 cm3 / s\n",
      "INFO:gammapy.astro.darkmatter.utils:----\n",
      "INFO:gammapy.astro.darkmatter.utils:Run: 1\n",
      "INFO:gammapy.astro.darkmatter.utils:Channel: tau\n",
      "INFO:gammapy.astro.darkmatter.utils:Mass: 1000.0 GeV\n",
      "DEBUG:gammapy.astro.darkmatter.utils:ZeroDeltaL: 2.2715 \t| LZero: 116.605 \t| LMin:  114.334\n",
      "DEBUG:gammapy.astro.darkmatter.utils:MaximumDeltaL: 4324.7246 \t| LMax: 4439.058 \t| LMin:  114.334\n",
      "DEBUG:gammapy.astro.darkmatter.utils:SvBestFound: 2.274 \t| SvBest: 2.274 \t| SvUL: 4.811\n",
      "DEBUG:gammapy.astro.darkmatter.utils:JBest: 4.645105478496085e+19 GeV2 / cm5\n",
      "INFO:gammapy.astro.darkmatter.utils:Sigma v:1.4431677809418296e-25 cm3 / s\n",
      "INFO:gammapy.astro.darkmatter.utils:----\n",
      "INFO:gammapy.astro.darkmatter.utils:Run: 1\n",
      "INFO:gammapy.astro.darkmatter.utils:Channel: tau\n",
      "INFO:gammapy.astro.darkmatter.utils:Mass: 5000.0 GeV\n",
      "DEBUG:gammapy.astro.darkmatter.utils:ZeroDeltaL: 5.3081 \t| LZero: 116.605 \t| LMin:  111.297\n",
      "DEBUG:gammapy.astro.darkmatter.utils:MaximumDeltaL: 1132.0814 \t| LMax: 1243.379 \t| LMin:  111.297\n",
      "DEBUG:gammapy.astro.darkmatter.utils:SvBestFound: 5.030 \t| SvBest: 5.030 \t| SvUL: 8.976\n",
      "DEBUG:gammapy.astro.darkmatter.utils:JBest: 5.0891349768640815e+19 GeV2 / cm5\n",
      "INFO:gammapy.astro.darkmatter.utils:Sigma v:2.692772624830736e-25 cm3 / s\n",
      "INFO:gammapy.astro.darkmatter.utils:----\n",
      "INFO:gammapy.astro.darkmatter.utils:Run: 1\n",
      "INFO:gammapy.astro.darkmatter.utils:Channel: tau\n",
      "INFO:gammapy.astro.darkmatter.utils:Mass: 10000.0 GeV\n",
      "DEBUG:gammapy.astro.darkmatter.utils:ZeroDeltaL: 1.8581 \t| LZero: 116.605 \t| LMin:  114.747\n",
      "DEBUG:gammapy.astro.darkmatter.utils:MaximumDeltaL: 507.9401 \t| LMax: 622.687 \t| LMin:  114.747\n",
      "DEBUG:gammapy.astro.darkmatter.utils:SvBestFound: 4.726 \t| SvBest: 4.726 \t| SvUL: 10.989\n",
      "DEBUG:gammapy.astro.darkmatter.utils:JBest: 5.090906990248303e+19 GeV2 / cm5\n",
      "INFO:gammapy.astro.darkmatter.utils:Sigma v:3.296803502447336e-25 cm3 / s\n",
      "INFO:gammapy.astro.darkmatter.utils:----\n",
      "INFO:gammapy.astro.darkmatter.utils:Run: 1\n",
      "INFO:gammapy.astro.darkmatter.utils:Channel: tau\n",
      "INFO:gammapy.astro.darkmatter.utils:Mass: 50000.0 GeV\n",
      "DEBUG:gammapy.astro.darkmatter.utils:ZeroDeltaL: 0.0457 \t| LZero: 116.605 \t| LMin:  116.559\n",
      "DEBUG:gammapy.astro.darkmatter.utils:MaximumDeltaL: 17.7513 \t| LMax: 134.356 \t| LMin:  116.605\n",
      "DEBUG:gammapy.astro.darkmatter.utils:SvBestFound: -5.735 \t| SvBest: 0.000 \t| SvUL: 45.364\n",
      "DEBUG:gammapy.astro.darkmatter.utils:JBest: 3.5647538635645927e+19 GeV2 / cm5\n",
      "INFO:gammapy.astro.darkmatter.utils:Sigma v:1.3609147431083321e-24 cm3 / s\n",
      "INFO:gammapy.astro.darkmatter.utils:----\n",
      "INFO:gammapy.astro.darkmatter.utils:Run: 1\n",
      "INFO:gammapy.astro.darkmatter.utils:Channel: Z\n",
      "INFO:gammapy.astro.darkmatter.utils:Mass: 100.0 GeV\n",
      "DEBUG:gammapy.astro.darkmatter.utils:ZeroDeltaL: 0.2571 \t| LZero: 116.605 \t| LMin:  116.348\n",
      "DEBUG:gammapy.astro.darkmatter.utils:MaximumDeltaL: 36.7914 \t| LMax: 153.397 \t| LMin:  116.605\n",
      "DEBUG:gammapy.astro.darkmatter.utils:SvBestFound: -13.618 \t| SvBest: 0.000 \t| SvUL: 32.577\n",
      "DEBUG:gammapy.astro.darkmatter.utils:JBest: 5.106430479116892e+19 GeV2 / cm5\n",
      "INFO:gammapy.astro.darkmatter.utils:Sigma v:9.77301838513939e-25 cm3 / s\n",
      "INFO:gammapy.astro.darkmatter.utils:----\n",
      "INFO:gammapy.astro.darkmatter.utils:Run: 1\n",
      "INFO:gammapy.astro.darkmatter.utils:Channel: Z\n",
      "INFO:gammapy.astro.darkmatter.utils:Mass: 200.0 GeV\n",
      "DEBUG:gammapy.astro.darkmatter.utils:ZeroDeltaL: 0.0118 \t| LZero: 116.605 \t| LMin:  116.593\n",
      "DEBUG:gammapy.astro.darkmatter.utils:MaximumDeltaL: 168.7541 \t| LMax: 285.359 \t| LMin:  116.605\n",
      "DEBUG:gammapy.astro.darkmatter.utils:SvBestFound: -1.254 \t| SvBest: 0.000 \t| SvUL: 17.825\n",
      "DEBUG:gammapy.astro.darkmatter.utils:JBest: 5.099407099209918e+19 GeV2 / cm5\n",
      "INFO:gammapy.astro.darkmatter.utils:Sigma v:5.347577796470777e-25 cm3 / s\n",
      "INFO:gammapy.astro.darkmatter.utils:----\n",
      "INFO:gammapy.astro.darkmatter.utils:Run: 1\n",
      "INFO:gammapy.astro.darkmatter.utils:Channel: Z\n",
      "INFO:gammapy.astro.darkmatter.utils:Mass: 500.0 GeV\n",
      "DEBUG:gammapy.astro.darkmatter.utils:ZeroDeltaL: 0.2386 \t| LZero: 116.605 \t| LMin:  116.367\n",
      "DEBUG:gammapy.astro.darkmatter.utils:MaximumDeltaL: 92.7880 \t| LMax: 209.155 \t| LMin:  116.367\n",
      "DEBUG:gammapy.astro.darkmatter.utils:SvBestFound: 7.148 \t| SvBest: 7.148 \t| SvUL: 31.295\n",
      "DEBUG:gammapy.astro.darkmatter.utils:JBest: 2.4440759088010887e+19 GeV2 / cm5\n",
      "INFO:gammapy.astro.darkmatter.utils:Sigma v:9.388368091366422e-25 cm3 / s\n",
      "INFO:gammapy.astro.darkmatter.utils:----\n",
      "INFO:gammapy.astro.darkmatter.utils:Run: 1\n",
      "INFO:gammapy.astro.darkmatter.utils:Channel: Z\n",
      "INFO:gammapy.astro.darkmatter.utils:Mass: 1000.0 GeV\n",
      "DEBUG:gammapy.astro.darkmatter.utils:ZeroDeltaL: 0.7931 \t| LZero: 116.605 \t| LMin:  115.812\n",
      "DEBUG:gammapy.astro.darkmatter.utils:MaximumDeltaL: 535.4750 \t| LMax: 651.287 \t| LMin:  115.812\n",
      "DEBUG:gammapy.astro.darkmatter.utils:SvBestFound: 5.260 \t| SvBest: 5.260 \t| SvUL: 15.042\n",
      "DEBUG:gammapy.astro.darkmatter.utils:JBest: 5.081314626829471e+19 GeV2 / cm5\n"
     ]
    },
    {
     "name": "stderr",
     "output_type": "stream",
     "text": [
      "INFO:gammapy.astro.darkmatter.utils:Sigma v:4.512512715529841e-25 cm3 / s\n",
      "INFO:gammapy.astro.darkmatter.utils:----\n",
      "INFO:gammapy.astro.darkmatter.utils:Run: 1\n",
      "INFO:gammapy.astro.darkmatter.utils:Channel: Z\n",
      "INFO:gammapy.astro.darkmatter.utils:Mass: 5000.0 GeV\n",
      "DEBUG:gammapy.astro.darkmatter.utils:ZeroDeltaL: 6.7277 \t| LZero: 116.605 \t| LMin:  109.877\n",
      "DEBUG:gammapy.astro.darkmatter.utils:MaximumDeltaL: 44.1509 \t| LMax: 154.028 \t| LMin:  109.877\n",
      "DEBUG:gammapy.astro.darkmatter.utils:SvBestFound: 39.716 \t| SvBest: 39.716 \t| SvUL: 65.938\n",
      "DEBUG:gammapy.astro.darkmatter.utils:JBest: 2.1664267256319824e+19 GeV2 / cm5\n",
      "INFO:gammapy.astro.darkmatter.utils:Sigma v:1.9781254016396352e-24 cm3 / s\n",
      "INFO:gammapy.astro.darkmatter.utils:----\n",
      "INFO:gammapy.astro.darkmatter.utils:Run: 1\n",
      "INFO:gammapy.astro.darkmatter.utils:Channel: Z\n",
      "INFO:gammapy.astro.darkmatter.utils:Mass: 10000.0 GeV\n",
      "DEBUG:gammapy.astro.darkmatter.utils:ZeroDeltaL: 7.1353 \t| LZero: 116.605 \t| LMin:  109.470\n",
      "DEBUG:gammapy.astro.darkmatter.utils:MaximumDeltaL: 131.8527 \t| LMax: 241.323 \t| LMin:  109.470\n",
      "DEBUG:gammapy.astro.darkmatter.utils:SvBestFound: 24.314 \t| SvBest: 24.314 \t| SvUL: 40.205\n",
      "DEBUG:gammapy.astro.darkmatter.utils:JBest: 4.483043920862235e+19 GeV2 / cm5\n",
      "INFO:gammapy.astro.darkmatter.utils:Sigma v:1.2061389235478888e-24 cm3 / s\n",
      "INFO:gammapy.astro.darkmatter.utils:----\n",
      "INFO:gammapy.astro.darkmatter.utils:Run: 1\n",
      "INFO:gammapy.astro.darkmatter.utils:Channel: Z\n",
      "INFO:gammapy.astro.darkmatter.utils:Mass: 50000.0 GeV\n",
      "DEBUG:gammapy.astro.darkmatter.utils:ZeroDeltaL: 2.7602 \t| LZero: 116.605 \t| LMin:  113.845\n",
      "DEBUG:gammapy.astro.darkmatter.utils:MaximumDeltaL: 20.9988 \t| LMax: 134.844 \t| LMin:  113.845\n",
      "DEBUG:gammapy.astro.darkmatter.utils:SvBestFound: 35.686 \t| SvBest: 35.686 \t| SvUL: 74.059\n",
      "DEBUG:gammapy.astro.darkmatter.utils:JBest: 4.892495227539655e+19 GeV2 / cm5\n",
      "INFO:gammapy.astro.darkmatter.utils:Sigma v:2.2217770037345396e-24 cm3 / s\n",
      "INFO:gammapy.astro.darkmatter.utils:----\n",
      "INFO:gammapy.astro.darkmatter.utils:Run: 2\n",
      "INFO:gammapy.astro.darkmatter.utils:Channel: b\n",
      "INFO:gammapy.astro.darkmatter.utils:Mass: 100.0 GeV\n",
      "DEBUG:gammapy.astro.darkmatter.utils:ZeroDeltaL: 0.4788 \t| LZero: 106.094 \t| LMin:  105.615\n",
      "DEBUG:gammapy.astro.darkmatter.utils:MaximumDeltaL: 17.5966 \t| LMax: 123.212 \t| LMin:  105.615\n",
      "DEBUG:gammapy.astro.darkmatter.utils:SvBestFound: 21.171 \t| SvBest: 21.171 \t| SvUL: 71.643\n",
      "DEBUG:gammapy.astro.darkmatter.utils:JBest: 3.2833682887389696e+19 GeV2 / cm5\n",
      "INFO:gammapy.astro.darkmatter.utils:Sigma v:2.1492770321495538e-24 cm3 / s\n",
      "INFO:gammapy.astro.darkmatter.utils:----\n",
      "INFO:gammapy.astro.darkmatter.utils:Run: 2\n",
      "INFO:gammapy.astro.darkmatter.utils:Channel: b\n",
      "INFO:gammapy.astro.darkmatter.utils:Mass: 200.0 GeV\n",
      "DEBUG:gammapy.astro.darkmatter.utils:ZeroDeltaL: 1.5086 \t| LZero: 106.094 \t| LMin:  104.585\n",
      "DEBUG:gammapy.astro.darkmatter.utils:MaximumDeltaL: 124.4730 \t| LMax: 229.058 \t| LMin:  104.585\n",
      "DEBUG:gammapy.astro.darkmatter.utils:SvBestFound: 14.777 \t| SvBest: 14.777 \t| SvUL: 34.639\n",
      "DEBUG:gammapy.astro.darkmatter.utils:JBest: 5.001605429889549e+19 GeV2 / cm5\n",
      "INFO:gammapy.astro.darkmatter.utils:Sigma v:1.0391736624556794e-24 cm3 / s\n",
      "INFO:gammapy.astro.darkmatter.utils:----\n",
      "INFO:gammapy.astro.darkmatter.utils:Run: 2\n",
      "INFO:gammapy.astro.darkmatter.utils:Channel: b\n",
      "INFO:gammapy.astro.darkmatter.utils:Mass: 500.0 GeV\n",
      "DEBUG:gammapy.astro.darkmatter.utils:ZeroDeltaL: 1.0775 \t| LZero: 106.094 \t| LMin:  105.017\n",
      "DEBUG:gammapy.astro.darkmatter.utils:MaximumDeltaL: 290.4166 \t| LMax: 395.433 \t| LMin:  105.017\n",
      "DEBUG:gammapy.astro.darkmatter.utils:SvBestFound: 8.471 \t| SvBest: 8.471 \t| SvUL: 21.947\n",
      "DEBUG:gammapy.astro.darkmatter.utils:JBest: 4.945031112227334e+19 GeV2 / cm5\n",
      "INFO:gammapy.astro.darkmatter.utils:Sigma v:6.583957367474957e-25 cm3 / s\n",
      "INFO:gammapy.astro.darkmatter.utils:----\n",
      "INFO:gammapy.astro.darkmatter.utils:Run: 2\n",
      "INFO:gammapy.astro.darkmatter.utils:Channel: b\n",
      "INFO:gammapy.astro.darkmatter.utils:Mass: 1000.0 GeV\n",
      "DEBUG:gammapy.astro.darkmatter.utils:ZeroDeltaL: 0.2154 \t| LZero: 106.094 \t| LMin:  105.879\n",
      "DEBUG:gammapy.astro.darkmatter.utils:MaximumDeltaL: 93.2527 \t| LMax: 199.131 \t| LMin:  105.879\n",
      "DEBUG:gammapy.astro.darkmatter.utils:SvBestFound: 6.772 \t| SvBest: 6.772 \t| SvUL: 30.855\n",
      "DEBUG:gammapy.astro.darkmatter.utils:JBest: 2.2715184473052537e+19 GeV2 / cm5\n",
      "INFO:gammapy.astro.darkmatter.utils:Sigma v:9.256410052660012e-25 cm3 / s\n",
      "INFO:gammapy.astro.darkmatter.utils:----\n",
      "INFO:gammapy.astro.darkmatter.utils:Run: 2\n",
      "INFO:gammapy.astro.darkmatter.utils:Channel: b\n",
      "INFO:gammapy.astro.darkmatter.utils:Mass: 5000.0 GeV\n",
      "DEBUG:gammapy.astro.darkmatter.utils:ZeroDeltaL: 0.0048 \t| LZero: 106.094 \t| LMin:  106.089\n",
      "DEBUG:gammapy.astro.darkmatter.utils:MaximumDeltaL: 215.7688 \t| LMax: 321.863 \t| LMin:  106.094\n",
      "DEBUG:gammapy.astro.darkmatter.utils:SvBestFound: -0.652 \t| SvBest: 0.000 \t| SvUL: 15.005\n",
      "DEBUG:gammapy.astro.darkmatter.utils:JBest: 3.709302295310778e+19 GeV2 / cm5\n",
      "INFO:gammapy.astro.darkmatter.utils:Sigma v:4.501350735539443e-25 cm3 / s\n",
      "INFO:gammapy.astro.darkmatter.utils:----\n",
      "INFO:gammapy.astro.darkmatter.utils:Run: 2\n",
      "INFO:gammapy.astro.darkmatter.utils:Channel: b\n",
      "INFO:gammapy.astro.darkmatter.utils:Mass: 10000.0 GeV\n",
      "DEBUG:gammapy.astro.darkmatter.utils:ZeroDeltaL: 0.1862 \t| LZero: 106.094 \t| LMin:  105.908\n",
      "DEBUG:gammapy.astro.darkmatter.utils:MaximumDeltaL: 125.1886 \t| LMax: 231.283 \t| LMin:  106.094\n",
      "DEBUG:gammapy.astro.darkmatter.utils:SvBestFound: -5.323 \t| SvBest: 0.000 \t| SvUL: 15.975\n",
      "DEBUG:gammapy.astro.darkmatter.utils:JBest: 3.34275201118228e+19 GeV2 / cm5\n",
      "INFO:gammapy.astro.darkmatter.utils:Sigma v:4.792464013512653e-25 cm3 / s\n",
      "INFO:gammapy.astro.darkmatter.utils:----\n",
      "INFO:gammapy.astro.darkmatter.utils:Run: 2\n",
      "INFO:gammapy.astro.darkmatter.utils:Channel: b\n",
      "INFO:gammapy.astro.darkmatter.utils:Mass: 50000.0 GeV\n",
      "DEBUG:gammapy.astro.darkmatter.utils:ZeroDeltaL: 0.3470 \t| LZero: 106.094 \t| LMin:  105.747\n",
      "DEBUG:gammapy.astro.darkmatter.utils:MaximumDeltaL: 64.7329 \t| LMax: 170.827 \t| LMin:  106.094\n",
      "DEBUG:gammapy.astro.darkmatter.utils:SvBestFound: -9.405 \t| SvBest: 0.000 \t| SvUL: 19.489\n",
      "DEBUG:gammapy.astro.darkmatter.utils:JBest: 5.079174466872442e+19 GeV2 / cm5\n",
      "INFO:gammapy.astro.darkmatter.utils:Sigma v:5.846844051736353e-25 cm3 / s\n",
      "INFO:gammapy.astro.darkmatter.utils:----\n",
      "INFO:gammapy.astro.darkmatter.utils:Run: 2\n",
      "INFO:gammapy.astro.darkmatter.utils:Channel: tau\n",
      "INFO:gammapy.astro.darkmatter.utils:Mass: 100.0 GeV\n",
      "DEBUG:gammapy.astro.darkmatter.utils:ZeroDeltaL: 4.3140 \t| LZero: 106.094 \t| LMin:  101.780\n",
      "DEBUG:gammapy.astro.darkmatter.utils:MaximumDeltaL: 2887.8468 \t| LMax: 2989.627 \t| LMin:  101.780\n",
      "DEBUG:gammapy.astro.darkmatter.utils:SvBestFound: 5.376 \t| SvBest: 5.376 \t| SvUL: 9.649\n",
      "DEBUG:gammapy.astro.darkmatter.utils:JBest: 5.102487692291917e+19 GeV2 / cm5\n",
      "INFO:gammapy.astro.darkmatter.utils:Sigma v:2.8947129963805113e-25 cm3 / s\n",
      "INFO:gammapy.astro.darkmatter.utils:----\n",
      "INFO:gammapy.astro.darkmatter.utils:Run: 2\n",
      "INFO:gammapy.astro.darkmatter.utils:Channel: tau\n",
      "INFO:gammapy.astro.darkmatter.utils:Mass: 200.0 GeV\n",
      "DEBUG:gammapy.astro.darkmatter.utils:ZeroDeltaL: 0.1673 \t| LZero: 106.094 \t| LMin:  105.927\n",
      "DEBUG:gammapy.astro.darkmatter.utils:MaximumDeltaL: 3042.9825 \t| LMax: 3148.909 \t| LMin:  105.927\n",
      "DEBUG:gammapy.astro.darkmatter.utils:SvBestFound: 1.017 \t| SvBest: 1.017 \t| SvUL: 5.125\n",
      "DEBUG:gammapy.astro.darkmatter.utils:JBest: 3.4689616192276988e+19 GeV2 / cm5\n",
      "INFO:gammapy.astro.darkmatter.utils:Sigma v:1.5376349156857875e-25 cm3 / s\n",
      "INFO:gammapy.astro.darkmatter.utils:----\n",
      "INFO:gammapy.astro.darkmatter.utils:Run: 2\n",
      "INFO:gammapy.astro.darkmatter.utils:Channel: tau\n",
      "INFO:gammapy.astro.darkmatter.utils:Mass: 500.0 GeV\n",
      "DEBUG:gammapy.astro.darkmatter.utils:ZeroDeltaL: 0.0031 \t| LZero: 106.094 \t| LMin:  106.091\n",
      "DEBUG:gammapy.astro.darkmatter.utils:MaximumDeltaL: 1080.6683 \t| LMax: 1186.759 \t| LMin:  106.091\n",
      "DEBUG:gammapy.astro.darkmatter.utils:SvBestFound: 0.250 \t| SvBest: 0.250 \t| SvUL: 6.962\n",
      "DEBUG:gammapy.astro.darkmatter.utils:JBest: 1.7093196625669816e+19 GeV2 / cm5\n",
      "INFO:gammapy.astro.darkmatter.utils:Sigma v:2.0887023343065497e-25 cm3 / s\n",
      "INFO:gammapy.astro.darkmatter.utils:----\n",
      "INFO:gammapy.astro.darkmatter.utils:Run: 2\n",
      "INFO:gammapy.astro.darkmatter.utils:Channel: tau\n",
      "INFO:gammapy.astro.darkmatter.utils:Mass: 1000.0 GeV\n"
     ]
    },
    {
     "name": "stderr",
     "output_type": "stream",
     "text": [
      "DEBUG:gammapy.astro.darkmatter.utils:ZeroDeltaL: 0.0100 \t| LZero: 106.094 \t| LMin:  106.084\n",
      "DEBUG:gammapy.astro.darkmatter.utils:MaximumDeltaL: 930.3188 \t| LMax: 1036.403 \t| LMin:  106.084\n",
      "DEBUG:gammapy.astro.darkmatter.utils:SvBestFound: 0.352 \t| SvBest: 0.352 \t| SvUL: 7.158\n",
      "DEBUG:gammapy.astro.darkmatter.utils:JBest: 1.7688296389205914e+19 GeV2 / cm5\n",
      "INFO:gammapy.astro.darkmatter.utils:Sigma v:2.1474398002981724e-25 cm3 / s\n",
      "INFO:gammapy.astro.darkmatter.utils:----\n",
      "INFO:gammapy.astro.darkmatter.utils:Run: 2\n",
      "INFO:gammapy.astro.darkmatter.utils:Channel: tau\n",
      "INFO:gammapy.astro.darkmatter.utils:Mass: 5000.0 GeV\n",
      "DEBUG:gammapy.astro.darkmatter.utils:ZeroDeltaL: 0.4252 \t| LZero: 106.094 \t| LMin:  105.669\n",
      "DEBUG:gammapy.astro.darkmatter.utils:MaximumDeltaL: 362.8694 \t| LMax: 468.963 \t| LMin:  106.094\n",
      "DEBUG:gammapy.astro.darkmatter.utils:SvBestFound: -3.193 \t| SvBest: 0.000 \t| SvUL: 5.800\n",
      "DEBUG:gammapy.astro.darkmatter.utils:JBest: 2.004636761760375e+19 GeV2 / cm5\n",
      "INFO:gammapy.astro.darkmatter.utils:Sigma v:1.739878844778254e-25 cm3 / s\n",
      "INFO:gammapy.astro.darkmatter.utils:----\n",
      "INFO:gammapy.astro.darkmatter.utils:Run: 2\n",
      "INFO:gammapy.astro.darkmatter.utils:Channel: tau\n",
      "INFO:gammapy.astro.darkmatter.utils:Mass: 10000.0 GeV\n",
      "DEBUG:gammapy.astro.darkmatter.utils:ZeroDeltaL: 0.2079 \t| LZero: 106.094 \t| LMin:  105.886\n",
      "DEBUG:gammapy.astro.darkmatter.utils:MaximumDeltaL: 295.0483 \t| LMax: 401.142 \t| LMin:  106.094\n",
      "DEBUG:gammapy.astro.darkmatter.utils:SvBestFound: -2.357 \t| SvBest: 0.000 \t| SvUL: 6.889\n",
      "DEBUG:gammapy.astro.darkmatter.utils:JBest: 3.0244278692967137e+19 GeV2 / cm5\n",
      "INFO:gammapy.astro.darkmatter.utils:Sigma v:2.0665635602239403e-25 cm3 / s\n",
      "INFO:gammapy.astro.darkmatter.utils:----\n",
      "INFO:gammapy.astro.darkmatter.utils:Run: 2\n",
      "INFO:gammapy.astro.darkmatter.utils:Channel: tau\n",
      "INFO:gammapy.astro.darkmatter.utils:Mass: 50000.0 GeV\n",
      "DEBUG:gammapy.astro.darkmatter.utils:ZeroDeltaL: 0.1512 \t| LZero: 106.094 \t| LMin:  105.943\n",
      "DEBUG:gammapy.astro.darkmatter.utils:MaximumDeltaL: 12.7231 \t| LMax: 118.817 \t| LMin:  106.094\n",
      "DEBUG:gammapy.astro.darkmatter.utils:SvBestFound: -12.798 \t| SvBest: 0.000 \t| SvUL: 51.693\n",
      "DEBUG:gammapy.astro.darkmatter.utils:JBest: 2.345912669776966e+19 GeV2 / cm5\n",
      "INFO:gammapy.astro.darkmatter.utils:Sigma v:1.5507814740654422e-24 cm3 / s\n",
      "INFO:gammapy.astro.darkmatter.utils:----\n",
      "INFO:gammapy.astro.darkmatter.utils:Run: 2\n",
      "INFO:gammapy.astro.darkmatter.utils:Channel: Z\n",
      "INFO:gammapy.astro.darkmatter.utils:Mass: 100.0 GeV\n",
      "DEBUG:gammapy.astro.darkmatter.utils:ZeroDeltaL: 0.3709 \t| LZero: 106.094 \t| LMin:  105.723\n",
      "DEBUG:gammapy.astro.darkmatter.utils:MaximumDeltaL: 24.3858 \t| LMax: 130.109 \t| LMin:  105.723\n",
      "DEBUG:gammapy.astro.darkmatter.utils:SvBestFound: 16.385 \t| SvBest: 16.385 \t| SvUL: 60.843\n",
      "DEBUG:gammapy.astro.darkmatter.utils:JBest: 5.0659921527592e+19 GeV2 / cm5\n",
      "INFO:gammapy.astro.darkmatter.utils:Sigma v:1.825298634795663e-24 cm3 / s\n",
      "INFO:gammapy.astro.darkmatter.utils:----\n",
      "INFO:gammapy.astro.darkmatter.utils:Run: 2\n",
      "INFO:gammapy.astro.darkmatter.utils:Channel: Z\n",
      "INFO:gammapy.astro.darkmatter.utils:Mass: 200.0 GeV\n",
      "DEBUG:gammapy.astro.darkmatter.utils:ZeroDeltaL: 1.9276 \t| LZero: 106.094 \t| LMin:  104.166\n",
      "DEBUG:gammapy.astro.darkmatter.utils:MaximumDeltaL: 51.3535 \t| LMax: 155.520 \t| LMin:  104.166\n",
      "DEBUG:gammapy.astro.darkmatter.utils:SvBestFound: 24.241 \t| SvBest: 24.241 \t| SvUL: 53.037\n",
      "DEBUG:gammapy.astro.darkmatter.utils:JBest: 3.3734025696452936e+19 GeV2 / cm5\n",
      "INFO:gammapy.astro.darkmatter.utils:Sigma v:1.5910970269608703e-24 cm3 / s\n",
      "INFO:gammapy.astro.darkmatter.utils:----\n",
      "INFO:gammapy.astro.darkmatter.utils:Run: 2\n",
      "INFO:gammapy.astro.darkmatter.utils:Channel: Z\n",
      "INFO:gammapy.astro.darkmatter.utils:Mass: 500.0 GeV\n",
      "DEBUG:gammapy.astro.darkmatter.utils:ZeroDeltaL: 0.4179 \t| LZero: 106.094 \t| LMin:  105.676\n",
      "DEBUG:gammapy.astro.darkmatter.utils:MaximumDeltaL: 401.4005 \t| LMax: 507.077 \t| LMin:  105.676\n",
      "DEBUG:gammapy.astro.darkmatter.utils:SvBestFound: 4.571 \t| SvBest: 4.571 \t| SvUL: 16.219\n",
      "DEBUG:gammapy.astro.darkmatter.utils:JBest: 5.08940133224916e+19 GeV2 / cm5\n",
      "INFO:gammapy.astro.darkmatter.utils:Sigma v:4.865658067118346e-25 cm3 / s\n",
      "INFO:gammapy.astro.darkmatter.utils:----\n",
      "INFO:gammapy.astro.darkmatter.utils:Run: 2\n",
      "INFO:gammapy.astro.darkmatter.utils:Channel: Z\n",
      "INFO:gammapy.astro.darkmatter.utils:Mass: 1000.0 GeV\n",
      "DEBUG:gammapy.astro.darkmatter.utils:ZeroDeltaL: 0.1309 \t| LZero: 106.094 \t| LMin:  105.963\n",
      "DEBUG:gammapy.astro.darkmatter.utils:MaximumDeltaL: 459.2265 \t| LMax: 565.190 \t| LMin:  105.963\n",
      "DEBUG:gammapy.astro.darkmatter.utils:SvBestFound: 2.367 \t| SvBest: 2.367 \t| SvUL: 13.192\n",
      "DEBUG:gammapy.astro.darkmatter.utils:JBest: 4.623432957089651e+19 GeV2 / cm5\n",
      "INFO:gammapy.astro.darkmatter.utils:Sigma v:3.957457218051867e-25 cm3 / s\n",
      "INFO:gammapy.astro.darkmatter.utils:----\n",
      "INFO:gammapy.astro.darkmatter.utils:Run: 2\n",
      "INFO:gammapy.astro.darkmatter.utils:Channel: Z\n",
      "INFO:gammapy.astro.darkmatter.utils:Mass: 5000.0 GeV\n",
      "DEBUG:gammapy.astro.darkmatter.utils:ZeroDeltaL: 0.0929 \t| LZero: 106.094 \t| LMin:  106.001\n",
      "DEBUG:gammapy.astro.darkmatter.utils:MaximumDeltaL: 377.1930 \t| LMax: 483.287 \t| LMin:  106.094\n",
      "DEBUG:gammapy.astro.darkmatter.utils:SvBestFound: -2.041 \t| SvBest: 0.000 \t| SvUL: 9.300\n",
      "DEBUG:gammapy.astro.darkmatter.utils:JBest: 5.112756653224778e+19 GeV2 / cm5\n",
      "INFO:gammapy.astro.darkmatter.utils:Sigma v:2.790104396623739e-25 cm3 / s\n",
      "INFO:gammapy.astro.darkmatter.utils:----\n",
      "INFO:gammapy.astro.darkmatter.utils:Run: 2\n",
      "INFO:gammapy.astro.darkmatter.utils:Channel: Z\n",
      "INFO:gammapy.astro.darkmatter.utils:Mass: 10000.0 GeV\n",
      "DEBUG:gammapy.astro.darkmatter.utils:ZeroDeltaL: 0.3002 \t| LZero: 106.094 \t| LMin:  105.794\n",
      "DEBUG:gammapy.astro.darkmatter.utils:MaximumDeltaL: 139.4059 \t| LMax: 245.500 \t| LMin:  106.094\n",
      "DEBUG:gammapy.astro.darkmatter.utils:SvBestFound: -6.080 \t| SvBest: 0.000 \t| SvUL: 13.560\n",
      "DEBUG:gammapy.astro.darkmatter.utils:JBest: 3.6160469907965993e+19 GeV2 / cm5\n",
      "INFO:gammapy.astro.darkmatter.utils:Sigma v:4.06799576746287e-25 cm3 / s\n",
      "INFO:gammapy.astro.darkmatter.utils:----\n",
      "INFO:gammapy.astro.darkmatter.utils:Run: 2\n",
      "INFO:gammapy.astro.darkmatter.utils:Channel: Z\n",
      "INFO:gammapy.astro.darkmatter.utils:Mass: 50000.0 GeV\n",
      "DEBUG:gammapy.astro.darkmatter.utils:ZeroDeltaL: 0.3476 \t| LZero: 106.094 \t| LMin:  105.747\n",
      "DEBUG:gammapy.astro.darkmatter.utils:MaximumDeltaL: 15.3152 \t| LMax: 121.409 \t| LMin:  106.094\n",
      "DEBUG:gammapy.astro.darkmatter.utils:SvBestFound: -23.174 \t| SvBest: 0.000 \t| SvUL: 48.147\n",
      "DEBUG:gammapy.astro.darkmatter.utils:JBest: 2.346902653639439e+19 GeV2 / cm5\n",
      "INFO:gammapy.astro.darkmatter.utils:Sigma v:1.4444059799895164e-24 cm3 / s\n",
      "INFO:gammapy.astro.darkmatter.utils:Number of good runs: 3\n"
     ]
    },
    {
     "name": "stdout",
     "output_type": "stream",
     "text": [
      "CPU times: user 5min 38s, sys: 2.5 s, total: 5min 41s\n",
      "Wall time: 5min 42s\n"
     ]
    }
   ],
   "source": [
    "%%time\n",
    "# stat_profile_opts=dict(bounds=(-25, 100), nvalues=50)     # default param\n",
    "# if nuisance = True the process takes the nuisance parameters into account\n",
    "result = estimator.run(runs=3, nuisance=True)"
   ]
  },
  {
   "cell_type": "markdown",
   "metadata": {},
   "source": [
    "**Display results for channel b and run 1**"
   ]
  },
  {
   "cell_type": "code",
   "execution_count": 18,
   "metadata": {
    "scrolled": false
   },
   "outputs": [
    {
     "data": {
      "text/html": [
       "<i>Table length=7</i>\n",
       "<table id=\"table4828403752\" class=\"table-striped table-bordered table-condensed\">\n",
       "<thead><tr><th>mass</th><th>sigma_v</th><th>sv_ul</th><th>sv_best</th><th>j_best</th></tr></thead>\n",
       "<thead><tr><th>GeV</th><th>cm3 / s</th><th></th><th></th><th>GeV2 / cm5</th></tr></thead>\n",
       "<thead><tr><th>float64</th><th>float64</th><th>float64</th><th>float64</th><th>float64</th></tr></thead>\n",
       "<tr><td>100.0</td><td>2.1492770321495538e-24</td><td>71.64256773831846</td><td>21.17067234641946</td><td>3.2833682887389696e+19</td></tr>\n",
       "<tr><td>200.0</td><td>1.0391736624556794e-24</td><td>34.63912208185598</td><td>14.777384409351905</td><td>5.001605429889549e+19</td></tr>\n",
       "<tr><td>500.0</td><td>6.583957367474957e-25</td><td>21.946524558249855</td><td>8.470598958315577</td><td>4.945031112227334e+19</td></tr>\n",
       "<tr><td>1000.0</td><td>9.256410052660012e-25</td><td>30.854700175533374</td><td>6.771570461839991</td><td>2.2715184473052537e+19</td></tr>\n",
       "<tr><td>5000.0</td><td>4.501350735539443e-25</td><td>15.004502451798142</td><td>0.0</td><td>3.709302295310778e+19</td></tr>\n",
       "<tr><td>10000.0</td><td>4.792464013512653e-25</td><td>15.974880045042175</td><td>0.0</td><td>3.34275201118228e+19</td></tr>\n",
       "<tr><td>50000.0</td><td>5.846844051736353e-25</td><td>19.48948017245451</td><td>0.0</td><td>5.079174466872442e+19</td></tr>\n",
       "</table>"
      ],
      "text/plain": [
       "<Table length=7>\n",
       "  mass         sigma_v         ...      sv_best               j_best        \n",
       "  GeV          cm3 / s         ...                          GeV2 / cm5      \n",
       "float64        float64         ...      float64              float64        \n",
       "------- ---------------------- ... ------------------ ----------------------\n",
       "  100.0 2.1492770321495538e-24 ...  21.17067234641946 3.2833682887389696e+19\n",
       "  200.0 1.0391736624556794e-24 ... 14.777384409351905  5.001605429889549e+19\n",
       "  500.0  6.583957367474957e-25 ...  8.470598958315577  4.945031112227334e+19\n",
       " 1000.0  9.256410052660012e-25 ...  6.771570461839991 2.2715184473052537e+19\n",
       " 5000.0  4.501350735539443e-25 ...                0.0  3.709302295310778e+19\n",
       "10000.0  4.792464013512653e-25 ...                0.0   3.34275201118228e+19\n",
       "50000.0  5.846844051736353e-25 ...                0.0  5.079174466872442e+19"
      ]
     },
     "execution_count": 18,
     "metadata": {},
     "output_type": "execute_result"
    }
   ],
   "source": [
    "cols = [\"mass\", \"sigma_v\", \"sv_ul\", \"sv_best\", \"j_best\"]\n",
    "result[\"runs\"][\"b\"][2][cols]"
   ]
  },
  {
   "cell_type": "markdown",
   "metadata": {},
   "source": [
    "**Plot likelihood profile for a specific fit**"
   ]
  },
  {
   "cell_type": "code",
   "execution_count": 19,
   "metadata": {},
   "outputs": [],
   "source": [
    "idx = np.argwhere(masses.value==100)\n",
    "profile = result[\"runs\"][\"Z\"][0][\"statprofile\"][idx][0][0]"
   ]
  },
  {
   "cell_type": "code",
   "execution_count": 20,
   "metadata": {
    "scrolled": true
   },
   "outputs": [
    {
     "data": {
      "image/png": "[encoded data removed]",
      "text/plain": [
       "<Figure size 432x288 with 1 Axes>"
      ]
     },
     "metadata": {
      "needs_background": "light"
     },
     "output_type": "display_data"
    }
   ],
   "source": [
    "plt.plot(profile[\"values\"], profile[\"stat\"]);"
   ]
  },
  {
   "cell_type": "markdown",
   "metadata": {},
   "source": [
    "## Obtained results"
   ]
  },
  {
   "cell_type": "code",
   "execution_count": 21,
   "metadata": {
    "scrolled": false
   },
   "outputs": [
    {
     "data": {
      "text/html": [
       "<i>Table length=7</i>\n",
       "<table id=\"table4838033112\" class=\"table-striped table-bordered table-condensed\">\n",
       "<thead><tr><th>mass</th><th>sigma_v</th><th>sigma_v_std</th><th>jfactor</th><th>jfactor_std</th></tr></thead>\n",
       "<thead><tr><th>GeV</th><th>cm3 / s</th><th>cm3 / s</th><th>GeV2 / cm5</th><th>GeV2 / cm5</th></tr></thead>\n",
       "<thead><tr><th>float64</th><th>float64</th><th>float64</th><th>float64</th><th>float64</th></tr></thead>\n",
       "<tr><td>100.0</td><td>1.3410813308982864e-24</td><td>5.720832856460314e-25</td><td>3.5282120157016162e+19</td><td>2.4702163137806577e+18</td></tr>\n",
       "<tr><td>200.0</td><td>7.860509093396016e-25</td><td>1.7908147799753387e-25</td><td>4.077104666670251e+19</td><td>6.757225664322541e+18</td></tr>\n",
       "<tr><td>500.0</td><td>5.098135871108717e-25</td><td>1.2311187520730543e-25</td><td>4.860766925067376e+19</td><td>2.2507577581507812e+18</td></tr>\n",
       "<tr><td>1000.0</td><td>6.129877946907663e-25</td><td>2.2356697985373585e-25</td><td>3.809964346281987e+19</td><td>1.1074266104002486e+19</td></tr>\n",
       "<tr><td>5000.0</td><td>8.037631888355753e-25</td><td>2.508014187005983e-25</td><td>3.5630374506126954e+19</td><td>5.727607091556271e+18</td></tr>\n",
       "<tr><td>10000.0</td><td>1.0602176713648484e-24</td><td>4.121984567780985e-25</td><td>3.2200954127726727e+19</td><td>7.711129136631625e+18</td></tr>\n",
       "<tr><td>50000.0</td><td>1.3199141089698871e-24</td><td>7.040605897625228e-25</td><td>4.70256971586155e+19</td><td>2.694189669267697e+18</td></tr>\n",
       "</table>"
      ],
      "text/plain": [
       "<Table length=7>\n",
       "  mass         sigma_v         ...        jfactor              jfactor_std      \n",
       "  GeV          cm3 / s         ...       GeV2 / cm5             GeV2 / cm5      \n",
       "float64        float64         ...        float64                float64        \n",
       "------- ---------------------- ... ---------------------- ----------------------\n",
       "  100.0 1.3410813308982864e-24 ... 3.5282120157016162e+19 2.4702163137806577e+18\n",
       "  200.0  7.860509093396016e-25 ...  4.077104666670251e+19  6.757225664322541e+18\n",
       "  500.0  5.098135871108717e-25 ...  4.860766925067376e+19 2.2507577581507812e+18\n",
       " 1000.0  6.129877946907663e-25 ...  3.809964346281987e+19 1.1074266104002486e+19\n",
       " 5000.0  8.037631888355753e-25 ... 3.5630374506126954e+19  5.727607091556271e+18\n",
       "10000.0 1.0602176713648484e-24 ... 3.2200954127726727e+19  7.711129136631625e+18\n",
       "50000.0 1.3199141089698871e-24 ...   4.70256971586155e+19  2.694189669267697e+18"
      ]
     },
     "execution_count": 21,
     "metadata": {},
     "output_type": "execute_result"
    }
   ],
   "source": [
    "result[\"mean\"][\"b\"]"
   ]
  },
  {
   "cell_type": "code",
   "execution_count": 22,
   "metadata": {},
   "outputs": [
    {
     "data": {
      "image/png": "[encoded data removed]",
      "text/plain": [
       "<Figure size 648x504 with 1 Axes>"
      ]
     },
     "metadata": {
      "needs_background": "light"
     },
     "output_type": "display_data"
    }
   ],
   "source": [
    "plt.figure(figsize=(9,7))\n",
    "plt.ylim(1e-29, 1e-22)\n",
    "plt.ylabel(r\"<$\\sigma_{ann}v$> (cm$^3$s$^{-1}$)\", fontsize=12)\n",
    "plt.xlabel(\"M$_{DM}$ (GeV)\", fontsize=12)\n",
    "plt.title('m$_{DM}$ 5000 GeV')\n",
    "\n",
    "for ch in channels:\n",
    "    plt.loglog(\n",
    "        result[\"mean\"][ch][\"mass\"].data,\n",
    "        result[\"mean\"][ch][\"sigma_v\"].data,\n",
    "        ls=\"--\",\n",
    "        label='channel {}'.format(ch)\n",
    "       )\n",
    "plt.legend();"
   ]
  },
  {
   "cell_type": "code",
   "execution_count": null,
   "metadata": {},
   "outputs": [],
   "source": []
  }
 ],
 "metadata": {
  "kernelspec": {
   "display_name": "gammapy-dev",
   "language": "python",
   "name": "gammapy-dev"
  },
  "language_info": {
   "codemirror_mode": {
    "name": "ipython",
    "version": 3
   },
   "file_extension": ".py",
   "mimetype": "text/x-python",
   "name": "python",
   "nbconvert_exporter": "python",
   "pygments_lexer": "ipython3",
   "version": "3.7.0"
  },
  "toc": {
   "base_numbering": 1,
   "nav_menu": {},
   "number_sections": false,
   "sideBar": true,
   "skip_h1_title": false,
   "title_cell": "Table of Contents",
   "title_sidebar": "Contents",
   "toc_cell": false,
   "toc_position": {},
   "toc_section_display": true,
   "toc_window_display": false
  },
  "varInspector": {
   "cols": {
    "lenName": 16,
    "lenType": 16,
    "lenVar": 40
   },
   "kernels_config": {
    "python": {
     "delete_cmd_postfix": "",
     "delete_cmd_prefix": "del ",
     "library": "var_list.py",
     "varRefreshCmd": "print(var_dic_list())"
    },
    "r": {
     "delete_cmd_postfix": ") ",
     "delete_cmd_prefix": "rm(",
     "library": "var_list.r",
     "varRefreshCmd": "cat(var_dic_list()) "
    }
   },
   "types_to_exclude": [
    "module",
    "function",
    "builtin_function_or_method",
    "instance",
    "_Feature"
   ],
   "window_display": false
  }
 },
 "nbformat": 4,
 "nbformat_minor": 2
}
