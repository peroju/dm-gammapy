{
 "cells": [
  {
   "cell_type": "markdown",
   "metadata": {},
   "source": [
    "# Calculate sigmav vs. mDM for simulated DM datasets"
   ]
  },
  {
   "cell_type": "code",
   "execution_count": 1,
   "metadata": {},
   "outputs": [],
   "source": [
    "%matplotlib inline\n",
    "import matplotlib.pyplot as plt\n",
    "\n",
    "import numpy as np\n",
    "import astropy.units as u\n",
    "\n",
    "from gammapy.astro.darkmatter.utils import SigmaVEstimator\n",
    "from gammapy.spectrum import SpectrumDatasetOnOff, CountsSpectrum\n",
    "from gammapy.astro.darkmatter import DMAnnihilation\n",
    "from gammapy.irf import load_cta_irfs"
   ]
  },
  {
   "cell_type": "markdown",
   "metadata": {},
   "source": [
    "## Define parameters for simulated observation"
   ]
  },
  {
   "cell_type": "code",
   "execution_count": 2,
   "metadata": {},
   "outputs": [],
   "source": [
    "# -\n",
    "livetime = 100 * u.h # in hours\n",
    "offset = 0.5 * u.deg\n",
    "GLON=0 * u.deg  # -> convert to ALtAz\n",
    "GLAT=0 * u.deg  # -> convert to ALtAz\n",
    "\n",
    "# Energy from 0.01 to 100 TeV with 20 bins/decade\n",
    "energy = np.logspace(-1.8, 1.5, 20) * u.TeV\n",
    "\n",
    "# Energy true wider range and higher number of bins\n",
    "energy_true = np.logspace(-2, 2, 100) * u.TeV\n",
    "\n",
    "# DMAnnihilation Model\n",
    "JFAC = 3.41e19 * u.Unit(\"GeV2 cm-5\") # point source\n",
    "mDM = 5000*u.Unit(\"GeV\")\n",
    "channel = \"b\"\n",
    "redshift = 5"
   ]
  },
  {
   "cell_type": "markdown",
   "metadata": {},
   "source": [
    "## Build IRFs with the defined parameters"
   ]
  },
  {
   "cell_type": "code",
   "execution_count": 3,
   "metadata": {},
   "outputs": [],
   "source": [
    "# Load IRFs\n",
    "filename = (\n",
    "    \"$GAMMAPY_DATA/cta-1dc/caldb/data/cta/1dc/bcf/South_z20_50h/irf_file.fits\"\n",
    ")\n",
    "cta_irf = load_cta_irfs(filename)"
   ]
  },
  {
   "cell_type": "code",
   "execution_count": 4,
   "metadata": {},
   "outputs": [
    {
     "name": "stdout",
     "output_type": "stream",
     "text": [
      "NDDataArray summary info\n",
      "MapAxis\n",
      "\n",
      "\tname       : energy    \n",
      "\tunit       : 'TeV'     \n",
      "\tnbins      : 42        \n",
      "\tnode type  : edges     \n",
      "\tedges min  : 1.3e-02 TeV\n",
      "\tedges max  : 2.0e+02 TeV\n",
      "\tinterp     : log       \n",
      "MapAxis\n",
      "\n",
      "\tname       : offset    \n",
      "\tunit       : 'deg'     \n",
      "\tnbins      : 6         \n",
      "\tnode type  : edges     \n",
      "\tedges min  : 0.0e+00 deg\n",
      "\tedges max  : 6.0e+00 deg\n",
      "\tinterp     : lin       \n",
      "Data           : size =   252, min =  0.000 m2, max = 5371581.000 m2\n",
      "\n"
     ]
    },
    {
     "data": {
      "image/png": "[encoded data removed]",
      "text/plain": [
       "<Figure size 432x288 with 1 Axes>"
      ]
     },
     "metadata": {
      "needs_background": "light"
     },
     "output_type": "display_data"
    }
   ],
   "source": [
    "aeff = cta_irf[\"aeff\"].to_effective_area_table(offset=offset, energy=energy_true)\n",
    "aeff.plot()\n",
    "plt.loglog()\n",
    "print(cta_irf[\"aeff\"].data)"
   ]
  },
  {
   "cell_type": "code",
   "execution_count": 5,
   "metadata": {
    "code_folding": []
   },
   "outputs": [
    {
     "name": "stdout",
     "output_type": "stream",
     "text": [
      "NDDataArray summary info\n",
      "MapAxis\n",
      "\n",
      "\tname       : e_true    \n",
      "\tunit       : 'TeV'     \n",
      "\tnbins      : 99        \n",
      "\tnode type  : edges     \n",
      "\tedges min  : 1.0e-02 TeV\n",
      "\tedges max  : 1.0e+02 TeV\n",
      "\tinterp     : log       \n",
      "MapAxis\n",
      "\n",
      "\tname       : e_reco    \n",
      "\tunit       : 'TeV'     \n",
      "\tnbins      : 19        \n",
      "\tnode type  : edges     \n",
      "\tedges min  : 1.6e-02 TeV\n",
      "\tedges max  : 3.2e+01 TeV\n",
      "\tinterp     : log       \n",
      "Data           : size =  1881, min =  0.000, max =  0.997\n",
      "\n"
     ]
    },
    {
     "data": {
      "image/png": "[encoded data removed]",
      "text/plain": [
       "<Figure size 432x288 with 1 Axes>"
      ]
     },
     "metadata": {
      "needs_background": "light"
     },
     "output_type": "display_data"
    }
   ],
   "source": [
    "edisp = cta_irf[\"edisp\"].to_energy_dispersion(\n",
    "    offset=offset, e_true=energy_true, e_reco=energy\n",
    ")\n",
    "edisp.plot_matrix()\n",
    "print(edisp.data)"
   ]
  },
  {
   "cell_type": "markdown",
   "metadata": {},
   "source": [
    "## Build the background counts from PSF and IRF background"
   ]
  },
  {
   "cell_type": "code",
   "execution_count": 6,
   "metadata": {},
   "outputs": [],
   "source": [
    "containment = 0.68\n",
    "energies = np.sqrt(energy[1:] * energy[:-1])\n",
    "psf = cta_irf[\"psf\"].to_energy_dependent_table_psf(theta=offset)\n",
    "on_radii = psf.containment_radius(energy=energies, fraction=containment)\n",
    "solid_angles = 2 * np.pi * (1 - np.cos(on_radii)) * u.sr\n",
    "\n",
    "#\n",
    "aeff.data.data *= containment"
   ]
  },
  {
   "cell_type": "code",
   "execution_count": 7,
   "metadata": {},
   "outputs": [],
   "source": [
    "bkg_data = cta_irf[\"bkg\"].evaluate_integrate(\n",
    "    fov_lon=GLON, fov_lat=GLAT, energy_reco=energy\n",
    ")\n",
    "bkg = CountsSpectrum(\n",
    "    energy[:-1],\n",
    "    energy[1:],\n",
    "    data=(bkg_data * solid_angles).to_value(\"h-1\")*livetime\n",
    ")"
   ]
  },
  {
   "cell_type": "code",
   "execution_count": 8,
   "metadata": {},
   "outputs": [
    {
     "data": {
      "text/plain": [
       "<matplotlib.axes._subplots.AxesSubplot at 0x11f5ca0b8>"
      ]
     },
     "execution_count": 8,
     "metadata": {},
     "output_type": "execute_result"
    },
    {
     "data": {
      "image/png": "[encoded data removed]",
      "text/plain": [
       "<Figure size 432x288 with 1 Axes>"
      ]
     },
     "metadata": {
      "needs_background": "light"
     },
     "output_type": "display_data"
    }
   ],
   "source": [
    "bkg.plot_hist()"
   ]
  },
  {
   "cell_type": "markdown",
   "metadata": {},
   "source": [
    "## Simulate OnOff observation with DM emission model"
   ]
  },
  {
   "cell_type": "code",
   "execution_count": 9,
   "metadata": {},
   "outputs": [],
   "source": [
    "# DM Flux\n",
    "flux_model = DMAnnihilation(\n",
    "    mass=mDM, \n",
    "    channel=channel, \n",
    "    jfactor=JFAC, \n",
    "    z=redshift\n",
    ")"
   ]
  },
  {
   "cell_type": "code",
   "execution_count": 10,
   "metadata": {},
   "outputs": [],
   "source": [
    "dataset = SpectrumDatasetOnOff(\n",
    "    aeff=aeff,\n",
    "    edisp=edisp,\n",
    "    model=flux_model,\n",
    "    livetime=livetime,\n",
    "    acceptance=1,\n",
    "    acceptance_off=5,\n",
    ")\n",
    "# dataset.fake(background_model=bkg) #simulation"
   ]
  },
  {
   "cell_type": "markdown",
   "metadata": {},
   "source": [
    "## Estimate sigma v"
   ]
  },
  {
   "cell_type": "markdown",
   "metadata": {},
   "source": [
    "**Enable inspection**"
   ]
  },
  {
   "cell_type": "code",
   "execution_count": 11,
   "metadata": {},
   "outputs": [],
   "source": [
    "import logging\n",
    "logging.basicConfig()\n",
    "logging.getLogger(\"gammapy.astro.darkmatter.utils\").setLevel(\"ERROR\")\n",
    "#logging.getLogger(\"gammapy.astro.darkmatter.utils\").setLevel(\"ERROR\")"
   ]
  },
  {
   "cell_type": "markdown",
   "metadata": {},
   "source": [
    "**Instatiate estimator**"
   ]
  },
  {
   "cell_type": "code",
   "execution_count": 12,
   "metadata": {},
   "outputs": [],
   "source": [
    "masses = [100, 200, 500, 1000, 5000, 10000, 50000]*u.GeV\n",
    "channels = [\"b\", \"tau\", \"Z\", \"W\"] \n",
    "estimator = SigmaVEstimator(dataset, masses, channels, jfact=JFAC, background_model=bkg)"
   ]
  },
  {
   "cell_type": "markdown",
   "metadata": {},
   "source": [
    "**Run estimator and fetch results**"
   ]
  },
  {
   "cell_type": "code",
   "execution_count": 13,
   "metadata": {
    "scrolled": false
   },
   "outputs": [
    {
     "name": "stderr",
     "output_type": "stream",
     "text": [
      "ERROR:gammapy.astro.darkmatter.utils:Channel: tau - Run: 0 - Mass: 5000.0 GeV\n",
      "ERROR:gammapy.astro.darkmatter.utils:Flat likelihood\n",
      "ERROR:gammapy.astro.darkmatter.utils:Channel: tau - Run: 0 - Mass: 50000.0 GeV\n",
      "ERROR:gammapy.astro.darkmatter.utils:Flat likelihood\n",
      "ERROR:gammapy.astro.darkmatter.utils:Channel: W - Run: 0 - Mass: 10000.0 GeV\n",
      "ERROR:gammapy.astro.darkmatter.utils:Flat likelihood\n",
      "ERROR:gammapy.astro.darkmatter.utils:Channel: W - Run: 0 - Mass: 50000.0 GeV\n",
      "ERROR:gammapy.astro.darkmatter.utils:Flat likelihood\n",
      "ERROR:gammapy.astro.darkmatter.utils:Channel: W - Run: 4 - Mass: 10000.0 GeV\n",
      "ERROR:gammapy.astro.darkmatter.utils:Flat likelihood\n",
      "ERROR:gammapy.astro.darkmatter.utils:Channel: tau - Run: 7 - Mass: 50000.0 GeV\n",
      "ERROR:gammapy.astro.darkmatter.utils:Flat likelihood\n",
      "ERROR:gammapy.astro.darkmatter.utils:Channel: tau - Run: 8 - Mass: 50000.0 GeV\n",
      "ERROR:gammapy.astro.darkmatter.utils:Flat likelihood\n",
      "ERROR:gammapy.astro.darkmatter.utils:Channel: tau - Run: 15 - Mass: 50000.0 GeV\n",
      "ERROR:gammapy.astro.darkmatter.utils:Flat likelihood\n",
      "ERROR:gammapy.astro.darkmatter.utils:Channel: W - Run: 15 - Mass: 10000.0 GeV\n",
      "ERROR:gammapy.astro.darkmatter.utils:Flat likelihood\n",
      "ERROR:gammapy.astro.darkmatter.utils:Channel: W - Run: 21 - Mass: 10000.0 GeV\n",
      "ERROR:gammapy.astro.darkmatter.utils:Flat likelihood\n",
      "ERROR:gammapy.astro.darkmatter.utils:Channel: tau - Run: 26 - Mass: 50000.0 GeV\n",
      "ERROR:gammapy.astro.darkmatter.utils:Flat likelihood\n",
      "ERROR:gammapy.astro.darkmatter.utils:Channel: W - Run: 26 - Mass: 10000.0 GeV\n",
      "ERROR:gammapy.astro.darkmatter.utils:Flat likelihood\n",
      "ERROR:gammapy.astro.darkmatter.utils:Channel: W - Run: 26 - Mass: 50000.0 GeV\n",
      "ERROR:gammapy.astro.darkmatter.utils:Flat likelihood\n"
     ]
    },
    {
     "name": "stdout",
     "output_type": "stream",
     "text": [
      "CPU times: user 2min 37s, sys: 5.06 s, total: 2min 42s\n",
      "Wall time: 2min 56s\n"
     ]
    }
   ],
   "source": [
    "%%time\n",
    "#likelihood_profile_opts=dict(bounds=50, nvalues=50),\n",
    "result = estimator.run(30)"
   ]
  },
  {
   "cell_type": "markdown",
   "metadata": {},
   "source": [
    "## Inspection of results"
   ]
  },
  {
   "cell_type": "markdown",
   "metadata": {},
   "source": [
    "**Display results for channel b and second run**"
   ]
  },
  {
   "cell_type": "code",
   "execution_count": 19,
   "metadata": {
    "scrolled": false
   },
   "outputs": [
    {
     "data": {
      "text/html": [
       "<i>Table length=7</i>\n",
       "<table id=\"table4809653832\" class=\"table-striped table-bordered table-condensed\">\n",
       "<thead><tr><th>mass</th><th>sigma_v</th><th>scale_best</th><th>scale_ul</th><th>likeprofile</th></tr></thead>\n",
       "<thead><tr><th>GeV</th><th>cm3 / s</th><th></th><th></th><th></th></tr></thead>\n",
       "<thead><tr><th>float64</th><th>float64</th><th>float64</th><th>float64</th><th>object</th></tr></thead>\n",
       "<tr><td>100.0</td><td>1.0641438913301339e-24</td><td>0.0</td><td>35.471463044337796</td><td>{&apos;values&apos;: array([0.00000000e+00, 1.31012472e-01, 6.26776638e+00, 1.24045203e+01,\n",
       "       1.85412742e+01, 2.46780281e+01, 3.08147820e+01, 3.69515359e+01,\n",
       "       4.30882899e+01, 4.92250438e+01, 5.53617977e+01, 6.14985516e+01,\n",
       "       6.76353055e+01, 7.37720594e+01, 7.99088133e+01, 8.60455672e+01,\n",
       "       9.21823212e+01, 9.83190751e+01, 1.04455829e+02, 1.10592583e+02,\n",
       "       1.16729337e+02, 1.22866091e+02, 1.29002845e+02, 1.35139599e+02]), &apos;likelihood&apos;: array([13.05172047, 13.0563855 , 13.32881002, 13.68428   , 14.12271099,\n",
       "       14.64401878, 15.24811942, 15.93492916, 16.70436452, 17.55634224,\n",
       "       18.49077931, 19.50759293, 20.60670056, 21.78801989, 23.05146883,\n",
       "       24.39696553, 25.82442838, 27.33377599, 28.92492721, 30.59780112,\n",
       "       32.352317  , 34.1883944 , 36.10595308, 38.10491301])}</td></tr>\n",
       "<tr><td>200.0</td><td>5.7492783817055e-25</td><td>0.0</td><td>19.164261272351666</td><td>{&apos;values&apos;: array([ 0.        ,  2.74504134,  6.18502636,  9.62501138, 13.0649964 ,\n",
       "       16.50498142, 19.94496643, 23.38495145, 26.82493647, 30.26492149,\n",
       "       33.70490651, 37.14489153, 40.58487654, 44.02486156, 47.46484658,\n",
       "       50.9048316 , 54.34481662, 57.78480163, 61.22478665, 64.66477167,\n",
       "       68.10475669, 71.54474171, 74.98472673]), &apos;likelihood&apos;: array([13.05460909, 13.28226408, 13.64607223, 14.09278336, 14.62232193,\n",
       "       15.23461258, 15.92958015, 16.70714965, 17.56724631, 18.5097955 ,\n",
       "       19.53472282, 20.64195402, 21.83141507, 23.10303209, 24.4567314 ,\n",
       "       25.89243951, 27.4100831 , 29.00958903, 30.69088435, 32.45389629,\n",
       "       34.29855225, 36.22477982, 38.23250675])}</td></tr>\n",
       "<tr><td>500.0</td><td>3.50296616502037e-25</td><td>0.0</td><td>11.676553883401233</td><td>{&apos;values&apos;: array([ 0.        ,  2.23336621,  4.50445382,  6.77554144,  9.04662905,\n",
       "       11.31771667, 13.58880428, 15.8598919 , 18.13097951, 20.40206713,\n",
       "       22.67315474, 24.94424236, 27.21532997, 29.48641759, 31.7575052 ,\n",
       "       34.02859282, 36.29968043, 38.57076805, 40.84185566, 43.11294328,\n",
       "       45.38403089, 47.65511851]), &apos;likelihood&apos;: array([13.05166252, 13.40086687, 13.83824032, 14.3582737 , 14.96085822,\n",
       "       15.64588529, 16.41324651, 17.26283366, 18.19453874, 19.20825393,\n",
       "       20.30387159, 21.48128428, 22.74038477, 24.08106598, 25.50322107,\n",
       "       27.00674335, 28.59152636, 30.25746381, 32.00444959, 33.8323778 ,\n",
       "       35.74114273, 37.73063886])}</td></tr>\n",
       "<tr><td>1000.0</td><td>3.1119942194377835e-25</td><td>0.0</td><td>10.373314064792611</td><td>{&apos;values&apos;: array([ 0.        ,  1.49938267,  3.40414515,  5.30890762,  7.2136701 ,\n",
       "        9.11843257, 11.02319505, 12.92795752, 14.83272   , 16.73748247,\n",
       "       18.64224495, 20.54700742, 22.4517699 , 24.35653237, 26.26129485,\n",
       "       28.16605732, 30.0708198 , 31.97558227, 33.88034475, 35.78510722,\n",
       "       37.6898697 , 39.59463217, 41.49939465]), &apos;likelihood&apos;: array([13.05660605, 13.29272181, 13.67306659, 14.13592221, 14.68111633,\n",
       "       15.30847706, 16.01783297, 16.80901307, 17.68184684, 18.63616419,\n",
       "       19.67179549, 20.78857157, 21.9863237 , 23.26488359, 24.62408342,\n",
       "       26.0637558 , 27.5837338 , 29.18385094, 30.86394117, 32.6238389 ,\n",
       "       34.46337898, 36.3823967 , 38.38072781])}</td></tr>\n",
       "<tr><td>5000.0</td><td>5.308798586090812e-25</td><td>1.3770942987189434</td><td>17.695995286969374</td><td>{&apos;values&apos;: array([-47.65943784, -45.65794673, -43.65645562, -41.65496452,\n",
       "       -39.65347341, -37.6519823 , -35.65049119, -33.64900008,\n",
       "       -31.64750898, -29.64601787, -27.64452676, -25.64303565,\n",
       "       -23.64154455, -21.64005344, -19.63856233, -17.63707122,\n",
       "       -15.63558012, -13.63408901, -11.6325979 ,  -9.63110679,\n",
       "        -7.62961569,  -5.62812458,  -3.62663347,  -1.62514236,\n",
       "         0.37634874,   2.37783985,   4.37933096,   6.38082207,\n",
       "         8.38231318,  10.38380428,  12.38529539,  14.3867865 ,\n",
       "        16.38827761,  18.38976871,  20.39125982,  22.39275093,\n",
       "        24.39424204,  26.39573314,  28.39722425,  30.39871536,\n",
       "        32.40020647,  34.40169757,  36.40318868,  38.40467979,\n",
       "        40.4061709 ,  42.407662  ,  44.40915311,  46.41064422,\n",
       "        48.41213533,  50.41362644]), &apos;likelihood&apos;: array([39.9305742 , 37.72155862, 35.61274482, 33.60334895, 31.69259207,\n",
       "       29.87970027, 28.16390486, 26.54444241, 25.02055496, 23.59149004,\n",
       "       22.2565008 , 21.01484614, 19.8657907 , 18.80860503, 17.8425656 ,\n",
       "       16.96695488, 16.18106138, 15.48417971, 14.87561064, 14.35466108,\n",
       "       13.92064415, 13.57287922, 13.31069189, 13.13341401, 13.04214971,\n",
       "       13.04210324, 13.12499945, 13.2901953 , 13.53705401, 13.86494505,\n",
       "       14.27324414, 14.76133323, 15.32860045, 15.97444013, 16.69825275,\n",
       "       17.49944492, 18.37742933, 19.33162474, 20.36145593, 21.46635369,\n",
       "       22.64575473, 23.89910169, 25.22584308, 26.62543323, 28.09733222,\n",
       "       29.64100592, 31.25592584, 32.94156915, 34.6974186 , 36.52296247])}</td></tr>\n",
       "<tr><td>10000.0</td><td>6.655493548048235e-25</td><td>2.5470458136828196</td><td>22.184978493494118</td><td>{&apos;values&apos;: array([-56.05223938, -53.66043182, -51.26862426, -48.87681671,\n",
       "       -46.48500915, -44.09320159, -41.70139403, -39.30958647,\n",
       "       -36.91777891, -34.52597135, -32.13416379, -29.74235623,\n",
       "       -27.35054867, -24.95874111, -22.56693356, -20.175126  ,\n",
       "       -17.78331844, -15.39151088, -12.99970332, -10.60789576,\n",
       "        -8.2160882 ,  -5.82428064,  -3.43247308,  -1.04066552,\n",
       "         1.35114203,   3.74294959,   6.13475715,   8.52656471,\n",
       "        10.91837227,  13.31017983,  15.70198739,  18.09379495,\n",
       "        20.48560251,  22.87741007,  25.26921762,  27.66102518,\n",
       "        30.05283274,  32.4446403 ,  34.83644786,  37.22825542,\n",
       "        39.62006298,  42.01187054,  44.4036781 ,  46.79548566,\n",
       "        49.18729321,  51.57910077,  53.97090833,  56.36271589,\n",
       "        58.75452345,  61.14633101]), &apos;likelihood&apos;: array([41.21787444, 38.85279862, 36.60121406, 34.46169925, 32.43283826,\n",
       "       30.51322203, 28.70144974, 26.99612992, 25.39588158, 23.89933524,\n",
       "       22.50513383, 21.21193356, 20.01840468, 18.92323215, 17.92511626,\n",
       "       17.02277319, 16.21493545, 15.5003523 , 14.87779009, 14.34603256,\n",
       "       13.90388106, 13.55015472, 13.28369063, 13.10334388, 13.01433325,\n",
       "       13.01409185, 13.09664154, 13.26090965, 13.50584147, 13.83040011,\n",
       "       14.2335664 , 14.71433871, 15.27173283, 15.90478174, 16.61253545,\n",
       "       17.39406077, 18.24844108, 19.17477614, 20.17218179, 21.23978978,\n",
       "       22.37674744, 23.5822175 , 24.85537778, 26.19542093, 27.60155422,\n",
       "       29.0729992 , 30.60899149, 32.20878052, 33.87162921, 35.59681378])}</td></tr>\n",
       "<tr><td>50000.0</td><td>1.0958499360319586e-24</td><td>0.0</td><td>36.528331201065285</td><td>{&apos;values&apos;: array([  0.        ,   4.30439537,   9.24622015,  14.18804492,\n",
       "        19.1298697 ,  24.07169447,  29.01351925,  33.95534402,\n",
       "        38.8971688 ,  43.83899357,  48.78081834,  53.72264312,\n",
       "        58.66446789,  63.60629267,  68.54811744,  73.48994222,\n",
       "        78.43176699,  83.37359177,  88.31541654,  93.25724132,\n",
       "        98.19906609, 103.14089087, 108.08271564, 113.02454042,\n",
       "       117.96636519]), &apos;likelihood&apos;: array([13.05356474, 13.1582972 , 13.35511652, 13.62884524, 13.9770942 ,\n",
       "       14.39757538, 14.88809834, 15.44656647, 16.07097314, 16.75939786,\n",
       "       17.51000239, 18.32102702, 19.19078681, 20.11766808, 21.10012486,\n",
       "       22.13667565, 23.22590019, 24.36643643, 25.5569776 , 26.7962695 ,\n",
       "       28.08310787, 29.41633587, 30.79484178, 32.21755673, 33.68345261])}</td></tr>\n",
       "</table>"
      ],
      "text/plain": [
       "<Table length=7>\n",
       "  mass  ...\n",
       "  GeV   ...\n",
       "float64 ...\n",
       "------- ...\n",
       "  100.0 ...\n",
       "  200.0 ...\n",
       "  500.0 ...\n",
       " 1000.0 ...\n",
       " 5000.0 ...\n",
       "10000.0 ...\n",
       "50000.0 ..."
      ]
     },
     "execution_count": 19,
     "metadata": {},
     "output_type": "execute_result"
    }
   ],
   "source": [
    "cols = [\"mass\", \"sigma_v\", \"scale_best\", \"scale_ul\", \"likeprofile\"]\n",
    "result[\"runs\"][\"b\"][0][cols]"
   ]
  },
  {
   "cell_type": "markdown",
   "metadata": {},
   "source": [
    "**Plot likelihood profile for a specific fit**"
   ]
  },
  {
   "cell_type": "code",
   "execution_count": 20,
   "metadata": {},
   "outputs": [],
   "source": [
    "mask = result[\"runs\"][\"b\"][0][\"mass\"] == 1000.0\n",
    "profile = result[\"runs\"][\"b\"][0][\"likeprofile\"][mask][0]"
   ]
  },
  {
   "cell_type": "code",
   "execution_count": 21,
   "metadata": {},
   "outputs": [
    {
     "data": {
      "image/png": "[encoded data removed]",
      "text/plain": [
       "<Figure size 432x288 with 1 Axes>"
      ]
     },
     "metadata": {
      "needs_background": "light"
     },
     "output_type": "display_data"
    }
   ],
   "source": [
    "plt.plot(profile[\"values\"], profile[\"likelihood\"]);"
   ]
  },
  {
   "cell_type": "markdown",
   "metadata": {},
   "source": [
    "## Plot obtained results for sigma"
   ]
  },
  {
   "cell_type": "code",
   "execution_count": 22,
   "metadata": {},
   "outputs": [
    {
     "data": {
      "text/html": [
       "<i>Table length=7</i>\n",
       "<table id=\"table4820445840\" class=\"table-striped table-bordered table-condensed\">\n",
       "<thead><tr><th>mass</th><th>sigma_v</th><th>std</th></tr></thead>\n",
       "<thead><tr><th>GeV</th><th>cm3 / s</th><th>cm3 / s</th></tr></thead>\n",
       "<thead><tr><th>float64</th><th>float64</th><th>float64</th></tr></thead>\n",
       "<tr><td>100.0</td><td>1.6504740675712623e-24</td><td>7.977674796863447e-25</td></tr>\n",
       "<tr><td>200.0</td><td>6.629047315341281e-25</td><td>2.9716583691951943e-25</td></tr>\n",
       "<tr><td>500.0</td><td>3.7631071241523197e-25</td><td>1.5632270961283334e-25</td></tr>\n",
       "<tr><td>1000.0</td><td>3.1453656544250433e-25</td><td>1.3803630936817445e-25</td></tr>\n",
       "<tr><td>5000.0</td><td>2.8857878201678814e-25</td><td>1.4443952365202313e-25</td></tr>\n",
       "<tr><td>10000.0</td><td>1.9073147535214242e-25</td><td>1.2026525066481416e-25</td></tr>\n",
       "<tr><td>50000.0</td><td>1.2390568208926669e-24</td><td>7.4098975272644575e-25</td></tr>\n",
       "</table>"
      ],
      "text/plain": [
       "<Table length=7>\n",
       "  mass         sigma_v                  std          \n",
       "  GeV          cm3 / s                cm3 / s        \n",
       "float64        float64                float64        \n",
       "------- ---------------------- ----------------------\n",
       "  100.0 1.6504740675712623e-24  7.977674796863447e-25\n",
       "  200.0  6.629047315341281e-25 2.9716583691951943e-25\n",
       "  500.0 3.7631071241523197e-25 1.5632270961283334e-25\n",
       " 1000.0 3.1453656544250433e-25 1.3803630936817445e-25\n",
       " 5000.0 2.8857878201678814e-25 1.4443952365202313e-25\n",
       "10000.0 1.9073147535214242e-25 1.2026525066481416e-25\n",
       "50000.0 1.2390568208926669e-24 7.4098975272644575e-25"
      ]
     },
     "execution_count": 22,
     "metadata": {},
     "output_type": "execute_result"
    }
   ],
   "source": [
    "result[\"mean\"][\"W\"]"
   ]
  },
  {
   "cell_type": "code",
   "execution_count": 23,
   "metadata": {},
   "outputs": [
    {
     "data": {
      "image/png": "[encoded data removed]",
      "text/plain": [
       "<Figure size 648x504 with 1 Axes>"
      ]
     },
     "metadata": {
      "needs_background": "light"
     },
     "output_type": "display_data"
    }
   ],
   "source": [
    "plt.figure(figsize=(9,7))\n",
    "plt.ylim(1e-26, 1e-22)\n",
    "plt.ylabel(r\"<$\\sigma_{ann}v$> (cm$^3$s$^{-1}$)\", fontsize=12)\n",
    "plt.xlabel(\"M$_{DM}$ (GeV)\", fontsize=12)\n",
    "plt.title('m$_{DM}$ 5000 GeV')\n",
    "\n",
    "for ch in channels:\n",
    "    plt.loglog(\n",
    "        result[\"mean\"][ch][\"mass\"].data,\n",
    "        result[\"mean\"][ch][\"sigma_v\"].data,\n",
    "        ls=\"--\",\n",
    "        label='channel {}'.format(ch)\n",
    "       )\n",
    "plt.legend();"
   ]
  },
  {
   "cell_type": "code",
   "execution_count": null,
   "metadata": {},
   "outputs": [],
   "source": []
  },
  {
   "cell_type": "code",
   "execution_count": null,
   "metadata": {},
   "outputs": [],
   "source": []
  }
 ],
 "metadata": {
  "kernelspec": {
   "display_name": "gammapy-dev",
   "language": "python",
   "name": "gammapy-dev"
  },
  "language_info": {
   "codemirror_mode": {
    "name": "ipython",
    "version": 3
   },
   "file_extension": ".py",
   "mimetype": "text/x-python",
   "name": "python",
   "nbconvert_exporter": "python",
   "pygments_lexer": "ipython3",
   "version": "3.7.0"
  },
  "toc": {
   "base_numbering": 1,
   "nav_menu": {},
   "number_sections": false,
   "sideBar": true,
   "skip_h1_title": false,
   "title_cell": "Table of Contents",
   "title_sidebar": "Contents",
   "toc_cell": false,
   "toc_position": {},
   "toc_section_display": true,
   "toc_window_display": false
  },
  "varInspector": {
   "cols": {
    "lenName": 16,
    "lenType": 16,
    "lenVar": 40
   },
   "kernels_config": {
    "python": {
     "delete_cmd_postfix": "",
     "delete_cmd_prefix": "del ",
     "library": "var_list.py",
     "varRefreshCmd": "print(var_dic_list())"
    },
    "r": {
     "delete_cmd_postfix": ") ",
     "delete_cmd_prefix": "rm(",
     "library": "var_list.r",
     "varRefreshCmd": "cat(var_dic_list()) "
    }
   },
   "types_to_exclude": [
    "module",
    "function",
    "builtin_function_or_method",
    "instance",
    "_Feature"
   ],
   "window_display": false
  }
 },
 "nbformat": 4,
 "nbformat_minor": 2
}
