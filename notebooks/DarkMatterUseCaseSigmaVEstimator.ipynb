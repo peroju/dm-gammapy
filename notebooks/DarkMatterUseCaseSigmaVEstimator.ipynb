{
 "cells": [
  {
   "cell_type": "markdown",
   "metadata": {},
   "source": [
    "# Calculate sigmav vs. mDM for simulated DM datasets"
   ]
  },
  {
   "cell_type": "code",
   "execution_count": 1,
   "metadata": {},
   "outputs": [],
   "source": [
    "%matplotlib inline\n",
    "import matplotlib.pyplot as plt\n",
    "\n",
    "import numpy as np\n",
    "import astropy.units as u\n",
    "\n",
    "from gammapy.modeling.models import PointSpatialModel\n",
    "from gammapy.modeling.models import SkyModel, Models\n",
    "from gammapy.astro.darkmatter.utils import SigmaVEstimator, DMDatasetOnOff\n",
    "from gammapy.spectrum import CountsSpectrum\n",
    "from gammapy.astro.darkmatter import DarkMatterAnnihilationSpectralModel\n",
    "from gammapy.irf import load_cta_irfs"
   ]
  },
  {
   "cell_type": "markdown",
   "metadata": {},
   "source": [
    "## Define parameters for simulated observation"
   ]
  },
  {
   "cell_type": "code",
   "execution_count": 2,
   "metadata": {},
   "outputs": [],
   "source": [
    "# -\n",
    "livetime = 100 * u.h # in hours\n",
    "offset = 0.5 * u.deg\n",
    "FOVLON=0 * u.deg\n",
    "FOVLAT=0 * u.deg\n",
    "\n",
    "# Energy from 0.01 to 100 TeV with 20 bins/decade\n",
    "energy = np.logspace(-1.8, 1.5, 20) * u.TeV\n",
    "\n",
    "# Energy true wider range and higher number of bins\n",
    "energy_true = np.logspace(-2, 2, 100) * u.TeV\n",
    "\n",
    "# DMAnnihilation Model\n",
    "JFAC = 3.41e19 * u.Unit(\"GeV2 cm-5\") # point source\n",
    "mDM = 5000*u.Unit(\"GeV\")\n",
    "channel = \"b\"\n",
    "redshift = 0"
   ]
  },
  {
   "cell_type": "markdown",
   "metadata": {},
   "source": [
    "## Build IRFs with the defined parameters"
   ]
  },
  {
   "cell_type": "code",
   "execution_count": 3,
   "metadata": {},
   "outputs": [],
   "source": [
    "# Load IRFs\n",
    "filename = (\n",
    "    \"$GAMMAPY_DATA/cta-1dc/caldb/data/cta/1dc/bcf/South_z20_50h/irf_file.fits\"\n",
    ")\n",
    "cta_irf = load_cta_irfs(filename)"
   ]
  },
  {
   "cell_type": "code",
   "execution_count": 4,
   "metadata": {},
   "outputs": [
    {
     "name": "stdout",
     "output_type": "stream",
     "text": [
      "NDDataArray summary info\n",
      "MapAxis\n",
      "\n",
      "\tname       : energy    \n",
      "\tunit       : 'TeV'     \n",
      "\tnbins      : 42        \n",
      "\tnode type  : edges     \n",
      "\tedges min  : 1.3e-02 TeV\n",
      "\tedges max  : 2.0e+02 TeV\n",
      "\tinterp     : log       \n",
      "MapAxis\n",
      "\n",
      "\tname       : offset    \n",
      "\tunit       : 'deg'     \n",
      "\tnbins      : 6         \n",
      "\tnode type  : edges     \n",
      "\tedges min  : 0.0e+00 deg\n",
      "\tedges max  : 6.0e+00 deg\n",
      "\tinterp     : lin       \n",
      "Data           : size =   252, min =  0.000 m2, max = 5371581.000 m2\n",
      "\n"
     ]
    },
    {
     "data": {
      "image/png": "[encoded data removed]",
      "text/plain": [
       "<Figure size 432x288 with 1 Axes>"
      ]
     },
     "metadata": {
      "needs_background": "light"
     },
     "output_type": "display_data"
    }
   ],
   "source": [
    "aeff = cta_irf[\"aeff\"].to_effective_area_table(offset=offset, energy=energy)\n",
    "aeff.plot()\n",
    "plt.loglog()\n",
    "print(cta_irf[\"aeff\"].data)"
   ]
  },
  {
   "cell_type": "code",
   "execution_count": 5,
   "metadata": {
    "code_folding": []
   },
   "outputs": [],
   "source": [
    "#edisp = cta_irf[\"edisp\"].to_energy_dispersion(\n",
    "#    offset=offset, e_true=energy_true, e_reco=energy\n",
    "#)\n",
    "#edisp.plot_matrix()\n",
    "#print(edisp.data)"
   ]
  },
  {
   "cell_type": "markdown",
   "metadata": {},
   "source": [
    "## Build the background counts from PSF and IRF background"
   ]
  },
  {
   "cell_type": "code",
   "execution_count": 6,
   "metadata": {},
   "outputs": [],
   "source": [
    "containment = 0.68\n",
    "energies = np.sqrt(energy[1:] * energy[:-1])\n",
    "psf = cta_irf[\"psf\"].to_energy_dependent_table_psf(theta=offset)\n",
    "on_radii = psf.containment_radius(energy=energies, fraction=containment)\n",
    "solid_angles = 2 * np.pi * (1 - np.cos(on_radii)) * u.sr\n",
    "\n",
    "#\n",
    "aeff.data.data *= containment"
   ]
  },
  {
   "cell_type": "code",
   "execution_count": 7,
   "metadata": {},
   "outputs": [],
   "source": [
    "bkg_data = cta_irf[\"bkg\"].evaluate_integrate(\n",
    "    fov_lon=FOVLON, fov_lat=FOVLAT, energy_reco=energy\n",
    ")\n",
    "bkg = CountsSpectrum(\n",
    "    energy[:-1],\n",
    "    energy[1:],\n",
    "    data=(bkg_data * solid_angles).to_value(\"h-1\")*livetime\n",
    ")"
   ]
  },
  {
   "cell_type": "code",
   "execution_count": 8,
   "metadata": {},
   "outputs": [
    {
     "data": {
      "text/plain": [
       "<matplotlib.axes._subplots.AxesSubplot at 0x11c2d8e10>"
      ]
     },
     "execution_count": 8,
     "metadata": {},
     "output_type": "execute_result"
    },
    {
     "data": {
      "image/png": "[encoded data removed]",
      "text/plain": [
       "<Figure size 432x288 with 1 Axes>"
      ]
     },
     "metadata": {
      "needs_background": "light"
     },
     "output_type": "display_data"
    }
   ],
   "source": [
    "bkg.plot_hist()"
   ]
  },
  {
   "cell_type": "markdown",
   "metadata": {},
   "source": [
    "## Simulate OnOff observation with DM emission model"
   ]
  },
  {
   "cell_type": "code",
   "execution_count": 9,
   "metadata": {},
   "outputs": [],
   "source": [
    "# DM Spatial Component\n",
    "spatial_model = PointSpatialModel(\n",
    "    lon_0=\"0 deg\", lat_0=\"0 deg\", frame=\"icrs\"\n",
    ")"
   ]
  },
  {
   "cell_type": "code",
   "execution_count": 10,
   "metadata": {},
   "outputs": [],
   "source": [
    "# DM Flux\n",
    "spectral_model = DarkMatterAnnihilationSpectralModel(\n",
    "    mass=mDM, \n",
    "    channel=channel, \n",
    "    jfactor=JFAC, \n",
    "    z=redshift\n",
    ")"
   ]
  },
  {
   "cell_type": "code",
   "execution_count": 11,
   "metadata": {},
   "outputs": [],
   "source": [
    "#from gammapy.modeling.models import Absorption, AbsorbedSpectralModel\n",
    "#absorption_model = Absorption.read_builtin('dominguez')\n",
    "#spectral_model = AbsorbedSpectralModel(spectral_model, absorption_model, redshift)"
   ]
  },
  {
   "cell_type": "code",
   "execution_count": 12,
   "metadata": {},
   "outputs": [],
   "source": [
    "sky_model = SkyModel(spatial_model=spatial_model, spectral_model=spectral_model)\n",
    "models = Models([sky_model])"
   ]
  },
  {
   "cell_type": "code",
   "execution_count": 13,
   "metadata": {},
   "outputs": [],
   "source": [
    "dataset = DMDatasetOnOff(\n",
    "    aeff=aeff,\n",
    "    models=models,\n",
    "    livetime=livetime,\n",
    "    acceptance=1,\n",
    "    acceptance_off=5\n",
    ")"
   ]
  },
  {
   "cell_type": "code",
   "execution_count": 14,
   "metadata": {},
   "outputs": [],
   "source": [
    "nuisance = dict(\n",
    "    j=JFAC,\n",
    "    jobs=JFAC,\n",
    "    sigmaj=0.1*JFAC,\n",
    "    sigmatau=0.01,\n",
    "    # width=5 # default value / optional param \n",
    ")\n",
    "dataset.nuisance = nuisance"
   ]
  },
  {
   "cell_type": "markdown",
   "metadata": {},
   "source": [
    "## The SigmaVEstimator"
   ]
  },
  {
   "cell_type": "markdown",
   "metadata": {},
   "source": [
    "**Enable inspection**"
   ]
  },
  {
   "cell_type": "code",
   "execution_count": 15,
   "metadata": {},
   "outputs": [],
   "source": [
    "import logging\n",
    "logging.basicConfig()\n",
    "#logging.getLogger(\"gammapy.astro.darkmatter.utils\").setLevel(\"WARNING\")\n",
    "logging.getLogger(\"gammapy.astro.darkmatter.utils\").setLevel(\"DEBUG\")"
   ]
  },
  {
   "cell_type": "markdown",
   "metadata": {},
   "source": [
    "**Instatiate estimator**"
   ]
  },
  {
   "cell_type": "code",
   "execution_count": 16,
   "metadata": {},
   "outputs": [],
   "source": [
    "masses = [100, 200, 500, 1000, 5000, 10000, 50000]*u.GeV\n",
    "channels = [\"b\", \"tau\", \"Z\"] \n",
    "estimator = SigmaVEstimator(dataset, masses, channels, background_model=bkg)"
   ]
  },
  {
   "cell_type": "markdown",
   "metadata": {},
   "source": [
    "**Run estimator and fetch results**"
   ]
  },
  {
   "cell_type": "code",
   "execution_count": 17,
   "metadata": {
    "scrolled": false
   },
   "outputs": [
    {
     "name": "stderr",
     "output_type": "stream",
     "text": [
      "INFO:gammapy.astro.darkmatter.utils:----\n",
      "INFO:gammapy.astro.darkmatter.utils:Run: 0\n",
      "INFO:gammapy.astro.darkmatter.utils:Channel: b\n",
      "INFO:gammapy.astro.darkmatter.utils:Mass: 100.0 GeV\n",
      "DEBUG:gammapy.astro.darkmatter.utils:ZeroDeltaL: 0.0328 \t| LZero: 111.441 \t| LMin:  111.408\n",
      "DEBUG:gammapy.astro.darkmatter.utils:MaximumDeltaL: 0.0567 \t| LMax: 111.497 \t| LMin:  111.441\n",
      "WARNING:gammapy.astro.darkmatter.utils:Wider range needed in likelihood profile\n",
      "WARNING:gammapy.astro.darkmatter.utils:Skipping run 0\n",
      "INFO:gammapy.astro.darkmatter.utils:----\n",
      "INFO:gammapy.astro.darkmatter.utils:Run: 1\n",
      "INFO:gammapy.astro.darkmatter.utils:Channel: b\n",
      "INFO:gammapy.astro.darkmatter.utils:Mass: 100.0 GeV\n",
      "DEBUG:gammapy.astro.darkmatter.utils:ZeroDeltaL: 0.2279 \t| LZero: 114.186 \t| LMin:  113.958\n",
      "DEBUG:gammapy.astro.darkmatter.utils:MaximumDeltaL: 582.0896 \t| LMax: 696.048 \t| LMin:  113.958\n",
      "DEBUG:gammapy.astro.darkmatter.utils:SvBestFound: 8.864 \t| SvBest: 8.864 \t| SvUL: 117.444\n",
      "DEBUG:gammapy.astro.darkmatter.utils:JBest: 5.073052212128796e+19 GeV2 / cm5\n",
      "INFO:gammapy.astro.darkmatter.utils:Sigma v:3.5233282487778054e-24 cm3 / s\n",
      "INFO:gammapy.astro.darkmatter.utils:----\n",
      "INFO:gammapy.astro.darkmatter.utils:Run: 1\n",
      "INFO:gammapy.astro.darkmatter.utils:Channel: b\n",
      "INFO:gammapy.astro.darkmatter.utils:Mass: 200.0 GeV\n",
      "DEBUG:gammapy.astro.darkmatter.utils:ZeroDeltaL: 0.0595 \t| LZero: 114.186 \t| LMin:  114.127\n",
      "DEBUG:gammapy.astro.darkmatter.utils:MaximumDeltaL: 1456.3182 \t| LMax: 1570.445 \t| LMin:  114.127\n",
      "DEBUG:gammapy.astro.darkmatter.utils:SvBestFound: 4.153 \t| SvBest: 4.153 \t| SvUL: 64.182\n",
      "DEBUG:gammapy.astro.darkmatter.utils:JBest: 3.397201689854685e+19 GeV2 / cm5\n",
      "INFO:gammapy.astro.darkmatter.utils:Sigma v:1.925449523569344e-24 cm3 / s\n",
      "INFO:gammapy.astro.darkmatter.utils:----\n",
      "INFO:gammapy.astro.darkmatter.utils:Run: 1\n",
      "INFO:gammapy.astro.darkmatter.utils:Channel: b\n",
      "INFO:gammapy.astro.darkmatter.utils:Mass: 500.0 GeV\n",
      "DEBUG:gammapy.astro.darkmatter.utils:ZeroDeltaL: 0.6742 \t| LZero: 114.187 \t| LMin:  113.513\n",
      "DEBUG:gammapy.astro.darkmatter.utils:MaximumDeltaL: 2247.4115 \t| LMax: 2361.599 \t| LMin:  114.187\n",
      "DEBUG:gammapy.astro.darkmatter.utils:SvBestFound: -11.956 \t| SvBest: 0.000 \t| SvUL: 23.820\n",
      "DEBUG:gammapy.astro.darkmatter.utils:JBest: 2.7300099099068817e+19 GeV2 / cm5\n",
      "INFO:gammapy.astro.darkmatter.utils:Sigma v:7.14591843710875e-25 cm3 / s\n",
      "INFO:gammapy.astro.darkmatter.utils:----\n",
      "INFO:gammapy.astro.darkmatter.utils:Run: 1\n",
      "INFO:gammapy.astro.darkmatter.utils:Channel: b\n",
      "INFO:gammapy.astro.darkmatter.utils:Mass: 1000.0 GeV\n",
      "DEBUG:gammapy.astro.darkmatter.utils:ZeroDeltaL: 2.3726 \t| LZero: 114.186 \t| LMin:  111.814\n",
      "DEBUG:gammapy.astro.darkmatter.utils:MaximumDeltaL: 1444.8751 \t| LMax: 1559.062 \t| LMin:  114.186\n",
      "DEBUG:gammapy.astro.darkmatter.utils:SvBestFound: -14.823 \t| SvBest: 0.000 \t| SvUL: 13.674\n",
      "DEBUG:gammapy.astro.darkmatter.utils:JBest: 3.3783676290021302e+19 GeV2 / cm5\n",
      "INFO:gammapy.astro.darkmatter.utils:Sigma v:4.102293116302004e-25 cm3 / s\n",
      "INFO:gammapy.astro.darkmatter.utils:----\n",
      "INFO:gammapy.astro.darkmatter.utils:Run: 1\n",
      "INFO:gammapy.astro.darkmatter.utils:Channel: b\n",
      "INFO:gammapy.astro.darkmatter.utils:Mass: 5000.0 GeV\n",
      "DEBUG:gammapy.astro.darkmatter.utils:ZeroDeltaL: 0.1566 \t| LZero: 114.186 \t| LMin:  114.030\n",
      "DEBUG:gammapy.astro.darkmatter.utils:MaximumDeltaL: 105.7342 \t| LMax: 219.921 \t| LMin:  114.186\n",
      "DEBUG:gammapy.astro.darkmatter.utils:SvBestFound: -3.822 \t| SvBest: 0.000 \t| SvUL: 25.470\n",
      "DEBUG:gammapy.astro.darkmatter.utils:JBest: 3.430536149465616e+19 GeV2 / cm5\n",
      "INFO:gammapy.astro.darkmatter.utils:Sigma v:7.640902444177905e-25 cm3 / s\n",
      "INFO:gammapy.astro.darkmatter.utils:----\n",
      "INFO:gammapy.astro.darkmatter.utils:Run: 1\n",
      "INFO:gammapy.astro.darkmatter.utils:Channel: b\n",
      "INFO:gammapy.astro.darkmatter.utils:Mass: 10000.0 GeV\n",
      "DEBUG:gammapy.astro.darkmatter.utils:ZeroDeltaL: -0.0011 \t| LZero: 114.183 \t| LMin:  114.184\n",
      "DEBUG:gammapy.astro.darkmatter.utils:MaximumDeltaL: 1376.9675 \t| LMax: 1491.152 \t| LMin:  114.184\n",
      "DEBUG:gammapy.astro.darkmatter.utils:SvBestFound: 0.685 \t| SvBest: 0.685 \t| SvUL: 40.123\n",
      "DEBUG:gammapy.astro.darkmatter.utils:JBest: 2.4163234980393443e+19 GeV2 / cm5\n",
      "INFO:gammapy.astro.darkmatter.utils:Sigma v:1.2036916378661937e-24 cm3 / s\n",
      "INFO:gammapy.astro.darkmatter.utils:----\n",
      "INFO:gammapy.astro.darkmatter.utils:Run: 1\n",
      "INFO:gammapy.astro.darkmatter.utils:Channel: b\n",
      "INFO:gammapy.astro.darkmatter.utils:Mass: 50000.0 GeV\n",
      "DEBUG:gammapy.astro.darkmatter.utils:ZeroDeltaL: 0.0260 \t| LZero: 114.186 \t| LMin:  114.160\n",
      "DEBUG:gammapy.astro.darkmatter.utils:MaximumDeltaL: 35.9693 \t| LMax: 150.156 \t| LMin:  114.186\n",
      "DEBUG:gammapy.astro.darkmatter.utils:SvBestFound: -3.995 \t| SvBest: 0.000 \t| SvUL: 75.937\n",
      "DEBUG:gammapy.astro.darkmatter.utils:JBest: 3.3364200977405546e+19 GeV2 / cm5\n",
      "INFO:gammapy.astro.darkmatter.utils:Sigma v:2.2780951838173078e-24 cm3 / s\n",
      "INFO:gammapy.astro.darkmatter.utils:----\n",
      "INFO:gammapy.astro.darkmatter.utils:Run: 1\n",
      "INFO:gammapy.astro.darkmatter.utils:Channel: tau\n",
      "INFO:gammapy.astro.darkmatter.utils:Mass: 100.0 GeV\n",
      "DEBUG:gammapy.astro.darkmatter.utils:ZeroDeltaL: 0.2667 \t| LZero: 114.087 \t| LMin:  113.820\n",
      "DEBUG:gammapy.astro.darkmatter.utils:MaximumDeltaL: 65.1144 \t| LMax: 179.201 \t| LMin:  114.087\n",
      "DEBUG:gammapy.astro.darkmatter.utils:SvBestFound: -1.361 \t| SvBest: 0.000 \t| SvUL: 7.147\n",
      "DEBUG:gammapy.astro.darkmatter.utils:JBest: 4.833273979610262e+19 GeV2 / cm5\n",
      "INFO:gammapy.astro.darkmatter.utils:Sigma v:2.1441930905038585e-25 cm3 / s\n",
      "INFO:gammapy.astro.darkmatter.utils:----\n",
      "INFO:gammapy.astro.darkmatter.utils:Run: 1\n",
      "INFO:gammapy.astro.darkmatter.utils:Channel: tau\n",
      "INFO:gammapy.astro.darkmatter.utils:Mass: 200.0 GeV\n",
      "DEBUG:gammapy.astro.darkmatter.utils:ZeroDeltaL: 0.9181 \t| LZero: 113.765 \t| LMin:  112.847\n",
      "DEBUG:gammapy.astro.darkmatter.utils:MaximumDeltaL: 208.1201 \t| LMax: 321.885 \t| LMin:  113.765\n",
      "DEBUG:gammapy.astro.darkmatter.utils:SvBestFound: -1.863 \t| SvBest: 0.000 \t| SvUL: 3.230\n",
      "DEBUG:gammapy.astro.darkmatter.utils:JBest: 4.621920547318611e+19 GeV2 / cm5\n",
      "INFO:gammapy.astro.darkmatter.utils:Sigma v:9.690123201591513e-26 cm3 / s\n",
      "INFO:gammapy.astro.darkmatter.utils:----\n",
      "INFO:gammapy.astro.darkmatter.utils:Run: 1\n",
      "INFO:gammapy.astro.darkmatter.utils:Channel: tau\n",
      "INFO:gammapy.astro.darkmatter.utils:Mass: 500.0 GeV\n",
      "DEBUG:gammapy.astro.darkmatter.utils:ZeroDeltaL: 1.6875 \t| LZero: 113.870 \t| LMin:  112.182\n",
      "DEBUG:gammapy.astro.darkmatter.utils:MaximumDeltaL: 482.3909 \t| LMax: 596.260 \t| LMin:  113.870\n",
      "DEBUG:gammapy.astro.darkmatter.utils:SvBestFound: -1.840 \t| SvBest: 0.000 \t| SvUL: 2.406\n",
      "DEBUG:gammapy.astro.darkmatter.utils:JBest: 4.545632299060973e+19 GeV2 / cm5\n",
      "INFO:gammapy.astro.darkmatter.utils:Sigma v:7.218793966019071e-26 cm3 / s\n",
      "INFO:gammapy.astro.darkmatter.utils:----\n",
      "INFO:gammapy.astro.darkmatter.utils:Run: 1\n",
      "INFO:gammapy.astro.darkmatter.utils:Channel: tau\n",
      "INFO:gammapy.astro.darkmatter.utils:Mass: 1000.0 GeV\n",
      "DEBUG:gammapy.astro.darkmatter.utils:ZeroDeltaL: 0.1123 \t| LZero: 114.186 \t| LMin:  114.074\n",
      "DEBUG:gammapy.astro.darkmatter.utils:MaximumDeltaL: 92.0749 \t| LMax: 206.261 \t| LMin:  114.186\n",
      "DEBUG:gammapy.astro.darkmatter.utils:SvBestFound: -0.576 \t| SvBest: 0.000 \t| SvUL: 4.786\n",
      "DEBUG:gammapy.astro.darkmatter.utils:JBest: 3.487930573108293e+19 GeV2 / cm5\n",
      "INFO:gammapy.astro.darkmatter.utils:Sigma v:1.4356810489088352e-25 cm3 / s\n",
      "INFO:gammapy.astro.darkmatter.utils:----\n",
      "INFO:gammapy.astro.darkmatter.utils:Run: 1\n",
      "INFO:gammapy.astro.darkmatter.utils:Channel: tau\n",
      "INFO:gammapy.astro.darkmatter.utils:Mass: 5000.0 GeV\n",
      "DEBUG:gammapy.astro.darkmatter.utils:ZeroDeltaL: 0.0007 \t| LZero: 114.186 \t| LMin:  114.186\n",
      "DEBUG:gammapy.astro.darkmatter.utils:MaximumDeltaL: 16.7251 \t| LMax: 130.912 \t| LMin:  114.186\n",
      "DEBUG:gammapy.astro.darkmatter.utils:SvBestFound: -0.104 \t| SvBest: 0.000 \t| SvUL: 10.014\n",
      "DEBUG:gammapy.astro.darkmatter.utils:JBest: 2.037493300555026e+19 GeV2 / cm5\n",
      "INFO:gammapy.astro.darkmatter.utils:Sigma v:3.0041148490631227e-25 cm3 / s\n",
      "INFO:gammapy.astro.darkmatter.utils:----\n",
      "INFO:gammapy.astro.darkmatter.utils:Run: 1\n",
      "INFO:gammapy.astro.darkmatter.utils:Channel: tau\n",
      "INFO:gammapy.astro.darkmatter.utils:Mass: 10000.0 GeV\n",
      "DEBUG:gammapy.astro.darkmatter.utils:ZeroDeltaL: 0.0924 \t| LZero: 114.188 \t| LMin:  114.096\n",
      "DEBUG:gammapy.astro.darkmatter.utils:MaximumDeltaL: 233.9137 \t| LMax: 348.102 \t| LMin:  114.188\n"
     ]
    },
    {
     "name": "stderr",
     "output_type": "stream",
     "text": [
      "DEBUG:gammapy.astro.darkmatter.utils:SvBestFound: -0.992 \t| SvBest: 0.000 \t| SvUL: 13.079\n",
      "DEBUG:gammapy.astro.darkmatter.utils:JBest: 4.645639658753934e+19 GeV2 / cm5\n",
      "INFO:gammapy.astro.darkmatter.utils:Sigma v:3.923702587046315e-25 cm3 / s\n",
      "INFO:gammapy.astro.darkmatter.utils:----\n",
      "INFO:gammapy.astro.darkmatter.utils:Run: 1\n",
      "INFO:gammapy.astro.darkmatter.utils:Channel: tau\n",
      "INFO:gammapy.astro.darkmatter.utils:Mass: 50000.0 GeV\n",
      "DEBUG:gammapy.astro.darkmatter.utils:ZeroDeltaL: -0.1074 \t| LZero: 113.892 \t| LMin:  114.000\n",
      "DEBUG:gammapy.astro.darkmatter.utils:MaximumDeltaL: 243.8021 \t| LMax: 357.802 \t| LMin:  114.000\n",
      "DEBUG:gammapy.astro.darkmatter.utils:SvBestFound: 9.116 \t| SvBest: 9.116 \t| SvUL: 107.633\n",
      "DEBUG:gammapy.astro.darkmatter.utils:JBest: 3.6959613844942275e+19 GeV2 / cm5\n",
      "INFO:gammapy.astro.darkmatter.utils:Sigma v:3.228990559346278e-24 cm3 / s\n",
      "INFO:gammapy.astro.darkmatter.utils:----\n",
      "INFO:gammapy.astro.darkmatter.utils:Run: 1\n",
      "INFO:gammapy.astro.darkmatter.utils:Channel: Z\n",
      "INFO:gammapy.astro.darkmatter.utils:Mass: 100.0 GeV\n",
      "DEBUG:gammapy.astro.darkmatter.utils:ZeroDeltaL: 0.6354 \t| LZero: 114.179 \t| LMin:  113.543\n",
      "DEBUG:gammapy.astro.darkmatter.utils:MaximumDeltaL: 16424.5539 \t| LMax: 16538.097 \t| LMin:  113.543\n",
      "DEBUG:gammapy.astro.darkmatter.utils:SvBestFound: 32.178 \t| SvBest: 32.178 \t| SvUL: 197.590\n",
      "DEBUG:gammapy.astro.darkmatter.utils:JBest: 3.4153936831121527e+19 GeV2 / cm5\n",
      "INFO:gammapy.astro.darkmatter.utils:Sigma v:5.927711941976958e-24 cm3 / s\n",
      "INFO:gammapy.astro.darkmatter.utils:----\n",
      "INFO:gammapy.astro.darkmatter.utils:Run: 1\n",
      "INFO:gammapy.astro.darkmatter.utils:Channel: Z\n",
      "INFO:gammapy.astro.darkmatter.utils:Mass: 200.0 GeV\n",
      "DEBUG:gammapy.astro.darkmatter.utils:ZeroDeltaL: 0.0004 \t| LZero: 114.186 \t| LMin:  114.186\n",
      "DEBUG:gammapy.astro.darkmatter.utils:MaximumDeltaL: 11.5299 \t| LMax: 125.716 \t| LMin:  114.186\n",
      "DEBUG:gammapy.astro.darkmatter.utils:SvBestFound: -0.345 \t| SvBest: 0.000 \t| SvUL: 56.341\n",
      "DEBUG:gammapy.astro.darkmatter.utils:JBest: 2.544242096983642e+19 GeV2 / cm5\n",
      "INFO:gammapy.astro.darkmatter.utils:Sigma v:1.690229117777528e-24 cm3 / s\n",
      "INFO:gammapy.astro.darkmatter.utils:----\n",
      "INFO:gammapy.astro.darkmatter.utils:Run: 1\n",
      "INFO:gammapy.astro.darkmatter.utils:Channel: Z\n",
      "INFO:gammapy.astro.darkmatter.utils:Mass: 500.0 GeV\n",
      "DEBUG:gammapy.astro.darkmatter.utils:ZeroDeltaL: 1.8820 \t| LZero: 114.184 \t| LMin:  112.302\n",
      "DEBUG:gammapy.astro.darkmatter.utils:MaximumDeltaL: 924.5646 \t| LMax: 1038.749 \t| LMin:  114.184\n",
      "DEBUG:gammapy.astro.darkmatter.utils:SvBestFound: -11.398 \t| SvBest: 0.000 \t| SvUL: 16.208\n",
      "DEBUG:gammapy.astro.darkmatter.utils:JBest: 4.31565140859034e+19 GeV2 / cm5\n",
      "INFO:gammapy.astro.darkmatter.utils:Sigma v:4.862500677539051e-25 cm3 / s\n",
      "INFO:gammapy.astro.darkmatter.utils:----\n",
      "INFO:gammapy.astro.darkmatter.utils:Run: 1\n",
      "INFO:gammapy.astro.darkmatter.utils:Channel: Z\n",
      "INFO:gammapy.astro.darkmatter.utils:Mass: 1000.0 GeV\n",
      "DEBUG:gammapy.astro.darkmatter.utils:ZeroDeltaL: 2.5779 \t| LZero: 114.182 \t| LMin:  111.604\n",
      "DEBUG:gammapy.astro.darkmatter.utils:MaximumDeltaL: 1009.5717 \t| LMax: 1123.754 \t| LMin:  114.182\n",
      "DEBUG:gammapy.astro.darkmatter.utils:SvBestFound: -10.506 \t| SvBest: 0.000 \t| SvUL: 12.126\n",
      "DEBUG:gammapy.astro.darkmatter.utils:JBest: 4.556174463828665e+19 GeV2 / cm5\n",
      "INFO:gammapy.astro.darkmatter.utils:Sigma v:3.637728908699449e-25 cm3 / s\n",
      "INFO:gammapy.astro.darkmatter.utils:----\n",
      "INFO:gammapy.astro.darkmatter.utils:Run: 1\n",
      "INFO:gammapy.astro.darkmatter.utils:Channel: Z\n",
      "INFO:gammapy.astro.darkmatter.utils:Mass: 5000.0 GeV\n",
      "DEBUG:gammapy.astro.darkmatter.utils:ZeroDeltaL: 0.0153 \t| LZero: 114.186 \t| LMin:  114.171\n",
      "DEBUG:gammapy.astro.darkmatter.utils:MaximumDeltaL: 38.3457 \t| LMax: 152.532 \t| LMin:  114.186\n",
      "DEBUG:gammapy.astro.darkmatter.utils:SvBestFound: -0.915 \t| SvBest: 0.000 \t| SvUL: 29.636\n",
      "DEBUG:gammapy.astro.darkmatter.utils:JBest: 4.3955193847972725e+19 GeV2 / cm5\n",
      "INFO:gammapy.astro.darkmatter.utils:Sigma v:8.890817500951718e-25 cm3 / s\n",
      "INFO:gammapy.astro.darkmatter.utils:----\n",
      "INFO:gammapy.astro.darkmatter.utils:Run: 1\n",
      "INFO:gammapy.astro.darkmatter.utils:Channel: Z\n",
      "INFO:gammapy.astro.darkmatter.utils:Mass: 10000.0 GeV\n",
      "DEBUG:gammapy.astro.darkmatter.utils:ZeroDeltaL: 0.0018 \t| LZero: 114.186 \t| LMin:  114.185\n",
      "DEBUG:gammapy.astro.darkmatter.utils:MaximumDeltaL: 11.7381 \t| LMax: 125.924 \t| LMin:  114.186\n",
      "DEBUG:gammapy.astro.darkmatter.utils:SvBestFound: -0.492 \t| SvBest: 0.000 \t| SvUL: 38.446\n",
      "DEBUG:gammapy.astro.darkmatter.utils:JBest: 3.0758464136473248e+19 GeV2 / cm5\n",
      "INFO:gammapy.astro.darkmatter.utils:Sigma v:1.1533839026576186e-24 cm3 / s\n",
      "INFO:gammapy.astro.darkmatter.utils:----\n",
      "INFO:gammapy.astro.darkmatter.utils:Run: 1\n",
      "INFO:gammapy.astro.darkmatter.utils:Channel: Z\n",
      "INFO:gammapy.astro.darkmatter.utils:Mass: 50000.0 GeV\n",
      "DEBUG:gammapy.astro.darkmatter.utils:ZeroDeltaL: 0.0034 \t| LZero: 114.186 \t| LMin:  114.183\n",
      "DEBUG:gammapy.astro.darkmatter.utils:MaximumDeltaL: 66.4959 \t| LMax: 180.682 \t| LMin:  114.186\n",
      "DEBUG:gammapy.astro.darkmatter.utils:SvBestFound: -1.214 \t| SvBest: 0.000 \t| SvUL: 90.883\n",
      "DEBUG:gammapy.astro.darkmatter.utils:JBest: 4.498434697486793e+19 GeV2 / cm5\n",
      "INFO:gammapy.astro.darkmatter.utils:Sigma v:2.7264777320561747e-24 cm3 / s\n",
      "INFO:gammapy.astro.darkmatter.utils:----\n",
      "INFO:gammapy.astro.darkmatter.utils:Run: 2\n",
      "INFO:gammapy.astro.darkmatter.utils:Channel: b\n",
      "INFO:gammapy.astro.darkmatter.utils:Mass: 100.0 GeV\n",
      "DEBUG:gammapy.astro.darkmatter.utils:ZeroDeltaL: 0.8946 \t| LZero: 116.667 \t| LMin:  115.773\n",
      "DEBUG:gammapy.astro.darkmatter.utils:MaximumDeltaL: 5126.7510 \t| LMax: 5243.418 \t| LMin:  116.667\n",
      "DEBUG:gammapy.astro.darkmatter.utils:SvBestFound: -50.531 \t| SvBest: 0.000 \t| SvUL: 52.603\n",
      "DEBUG:gammapy.astro.darkmatter.utils:JBest: 1.754704823005224e+19 GeV2 / cm5\n",
      "INFO:gammapy.astro.darkmatter.utils:Sigma v:1.5780948766313484e-24 cm3 / s\n",
      "INFO:gammapy.astro.darkmatter.utils:----\n",
      "INFO:gammapy.astro.darkmatter.utils:Run: 2\n",
      "INFO:gammapy.astro.darkmatter.utils:Channel: b\n",
      "INFO:gammapy.astro.darkmatter.utils:Mass: 200.0 GeV\n",
      "DEBUG:gammapy.astro.darkmatter.utils:ZeroDeltaL: 1.1058 \t| LZero: 116.647 \t| LMin:  115.541\n",
      "DEBUG:gammapy.astro.darkmatter.utils:MaximumDeltaL: 2.4839 \t| LMax: 119.131 \t| LMin:  116.647\n",
      "WARNING:gammapy.astro.darkmatter.utils:Wider range needed in likelihood profile\n",
      "WARNING:gammapy.astro.darkmatter.utils:Skipping run 2\n",
      "INFO:gammapy.astro.darkmatter.utils:Number of good runs: 1\n"
     ]
    },
    {
     "name": "stdout",
     "output_type": "stream",
     "text": [
      "CPU times: user 44.3 s, sys: 366 ms, total: 44.7 s\n",
      "Wall time: 44.9 s\n"
     ]
    }
   ],
   "source": [
    "%%time\n",
    "# stat_profile_opts=dict(bounds=(-25, 100), nvalues=125)   # optional param\n",
    "# stat_profile_opts = dict(bounds=5, nvalues=50)           # default values\n",
    "# if nuisance = True the process takes the nuisance parameters into account\n",
    "result = estimator.run(runs=3, nuisance=True)"
   ]
  },
  {
   "cell_type": "markdown",
   "metadata": {},
   "source": [
    "**Display results for channel b and run 1**"
   ]
  },
  {
   "cell_type": "code",
   "execution_count": 18,
   "metadata": {
    "scrolled": false
   },
   "outputs": [
    {
     "data": {
      "text/html": [
       "<i>Table length=7</i>\n",
       "<table id=\"table4769115552\" class=\"table-striped table-bordered table-condensed\">\n",
       "<thead><tr><th>mass</th><th>sigma_v</th><th>sv_ul</th><th>sv_best</th><th>j_best</th></tr></thead>\n",
       "<thead><tr><th>GeV</th><th>cm3 / s</th><th></th><th></th><th>GeV2 / cm5</th></tr></thead>\n",
       "<thead><tr><th>float64</th><th>float64</th><th>float64</th><th>float64</th><th>float64</th></tr></thead>\n",
       "<tr><td>100.0</td><td>3.5233282487778054e-24</td><td>117.44427495926017</td><td>8.86368258448486</td><td>5.073052212128796e+19</td></tr>\n",
       "<tr><td>200.0</td><td>1.925449523569344e-24</td><td>64.18165078564479</td><td>4.152810570918321</td><td>3.397201689854685e+19</td></tr>\n",
       "<tr><td>500.0</td><td>7.14591843710875e-25</td><td>23.819728123695832</td><td>0.0</td><td>2.7300099099068817e+19</td></tr>\n",
       "<tr><td>1000.0</td><td>4.102293116302004e-25</td><td>13.674310387673346</td><td>0.0</td><td>3.3783676290021302e+19</td></tr>\n",
       "<tr><td>5000.0</td><td>7.640902444177905e-25</td><td>25.469674813926346</td><td>0.0</td><td>3.430536149465616e+19</td></tr>\n",
       "<tr><td>10000.0</td><td>1.2036916378661937e-24</td><td>40.123054595539784</td><td>0.6848053957898574</td><td>2.4163234980393443e+19</td></tr>\n",
       "<tr><td>50000.0</td><td>2.2780951838173078e-24</td><td>75.93650612724359</td><td>0.0</td><td>3.3364200977405546e+19</td></tr>\n",
       "</table>"
      ],
      "text/plain": [
       "<Table length=7>\n",
       "  mass         sigma_v         ...      sv_best               j_best        \n",
       "  GeV          cm3 / s         ...                          GeV2 / cm5      \n",
       "float64        float64         ...      float64              float64        \n",
       "------- ---------------------- ... ------------------ ----------------------\n",
       "  100.0 3.5233282487778054e-24 ...   8.86368258448486  5.073052212128796e+19\n",
       "  200.0  1.925449523569344e-24 ...  4.152810570918321  3.397201689854685e+19\n",
       "  500.0   7.14591843710875e-25 ...                0.0 2.7300099099068817e+19\n",
       " 1000.0  4.102293116302004e-25 ...                0.0 3.3783676290021302e+19\n",
       " 5000.0  7.640902444177905e-25 ...                0.0  3.430536149465616e+19\n",
       "10000.0 1.2036916378661937e-24 ... 0.6848053957898574 2.4163234980393443e+19\n",
       "50000.0 2.2780951838173078e-24 ...                0.0 3.3364200977405546e+19"
      ]
     },
     "execution_count": 18,
     "metadata": {},
     "output_type": "execute_result"
    }
   ],
   "source": [
    "cols = [\"mass\", \"sigma_v\", \"sv_ul\", \"sv_best\", \"j_best\"]\n",
    "result[\"runs\"][\"b\"][1][cols]"
   ]
  },
  {
   "cell_type": "markdown",
   "metadata": {},
   "source": [
    "**Plot likelihood profile for a specific fit**"
   ]
  },
  {
   "cell_type": "code",
   "execution_count": 19,
   "metadata": {},
   "outputs": [],
   "source": [
    "idx = np.argwhere(masses.value==100)\n",
    "profile = result[\"runs\"][\"Z\"][0][\"statprofile\"][idx][0][0]"
   ]
  },
  {
   "cell_type": "code",
   "execution_count": 20,
   "metadata": {
    "scrolled": true
   },
   "outputs": [
    {
     "data": {
      "image/png": "[encoded data removed]",
      "text/plain": [
       "<Figure size 432x288 with 1 Axes>"
      ]
     },
     "metadata": {
      "needs_background": "light"
     },
     "output_type": "display_data"
    }
   ],
   "source": [
    "plt.plot(profile[\"values\"], profile[\"stat\"]);"
   ]
  },
  {
   "cell_type": "markdown",
   "metadata": {},
   "source": [
    "## Obtained results"
   ]
  },
  {
   "cell_type": "code",
   "execution_count": 21,
   "metadata": {
    "scrolled": false
   },
   "outputs": [
    {
     "data": {
      "text/html": [
       "<i>Table length=7</i>\n",
       "<table id=\"table4444741024\" class=\"table-striped table-bordered table-condensed\">\n",
       "<thead><tr><th>mass</th><th>sigma_v</th><th>sigma_v_std</th><th>jfactor</th><th>jfactor_std</th></tr></thead>\n",
       "<thead><tr><th>GeV</th><th>cm3 / s</th><th>cm3 / s</th><th>GeV2 / cm5</th><th>GeV2 / cm5</th></tr></thead>\n",
       "<thead><tr><th>float64</th><th>float64</th><th>float64</th><th>float64</th><th>float64</th></tr></thead>\n",
       "<tr><td>100.0</td><td>3.5233282487778054e-24</td><td>0.0</td><td>3.41387851756701e+19</td><td>1.6591736945617859e+19</td></tr>\n",
       "<tr><td>200.0</td><td>1.925449523569344e-24</td><td>0.0</td><td>3.397201689854685e+19</td><td>0.0</td></tr>\n",
       "<tr><td>500.0</td><td>7.14591843710875e-25</td><td>0.0</td><td>2.7300099099068817e+19</td><td>0.0</td></tr>\n",
       "<tr><td>1000.0</td><td>4.102293116302004e-25</td><td>0.0</td><td>3.3783676290021302e+19</td><td>0.0</td></tr>\n",
       "<tr><td>5000.0</td><td>7.640902444177905e-25</td><td>0.0</td><td>3.430536149465616e+19</td><td>0.0</td></tr>\n",
       "<tr><td>10000.0</td><td>1.2036916378661937e-24</td><td>0.0</td><td>2.4163234980393443e+19</td><td>0.0</td></tr>\n",
       "<tr><td>50000.0</td><td>2.2780951838173078e-24</td><td>0.0</td><td>3.3364200977405546e+19</td><td>0.0</td></tr>\n",
       "</table>"
      ],
      "text/plain": [
       "<Table length=7>\n",
       "  mass         sigma_v         ...        jfactor              jfactor_std      \n",
       "  GeV          cm3 / s         ...       GeV2 / cm5             GeV2 / cm5      \n",
       "float64        float64         ...        float64                float64        \n",
       "------- ---------------------- ... ---------------------- ----------------------\n",
       "  100.0 3.5233282487778054e-24 ...   3.41387851756701e+19 1.6591736945617859e+19\n",
       "  200.0  1.925449523569344e-24 ...  3.397201689854685e+19                    0.0\n",
       "  500.0   7.14591843710875e-25 ... 2.7300099099068817e+19                    0.0\n",
       " 1000.0  4.102293116302004e-25 ... 3.3783676290021302e+19                    0.0\n",
       " 5000.0  7.640902444177905e-25 ...  3.430536149465616e+19                    0.0\n",
       "10000.0 1.2036916378661937e-24 ... 2.4163234980393443e+19                    0.0\n",
       "50000.0 2.2780951838173078e-24 ... 3.3364200977405546e+19                    0.0"
      ]
     },
     "execution_count": 21,
     "metadata": {},
     "output_type": "execute_result"
    }
   ],
   "source": [
    "result[\"mean\"][\"b\"]"
   ]
  },
  {
   "cell_type": "code",
   "execution_count": 22,
   "metadata": {},
   "outputs": [
    {
     "data": {
      "image/png": "[encoded data removed]",
      "text/plain": [
       "<Figure size 648x504 with 1 Axes>"
      ]
     },
     "metadata": {
      "needs_background": "light"
     },
     "output_type": "display_data"
    }
   ],
   "source": [
    "plt.figure(figsize=(9,7))\n",
    "plt.ylim(1e-29, 1e-22)\n",
    "plt.ylabel(r\"<$\\sigma_{ann}v$> (cm$^3$s$^{-1}$)\", fontsize=12)\n",
    "plt.xlabel(\"M$_{DM}$ (GeV)\", fontsize=12)\n",
    "plt.title('m$_{DM}$ 5000 GeV')\n",
    "\n",
    "for ch in channels:\n",
    "    plt.loglog(\n",
    "        result[\"mean\"][ch][\"mass\"].data,\n",
    "        result[\"mean\"][ch][\"sigma_v\"].data,\n",
    "        ls=\"--\",\n",
    "        label='channel {}'.format(ch)\n",
    "       )\n",
    "plt.legend();"
   ]
  },
  {
   "cell_type": "code",
   "execution_count": null,
   "metadata": {},
   "outputs": [],
   "source": []
  }
 ],
 "metadata": {
  "kernelspec": {
   "display_name": "gammapy-dev",
   "language": "python",
   "name": "gammapy-dev"
  },
  "language_info": {
   "codemirror_mode": {
    "name": "ipython",
    "version": 3
   },
   "file_extension": ".py",
   "mimetype": "text/x-python",
   "name": "python",
   "nbconvert_exporter": "python",
   "pygments_lexer": "ipython3",
   "version": "3.7.0"
  },
  "toc": {
   "base_numbering": 1,
   "nav_menu": {},
   "number_sections": false,
   "sideBar": true,
   "skip_h1_title": false,
   "title_cell": "Table of Contents",
   "title_sidebar": "Contents",
   "toc_cell": false,
   "toc_position": {},
   "toc_section_display": true,
   "toc_window_display": false
  },
  "varInspector": {
   "cols": {
    "lenName": 16,
    "lenType": 16,
    "lenVar": 40
   },
   "kernels_config": {
    "python": {
     "delete_cmd_postfix": "",
     "delete_cmd_prefix": "del ",
     "library": "var_list.py",
     "varRefreshCmd": "print(var_dic_list())"
    },
    "r": {
     "delete_cmd_postfix": ") ",
     "delete_cmd_prefix": "rm(",
     "library": "var_list.r",
     "varRefreshCmd": "cat(var_dic_list()) "
    }
   },
   "types_to_exclude": [
    "module",
    "function",
    "builtin_function_or_method",
    "instance",
    "_Feature"
   ],
   "window_display": false
  }
 },
 "nbformat": 4,
 "nbformat_minor": 2
}
