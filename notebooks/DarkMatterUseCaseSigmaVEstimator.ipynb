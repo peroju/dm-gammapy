{
 "cells": [
  {
   "cell_type": "markdown",
   "metadata": {},
   "source": [
    "# Calculate sigmav vs. mDM for simulated DM datasets"
   ]
  },
  {
   "cell_type": "code",
   "execution_count": 1,
   "metadata": {},
   "outputs": [],
   "source": [
    "%matplotlib inline\n",
    "import matplotlib.pyplot as plt\n",
    "\n",
    "import numpy as np\n",
    "import astropy.units as u\n",
    "\n",
    "from gammapy.modeling.models import PointSpatialModel\n",
    "from gammapy.modeling.models import SkyModel, SkyModels\n",
    "from gammapy.astro.darkmatter.utils import SigmaVEstimator, DMDatasetOnOff\n",
    "from gammapy.spectrum import CountsSpectrum\n",
    "from gammapy.astro.darkmatter import DarkMatterAnnihilationSpectralModel\n",
    "from gammapy.irf import load_cta_irfs"
   ]
  },
  {
   "cell_type": "markdown",
   "metadata": {},
   "source": [
    "## Define parameters for simulated observation"
   ]
  },
  {
   "cell_type": "code",
   "execution_count": 2,
   "metadata": {},
   "outputs": [],
   "source": [
    "# -\n",
    "livetime = 100 * u.h # in hours\n",
    "offset = 0.5 * u.deg\n",
    "FOVLON=0 * u.deg\n",
    "FOVLAT=0 * u.deg\n",
    "\n",
    "# Energy from 0.01 to 100 TeV with 20 bins/decade\n",
    "energy = np.logspace(-1.8, 1.5, 20) * u.TeV\n",
    "\n",
    "# Energy true wider range and higher number of bins\n",
    "energy_true = np.logspace(-2, 2, 100) * u.TeV\n",
    "\n",
    "# DMAnnihilation Model\n",
    "JFAC = 3.41e19 * u.Unit(\"GeV2 cm-5\") # point source\n",
    "mDM = 5000*u.Unit(\"GeV\")\n",
    "channel = \"b\"\n",
    "redshift = 0"
   ]
  },
  {
   "cell_type": "markdown",
   "metadata": {},
   "source": [
    "## Build IRFs with the defined parameters"
   ]
  },
  {
   "cell_type": "code",
   "execution_count": 3,
   "metadata": {},
   "outputs": [],
   "source": [
    "# Load IRFs\n",
    "filename = (\n",
    "    \"$GAMMAPY_DATA/cta-1dc/caldb/data/cta/1dc/bcf/South_z20_50h/irf_file.fits\"\n",
    ")\n",
    "cta_irf = load_cta_irfs(filename)"
   ]
  },
  {
   "cell_type": "code",
   "execution_count": 4,
   "metadata": {},
   "outputs": [
    {
     "name": "stdout",
     "output_type": "stream",
     "text": [
      "NDDataArray summary info\n",
      "MapAxis\n",
      "\n",
      "\tname       : energy    \n",
      "\tunit       : 'TeV'     \n",
      "\tnbins      : 42        \n",
      "\tnode type  : edges     \n",
      "\tedges min  : 1.3e-02 TeV\n",
      "\tedges max  : 2.0e+02 TeV\n",
      "\tinterp     : log       \n",
      "MapAxis\n",
      "\n",
      "\tname       : offset    \n",
      "\tunit       : 'deg'     \n",
      "\tnbins      : 6         \n",
      "\tnode type  : edges     \n",
      "\tedges min  : 0.0e+00 deg\n",
      "\tedges max  : 6.0e+00 deg\n",
      "\tinterp     : lin       \n",
      "Data           : size =   252, min =  0.000 m2, max = 5371581.000 m2\n",
      "\n"
     ]
    },
    {
     "data": {
      "image/png": "[encoded data removed]",
      "text/plain": [
       "<Figure size 432x288 with 1 Axes>"
      ]
     },
     "metadata": {
      "needs_background": "light"
     },
     "output_type": "display_data"
    }
   ],
   "source": [
    "aeff = cta_irf[\"aeff\"].to_effective_area_table(offset=offset, energy=energy)\n",
    "aeff.plot()\n",
    "plt.loglog()\n",
    "print(cta_irf[\"aeff\"].data)"
   ]
  },
  {
   "cell_type": "code",
   "execution_count": 5,
   "metadata": {
    "code_folding": []
   },
   "outputs": [],
   "source": [
    "#edisp = cta_irf[\"edisp\"].to_energy_dispersion(\n",
    "#    offset=offset, e_true=energy_true, e_reco=energy\n",
    "#)\n",
    "#edisp.plot_matrix()\n",
    "#print(edisp.data)"
   ]
  },
  {
   "cell_type": "markdown",
   "metadata": {},
   "source": [
    "## Build the background counts from PSF and IRF background"
   ]
  },
  {
   "cell_type": "code",
   "execution_count": 6,
   "metadata": {},
   "outputs": [],
   "source": [
    "containment = 0.68\n",
    "energies = np.sqrt(energy[1:] * energy[:-1])\n",
    "psf = cta_irf[\"psf\"].to_energy_dependent_table_psf(theta=offset)\n",
    "on_radii = psf.containment_radius(energy=energies, fraction=containment)\n",
    "solid_angles = 2 * np.pi * (1 - np.cos(on_radii)) * u.sr\n",
    "\n",
    "#\n",
    "aeff.data.data *= containment"
   ]
  },
  {
   "cell_type": "code",
   "execution_count": 7,
   "metadata": {},
   "outputs": [],
   "source": [
    "bkg_data = cta_irf[\"bkg\"].evaluate_integrate(\n",
    "    fov_lon=FOVLON, fov_lat=FOVLAT, energy_reco=energy\n",
    ")\n",
    "bkg = CountsSpectrum(\n",
    "    energy[:-1],\n",
    "    energy[1:],\n",
    "    data=(bkg_data * solid_angles).to_value(\"h-1\")*livetime\n",
    ")"
   ]
  },
  {
   "cell_type": "code",
   "execution_count": 8,
   "metadata": {},
   "outputs": [
    {
     "data": {
      "text/plain": [
       "<matplotlib.axes._subplots.AxesSubplot at 0x11d2d65f8>"
      ]
     },
     "execution_count": 8,
     "metadata": {},
     "output_type": "execute_result"
    },
    {
     "data": {
      "image/png": "[encoded data removed]",
      "text/plain": [
       "<Figure size 432x288 with 1 Axes>"
      ]
     },
     "metadata": {
      "needs_background": "light"
     },
     "output_type": "display_data"
    }
   ],
   "source": [
    "bkg.plot_hist()"
   ]
  },
  {
   "cell_type": "markdown",
   "metadata": {},
   "source": [
    "## Simulate OnOff observation with DM emission model"
   ]
  },
  {
   "cell_type": "code",
   "execution_count": 9,
   "metadata": {},
   "outputs": [],
   "source": [
    "# DM Spatial Component\n",
    "spatial_model = PointSpatialModel(\n",
    "    lon_0=\"0 deg\", lat_0=\"0 deg\", frame=\"icrs\"\n",
    ")"
   ]
  },
  {
   "cell_type": "code",
   "execution_count": 10,
   "metadata": {},
   "outputs": [],
   "source": [
    "# DM Flux\n",
    "spectral_model = DarkMatterAnnihilationSpectralModel(\n",
    "    mass=mDM, \n",
    "    channel=channel, \n",
    "    jfactor=JFAC, \n",
    "    z=redshift\n",
    ")"
   ]
  },
  {
   "cell_type": "code",
   "execution_count": 11,
   "metadata": {},
   "outputs": [],
   "source": [
    "#from gammapy.modeling.models import Absorption, AbsorbedSpectralModel\n",
    "#absorption_model = Absorption.read_builtin('dominguez')\n",
    "#spectral_model = AbsorbedSpectralModel(spectral_model, absorption_model, redshift)"
   ]
  },
  {
   "cell_type": "code",
   "execution_count": 12,
   "metadata": {},
   "outputs": [],
   "source": [
    "sky_model = SkyModel(spatial_model=spatial_model, spectral_model=spectral_model)\n",
    "models = SkyModels([sky_model])"
   ]
  },
  {
   "cell_type": "code",
   "execution_count": 13,
   "metadata": {},
   "outputs": [],
   "source": [
    "dataset = DMDatasetOnOff(\n",
    "    aeff=aeff,\n",
    "    models=models,\n",
    "    livetime=livetime,\n",
    "    acceptance=1,\n",
    "    acceptance_off=5,\n",
    ")"
   ]
  },
  {
   "cell_type": "code",
   "execution_count": 14,
   "metadata": {},
   "outputs": [],
   "source": [
    "nuisance = dict(\n",
    "    j=JFAC,\n",
    "    jobs=JFAC,\n",
    "    sigmaj=0.1*JFAC,\n",
    "    sigmatau=0.01,\n",
    "    # width=5 # default value / optional param \n",
    ")\n",
    "dataset.nuisance = nuisance"
   ]
  },
  {
   "cell_type": "markdown",
   "metadata": {},
   "source": [
    "## The SigmaVEstimator"
   ]
  },
  {
   "cell_type": "markdown",
   "metadata": {},
   "source": [
    "**Enable inspection**"
   ]
  },
  {
   "cell_type": "code",
   "execution_count": 15,
   "metadata": {},
   "outputs": [],
   "source": [
    "import logging\n",
    "logging.basicConfig()\n",
    "#logging.getLogger(\"gammapy.astro.darkmatter.utils\").setLevel(\"WARNING\")\n",
    "logging.getLogger(\"gammapy.astro.darkmatter.utils\").setLevel(\"DEBUG\")"
   ]
  },
  {
   "cell_type": "markdown",
   "metadata": {},
   "source": [
    "**Instatiate estimator**"
   ]
  },
  {
   "cell_type": "code",
   "execution_count": 16,
   "metadata": {},
   "outputs": [],
   "source": [
    "masses = [100, 200, 500, 1000, 5000, 10000, 50000]*u.GeV\n",
    "channels = [\"b\", \"tau\", \"Z\"] \n",
    "estimator = SigmaVEstimator(dataset, masses, channels, background_model=bkg)"
   ]
  },
  {
   "cell_type": "markdown",
   "metadata": {},
   "source": [
    "**Run estimator and fetch results**"
   ]
  },
  {
   "cell_type": "code",
   "execution_count": 17,
   "metadata": {
    "scrolled": false
   },
   "outputs": [
    {
     "name": "stderr",
     "output_type": "stream",
     "text": [
      "INFO:gammapy.astro.darkmatter.utils:----\n",
      "INFO:gammapy.astro.darkmatter.utils:Run: 0\n",
      "INFO:gammapy.astro.darkmatter.utils:Channel: b\n",
      "INFO:gammapy.astro.darkmatter.utils:Mass: 100.0 GeV\n",
      "DEBUG:gammapy.astro.darkmatter.utils:ZeroDeltaL: 0.9529 \t| LZero: 113.292 \t| LMin:  112.339\n",
      "DEBUG:gammapy.astro.darkmatter.utils:MaximumDeltaL: 1484.5478 \t| LMax: 1596.887 \t| LMin:  112.339\n",
      "DEBUG:gammapy.astro.darkmatter.utils:SvBestFound: 27.458 \t| SvBest: 27.458 \t| SvUL: 144.555\n",
      "DEBUG:gammapy.astro.darkmatter.utils:JBest: 3.339994712012402e+19 GeV2 / cm5\n",
      "INFO:gammapy.astro.darkmatter.utils:Sigma v:4.33665517280246e-24 cm3 / s\n",
      "INFO:gammapy.astro.darkmatter.utils:----\n",
      "INFO:gammapy.astro.darkmatter.utils:Run: 0\n",
      "INFO:gammapy.astro.darkmatter.utils:Channel: b\n",
      "INFO:gammapy.astro.darkmatter.utils:Mass: 200.0 GeV\n",
      "DEBUG:gammapy.astro.darkmatter.utils:ZeroDeltaL: 0.2297 \t| LZero: 113.292 \t| LMin:  113.063\n",
      "DEBUG:gammapy.astro.darkmatter.utils:MaximumDeltaL: 540.7406 \t| LMax: 653.803 \t| LMin:  113.063\n",
      "DEBUG:gammapy.astro.darkmatter.utils:SvBestFound: 5.412 \t| SvBest: 5.412 \t| SvUL: 72.033\n",
      "DEBUG:gammapy.astro.darkmatter.utils:JBest: 5.1095735404487926e+19 GeV2 / cm5\n",
      "INFO:gammapy.astro.darkmatter.utils:Sigma v:2.160991996934244e-24 cm3 / s\n",
      "INFO:gammapy.astro.darkmatter.utils:----\n",
      "INFO:gammapy.astro.darkmatter.utils:Run: 0\n",
      "INFO:gammapy.astro.darkmatter.utils:Channel: b\n",
      "INFO:gammapy.astro.darkmatter.utils:Mass: 500.0 GeV\n",
      "DEBUG:gammapy.astro.darkmatter.utils:ZeroDeltaL: 0.0309 \t| LZero: 113.290 \t| LMin:  113.259\n",
      "DEBUG:gammapy.astro.darkmatter.utils:MaximumDeltaL: 7.6045 \t| LMax: 120.864 \t| LMin:  113.259\n",
      "DEBUG:gammapy.astro.darkmatter.utils:SvBestFound: 1.440 \t| SvBest: 1.440 \t| SvUL: 42.572\n",
      "DEBUG:gammapy.astro.darkmatter.utils:JBest: 4.9975551966048305e+19 GeV2 / cm5\n",
      "INFO:gammapy.astro.darkmatter.utils:Sigma v:1.2771541779646446e-24 cm3 / s\n",
      "INFO:gammapy.astro.darkmatter.utils:----\n",
      "INFO:gammapy.astro.darkmatter.utils:Run: 0\n",
      "INFO:gammapy.astro.darkmatter.utils:Channel: b\n",
      "INFO:gammapy.astro.darkmatter.utils:Mass: 1000.0 GeV\n",
      "DEBUG:gammapy.astro.darkmatter.utils:ZeroDeltaL: 0.0725 \t| LZero: 113.292 \t| LMin:  113.219\n",
      "DEBUG:gammapy.astro.darkmatter.utils:MaximumDeltaL: 1333.3610 \t| LMax: 1446.580 \t| LMin:  113.219\n",
      "DEBUG:gammapy.astro.darkmatter.utils:SvBestFound: 2.572 \t| SvBest: 2.572 \t| SvUL: 36.616\n",
      "DEBUG:gammapy.astro.darkmatter.utils:JBest: 3.450597338496417e+19 GeV2 / cm5\n",
      "INFO:gammapy.astro.darkmatter.utils:Sigma v:1.0984920269477698e-24 cm3 / s\n",
      "INFO:gammapy.astro.darkmatter.utils:----\n",
      "INFO:gammapy.astro.darkmatter.utils:Run: 0\n",
      "INFO:gammapy.astro.darkmatter.utils:Channel: b\n",
      "INFO:gammapy.astro.darkmatter.utils:Mass: 5000.0 GeV\n",
      "DEBUG:gammapy.astro.darkmatter.utils:ZeroDeltaL: 0.0155 \t| LZero: 113.292 \t| LMin:  113.277\n",
      "DEBUG:gammapy.astro.darkmatter.utils:MaximumDeltaL: 13.4128 \t| LMax: 126.705 \t| LMin:  113.292\n",
      "DEBUG:gammapy.astro.darkmatter.utils:SvBestFound: -0.903 \t| SvBest: 0.000 \t| SvUL: 30.289\n",
      "DEBUG:gammapy.astro.darkmatter.utils:JBest: 4.412883565294769e+19 GeV2 / cm5\n",
      "INFO:gammapy.astro.darkmatter.utils:Sigma v:9.086597146664098e-25 cm3 / s\n",
      "INFO:gammapy.astro.darkmatter.utils:----\n",
      "INFO:gammapy.astro.darkmatter.utils:Run: 0\n",
      "INFO:gammapy.astro.darkmatter.utils:Channel: b\n",
      "INFO:gammapy.astro.darkmatter.utils:Mass: 10000.0 GeV\n",
      "DEBUG:gammapy.astro.darkmatter.utils:ZeroDeltaL: 0.0566 \t| LZero: 113.291 \t| LMin:  113.234\n",
      "DEBUG:gammapy.astro.darkmatter.utils:MaximumDeltaL: 642.5009 \t| LMax: 755.735 \t| LMin:  113.234\n",
      "DEBUG:gammapy.astro.darkmatter.utils:SvBestFound: 2.340 \t| SvBest: 2.340 \t| SvUL: 44.586\n",
      "DEBUG:gammapy.astro.darkmatter.utils:JBest: 4.087736627518323e+19 GeV2 / cm5\n",
      "INFO:gammapy.astro.darkmatter.utils:Sigma v:1.3375733873014991e-24 cm3 / s\n",
      "INFO:gammapy.astro.darkmatter.utils:----\n",
      "INFO:gammapy.astro.darkmatter.utils:Run: 0\n",
      "INFO:gammapy.astro.darkmatter.utils:Channel: b\n",
      "INFO:gammapy.astro.darkmatter.utils:Mass: 50000.0 GeV\n",
      "DEBUG:gammapy.astro.darkmatter.utils:ZeroDeltaL: 1.9117 \t| LZero: 113.190 \t| LMin:  111.279\n",
      "DEBUG:gammapy.astro.darkmatter.utils:MaximumDeltaL: 3.9001 \t| LMax: 115.179 \t| LMin:  111.279\n",
      "DEBUG:gammapy.astro.darkmatter.utils:SvBestFound: 22.776 \t| SvBest: 22.776 \t| SvUL: 152.863\n",
      "DEBUG:gammapy.astro.darkmatter.utils:JBest: 5.084651501237151e+19 GeV2 / cm5\n",
      "INFO:gammapy.astro.darkmatter.utils:Sigma v:4.585902009346126e-24 cm3 / s\n",
      "INFO:gammapy.astro.darkmatter.utils:----\n",
      "INFO:gammapy.astro.darkmatter.utils:Run: 0\n",
      "INFO:gammapy.astro.darkmatter.utils:Channel: tau\n",
      "INFO:gammapy.astro.darkmatter.utils:Mass: 100.0 GeV\n",
      "DEBUG:gammapy.astro.darkmatter.utils:ZeroDeltaL: 0.0840 \t| LZero: 113.292 \t| LMin:  113.208\n",
      "DEBUG:gammapy.astro.darkmatter.utils:MaximumDeltaL: 56.6803 \t| LMax: 169.973 \t| LMin:  113.292\n",
      "DEBUG:gammapy.astro.darkmatter.utils:SvBestFound: -0.736 \t| SvBest: 0.000 \t| SvUL: 8.805\n",
      "DEBUG:gammapy.astro.darkmatter.utils:JBest: 4.237247528118088e+19 GeV2 / cm5\n",
      "INFO:gammapy.astro.darkmatter.utils:Sigma v:2.6413782845220565e-25 cm3 / s\n",
      "INFO:gammapy.astro.darkmatter.utils:----\n",
      "INFO:gammapy.astro.darkmatter.utils:Run: 0\n",
      "INFO:gammapy.astro.darkmatter.utils:Channel: tau\n",
      "INFO:gammapy.astro.darkmatter.utils:Mass: 200.0 GeV\n",
      "DEBUG:gammapy.astro.darkmatter.utils:ZeroDeltaL: 0.0073 \t| LZero: 113.290 \t| LMin:  113.283\n",
      "DEBUG:gammapy.astro.darkmatter.utils:MaximumDeltaL: 4.1841 \t| LMax: 117.467 \t| LMin:  113.283\n",
      "DEBUG:gammapy.astro.darkmatter.utils:SvBestFound: 0.357 \t| SvBest: 0.357 \t| SvUL: 7.626\n",
      "DEBUG:gammapy.astro.darkmatter.utils:JBest: 1.773587209047059e+19 GeV2 / cm5\n",
      "INFO:gammapy.astro.darkmatter.utils:Sigma v:2.2877879124221087e-25 cm3 / s\n",
      "INFO:gammapy.astro.darkmatter.utils:----\n",
      "INFO:gammapy.astro.darkmatter.utils:Run: 0\n",
      "INFO:gammapy.astro.darkmatter.utils:Channel: tau\n",
      "INFO:gammapy.astro.darkmatter.utils:Mass: 500.0 GeV\n",
      "DEBUG:gammapy.astro.darkmatter.utils:ZeroDeltaL: 0.0478 \t| LZero: 113.289 \t| LMin:  113.241\n",
      "DEBUG:gammapy.astro.darkmatter.utils:MaximumDeltaL: 2499.9797 \t| LMax: 2613.221 \t| LMin:  113.241\n",
      "DEBUG:gammapy.astro.darkmatter.utils:SvBestFound: 0.608 \t| SvBest: 0.608 \t| SvUL: 6.575\n",
      "DEBUG:gammapy.astro.darkmatter.utils:JBest: 2.2055986316342927e+19 GeV2 / cm5\n",
      "INFO:gammapy.astro.darkmatter.utils:Sigma v:1.9723867290528046e-25 cm3 / s\n",
      "INFO:gammapy.astro.darkmatter.utils:----\n",
      "INFO:gammapy.astro.darkmatter.utils:Run: 0\n",
      "INFO:gammapy.astro.darkmatter.utils:Channel: tau\n",
      "INFO:gammapy.astro.darkmatter.utils:Mass: 1000.0 GeV\n",
      "DEBUG:gammapy.astro.darkmatter.utils:ZeroDeltaL: 0.0934 \t| LZero: 113.287 \t| LMin:  113.194\n",
      "DEBUG:gammapy.astro.darkmatter.utils:MaximumDeltaL: 1578.5674 \t| LMax: 1691.761 \t| LMin:  113.194\n",
      "DEBUG:gammapy.astro.darkmatter.utils:SvBestFound: 0.739 \t| SvBest: 0.739 \t| SvUL: 7.036\n",
      "DEBUG:gammapy.astro.darkmatter.utils:JBest: 2.5710321169392407e+19 GeV2 / cm5\n",
      "INFO:gammapy.astro.darkmatter.utils:Sigma v:2.1108751700995917e-25 cm3 / s\n",
      "INFO:gammapy.astro.darkmatter.utils:----\n",
      "INFO:gammapy.astro.darkmatter.utils:Run: 0\n",
      "INFO:gammapy.astro.darkmatter.utils:Channel: tau\n",
      "INFO:gammapy.astro.darkmatter.utils:Mass: 5000.0 GeV\n",
      "DEBUG:gammapy.astro.darkmatter.utils:ZeroDeltaL: 2.0763 \t| LZero: 113.275 \t| LMin:  111.199\n",
      "DEBUG:gammapy.astro.darkmatter.utils:MaximumDeltaL: 1132.8959 \t| LMax: 1244.095 \t| LMin:  111.199\n",
      "DEBUG:gammapy.astro.darkmatter.utils:SvBestFound: 6.862 \t| SvBest: 6.862 \t| SvUL: 19.085\n",
      "DEBUG:gammapy.astro.darkmatter.utils:JBest: 2.1356867055445574e+19 GeV2 / cm5\n",
      "INFO:gammapy.astro.darkmatter.utils:Sigma v:5.725503876921267e-25 cm3 / s\n",
      "INFO:gammapy.astro.darkmatter.utils:----\n",
      "INFO:gammapy.astro.darkmatter.utils:Run: 0\n",
      "INFO:gammapy.astro.darkmatter.utils:Channel: tau\n",
      "INFO:gammapy.astro.darkmatter.utils:Mass: 10000.0 GeV\n",
      "DEBUG:gammapy.astro.darkmatter.utils:ZeroDeltaL: 3.0208 \t| LZero: 112.428 \t| LMin:  109.408\n",
      "DEBUG:gammapy.astro.darkmatter.utils:MaximumDeltaL: 465.9562 \t| LMax: 575.364 \t| LMin:  109.408\n",
      "DEBUG:gammapy.astro.darkmatter.utils:SvBestFound: 8.827 \t| SvBest: 8.827 \t| SvUL: 34.618\n",
      "DEBUG:gammapy.astro.darkmatter.utils:JBest: 3.4969661944642638e+19 GeV2 / cm5\n",
      "INFO:gammapy.astro.darkmatter.utils:Sigma v:1.0385268698061503e-24 cm3 / s\n",
      "INFO:gammapy.astro.darkmatter.utils:----\n",
      "INFO:gammapy.astro.darkmatter.utils:Run: 0\n",
      "INFO:gammapy.astro.darkmatter.utils:Channel: tau\n",
      "INFO:gammapy.astro.darkmatter.utils:Mass: 50000.0 GeV\n",
      "DEBUG:gammapy.astro.darkmatter.utils:ZeroDeltaL: 3.1217 \t| LZero: 113.049 \t| LMin:  109.928\n"
     ]
    },
    {
     "name": "stderr",
     "output_type": "stream",
     "text": [
      "DEBUG:gammapy.astro.darkmatter.utils:MaximumDeltaL: 156.2473 \t| LMax: 266.175 \t| LMin:  109.928\n",
      "DEBUG:gammapy.astro.darkmatter.utils:SvBestFound: 60.657 \t| SvBest: 60.657 \t| SvUL: 154.881\n",
      "DEBUG:gammapy.astro.darkmatter.utils:JBest: 1.848718062223274e+19 GeV2 / cm5\n",
      "INFO:gammapy.astro.darkmatter.utils:Sigma v:4.646427100983967e-24 cm3 / s\n",
      "INFO:gammapy.astro.darkmatter.utils:----\n",
      "INFO:gammapy.astro.darkmatter.utils:Run: 0\n",
      "INFO:gammapy.astro.darkmatter.utils:Channel: Z\n",
      "INFO:gammapy.astro.darkmatter.utils:Mass: 100.0 GeV\n",
      "DEBUG:gammapy.astro.darkmatter.utils:ZeroDeltaL: 0.5683 \t| LZero: 113.263 \t| LMin:  112.695\n",
      "DEBUG:gammapy.astro.darkmatter.utils:MaximumDeltaL: 1.3324 \t| LMax: 114.027 \t| LMin:  112.695\n",
      "WARNING:gammapy.astro.darkmatter.utils:Wider range needed in likelihood profile\n",
      "WARNING:gammapy.astro.darkmatter.utils:Skipping run 0\n",
      "INFO:gammapy.astro.darkmatter.utils:----\n",
      "INFO:gammapy.astro.darkmatter.utils:Run: 1\n",
      "INFO:gammapy.astro.darkmatter.utils:Channel: b\n",
      "INFO:gammapy.astro.darkmatter.utils:Mass: 100.0 GeV\n",
      "DEBUG:gammapy.astro.darkmatter.utils:ZeroDeltaL: 0.2950 \t| LZero: 113.121 \t| LMin:  112.826\n",
      "DEBUG:gammapy.astro.darkmatter.utils:MaximumDeltaL: 714.4416 \t| LMax: 827.268 \t| LMin:  112.826\n",
      "DEBUG:gammapy.astro.darkmatter.utils:SvBestFound: 23.443 \t| SvBest: 23.443 \t| SvUL: 121.107\n",
      "DEBUG:gammapy.astro.darkmatter.utils:JBest: 2.182118756679005e+19 GeV2 / cm5\n",
      "INFO:gammapy.astro.darkmatter.utils:Sigma v:3.6332172772082464e-24 cm3 / s\n",
      "INFO:gammapy.astro.darkmatter.utils:----\n",
      "INFO:gammapy.astro.darkmatter.utils:Run: 1\n",
      "INFO:gammapy.astro.darkmatter.utils:Channel: b\n",
      "INFO:gammapy.astro.darkmatter.utils:Mass: 200.0 GeV\n",
      "DEBUG:gammapy.astro.darkmatter.utils:ZeroDeltaL: 1.7826 \t| LZero: 113.117 \t| LMin:  111.335\n",
      "DEBUG:gammapy.astro.darkmatter.utils:MaximumDeltaL: 767.4990 \t| LMax: 878.834 \t| LMin:  111.335\n",
      "DEBUG:gammapy.astro.darkmatter.utils:SvBestFound: 16.725 \t| SvBest: 16.725 \t| SvUL: 101.524\n",
      "DEBUG:gammapy.astro.darkmatter.utils:JBest: 4.627148629870115e+19 GeV2 / cm5\n",
      "INFO:gammapy.astro.darkmatter.utils:Sigma v:3.045707399129047e-24 cm3 / s\n",
      "INFO:gammapy.astro.darkmatter.utils:----\n",
      "INFO:gammapy.astro.darkmatter.utils:Run: 1\n",
      "INFO:gammapy.astro.darkmatter.utils:Channel: b\n",
      "INFO:gammapy.astro.darkmatter.utils:Mass: 500.0 GeV\n",
      "DEBUG:gammapy.astro.darkmatter.utils:ZeroDeltaL: 3.2732 \t| LZero: 110.572 \t| LMin:  107.299\n",
      "DEBUG:gammapy.astro.darkmatter.utils:MaximumDeltaL: 2221.4913 \t| LMax: 2328.791 \t| LMin:  107.299\n",
      "DEBUG:gammapy.astro.darkmatter.utils:SvBestFound: 35.780 \t| SvBest: 35.780 \t| SvUL: 94.375\n",
      "DEBUG:gammapy.astro.darkmatter.utils:JBest: 2.6812865690848883e+19 GeV2 / cm5\n",
      "INFO:gammapy.astro.darkmatter.utils:Sigma v:2.8312460783863315e-24 cm3 / s\n",
      "INFO:gammapy.astro.darkmatter.utils:----\n",
      "INFO:gammapy.astro.darkmatter.utils:Run: 1\n",
      "INFO:gammapy.astro.darkmatter.utils:Channel: b\n",
      "INFO:gammapy.astro.darkmatter.utils:Mass: 1000.0 GeV\n",
      "DEBUG:gammapy.astro.darkmatter.utils:ZeroDeltaL: 3.1007 \t| LZero: 111.427 \t| LMin:  108.326\n",
      "DEBUG:gammapy.astro.darkmatter.utils:MaximumDeltaL: 1203.3667 \t| LMax: 1311.693 \t| LMin:  108.326\n",
      "DEBUG:gammapy.astro.darkmatter.utils:SvBestFound: 20.109 \t| SvBest: 20.109 \t| SvUL: 73.725\n",
      "DEBUG:gammapy.astro.darkmatter.utils:JBest: 3.550387652846345e+19 GeV2 / cm5\n",
      "INFO:gammapy.astro.darkmatter.utils:Sigma v:2.2117595201214014e-24 cm3 / s\n",
      "INFO:gammapy.astro.darkmatter.utils:----\n",
      "INFO:gammapy.astro.darkmatter.utils:Run: 1\n",
      "INFO:gammapy.astro.darkmatter.utils:Channel: b\n",
      "INFO:gammapy.astro.darkmatter.utils:Mass: 5000.0 GeV\n",
      "DEBUG:gammapy.astro.darkmatter.utils:ZeroDeltaL: 0.6992 \t| LZero: 113.120 \t| LMin:  112.421\n",
      "DEBUG:gammapy.astro.darkmatter.utils:MaximumDeltaL: 448.9870 \t| LMax: 561.408 \t| LMin:  112.421\n",
      "DEBUG:gammapy.astro.darkmatter.utils:SvBestFound: 5.478 \t| SvBest: 5.478 \t| SvUL: 49.294\n",
      "DEBUG:gammapy.astro.darkmatter.utils:JBest: 5.107631020350189e+19 GeV2 / cm5\n",
      "INFO:gammapy.astro.darkmatter.utils:Sigma v:1.4788315625799891e-24 cm3 / s\n",
      "INFO:gammapy.astro.darkmatter.utils:----\n",
      "INFO:gammapy.astro.darkmatter.utils:Run: 1\n",
      "INFO:gammapy.astro.darkmatter.utils:Channel: b\n",
      "INFO:gammapy.astro.darkmatter.utils:Mass: 10000.0 GeV\n",
      "DEBUG:gammapy.astro.darkmatter.utils:ZeroDeltaL: 0.0183 \t| LZero: 113.122 \t| LMin:  113.104\n",
      "DEBUG:gammapy.astro.darkmatter.utils:MaximumDeltaL: 446.7767 \t| LMax: 559.899 \t| LMin:  113.122\n",
      "DEBUG:gammapy.astro.darkmatter.utils:SvBestFound: -1.084 \t| SvBest: 0.000 \t| SvUL: 36.456\n",
      "DEBUG:gammapy.astro.darkmatter.utils:JBest: 4.965226394295332e+19 GeV2 / cm5\n",
      "INFO:gammapy.astro.darkmatter.utils:Sigma v:1.0936944895976948e-24 cm3 / s\n",
      "INFO:gammapy.astro.darkmatter.utils:----\n",
      "INFO:gammapy.astro.darkmatter.utils:Run: 1\n",
      "INFO:gammapy.astro.darkmatter.utils:Channel: b\n",
      "INFO:gammapy.astro.darkmatter.utils:Mass: 50000.0 GeV\n",
      "DEBUG:gammapy.astro.darkmatter.utils:ZeroDeltaL: 0.9161 \t| LZero: 112.561 \t| LMin:  111.645\n",
      "DEBUG:gammapy.astro.darkmatter.utils:MaximumDeltaL: 168.0731 \t| LMax: 280.634 \t| LMin:  112.561\n",
      "DEBUG:gammapy.astro.darkmatter.utils:SvBestFound: -25.962 \t| SvBest: 0.000 \t| SvUL: 32.502\n",
      "DEBUG:gammapy.astro.darkmatter.utils:JBest: 3.658351519213907e+19 GeV2 / cm5\n",
      "INFO:gammapy.astro.darkmatter.utils:Sigma v:9.750493183740094e-25 cm3 / s\n",
      "INFO:gammapy.astro.darkmatter.utils:----\n",
      "INFO:gammapy.astro.darkmatter.utils:Run: 1\n",
      "INFO:gammapy.astro.darkmatter.utils:Channel: tau\n",
      "INFO:gammapy.astro.darkmatter.utils:Mass: 100.0 GeV\n",
      "DEBUG:gammapy.astro.darkmatter.utils:ZeroDeltaL: 4.0056 \t| LZero: 111.200 \t| LMin:  107.195\n",
      "DEBUG:gammapy.astro.darkmatter.utils:MaximumDeltaL: 775.2673 \t| LMax: 882.462 \t| LMin:  107.195\n",
      "DEBUG:gammapy.astro.darkmatter.utils:SvBestFound: 5.869 \t| SvBest: 5.869 \t| SvUL: 26.009\n",
      "DEBUG:gammapy.astro.darkmatter.utils:JBest: 4.501229922945406e+19 GeV2 / cm5\n",
      "INFO:gammapy.astro.darkmatter.utils:Sigma v:7.802666535030515e-25 cm3 / s\n",
      "INFO:gammapy.astro.darkmatter.utils:----\n",
      "INFO:gammapy.astro.darkmatter.utils:Run: 1\n",
      "INFO:gammapy.astro.darkmatter.utils:Channel: tau\n",
      "INFO:gammapy.astro.darkmatter.utils:Mass: 200.0 GeV\n",
      "DEBUG:gammapy.astro.darkmatter.utils:ZeroDeltaL: 3.3595 \t| LZero: 110.718 \t| LMin:  107.359\n",
      "DEBUG:gammapy.astro.darkmatter.utils:MaximumDeltaL: 4638.4642 \t| LMax: 4745.823 \t| LMin:  107.359\n",
      "DEBUG:gammapy.astro.darkmatter.utils:SvBestFound: 10.131 \t| SvBest: 10.131 \t| SvUL: 17.745\n",
      "DEBUG:gammapy.astro.darkmatter.utils:JBest: 1.7667086133077991e+19 GeV2 / cm5\n",
      "INFO:gammapy.astro.darkmatter.utils:Sigma v:5.323420854870618e-25 cm3 / s\n",
      "INFO:gammapy.astro.darkmatter.utils:----\n",
      "INFO:gammapy.astro.darkmatter.utils:Run: 1\n",
      "INFO:gammapy.astro.darkmatter.utils:Channel: tau\n",
      "INFO:gammapy.astro.darkmatter.utils:Mass: 500.0 GeV\n",
      "DEBUG:gammapy.astro.darkmatter.utils:ZeroDeltaL: 1.0775 \t| LZero: 113.121 \t| LMin:  112.043\n",
      "DEBUG:gammapy.astro.darkmatter.utils:MaximumDeltaL: 685.6759 \t| LMax: 797.719 \t| LMin:  112.043\n",
      "DEBUG:gammapy.astro.darkmatter.utils:SvBestFound: 1.356 \t| SvBest: 1.356 \t| SvUL: 9.450\n",
      "DEBUG:gammapy.astro.darkmatter.utils:JBest: 4.558179985143027e+19 GeV2 / cm5\n",
      "INFO:gammapy.astro.darkmatter.utils:Sigma v:2.8351468660222445e-25 cm3 / s\n",
      "INFO:gammapy.astro.darkmatter.utils:----\n",
      "INFO:gammapy.astro.darkmatter.utils:Run: 1\n",
      "INFO:gammapy.astro.darkmatter.utils:Channel: tau\n",
      "INFO:gammapy.astro.darkmatter.utils:Mass: 1000.0 GeV\n",
      "DEBUG:gammapy.astro.darkmatter.utils:ZeroDeltaL: 0.0401 \t| LZero: 113.114 \t| LMin:  113.074\n",
      "DEBUG:gammapy.astro.darkmatter.utils:MaximumDeltaL: 1999.8891 \t| LMax: 2112.963 \t| LMin:  113.074\n",
      "DEBUG:gammapy.astro.darkmatter.utils:SvBestFound: 0.601 \t| SvBest: 0.601 \t| SvUL: 6.683\n",
      "DEBUG:gammapy.astro.darkmatter.utils:JBest: 2.188905048421224e+19 GeV2 / cm5\n",
      "INFO:gammapy.astro.darkmatter.utils:Sigma v:2.004920014375111e-25 cm3 / s\n",
      "INFO:gammapy.astro.darkmatter.utils:----\n",
      "INFO:gammapy.astro.darkmatter.utils:Run: 1\n",
      "INFO:gammapy.astro.darkmatter.utils:Channel: tau\n",
      "INFO:gammapy.astro.darkmatter.utils:Mass: 5000.0 GeV\n",
      "DEBUG:gammapy.astro.darkmatter.utils:ZeroDeltaL: 1.9651 \t| LZero: 112.688 \t| LMin:  110.723\n",
      "DEBUG:gammapy.astro.darkmatter.utils:MaximumDeltaL: 295.8467 \t| LMax: 408.534 \t| LMin:  112.688\n",
      "DEBUG:gammapy.astro.darkmatter.utils:SvBestFound: -6.203 \t| SvBest: 0.000 \t| SvUL: 3.542\n",
      "DEBUG:gammapy.astro.darkmatter.utils:JBest: 2.410595650994808e+19 GeV2 / cm5\n",
      "INFO:gammapy.astro.darkmatter.utils:Sigma v:1.062532233538604e-25 cm3 / s\n"
     ]
    },
    {
     "name": "stderr",
     "output_type": "stream",
     "text": [
      "INFO:gammapy.astro.darkmatter.utils:----\n",
      "INFO:gammapy.astro.darkmatter.utils:Run: 1\n",
      "INFO:gammapy.astro.darkmatter.utils:Channel: tau\n",
      "INFO:gammapy.astro.darkmatter.utils:Mass: 10000.0 GeV\n",
      "DEBUG:gammapy.astro.darkmatter.utils:ZeroDeltaL: 1.8774 \t| LZero: 113.125 \t| LMin:  111.248\n",
      "DEBUG:gammapy.astro.darkmatter.utils:MaximumDeltaL: 456.4095 \t| LMax: 569.535 \t| LMin:  113.125\n",
      "DEBUG:gammapy.astro.darkmatter.utils:SvBestFound: -6.072 \t| SvBest: 0.000 \t| SvUL: 6.906\n",
      "DEBUG:gammapy.astro.darkmatter.utils:JBest: 3.150757969472396e+19 GeV2 / cm5\n",
      "INFO:gammapy.astro.darkmatter.utils:Sigma v:2.0718844463177904e-25 cm3 / s\n",
      "INFO:gammapy.astro.darkmatter.utils:----\n",
      "INFO:gammapy.astro.darkmatter.utils:Run: 1\n",
      "INFO:gammapy.astro.darkmatter.utils:Channel: tau\n",
      "INFO:gammapy.astro.darkmatter.utils:Mass: 50000.0 GeV\n",
      "DEBUG:gammapy.astro.darkmatter.utils:ZeroDeltaL: 2.4140 \t| LZero: 112.128 \t| LMin:  109.714\n",
      "DEBUG:gammapy.astro.darkmatter.utils:MaximumDeltaL: 175.8493 \t| LMax: 287.978 \t| LMin:  112.128\n",
      "DEBUG:gammapy.astro.darkmatter.utils:SvBestFound: -30.166 \t| SvBest: 0.000 \t| SvUL: 22.181\n",
      "DEBUG:gammapy.astro.darkmatter.utils:JBest: 2.8779967044981203e+19 GeV2 / cm5\n",
      "INFO:gammapy.astro.darkmatter.utils:Sigma v:6.6542997873755885e-25 cm3 / s\n",
      "INFO:gammapy.astro.darkmatter.utils:----\n",
      "INFO:gammapy.astro.darkmatter.utils:Run: 1\n",
      "INFO:gammapy.astro.darkmatter.utils:Channel: Z\n",
      "INFO:gammapy.astro.darkmatter.utils:Mass: 100.0 GeV\n",
      "DEBUG:gammapy.astro.darkmatter.utils:ZeroDeltaL: 0.1658 \t| LZero: 113.121 \t| LMin:  112.955\n",
      "DEBUG:gammapy.astro.darkmatter.utils:MaximumDeltaL: 2713.8868 \t| LMax: 2826.842 \t| LMin:  112.955\n",
      "DEBUG:gammapy.astro.darkmatter.utils:SvBestFound: 22.631 \t| SvBest: 22.631 \t| SvUL: 165.181\n",
      "DEBUG:gammapy.astro.darkmatter.utils:JBest: 2.4699595738461065e+19 GeV2 / cm5\n",
      "INFO:gammapy.astro.darkmatter.utils:Sigma v:4.9554411784726184e-24 cm3 / s\n",
      "INFO:gammapy.astro.darkmatter.utils:----\n",
      "INFO:gammapy.astro.darkmatter.utils:Run: 1\n",
      "INFO:gammapy.astro.darkmatter.utils:Channel: Z\n",
      "INFO:gammapy.astro.darkmatter.utils:Mass: 200.0 GeV\n",
      "DEBUG:gammapy.astro.darkmatter.utils:ZeroDeltaL: 3.4095 \t| LZero: 111.961 \t| LMin:  108.552\n",
      "DEBUG:gammapy.astro.darkmatter.utils:MaximumDeltaL: 614.1519 \t| LMax: 722.704 \t| LMin:  108.552\n",
      "DEBUG:gammapy.astro.darkmatter.utils:SvBestFound: 25.014 \t| SvBest: 25.014 \t| SvUL: 131.003\n",
      "DEBUG:gammapy.astro.darkmatter.utils:JBest: 5.037085347267449e+19 GeV2 / cm5\n",
      "INFO:gammapy.astro.darkmatter.utils:Sigma v:3.9301041201285066e-24 cm3 / s\n",
      "INFO:gammapy.astro.darkmatter.utils:----\n",
      "INFO:gammapy.astro.darkmatter.utils:Run: 1\n",
      "INFO:gammapy.astro.darkmatter.utils:Channel: Z\n",
      "INFO:gammapy.astro.darkmatter.utils:Mass: 500.0 GeV\n",
      "DEBUG:gammapy.astro.darkmatter.utils:ZeroDeltaL: 4.2083 \t| LZero: 110.468 \t| LMin:  106.260\n",
      "DEBUG:gammapy.astro.darkmatter.utils:MaximumDeltaL: 1240.2667 \t| LMax: 1346.527 \t| LMin:  106.260\n",
      "DEBUG:gammapy.astro.darkmatter.utils:SvBestFound: 26.651 \t| SvBest: 26.651 \t| SvUL: 89.944\n",
      "DEBUG:gammapy.astro.darkmatter.utils:JBest: 3.520409017435947e+19 GeV2 / cm5\n",
      "INFO:gammapy.astro.darkmatter.utils:Sigma v:2.6983220633184862e-24 cm3 / s\n",
      "INFO:gammapy.astro.darkmatter.utils:----\n",
      "INFO:gammapy.astro.darkmatter.utils:Run: 1\n",
      "INFO:gammapy.astro.darkmatter.utils:Channel: Z\n",
      "INFO:gammapy.astro.darkmatter.utils:Mass: 1000.0 GeV\n",
      "DEBUG:gammapy.astro.darkmatter.utils:ZeroDeltaL: 3.6131 \t| LZero: 111.863 \t| LMin:  108.250\n",
      "DEBUG:gammapy.astro.darkmatter.utils:MaximumDeltaL: 714.7378 \t| LMax: 822.987 \t| LMin:  108.250\n",
      "DEBUG:gammapy.astro.darkmatter.utils:SvBestFound: 14.019 \t| SvBest: 14.019 \t| SvUL: 67.904\n",
      "DEBUG:gammapy.astro.darkmatter.utils:JBest: 4.710842417644832e+19 GeV2 / cm5\n",
      "INFO:gammapy.astro.darkmatter.utils:Sigma v:2.0371210390709465e-24 cm3 / s\n",
      "INFO:gammapy.astro.darkmatter.utils:----\n",
      "INFO:gammapy.astro.darkmatter.utils:Run: 1\n",
      "INFO:gammapy.astro.darkmatter.utils:Channel: Z\n",
      "INFO:gammapy.astro.darkmatter.utils:Mass: 5000.0 GeV\n",
      "DEBUG:gammapy.astro.darkmatter.utils:ZeroDeltaL: 0.0911 \t| LZero: 113.120 \t| LMin:  113.029\n",
      "DEBUG:gammapy.astro.darkmatter.utils:MaximumDeltaL: 564.4949 \t| LMax: 677.524 \t| LMin:  113.029\n",
      "DEBUG:gammapy.astro.darkmatter.utils:SvBestFound: 2.199 \t| SvBest: 2.199 \t| SvUL: 38.450\n",
      "DEBUG:gammapy.astro.darkmatter.utils:JBest: 4.5914769350218056e+19 GeV2 / cm5\n",
      "INFO:gammapy.astro.darkmatter.utils:Sigma v:1.1534906749240802e-24 cm3 / s\n",
      "INFO:gammapy.astro.darkmatter.utils:----\n",
      "INFO:gammapy.astro.darkmatter.utils:Run: 1\n",
      "INFO:gammapy.astro.darkmatter.utils:Channel: Z\n",
      "INFO:gammapy.astro.darkmatter.utils:Mass: 10000.0 GeV\n",
      "DEBUG:gammapy.astro.darkmatter.utils:ZeroDeltaL: 0.2818 \t| LZero: 113.098 \t| LMin:  112.816\n",
      "DEBUG:gammapy.astro.darkmatter.utils:MaximumDeltaL: 124.3848 \t| LMax: 237.483 \t| LMin:  113.098\n",
      "DEBUG:gammapy.astro.darkmatter.utils:SvBestFound: -6.359 \t| SvBest: 0.000 \t| SvUL: 28.436\n",
      "DEBUG:gammapy.astro.darkmatter.utils:JBest: 3.4923942026270015e+19 GeV2 / cm5\n",
      "INFO:gammapy.astro.darkmatter.utils:Sigma v:8.530794324520172e-25 cm3 / s\n",
      "INFO:gammapy.astro.darkmatter.utils:----\n",
      "INFO:gammapy.astro.darkmatter.utils:Run: 1\n",
      "INFO:gammapy.astro.darkmatter.utils:Channel: Z\n",
      "INFO:gammapy.astro.darkmatter.utils:Mass: 50000.0 GeV\n",
      "DEBUG:gammapy.astro.darkmatter.utils:ZeroDeltaL: 1.2631 \t| LZero: 112.529 \t| LMin:  111.265\n",
      "DEBUG:gammapy.astro.darkmatter.utils:MaximumDeltaL: 136.8220 \t| LMax: 249.351 \t| LMin:  112.529\n",
      "DEBUG:gammapy.astro.darkmatter.utils:SvBestFound: -25.713 \t| SvBest: 0.000 \t| SvUL: 33.162\n",
      "DEBUG:gammapy.astro.darkmatter.utils:JBest: 4.5931229931134165e+19 GeV2 / cm5\n",
      "INFO:gammapy.astro.darkmatter.utils:Sigma v:9.948629650536499e-25 cm3 / s\n",
      "INFO:gammapy.astro.darkmatter.utils:----\n",
      "INFO:gammapy.astro.darkmatter.utils:Run: 2\n",
      "INFO:gammapy.astro.darkmatter.utils:Channel: b\n",
      "INFO:gammapy.astro.darkmatter.utils:Mass: 100.0 GeV\n",
      "DEBUG:gammapy.astro.darkmatter.utils:ZeroDeltaL: 0.0643 \t| LZero: 107.815 \t| LMin:  107.750\n",
      "DEBUG:gammapy.astro.darkmatter.utils:MaximumDeltaL: 95.3003 \t| LMax: 203.115 \t| LMin:  107.815\n",
      "DEBUG:gammapy.astro.darkmatter.utils:SvBestFound: -5.386 \t| SvBest: 0.000 \t| SvUL: 77.984\n",
      "DEBUG:gammapy.astro.darkmatter.utils:JBest: 4.438147408516064e+19 GeV2 / cm5\n",
      "INFO:gammapy.astro.darkmatter.utils:Sigma v:2.3395195471416093e-24 cm3 / s\n",
      "INFO:gammapy.astro.darkmatter.utils:----\n",
      "INFO:gammapy.astro.darkmatter.utils:Run: 2\n",
      "INFO:gammapy.astro.darkmatter.utils:Channel: b\n",
      "INFO:gammapy.astro.darkmatter.utils:Mass: 200.0 GeV\n",
      "DEBUG:gammapy.astro.darkmatter.utils:ZeroDeltaL: 0.0002 \t| LZero: 107.815 \t| LMin:  107.814\n",
      "DEBUG:gammapy.astro.darkmatter.utils:MaximumDeltaL: 1204.2153 \t| LMax: 1312.030 \t| LMin:  107.814\n",
      "DEBUG:gammapy.astro.darkmatter.utils:SvBestFound: 0.216 \t| SvBest: 0.216 \t| SvUL: 56.301\n",
      "DEBUG:gammapy.astro.darkmatter.utils:JBest: 3.4957411483878654e+19 GeV2 / cm5\n",
      "INFO:gammapy.astro.darkmatter.utils:Sigma v:1.689035248805961e-24 cm3 / s\n",
      "INFO:gammapy.astro.darkmatter.utils:----\n",
      "INFO:gammapy.astro.darkmatter.utils:Run: 2\n",
      "INFO:gammapy.astro.darkmatter.utils:Channel: b\n",
      "INFO:gammapy.astro.darkmatter.utils:Mass: 500.0 GeV\n",
      "DEBUG:gammapy.astro.darkmatter.utils:ZeroDeltaL: 1.0991 \t| LZero: 107.812 \t| LMin:  106.713\n",
      "DEBUG:gammapy.astro.darkmatter.utils:MaximumDeltaL: 673.8185 \t| LMax: 780.532 \t| LMin:  106.713\n",
      "DEBUG:gammapy.astro.darkmatter.utils:SvBestFound: 8.497 \t| SvBest: 8.497 \t| SvUL: 62.960\n",
      "DEBUG:gammapy.astro.darkmatter.utils:JBest: 4.90554032685221e+19 GeV2 / cm5\n",
      "INFO:gammapy.astro.darkmatter.utils:Sigma v:1.8887888794208897e-24 cm3 / s\n",
      "INFO:gammapy.astro.darkmatter.utils:----\n",
      "INFO:gammapy.astro.darkmatter.utils:Run: 2\n",
      "INFO:gammapy.astro.darkmatter.utils:Channel: b\n",
      "INFO:gammapy.astro.darkmatter.utils:Mass: 1000.0 GeV\n",
      "DEBUG:gammapy.astro.darkmatter.utils:ZeroDeltaL: 2.2588 \t| LZero: 107.671 \t| LMin:  105.412\n",
      "DEBUG:gammapy.astro.darkmatter.utils:MaximumDeltaL: 50.1002 \t| LMax: 155.512 \t| LMin:  105.412\n",
      "DEBUG:gammapy.astro.darkmatter.utils:SvBestFound: 29.720 \t| SvBest: 29.720 \t| SvUL: 61.250\n",
      "DEBUG:gammapy.astro.darkmatter.utils:JBest: 1.7055452848522779e+19 GeV2 / cm5\n",
      "INFO:gammapy.astro.darkmatter.utils:Sigma v:1.8375042320413054e-24 cm3 / s\n",
      "INFO:gammapy.astro.darkmatter.utils:----\n",
      "INFO:gammapy.astro.darkmatter.utils:Run: 2\n",
      "INFO:gammapy.astro.darkmatter.utils:Channel: b\n",
      "INFO:gammapy.astro.darkmatter.utils:Mass: 5000.0 GeV\n",
      "DEBUG:gammapy.astro.darkmatter.utils:ZeroDeltaL: 2.4055 \t| LZero: 107.813 \t| LMin:  105.408\n"
     ]
    },
    {
     "name": "stderr",
     "output_type": "stream",
     "text": [
      "DEBUG:gammapy.astro.darkmatter.utils:MaximumDeltaL: 670.5797 \t| LMax: 775.987 \t| LMin:  105.408\n",
      "DEBUG:gammapy.astro.darkmatter.utils:SvBestFound: 12.118 \t| SvBest: 12.118 \t| SvUL: 63.778\n",
      "DEBUG:gammapy.astro.darkmatter.utils:JBest: 4.3089165190058074e+19 GeV2 / cm5\n",
      "INFO:gammapy.astro.darkmatter.utils:Sigma v:1.913328607289713e-24 cm3 / s\n",
      "INFO:gammapy.astro.darkmatter.utils:----\n",
      "INFO:gammapy.astro.darkmatter.utils:Run: 2\n",
      "INFO:gammapy.astro.darkmatter.utils:Channel: b\n",
      "INFO:gammapy.astro.darkmatter.utils:Mass: 10000.0 GeV\n",
      "DEBUG:gammapy.astro.darkmatter.utils:ZeroDeltaL: 0.9302 \t| LZero: 107.693 \t| LMin:  106.763\n",
      "DEBUG:gammapy.astro.darkmatter.utils:MaximumDeltaL: 11.1023 \t| LMax: 117.865 \t| LMin:  106.763\n",
      "DEBUG:gammapy.astro.darkmatter.utils:SvBestFound: 8.114 \t| SvBest: 8.114 \t| SvUL: 63.776\n",
      "DEBUG:gammapy.astro.darkmatter.utils:JBest: 5.043653367731456e+19 GeV2 / cm5\n",
      "INFO:gammapy.astro.darkmatter.utils:Sigma v:1.9132767479380715e-24 cm3 / s\n",
      "INFO:gammapy.astro.darkmatter.utils:----\n",
      "INFO:gammapy.astro.darkmatter.utils:Run: 2\n",
      "INFO:gammapy.astro.darkmatter.utils:Channel: b\n",
      "INFO:gammapy.astro.darkmatter.utils:Mass: 50000.0 GeV\n",
      "DEBUG:gammapy.astro.darkmatter.utils:ZeroDeltaL: 0.1546 \t| LZero: 107.815 \t| LMin:  107.660\n",
      "DEBUG:gammapy.astro.darkmatter.utils:MaximumDeltaL: 72.4708 \t| LMax: 180.285 \t| LMin:  107.815\n",
      "DEBUG:gammapy.astro.darkmatter.utils:SvBestFound: -7.320 \t| SvBest: 0.000 \t| SvUL: 66.191\n",
      "DEBUG:gammapy.astro.darkmatter.utils:JBest: 4.45193024909196e+19 GeV2 / cm5\n",
      "INFO:gammapy.astro.darkmatter.utils:Sigma v:1.985716353526124e-24 cm3 / s\n",
      "INFO:gammapy.astro.darkmatter.utils:----\n",
      "INFO:gammapy.astro.darkmatter.utils:Run: 2\n",
      "INFO:gammapy.astro.darkmatter.utils:Channel: tau\n",
      "INFO:gammapy.astro.darkmatter.utils:Mass: 100.0 GeV\n",
      "DEBUG:gammapy.astro.darkmatter.utils:ZeroDeltaL: 1.0294 \t| LZero: 107.814 \t| LMin:  106.785\n",
      "DEBUG:gammapy.astro.darkmatter.utils:MaximumDeltaL: 776.5062 \t| LMax: 883.291 \t| LMin:  106.785\n",
      "DEBUG:gammapy.astro.darkmatter.utils:SvBestFound: 2.382 \t| SvBest: 2.382 \t| SvUL: 16.963\n",
      "DEBUG:gammapy.astro.darkmatter.utils:JBest: 4.619745394914657e+19 GeV2 / cm5\n",
      "INFO:gammapy.astro.darkmatter.utils:Sigma v:5.089033655889774e-25 cm3 / s\n",
      "INFO:gammapy.astro.darkmatter.utils:----\n",
      "INFO:gammapy.astro.darkmatter.utils:Run: 2\n",
      "INFO:gammapy.astro.darkmatter.utils:Channel: tau\n",
      "INFO:gammapy.astro.darkmatter.utils:Mass: 200.0 GeV\n",
      "DEBUG:gammapy.astro.darkmatter.utils:ZeroDeltaL: 2.6622 \t| LZero: 107.602 \t| LMin:  104.940\n",
      "DEBUG:gammapy.astro.darkmatter.utils:MaximumDeltaL: 11.5802 \t| LMax: 116.520 \t| LMin:  104.940\n",
      "DEBUG:gammapy.astro.darkmatter.utils:SvBestFound: 2.489 \t| SvBest: 2.489 \t| SvUL: 14.632\n",
      "DEBUG:gammapy.astro.darkmatter.utils:JBest: 5.074500952179011e+19 GeV2 / cm5\n",
      "INFO:gammapy.astro.darkmatter.utils:Sigma v:4.389625431730523e-25 cm3 / s\n",
      "INFO:gammapy.astro.darkmatter.utils:----\n",
      "INFO:gammapy.astro.darkmatter.utils:Run: 2\n",
      "INFO:gammapy.astro.darkmatter.utils:Channel: tau\n",
      "INFO:gammapy.astro.darkmatter.utils:Mass: 500.0 GeV\n",
      "DEBUG:gammapy.astro.darkmatter.utils:ZeroDeltaL: 2.5939 \t| LZero: 107.814 \t| LMin:  105.220\n",
      "DEBUG:gammapy.astro.darkmatter.utils:MaximumDeltaL: 800.3636 \t| LMax: 905.584 \t| LMin:  105.220\n",
      "DEBUG:gammapy.astro.darkmatter.utils:SvBestFound: 2.310 \t| SvBest: 2.310 \t| SvUL: 11.480\n",
      "DEBUG:gammapy.astro.darkmatter.utils:JBest: 4.159724342553607e+19 GeV2 / cm5\n",
      "INFO:gammapy.astro.darkmatter.utils:Sigma v:3.444069159954933e-25 cm3 / s\n",
      "INFO:gammapy.astro.darkmatter.utils:----\n",
      "INFO:gammapy.astro.darkmatter.utils:Run: 2\n",
      "INFO:gammapy.astro.darkmatter.utils:Channel: tau\n",
      "INFO:gammapy.astro.darkmatter.utils:Mass: 1000.0 GeV\n",
      "DEBUG:gammapy.astro.darkmatter.utils:ZeroDeltaL: 1.2390 \t| LZero: 107.682 \t| LMin:  106.443\n",
      "DEBUG:gammapy.astro.darkmatter.utils:MaximumDeltaL: 44.2881 \t| LMax: 150.731 \t| LMin:  106.443\n",
      "DEBUG:gammapy.astro.darkmatter.utils:SvBestFound: 1.432 \t| SvBest: 1.432 \t| SvUL: 10.166\n",
      "DEBUG:gammapy.astro.darkmatter.utils:JBest: 4.971188122762461e+19 GeV2 / cm5\n",
      "INFO:gammapy.astro.darkmatter.utils:Sigma v:3.0497066320778687e-25 cm3 / s\n",
      "INFO:gammapy.astro.darkmatter.utils:----\n",
      "INFO:gammapy.astro.darkmatter.utils:Run: 2\n",
      "INFO:gammapy.astro.darkmatter.utils:Channel: tau\n",
      "INFO:gammapy.astro.darkmatter.utils:Mass: 5000.0 GeV\n",
      "DEBUG:gammapy.astro.darkmatter.utils:ZeroDeltaL: 0.0794 \t| LZero: 107.815 \t| LMin:  107.735\n",
      "DEBUG:gammapy.astro.darkmatter.utils:MaximumDeltaL: 52.0050 \t| LMax: 159.820 \t| LMin:  107.815\n",
      "DEBUG:gammapy.astro.darkmatter.utils:SvBestFound: -0.732 \t| SvBest: 0.000 \t| SvUL: 8.470\n",
      "DEBUG:gammapy.astro.darkmatter.utils:JBest: 3.83623929420684e+19 GeV2 / cm5\n",
      "INFO:gammapy.astro.darkmatter.utils:Sigma v:2.5410634123140704e-25 cm3 / s\n",
      "INFO:gammapy.astro.darkmatter.utils:----\n",
      "INFO:gammapy.astro.darkmatter.utils:Run: 2\n",
      "INFO:gammapy.astro.darkmatter.utils:Channel: tau\n",
      "INFO:gammapy.astro.darkmatter.utils:Mass: 10000.0 GeV\n",
      "DEBUG:gammapy.astro.darkmatter.utils:ZeroDeltaL: 0.6164 \t| LZero: 107.502 \t| LMin:  106.886\n",
      "DEBUG:gammapy.astro.darkmatter.utils:MaximumDeltaL: 172.3341 \t| LMax: 279.836 \t| LMin:  107.502\n",
      "DEBUG:gammapy.astro.darkmatter.utils:SvBestFound: -6.373 \t| SvBest: 0.000 \t| SvUL: 8.050\n",
      "DEBUG:gammapy.astro.darkmatter.utils:JBest: 2.2806926246417633e+19 GeV2 / cm5\n",
      "INFO:gammapy.astro.darkmatter.utils:Sigma v:2.4149960802514366e-25 cm3 / s\n",
      "INFO:gammapy.astro.darkmatter.utils:----\n",
      "INFO:gammapy.astro.darkmatter.utils:Run: 2\n",
      "INFO:gammapy.astro.darkmatter.utils:Channel: tau\n",
      "INFO:gammapy.astro.darkmatter.utils:Mass: 50000.0 GeV\n",
      "DEBUG:gammapy.astro.darkmatter.utils:ZeroDeltaL: 0.3773 \t| LZero: 107.753 \t| LMin:  107.376\n",
      "DEBUG:gammapy.astro.darkmatter.utils:MaximumDeltaL: 20.5230 \t| LMax: 128.276 \t| LMin:  107.753\n",
      "DEBUG:gammapy.astro.darkmatter.utils:SvBestFound: -5.872 \t| SvBest: 0.000 \t| SvUL: 50.309\n",
      "DEBUG:gammapy.astro.darkmatter.utils:JBest: 4.37504732336156e+19 GeV2 / cm5\n",
      "INFO:gammapy.astro.darkmatter.utils:Sigma v:1.509262904585913e-24 cm3 / s\n",
      "INFO:gammapy.astro.darkmatter.utils:----\n",
      "INFO:gammapy.astro.darkmatter.utils:Run: 2\n",
      "INFO:gammapy.astro.darkmatter.utils:Channel: Z\n",
      "INFO:gammapy.astro.darkmatter.utils:Mass: 100.0 GeV\n",
      "DEBUG:gammapy.astro.darkmatter.utils:ZeroDeltaL: 0.3422 \t| LZero: 107.527 \t| LMin:  107.185\n",
      "DEBUG:gammapy.astro.darkmatter.utils:MaximumDeltaL: 407.8133 \t| LMax: 515.340 \t| LMin:  107.527\n",
      "DEBUG:gammapy.astro.darkmatter.utils:SvBestFound: -47.262 \t| SvBest: 0.000 \t| SvUL: 76.003\n",
      "DEBUG:gammapy.astro.darkmatter.utils:JBest: 2.2992643310454497e+19 GeV2 / cm5\n",
      "INFO:gammapy.astro.darkmatter.utils:Sigma v:2.280084965816903e-24 cm3 / s\n",
      "INFO:gammapy.astro.darkmatter.utils:----\n",
      "INFO:gammapy.astro.darkmatter.utils:Run: 2\n",
      "INFO:gammapy.astro.darkmatter.utils:Channel: Z\n",
      "INFO:gammapy.astro.darkmatter.utils:Mass: 200.0 GeV\n",
      "DEBUG:gammapy.astro.darkmatter.utils:ZeroDeltaL: 0.0823 \t| LZero: 107.813 \t| LMin:  107.731\n",
      "DEBUG:gammapy.astro.darkmatter.utils:MaximumDeltaL: 5356.2084 \t| LMax: 5463.939 \t| LMin:  107.731\n",
      "DEBUG:gammapy.astro.darkmatter.utils:SvBestFound: 9.983 \t| SvBest: 9.983 \t| SvUL: 66.938\n",
      "DEBUG:gammapy.astro.darkmatter.utils:JBest: 1.724249146970105e+19 GeV2 / cm5\n",
      "INFO:gammapy.astro.darkmatter.utils:Sigma v:2.0081417291133944e-24 cm3 / s\n",
      "INFO:gammapy.astro.darkmatter.utils:----\n",
      "INFO:gammapy.astro.darkmatter.utils:Run: 2\n",
      "INFO:gammapy.astro.darkmatter.utils:Channel: Z\n",
      "INFO:gammapy.astro.darkmatter.utils:Mass: 500.0 GeV\n",
      "DEBUG:gammapy.astro.darkmatter.utils:ZeroDeltaL: 1.4524 \t| LZero: 107.252 \t| LMin:  105.799\n",
      "DEBUG:gammapy.astro.darkmatter.utils:MaximumDeltaL: 275.3958 \t| LMax: 381.195 \t| LMin:  105.799\n",
      "DEBUG:gammapy.astro.darkmatter.utils:SvBestFound: 29.301 \t| SvBest: 29.301 \t| SvUL: 64.513\n",
      "DEBUG:gammapy.astro.darkmatter.utils:JBest: 1.7326374576426947e+19 GeV2 / cm5\n",
      "INFO:gammapy.astro.darkmatter.utils:Sigma v:1.935377240614218e-24 cm3 / s\n",
      "INFO:gammapy.astro.darkmatter.utils:----\n",
      "INFO:gammapy.astro.darkmatter.utils:Run: 2\n",
      "INFO:gammapy.astro.darkmatter.utils:Channel: Z\n",
      "INFO:gammapy.astro.darkmatter.utils:Mass: 1000.0 GeV\n",
      "DEBUG:gammapy.astro.darkmatter.utils:ZeroDeltaL: 2.9258 \t| LZero: 107.228 \t| LMin:  104.302\n",
      "DEBUG:gammapy.astro.darkmatter.utils:MaximumDeltaL: 596.2223 \t| LMax: 700.524 \t| LMin:  104.302\n",
      "DEBUG:gammapy.astro.darkmatter.utils:SvBestFound: 11.350 \t| SvBest: 11.350 \t| SvUL: 62.049\n",
      "DEBUG:gammapy.astro.darkmatter.utils:JBest: 4.944850668323553e+19 GeV2 / cm5\n"
     ]
    },
    {
     "name": "stderr",
     "output_type": "stream",
     "text": [
      "INFO:gammapy.astro.darkmatter.utils:Sigma v:1.8614638570598534e-24 cm3 / s\n",
      "INFO:gammapy.astro.darkmatter.utils:----\n",
      "INFO:gammapy.astro.darkmatter.utils:Run: 2\n",
      "INFO:gammapy.astro.darkmatter.utils:Channel: Z\n",
      "INFO:gammapy.astro.darkmatter.utils:Mass: 5000.0 GeV\n",
      "DEBUG:gammapy.astro.darkmatter.utils:ZeroDeltaL: 1.6616 \t| LZero: 107.745 \t| LMin:  106.083\n",
      "DEBUG:gammapy.astro.darkmatter.utils:MaximumDeltaL: 12.9951 \t| LMax: 119.079 \t| LMin:  106.083\n",
      "DEBUG:gammapy.astro.darkmatter.utils:SvBestFound: 8.561 \t| SvBest: 8.561 \t| SvUL: 58.165\n",
      "DEBUG:gammapy.astro.darkmatter.utils:JBest: 5.0818514142035526e+19 GeV2 / cm5\n",
      "INFO:gammapy.astro.darkmatter.utils:Sigma v:1.74494195526097e-24 cm3 / s\n",
      "INFO:gammapy.astro.darkmatter.utils:----\n",
      "INFO:gammapy.astro.darkmatter.utils:Run: 2\n",
      "INFO:gammapy.astro.darkmatter.utils:Channel: Z\n",
      "INFO:gammapy.astro.darkmatter.utils:Mass: 10000.0 GeV\n",
      "DEBUG:gammapy.astro.darkmatter.utils:ZeroDeltaL: 0.3965 \t| LZero: 107.812 \t| LMin:  107.416\n",
      "DEBUG:gammapy.astro.darkmatter.utils:MaximumDeltaL: 420.8660 \t| LMax: 528.282 \t| LMin:  107.416\n",
      "DEBUG:gammapy.astro.darkmatter.utils:SvBestFound: 5.152 \t| SvBest: 5.152 \t| SvUL: 54.830\n",
      "DEBUG:gammapy.astro.darkmatter.utils:JBest: 4.904332208433198e+19 GeV2 / cm5\n",
      "INFO:gammapy.astro.darkmatter.utils:Sigma v:1.6449085088992295e-24 cm3 / s\n",
      "INFO:gammapy.astro.darkmatter.utils:----\n",
      "INFO:gammapy.astro.darkmatter.utils:Run: 2\n",
      "INFO:gammapy.astro.darkmatter.utils:Channel: Z\n",
      "INFO:gammapy.astro.darkmatter.utils:Mass: 50000.0 GeV\n",
      "DEBUG:gammapy.astro.darkmatter.utils:ZeroDeltaL: 0.1944 \t| LZero: 107.754 \t| LMin:  107.560\n",
      "DEBUG:gammapy.astro.darkmatter.utils:MaximumDeltaL: 114.0595 \t| LMax: 221.814 \t| LMin:  107.754\n",
      "DEBUG:gammapy.astro.darkmatter.utils:SvBestFound: -17.438 \t| SvBest: 0.000 \t| SvUL: 68.315\n",
      "DEBUG:gammapy.astro.darkmatter.utils:JBest: 2.6649360129884627e+19 GeV2 / cm5\n",
      "INFO:gammapy.astro.darkmatter.utils:Sigma v:2.0494377813934132e-24 cm3 / s\n",
      "INFO:gammapy.astro.darkmatter.utils:Number of good runs: 2\n"
     ]
    },
    {
     "name": "stdout",
     "output_type": "stream",
     "text": [
      "CPU times: user 2min 31s, sys: 3.23 s, total: 2min 34s\n",
      "Wall time: 2min 44s\n"
     ]
    }
   ],
   "source": [
    "%%time\n",
    "# stat_profile_opts=dict(bounds=(-25, 100), nvalues=125)   # optional param\n",
    "# stat_profile_opts = dict(bounds=5, nvalues=50)           # default values\n",
    "# if nuisance = True the process takes the nuisance parameters into account\n",
    "result = estimator.run(runs=3, nuisance=True)"
   ]
  },
  {
   "cell_type": "markdown",
   "metadata": {},
   "source": [
    "**Display results for channel b and run 0**"
   ]
  },
  {
   "cell_type": "code",
   "execution_count": 19,
   "metadata": {
    "scrolled": false
   },
   "outputs": [
    {
     "data": {
      "text/html": [
       "<i>Table length=7</i>\n",
       "<table id=\"table4784499232\" class=\"table-striped table-bordered table-condensed\">\n",
       "<thead><tr><th>mass</th><th>sigma_v</th><th>sv_ul</th><th>sv_best</th><th>j_best</th></tr></thead>\n",
       "<thead><tr><th>GeV</th><th>cm3 / s</th><th></th><th></th><th>GeV2 / cm5</th></tr></thead>\n",
       "<thead><tr><th>float64</th><th>float64</th><th>float64</th><th>float64</th><th>float64</th></tr></thead>\n",
       "<tr><td>100.0</td><td>3.6332172772082464e-24</td><td>121.10724257360822</td><td>23.44337255440503</td><td>2.182118756679005e+19</td></tr>\n",
       "<tr><td>200.0</td><td>3.045707399129047e-24</td><td>101.52357997096823</td><td>16.72529308904033</td><td>4.627148629870115e+19</td></tr>\n",
       "<tr><td>500.0</td><td>2.8312460783863315e-24</td><td>94.37486927954438</td><td>35.780283568143204</td><td>2.6812865690848883e+19</td></tr>\n",
       "<tr><td>1000.0</td><td>2.2117595201214014e-24</td><td>73.72531733738005</td><td>20.10889056686785</td><td>3.550387652846345e+19</td></tr>\n",
       "<tr><td>5000.0</td><td>1.4788315625799891e-24</td><td>49.29438541933297</td><td>5.478306116006758</td><td>5.107631020350189e+19</td></tr>\n",
       "<tr><td>10000.0</td><td>1.0936944895976948e-24</td><td>36.456482986589826</td><td>0.0</td><td>4.965226394295332e+19</td></tr>\n",
       "<tr><td>50000.0</td><td>9.750493183740094e-25</td><td>32.50164394580031</td><td>0.0</td><td>3.658351519213907e+19</td></tr>\n",
       "</table>"
      ],
      "text/plain": [
       "<Table length=7>\n",
       "  mass         sigma_v         ...      sv_best               j_best        \n",
       "  GeV          cm3 / s         ...                          GeV2 / cm5      \n",
       "float64        float64         ...      float64              float64        \n",
       "------- ---------------------- ... ------------------ ----------------------\n",
       "  100.0 3.6332172772082464e-24 ...  23.44337255440503  2.182118756679005e+19\n",
       "  200.0  3.045707399129047e-24 ...  16.72529308904033  4.627148629870115e+19\n",
       "  500.0 2.8312460783863315e-24 ... 35.780283568143204 2.6812865690848883e+19\n",
       " 1000.0 2.2117595201214014e-24 ...  20.10889056686785  3.550387652846345e+19\n",
       " 5000.0 1.4788315625799891e-24 ...  5.478306116006758  5.107631020350189e+19\n",
       "10000.0 1.0936944895976948e-24 ...                0.0  4.965226394295332e+19\n",
       "50000.0  9.750493183740094e-25 ...                0.0  3.658351519213907e+19"
      ]
     },
     "execution_count": 19,
     "metadata": {},
     "output_type": "execute_result"
    }
   ],
   "source": [
    "cols = [\"mass\", \"sigma_v\", \"sv_ul\", \"sv_best\", \"j_best\"]\n",
    "result[\"runs\"][\"b\"][1][cols]"
   ]
  },
  {
   "cell_type": "markdown",
   "metadata": {},
   "source": [
    "**Plot likelihood profile for a specific fit**"
   ]
  },
  {
   "cell_type": "code",
   "execution_count": 20,
   "metadata": {},
   "outputs": [],
   "source": [
    "idx = np.argwhere(masses.value==100)\n",
    "profile = result[\"runs\"][\"Z\"][0][\"statprofile\"][idx][0][0]"
   ]
  },
  {
   "cell_type": "code",
   "execution_count": 21,
   "metadata": {
    "scrolled": true
   },
   "outputs": [
    {
     "data": {
      "image/png": "[encoded data removed]",
      "text/plain": [
       "<Figure size 432x288 with 1 Axes>"
      ]
     },
     "metadata": {
      "needs_background": "light"
     },
     "output_type": "display_data"
    }
   ],
   "source": [
    "plt.plot(profile[\"values\"], profile[\"stat\"]);"
   ]
  },
  {
   "cell_type": "markdown",
   "metadata": {},
   "source": [
    "## Obtained results"
   ]
  },
  {
   "cell_type": "code",
   "execution_count": 22,
   "metadata": {
    "scrolled": false
   },
   "outputs": [
    {
     "data": {
      "text/html": [
       "<i>Table length=7</i>\n",
       "<table id=\"table4778180792\" class=\"table-striped table-bordered table-condensed\">\n",
       "<thead><tr><th>mass</th><th>sigma_v</th><th>sigma_v_std</th><th>jfactor</th><th>jfactor_std</th></tr></thead>\n",
       "<thead><tr><th>GeV</th><th>cm3 / s</th><th>cm3 / s</th><th>GeV2 / cm5</th><th>GeV2 / cm5</th></tr></thead>\n",
       "<thead><tr><th>float64</th><th>float64</th><th>float64</th><th>float64</th><th>float64</th></tr></thead>\n",
       "<tr><td>100.0</td><td>2.986368412174928e-24</td><td>6.468488650333186e-25</td><td>3.3200869590691566e+19</td><td>9.211274100969498e+18</td></tr>\n",
       "<tr><td>200.0</td><td>2.3673713239675038e-24</td><td>6.783360751615429e-25</td><td>4.410821106235591e+19</td><td>6.763687088798327e+18</td></tr>\n",
       "<tr><td>500.0</td><td>2.3600174789036104e-24</td><td>4.712285994827209e-25</td><td>4.1947940308473094e+19</td><td>1.070870459539588e+19</td></tr>\n",
       "<tr><td>1000.0</td><td>2.0246318760813534e-24</td><td>1.87127644040048e-25</td><td>2.9021767587316797e+19</td><td>8.471263935283829e+18</td></tr>\n",
       "<tr><td>5000.0</td><td>1.696080084934851e-24</td><td>2.172485223548619e-25</td><td>4.609810368216922e+19</td><td>3.545620189720516e+18</td></tr>\n",
       "<tr><td>10000.0</td><td>1.5034856187678831e-24</td><td>4.0979112917018834e-25</td><td>4.69887212984837e+19</td><td>4.3332255053000023e+18</td></tr>\n",
       "<tr><td>50000.0</td><td>1.4803828359500667e-24</td><td>5.053335175760573e-25</td><td>4.398311089847673e+19</td><td>5.835175920561007e+18</td></tr>\n",
       "</table>"
      ],
      "text/plain": [
       "<Table length=7>\n",
       "  mass         sigma_v         ...        jfactor              jfactor_std      \n",
       "  GeV          cm3 / s         ...       GeV2 / cm5             GeV2 / cm5      \n",
       "float64        float64         ...        float64                float64        \n",
       "------- ---------------------- ... ---------------------- ----------------------\n",
       "  100.0  2.986368412174928e-24 ... 3.3200869590691566e+19  9.211274100969498e+18\n",
       "  200.0 2.3673713239675038e-24 ...  4.410821106235591e+19  6.763687088798327e+18\n",
       "  500.0 2.3600174789036104e-24 ... 4.1947940308473094e+19  1.070870459539588e+19\n",
       " 1000.0 2.0246318760813534e-24 ... 2.9021767587316797e+19  8.471263935283829e+18\n",
       " 5000.0  1.696080084934851e-24 ...  4.609810368216922e+19  3.545620189720516e+18\n",
       "10000.0 1.5034856187678831e-24 ...   4.69887212984837e+19 4.3332255053000023e+18\n",
       "50000.0 1.4803828359500667e-24 ...  4.398311089847673e+19  5.835175920561007e+18"
      ]
     },
     "execution_count": 22,
     "metadata": {},
     "output_type": "execute_result"
    }
   ],
   "source": [
    "result[\"mean\"][\"b\"]"
   ]
  },
  {
   "cell_type": "code",
   "execution_count": 23,
   "metadata": {},
   "outputs": [
    {
     "data": {
      "image/png": "[encoded data removed]",
      "text/plain": [
       "<Figure size 648x504 with 1 Axes>"
      ]
     },
     "metadata": {
      "needs_background": "light"
     },
     "output_type": "display_data"
    }
   ],
   "source": [
    "plt.figure(figsize=(9,7))\n",
    "plt.ylim(1e-29, 1e-22)\n",
    "plt.ylabel(r\"<$\\sigma_{ann}v$> (cm$^3$s$^{-1}$)\", fontsize=12)\n",
    "plt.xlabel(\"M$_{DM}$ (GeV)\", fontsize=12)\n",
    "plt.title('m$_{DM}$ 5000 GeV')\n",
    "\n",
    "for ch in channels:\n",
    "    plt.loglog(\n",
    "        result[\"mean\"][ch][\"mass\"].data,\n",
    "        result[\"mean\"][ch][\"sigma_v\"].data,\n",
    "        ls=\"--\",\n",
    "        label='channel {}'.format(ch)\n",
    "       )\n",
    "plt.legend();"
   ]
  },
  {
   "cell_type": "code",
   "execution_count": null,
   "metadata": {},
   "outputs": [],
   "source": []
  }
 ],
 "metadata": {
  "kernelspec": {
   "display_name": "gammapy-dev",
   "language": "python",
   "name": "gammapy-dev"
  },
  "language_info": {
   "codemirror_mode": {
    "name": "ipython",
    "version": 3
   },
   "file_extension": ".py",
   "mimetype": "text/x-python",
   "name": "python",
   "nbconvert_exporter": "python",
   "pygments_lexer": "ipython3",
   "version": "3.7.0"
  },
  "toc": {
   "base_numbering": 1,
   "nav_menu": {},
   "number_sections": false,
   "sideBar": true,
   "skip_h1_title": false,
   "title_cell": "Table of Contents",
   "title_sidebar": "Contents",
   "toc_cell": false,
   "toc_position": {},
   "toc_section_display": true,
   "toc_window_display": false
  },
  "varInspector": {
   "cols": {
    "lenName": 16,
    "lenType": 16,
    "lenVar": 40
   },
   "kernels_config": {
    "python": {
     "delete_cmd_postfix": "",
     "delete_cmd_prefix": "del ",
     "library": "var_list.py",
     "varRefreshCmd": "print(var_dic_list())"
    },
    "r": {
     "delete_cmd_postfix": ") ",
     "delete_cmd_prefix": "rm(",
     "library": "var_list.r",
     "varRefreshCmd": "cat(var_dic_list()) "
    }
   },
   "types_to_exclude": [
    "module",
    "function",
    "builtin_function_or_method",
    "instance",
    "_Feature"
   ],
   "window_display": false
  }
 },
 "nbformat": 4,
 "nbformat_minor": 2
}
