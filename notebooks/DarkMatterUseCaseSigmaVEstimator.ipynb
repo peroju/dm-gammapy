{
 "cells": [
  {
   "cell_type": "markdown",
   "metadata": {},
   "source": [
    "# Calculate sigmav vs. mDM for simulated DM datasets"
   ]
  },
  {
   "cell_type": "code",
   "execution_count": 1,
   "metadata": {},
   "outputs": [],
   "source": [
    "%matplotlib inline\n",
    "import matplotlib.pyplot as plt\n",
    "\n",
    "import numpy as np\n",
    "import astropy.units as u\n",
    "\n",
    "from gammapy.modeling.models import PointSpatialModel\n",
    "from gammapy.modeling.models import SkyModel, Models\n",
    "from gammapy.astro.darkmatter.utils import SigmaVEstimator, DMDatasetOnOff\n",
    "from gammapy.maps import CountsSpectrum\n",
    "from gammapy.astro.darkmatter import DarkMatterAnnihilationSpectralModel\n",
    "from gammapy.irf import load_cta_irfs"
   ]
  },
  {
   "cell_type": "markdown",
   "metadata": {},
   "source": [
    "## Define parameters for simulated observation"
   ]
  },
  {
   "cell_type": "code",
   "execution_count": 2,
   "metadata": {},
   "outputs": [],
   "source": [
    "# -\n",
    "livetime = 100 * u.h # in hours\n",
    "offset = 0.5 * u.deg\n",
    "FOVLON=0 * u.deg\n",
    "FOVLAT=0 * u.deg\n",
    "\n",
    "# Energy from 0.01 to 100 TeV with 20 bins/decade\n",
    "energy = np.logspace(-1.8, 1.5, 20) * u.TeV\n",
    "\n",
    "# Energy true wider range and higher number of bins\n",
    "energy_true = np.logspace(-2, 2, 100) * u.TeV\n",
    "\n",
    "# DMAnnihilation Model\n",
    "JFAC = 3.41e19 * u.Unit(\"GeV2 cm-5\") # point source\n",
    "mDM = 5000*u.Unit(\"GeV\")\n",
    "channel = \"b\"\n",
    "redshift = 0"
   ]
  },
  {
   "cell_type": "markdown",
   "metadata": {},
   "source": [
    "## Build IRFs with the defined parameters"
   ]
  },
  {
   "cell_type": "code",
   "execution_count": 3,
   "metadata": {},
   "outputs": [],
   "source": [
    "# Load IRFs\n",
    "filename = (\n",
    "    \"$GAMMAPY_DATA/cta-1dc/caldb/data/cta/1dc/bcf/South_z20_50h/irf_file.fits\"\n",
    ")\n",
    "cta_irf = load_cta_irfs(filename)"
   ]
  },
  {
   "cell_type": "code",
   "execution_count": 4,
   "metadata": {},
   "outputs": [
    {
     "name": "stdout",
     "output_type": "stream",
     "text": [
      "NDDataArray summary info\n",
      "MapAxis\n",
      "\n",
      "\tname       : energy_true\n",
      "\tunit       : 'TeV'     \n",
      "\tnbins      : 42        \n",
      "\tnode type  : edges     \n",
      "\tedges min  : 1.3e-02 TeV\n",
      "\tedges max  : 2.0e+02 TeV\n",
      "\tinterp     : log       \n",
      "MapAxis\n",
      "\n",
      "\tname       : offset    \n",
      "\tunit       : 'deg'     \n",
      "\tnbins      : 6         \n",
      "\tnode type  : edges     \n",
      "\tedges min  : 0.0e+00 deg\n",
      "\tedges max  : 6.0e+00 deg\n",
      "\tinterp     : lin       \n",
      "Data           : size =   252, min =  0.000 m2, max = 5371581.000 m2\n",
      "\n"
     ]
    },
    {
     "data": {
      "image/png": "[encoded data removed]",
      "text/plain": [
       "<Figure size 432x288 with 1 Axes>"
      ]
     },
     "metadata": {
      "needs_background": "light"
     },
     "output_type": "display_data"
    }
   ],
   "source": [
    "aeff = cta_irf[\"aeff\"].to_effective_area_table(offset=offset, energy=energy)\n",
    "aeff.plot()\n",
    "plt.loglog()\n",
    "print(cta_irf[\"aeff\"].data)"
   ]
  },
  {
   "cell_type": "code",
   "execution_count": 5,
   "metadata": {
    "code_folding": []
   },
   "outputs": [],
   "source": [
    "#edisp = cta_irf[\"edisp\"].to_energy_dispersion(\n",
    "#    offset=offset, e_true=energy_true, e_reco=energy\n",
    "#)\n",
    "#edisp.plot_matrix()\n",
    "#print(edisp.data)"
   ]
  },
  {
   "cell_type": "markdown",
   "metadata": {},
   "source": [
    "## Build the background counts from PSF and IRF background"
   ]
  },
  {
   "cell_type": "code",
   "execution_count": 6,
   "metadata": {},
   "outputs": [],
   "source": [
    "containment = 0.68\n",
    "energies = np.sqrt(energy[1:] * energy[:-1])\n",
    "psf = cta_irf[\"psf\"].to_energy_dependent_table_psf(theta=offset)\n",
    "on_radii = psf.containment_radius(energy=energies, fraction=containment)\n",
    "solid_angles = 2 * np.pi * (1 - np.cos(on_radii)) * u.sr\n",
    "\n",
    "#\n",
    "aeff.data.data *= containment"
   ]
  },
  {
   "cell_type": "code",
   "execution_count": 7,
   "metadata": {},
   "outputs": [],
   "source": [
    "bkg_data = cta_irf[\"bkg\"].evaluate_integrate(\n",
    "    fov_lon=FOVLON, fov_lat=FOVLAT, energy_reco=energy\n",
    ")\n",
    "bkg = CountsSpectrum(\n",
    "    energy[:-1],\n",
    "    energy[1:],\n",
    "    data=(bkg_data * solid_angles).to_value(\"h-1\")*livetime\n",
    ")"
   ]
  },
  {
   "cell_type": "code",
   "execution_count": 8,
   "metadata": {},
   "outputs": [
    {
     "data": {
      "text/plain": [
       "<matplotlib.axes._subplots.AxesSubplot at 0x11a26da20>"
      ]
     },
     "execution_count": 8,
     "metadata": {},
     "output_type": "execute_result"
    },
    {
     "data": {
      "image/png": "[encoded data removed]",
      "text/plain": [
       "<Figure size 432x288 with 1 Axes>"
      ]
     },
     "metadata": {
      "needs_background": "light"
     },
     "output_type": "display_data"
    }
   ],
   "source": [
    "bkg.plot_hist()"
   ]
  },
  {
   "cell_type": "markdown",
   "metadata": {},
   "source": [
    "## Simulate OnOff observation with DM emission model"
   ]
  },
  {
   "cell_type": "code",
   "execution_count": 9,
   "metadata": {},
   "outputs": [],
   "source": [
    "# DM Spatial Component\n",
    "spatial_model = PointSpatialModel(\n",
    "    lon_0=\"0 deg\", lat_0=\"0 deg\", frame=\"icrs\"\n",
    ")"
   ]
  },
  {
   "cell_type": "code",
   "execution_count": 10,
   "metadata": {},
   "outputs": [],
   "source": [
    "# DM Flux\n",
    "spectral_model = DarkMatterAnnihilationSpectralModel(\n",
    "    mass=mDM, \n",
    "    channel=channel, \n",
    "    jfactor=JFAC, \n",
    "    z=redshift\n",
    ")"
   ]
  },
  {
   "cell_type": "code",
   "execution_count": 11,
   "metadata": {},
   "outputs": [],
   "source": [
    "from gammapy.modeling.models import Absorption, AbsorbedSpectralModel\n",
    "#absorption_model = Absorption.read_builtin('dominguez')\n",
    "#spectral_model = AbsorbedSpectralModel(spectral_model, absorption_model, redshift)"
   ]
  },
  {
   "cell_type": "code",
   "execution_count": 12,
   "metadata": {},
   "outputs": [],
   "source": [
    "sky_model = SkyModel(spatial_model=spatial_model, spectral_model=spectral_model)\n",
    "models = Models([sky_model])"
   ]
  },
  {
   "cell_type": "code",
   "execution_count": 13,
   "metadata": {},
   "outputs": [],
   "source": [
    "dataset = DMDatasetOnOff(\n",
    "    aeff=aeff,\n",
    "    models=models,\n",
    "    livetime=livetime,\n",
    "    acceptance=1,\n",
    "    acceptance_off=5\n",
    ")"
   ]
  },
  {
   "cell_type": "code",
   "execution_count": 14,
   "metadata": {},
   "outputs": [],
   "source": [
    "nuisance = dict(\n",
    "    j=JFAC,\n",
    "    jobs=JFAC,\n",
    "    sigmaj=0.1*JFAC,\n",
    "    sigmatau=0.01,\n",
    "    # width=5 # default value / optional param \n",
    ")\n",
    "dataset.nuisance = nuisance"
   ]
  },
  {
   "cell_type": "markdown",
   "metadata": {},
   "source": [
    "## The SigmaVEstimator"
   ]
  },
  {
   "cell_type": "markdown",
   "metadata": {},
   "source": [
    "**Enable inspection**"
   ]
  },
  {
   "cell_type": "code",
   "execution_count": 15,
   "metadata": {},
   "outputs": [],
   "source": [
    "import logging\n",
    "logging.basicConfig()\n",
    "#logging.getLogger(\"gammapy.astro.darkmatter.utils\").setLevel(\"WARNING\")\n",
    "logging.getLogger(\"gammapy.astro.darkmatter.utils\").setLevel(\"DEBUG\")"
   ]
  },
  {
   "cell_type": "markdown",
   "metadata": {},
   "source": [
    "**Instatiate estimator**"
   ]
  },
  {
   "cell_type": "code",
   "execution_count": 16,
   "metadata": {},
   "outputs": [],
   "source": [
    "masses = [100, 200, 500, 1000, 5000, 10000, 50000]*u.GeV\n",
    "channels = [\"b\", \"tau\", \"Z\"] \n",
    "estimator = SigmaVEstimator(dataset, masses, channels, background_model=bkg)"
   ]
  },
  {
   "cell_type": "markdown",
   "metadata": {},
   "source": [
    "**Run estimator and fetch results**"
   ]
  },
  {
   "cell_type": "code",
   "execution_count": 17,
   "metadata": {
    "scrolled": false
   },
   "outputs": [
    {
     "name": "stderr",
     "output_type": "stream",
     "text": [
      "INFO:gammapy.astro.darkmatter.utils:----\n",
      "INFO:gammapy.astro.darkmatter.utils:Run: 0\n",
      "INFO:gammapy.astro.darkmatter.utils:Channel: b\n",
      "INFO:gammapy.astro.darkmatter.utils:Mass: 100.0 GeV\n",
      "/opt/miniconda3/envs/gammapy-dev/lib/python3.7/site-packages/astropy/units/quantity.py:481: RuntimeWarning: divide by zero encountered in true_divide\n",
      "  result = super().__array_ufunc__(function, method, *arrays, **kwargs)\n",
      "/opt/miniconda3/envs/gammapy-dev/lib/python3.7/site-packages/astropy/units/quantity.py:481: RuntimeWarning: invalid value encountered in true_divide\n",
      "  result = super().__array_ufunc__(function, method, *arrays, **kwargs)\n",
      "DEBUG:gammapy.astro.darkmatter.utils:ZeroDeltaL: 2.2893 \t| LZero: 127.669 \t| LMin:  125.379\n",
      "DEBUG:gammapy.astro.darkmatter.utils:MaximumDeltaL: 79.4308 \t| LMax: 207.100 \t| LMin:  127.669\n",
      "DEBUG:gammapy.astro.darkmatter.utils:SvBestFound: -29.966 \t| SvBest: 0.000 \t| SvUL: 14.338\n",
      "DEBUG:gammapy.astro.darkmatter.utils:JBest: 5.097481213907987e+19 GeV2 / cm5\n",
      "INFO:gammapy.astro.darkmatter.utils:Sigma v:4.301436796539267e-25 cm3 / s\n",
      "INFO:gammapy.astro.darkmatter.utils:----\n",
      "INFO:gammapy.astro.darkmatter.utils:Run: 0\n",
      "INFO:gammapy.astro.darkmatter.utils:Channel: b\n",
      "INFO:gammapy.astro.darkmatter.utils:Mass: 200.0 GeV\n",
      "DEBUG:gammapy.astro.darkmatter.utils:ZeroDeltaL: 1.5111 \t| LZero: 127.669 \t| LMin:  126.158\n",
      "DEBUG:gammapy.astro.darkmatter.utils:MaximumDeltaL: 173.8334 \t| LMax: 301.502 \t| LMin:  127.669\n",
      "DEBUG:gammapy.astro.darkmatter.utils:SvBestFound: -15.250 \t| SvBest: 0.000 \t| SvUL: 10.244\n",
      "DEBUG:gammapy.astro.darkmatter.utils:JBest: 4.871140262783223e+19 GeV2 / cm5\n",
      "INFO:gammapy.astro.darkmatter.utils:Sigma v:3.0732983716872745e-25 cm3 / s\n",
      "INFO:gammapy.astro.darkmatter.utils:----\n",
      "INFO:gammapy.astro.darkmatter.utils:Run: 0\n",
      "INFO:gammapy.astro.darkmatter.utils:Channel: b\n",
      "INFO:gammapy.astro.darkmatter.utils:Mass: 500.0 GeV\n",
      "DEBUG:gammapy.astro.darkmatter.utils:ZeroDeltaL: 2.6238 \t| LZero: 127.669 \t| LMin:  125.045\n",
      "DEBUG:gammapy.astro.darkmatter.utils:MaximumDeltaL: 408.8649 \t| LMax: 536.534 \t| LMin:  127.669\n",
      "DEBUG:gammapy.astro.darkmatter.utils:SvBestFound: -12.768 \t| SvBest: 0.000 \t| SvUL: 5.448\n",
      "DEBUG:gammapy.astro.darkmatter.utils:JBest: 5.114829067468415e+19 GeV2 / cm5\n",
      "INFO:gammapy.astro.darkmatter.utils:Sigma v:1.6345237044837312e-25 cm3 / s\n",
      "INFO:gammapy.astro.darkmatter.utils:----\n",
      "INFO:gammapy.astro.darkmatter.utils:Run: 0\n",
      "INFO:gammapy.astro.darkmatter.utils:Channel: b\n",
      "INFO:gammapy.astro.darkmatter.utils:Mass: 1000.0 GeV\n",
      "DEBUG:gammapy.astro.darkmatter.utils:ZeroDeltaL: 7.1217 \t| LZero: 127.669 \t| LMin:  120.547\n",
      "DEBUG:gammapy.astro.darkmatter.utils:MaximumDeltaL: 119.3398 \t| LMax: 247.009 \t| LMin:  127.669\n",
      "DEBUG:gammapy.astro.darkmatter.utils:SvBestFound: -45.778 \t| SvBest: 0.000 \t| SvUL: 8.051\n",
      "DEBUG:gammapy.astro.darkmatter.utils:JBest: 1.9184145346754912e+19 GeV2 / cm5\n",
      "INFO:gammapy.astro.darkmatter.utils:Sigma v:2.4153389576727927e-25 cm3 / s\n",
      "INFO:gammapy.astro.darkmatter.utils:----\n",
      "INFO:gammapy.astro.darkmatter.utils:Run: 0\n",
      "INFO:gammapy.astro.darkmatter.utils:Channel: b\n",
      "INFO:gammapy.astro.darkmatter.utils:Mass: 5000.0 GeV\n",
      "DEBUG:gammapy.astro.darkmatter.utils:ZeroDeltaL: 7.1555 \t| LZero: 127.669 \t| LMin:  120.513\n",
      "DEBUG:gammapy.astro.darkmatter.utils:MaximumDeltaL: 389.6888 \t| LMax: 517.358 \t| LMin:  127.669\n",
      "DEBUG:gammapy.astro.darkmatter.utils:SvBestFound: -20.479 \t| SvBest: 0.000 \t| SvUL: 3.644\n",
      "DEBUG:gammapy.astro.darkmatter.utils:JBest: 4.277218999552711e+19 GeV2 / cm5\n",
      "INFO:gammapy.astro.darkmatter.utils:Sigma v:1.0931816837161193e-25 cm3 / s\n",
      "INFO:gammapy.astro.darkmatter.utils:----\n",
      "INFO:gammapy.astro.darkmatter.utils:Run: 0\n",
      "INFO:gammapy.astro.darkmatter.utils:Channel: b\n",
      "INFO:gammapy.astro.darkmatter.utils:Mass: 10000.0 GeV\n",
      "DEBUG:gammapy.astro.darkmatter.utils:ZeroDeltaL: 4.0866 \t| LZero: 127.669 \t| LMin:  123.582\n",
      "DEBUG:gammapy.astro.darkmatter.utils:MaximumDeltaL: 126.6661 \t| LMax: 254.335 \t| LMin:  127.669\n",
      "DEBUG:gammapy.astro.darkmatter.utils:SvBestFound: -28.510 \t| SvBest: 0.000 \t| SvUL: 8.493\n",
      "DEBUG:gammapy.astro.darkmatter.utils:JBest: 2.746280191088732e+19 GeV2 / cm5\n",
      "INFO:gammapy.astro.darkmatter.utils:Sigma v:2.547759344482774e-25 cm3 / s\n",
      "INFO:gammapy.astro.darkmatter.utils:----\n",
      "INFO:gammapy.astro.darkmatter.utils:Run: 0\n",
      "INFO:gammapy.astro.darkmatter.utils:Channel: b\n",
      "INFO:gammapy.astro.darkmatter.utils:Mass: 50000.0 GeV\n",
      "DEBUG:gammapy.astro.darkmatter.utils:ZeroDeltaL: 1.0418 \t| LZero: 127.669 \t| LMin:  126.627\n",
      "DEBUG:gammapy.astro.darkmatter.utils:MaximumDeltaL: 14.9398 \t| LMax: 142.609 \t| LMin:  127.669\n",
      "DEBUG:gammapy.astro.darkmatter.utils:SvBestFound: -46.626 \t| SvBest: 0.000 \t| SvUL: 43.899\n",
      "DEBUG:gammapy.astro.darkmatter.utils:JBest: 1.7646500348658782e+19 GeV2 / cm5\n",
      "INFO:gammapy.astro.darkmatter.utils:Sigma v:1.316970594121177e-24 cm3 / s\n",
      "INFO:gammapy.astro.darkmatter.utils:----\n",
      "INFO:gammapy.astro.darkmatter.utils:Run: 0\n",
      "INFO:gammapy.astro.darkmatter.utils:Channel: tau\n",
      "INFO:gammapy.astro.darkmatter.utils:Mass: 100.0 GeV\n",
      "DEBUG:gammapy.astro.darkmatter.utils:ZeroDeltaL: 0.1062 \t| LZero: 127.669 \t| LMin:  127.562\n",
      "DEBUG:gammapy.astro.darkmatter.utils:MaximumDeltaL: 2658.6748 \t| LMax: 2786.344 \t| LMin:  127.669\n",
      "DEBUG:gammapy.astro.darkmatter.utils:SvBestFound: -0.919 \t| SvBest: 0.000 \t| SvUL: 3.824\n",
      "DEBUG:gammapy.astro.darkmatter.utils:JBest: 4.680734771940795e+19 GeV2 / cm5\n",
      "INFO:gammapy.astro.darkmatter.utils:Sigma v:1.1470537193225675e-25 cm3 / s\n",
      "INFO:gammapy.astro.darkmatter.utils:----\n",
      "INFO:gammapy.astro.darkmatter.utils:Run: 0\n",
      "INFO:gammapy.astro.darkmatter.utils:Channel: tau\n",
      "INFO:gammapy.astro.darkmatter.utils:Mass: 200.0 GeV\n",
      "DEBUG:gammapy.astro.darkmatter.utils:ZeroDeltaL: 0.1997 \t| LZero: 127.669 \t| LMin:  127.469\n",
      "DEBUG:gammapy.astro.darkmatter.utils:MaximumDeltaL: 4734.2367 \t| LMax: 4861.905 \t| LMin:  127.669\n",
      "DEBUG:gammapy.astro.darkmatter.utils:SvBestFound: -0.886 \t| SvBest: 0.000 \t| SvUL: 2.501\n",
      "DEBUG:gammapy.astro.darkmatter.utils:JBest: 4.3536233931310694e+19 GeV2 / cm5\n",
      "INFO:gammapy.astro.darkmatter.utils:Sigma v:7.503782938292789e-26 cm3 / s\n",
      "INFO:gammapy.astro.darkmatter.utils:----\n",
      "INFO:gammapy.astro.darkmatter.utils:Run: 0\n",
      "INFO:gammapy.astro.darkmatter.utils:Channel: tau\n",
      "INFO:gammapy.astro.darkmatter.utils:Mass: 500.0 GeV\n",
      "DEBUG:gammapy.astro.darkmatter.utils:ZeroDeltaL: 13.0650 \t| LZero: 127.669 \t| LMin:  114.604\n",
      "DEBUG:gammapy.astro.darkmatter.utils:MaximumDeltaL: 6460.1660 \t| LMax: 6587.835 \t| LMin:  127.669\n",
      "DEBUG:gammapy.astro.darkmatter.utils:SvBestFound: -5.346 \t| SvBest: 0.000 \t| SvUL: 0.533\n",
      "DEBUG:gammapy.astro.darkmatter.utils:JBest: 4.605798472703022e+19 GeV2 / cm5\n",
      "INFO:gammapy.astro.darkmatter.utils:Sigma v:1.5988882247460618e-26 cm3 / s\n",
      "INFO:gammapy.astro.darkmatter.utils:----\n",
      "INFO:gammapy.astro.darkmatter.utils:Run: 0\n",
      "INFO:gammapy.astro.darkmatter.utils:Channel: tau\n",
      "INFO:gammapy.astro.darkmatter.utils:Mass: 1000.0 GeV\n",
      "DEBUG:gammapy.astro.darkmatter.utils:ZeroDeltaL: 6.8048 \t| LZero: 127.669 \t| LMin:  120.864\n",
      "DEBUG:gammapy.astro.darkmatter.utils:MaximumDeltaL: 2106.4120 \t| LMax: 2234.081 \t| LMin:  127.669\n",
      "DEBUG:gammapy.astro.darkmatter.utils:SvBestFound: -6.660 \t| SvBest: 0.000 \t| SvUL: 1.237\n",
      "DEBUG:gammapy.astro.darkmatter.utils:JBest: 2.616947306658527e+19 GeV2 / cm5\n",
      "INFO:gammapy.astro.darkmatter.utils:Sigma v:3.7109601185616556e-26 cm3 / s\n",
      "INFO:gammapy.astro.darkmatter.utils:----\n",
      "INFO:gammapy.astro.darkmatter.utils:Run: 0\n",
      "INFO:gammapy.astro.darkmatter.utils:Channel: tau\n",
      "INFO:gammapy.astro.darkmatter.utils:Mass: 5000.0 GeV\n",
      "DEBUG:gammapy.astro.darkmatter.utils:ZeroDeltaL: 1.3633 \t| LZero: 127.669 \t| LMin:  126.305\n",
      "DEBUG:gammapy.astro.darkmatter.utils:MaximumDeltaL: 1221.7214 \t| LMax: 1349.390 \t| LMin:  127.669\n",
      "DEBUG:gammapy.astro.darkmatter.utils:SvBestFound: -2.537 \t| SvBest: 0.000 \t| SvUL: 1.925\n",
      "DEBUG:gammapy.astro.darkmatter.utils:JBest: 4.744964565962082e+19 GeV2 / cm5\n",
      "INFO:gammapy.astro.darkmatter.utils:Sigma v:5.776363121471001e-26 cm3 / s\n",
      "INFO:gammapy.astro.darkmatter.utils:----\n",
      "INFO:gammapy.astro.darkmatter.utils:Run: 0\n",
      "INFO:gammapy.astro.darkmatter.utils:Channel: tau\n",
      "INFO:gammapy.astro.darkmatter.utils:Mass: 10000.0 GeV\n",
      "DEBUG:gammapy.astro.darkmatter.utils:ZeroDeltaL: 1.0409 \t| LZero: 127.669 \t| LMin:  126.628\n",
      "DEBUG:gammapy.astro.darkmatter.utils:MaximumDeltaL: 233.0829 \t| LMax: 360.752 \t| LMin:  127.669\n"
     ]
    },
    {
     "name": "stderr",
     "output_type": "stream",
     "text": [
      "DEBUG:gammapy.astro.darkmatter.utils:SvBestFound: -6.577 \t| SvBest: 0.000 \t| SvUL: 6.302\n",
      "DEBUG:gammapy.astro.darkmatter.utils:JBest: 2.3777873817566953e+19 GeV2 / cm5\n",
      "INFO:gammapy.astro.darkmatter.utils:Sigma v:1.8906444055656786e-25 cm3 / s\n",
      "INFO:gammapy.astro.darkmatter.utils:----\n",
      "INFO:gammapy.astro.darkmatter.utils:Run: 0\n",
      "INFO:gammapy.astro.darkmatter.utils:Channel: tau\n",
      "INFO:gammapy.astro.darkmatter.utils:Mass: 50000.0 GeV\n",
      "DEBUG:gammapy.astro.darkmatter.utils:ZeroDeltaL: 2.3700 \t| LZero: 127.669 \t| LMin:  125.299\n",
      "DEBUG:gammapy.astro.darkmatter.utils:MaximumDeltaL: 31.7126 \t| LMax: 157.011 \t| LMin:  125.299\n",
      "DEBUG:gammapy.astro.darkmatter.utils:SvBestFound: 17.468 \t| SvBest: 17.468 \t| SvUL: 43.531\n",
      "DEBUG:gammapy.astro.darkmatter.utils:JBest: 4.2705860834484765e+19 GeV2 / cm5\n",
      "INFO:gammapy.astro.darkmatter.utils:Sigma v:1.3059395715608053e-24 cm3 / s\n",
      "INFO:gammapy.astro.darkmatter.utils:----\n",
      "INFO:gammapy.astro.darkmatter.utils:Run: 0\n",
      "INFO:gammapy.astro.darkmatter.utils:Channel: Z\n",
      "INFO:gammapy.astro.darkmatter.utils:Mass: 100.0 GeV\n",
      "DEBUG:gammapy.astro.darkmatter.utils:ZeroDeltaL: 2.5712 \t| LZero: 127.669 \t| LMin:  125.097\n",
      "DEBUG:gammapy.astro.darkmatter.utils:MaximumDeltaL: 16.1873 \t| LMax: 143.856 \t| LMin:  127.669\n",
      "DEBUG:gammapy.astro.darkmatter.utils:SvBestFound: -85.940 \t| SvBest: 0.000 \t| SvUL: 38.141\n",
      "DEBUG:gammapy.astro.darkmatter.utils:JBest: 2.501141056609934e+19 GeV2 / cm5\n",
      "INFO:gammapy.astro.darkmatter.utils:Sigma v:1.1442251434895953e-24 cm3 / s\n",
      "INFO:gammapy.astro.darkmatter.utils:----\n",
      "INFO:gammapy.astro.darkmatter.utils:Run: 0\n",
      "INFO:gammapy.astro.darkmatter.utils:Channel: Z\n",
      "INFO:gammapy.astro.darkmatter.utils:Mass: 200.0 GeV\n",
      "DEBUG:gammapy.astro.darkmatter.utils:ZeroDeltaL: 0.8724 \t| LZero: 127.669 \t| LMin:  126.796\n",
      "DEBUG:gammapy.astro.darkmatter.utils:MaximumDeltaL: 156.9668 \t| LMax: 284.635 \t| LMin:  127.669\n",
      "DEBUG:gammapy.astro.darkmatter.utils:SvBestFound: -11.975 \t| SvBest: 0.000 \t| SvUL: 12.288\n",
      "DEBUG:gammapy.astro.darkmatter.utils:JBest: 4.608461980718733e+19 GeV2 / cm5\n",
      "INFO:gammapy.astro.darkmatter.utils:Sigma v:3.6863247948957654e-25 cm3 / s\n",
      "INFO:gammapy.astro.darkmatter.utils:----\n",
      "INFO:gammapy.astro.darkmatter.utils:Run: 0\n",
      "INFO:gammapy.astro.darkmatter.utils:Channel: Z\n",
      "INFO:gammapy.astro.darkmatter.utils:Mass: 500.0 GeV\n",
      "DEBUG:gammapy.astro.darkmatter.utils:ZeroDeltaL: 4.7761 \t| LZero: 127.669 \t| LMin:  122.893\n",
      "DEBUG:gammapy.astro.darkmatter.utils:MaximumDeltaL: 501.1006 \t| LMax: 628.769 \t| LMin:  127.669\n",
      "DEBUG:gammapy.astro.darkmatter.utils:SvBestFound: -15.657 \t| SvBest: 0.000 \t| SvUL: 3.959\n",
      "DEBUG:gammapy.astro.darkmatter.utils:JBest: 4.999660286766307e+19 GeV2 / cm5\n",
      "INFO:gammapy.astro.darkmatter.utils:Sigma v:1.1876955185260813e-25 cm3 / s\n",
      "INFO:gammapy.astro.darkmatter.utils:----\n",
      "INFO:gammapy.astro.darkmatter.utils:Run: 0\n",
      "INFO:gammapy.astro.darkmatter.utils:Channel: Z\n",
      "INFO:gammapy.astro.darkmatter.utils:Mass: 1000.0 GeV\n",
      "DEBUG:gammapy.astro.darkmatter.utils:ZeroDeltaL: 10.3780 \t| LZero: 127.669 \t| LMin:  117.291\n",
      "DEBUG:gammapy.astro.darkmatter.utils:MaximumDeltaL: 461.0127 \t| LMax: 588.681 \t| LMin:  127.669\n",
      "DEBUG:gammapy.astro.darkmatter.utils:SvBestFound: -24.706 \t| SvBest: 0.000 \t| SvUL: 3.073\n",
      "DEBUG:gammapy.astro.darkmatter.utils:JBest: 3.8808119813887885e+19 GeV2 / cm5\n",
      "INFO:gammapy.astro.darkmatter.utils:Sigma v:9.219860495186298e-26 cm3 / s\n",
      "INFO:gammapy.astro.darkmatter.utils:----\n",
      "INFO:gammapy.astro.darkmatter.utils:Run: 0\n",
      "INFO:gammapy.astro.darkmatter.utils:Channel: Z\n",
      "INFO:gammapy.astro.darkmatter.utils:Mass: 5000.0 GeV\n",
      "DEBUG:gammapy.astro.darkmatter.utils:ZeroDeltaL: 5.2275 \t| LZero: 127.669 \t| LMin:  122.441\n",
      "DEBUG:gammapy.astro.darkmatter.utils:MaximumDeltaL: 240.2315 \t| LMax: 367.900 \t| LMin:  127.669\n",
      "DEBUG:gammapy.astro.darkmatter.utils:SvBestFound: -22.375 \t| SvBest: 0.000 \t| SvUL: 5.327\n",
      "DEBUG:gammapy.astro.darkmatter.utils:JBest: 3.265691833101893e+19 GeV2 / cm5\n",
      "INFO:gammapy.astro.darkmatter.utils:Sigma v:1.5981476191440213e-25 cm3 / s\n",
      "INFO:gammapy.astro.darkmatter.utils:----\n",
      "INFO:gammapy.astro.darkmatter.utils:Run: 0\n",
      "INFO:gammapy.astro.darkmatter.utils:Channel: Z\n",
      "INFO:gammapy.astro.darkmatter.utils:Mass: 10000.0 GeV\n",
      "DEBUG:gammapy.astro.darkmatter.utils:ZeroDeltaL: 3.5016 \t| LZero: 127.669 \t| LMin:  124.167\n",
      "DEBUG:gammapy.astro.darkmatter.utils:MaximumDeltaL: 301.7162 \t| LMax: 429.385 \t| LMin:  127.669\n",
      "DEBUG:gammapy.astro.darkmatter.utils:SvBestFound: -14.250 \t| SvBest: 0.000 \t| SvUL: 4.901\n",
      "DEBUG:gammapy.astro.darkmatter.utils:JBest: 5.091416671969139e+19 GeV2 / cm5\n",
      "INFO:gammapy.astro.darkmatter.utils:Sigma v:1.4702912899736085e-25 cm3 / s\n",
      "INFO:gammapy.astro.darkmatter.utils:----\n",
      "INFO:gammapy.astro.darkmatter.utils:Run: 0\n",
      "INFO:gammapy.astro.darkmatter.utils:Channel: Z\n",
      "INFO:gammapy.astro.darkmatter.utils:Mass: 50000.0 GeV\n",
      "DEBUG:gammapy.astro.darkmatter.utils:ZeroDeltaL: 0.3471 \t| LZero: 127.669 \t| LMin:  127.322\n",
      "DEBUG:gammapy.astro.darkmatter.utils:MaximumDeltaL: 28.7861 \t| LMax: 156.455 \t| LMin:  127.669\n",
      "DEBUG:gammapy.astro.darkmatter.utils:SvBestFound: -15.897 \t| SvBest: 0.000 \t| SvUL: 32.560\n",
      "DEBUG:gammapy.astro.darkmatter.utils:JBest: 3.2622584666999378e+19 GeV2 / cm5\n",
      "INFO:gammapy.astro.darkmatter.utils:Sigma v:9.768020423687206e-25 cm3 / s\n",
      "INFO:gammapy.astro.darkmatter.utils:----\n",
      "INFO:gammapy.astro.darkmatter.utils:Run: 1\n",
      "INFO:gammapy.astro.darkmatter.utils:Channel: b\n",
      "INFO:gammapy.astro.darkmatter.utils:Mass: 100.0 GeV\n",
      "DEBUG:gammapy.astro.darkmatter.utils:ZeroDeltaL: 2.1157 \t| LZero: 109.127 \t| LMin:  107.011\n",
      "DEBUG:gammapy.astro.darkmatter.utils:MaximumDeltaL: 22.2854 \t| LMax: 129.297 \t| LMin:  107.011\n",
      "DEBUG:gammapy.astro.darkmatter.utils:SvBestFound: 35.210 \t| SvBest: 35.210 \t| SvUL: 75.159\n",
      "DEBUG:gammapy.astro.darkmatter.utils:JBest: 4.16825216726618e+19 GeV2 / cm5\n",
      "INFO:gammapy.astro.darkmatter.utils:Sigma v:2.2547637442884198e-24 cm3 / s\n",
      "INFO:gammapy.astro.darkmatter.utils:----\n",
      "INFO:gammapy.astro.darkmatter.utils:Run: 1\n",
      "INFO:gammapy.astro.darkmatter.utils:Channel: b\n",
      "INFO:gammapy.astro.darkmatter.utils:Mass: 200.0 GeV\n",
      "DEBUG:gammapy.astro.darkmatter.utils:ZeroDeltaL: 2.6570 \t| LZero: 109.127 \t| LMin:  106.470\n",
      "DEBUG:gammapy.astro.darkmatter.utils:MaximumDeltaL: 46.5342 \t| LMax: 153.004 \t| LMin:  106.470\n",
      "DEBUG:gammapy.astro.darkmatter.utils:SvBestFound: 28.826 \t| SvBest: 28.826 \t| SvUL: 57.988\n",
      "DEBUG:gammapy.astro.darkmatter.utils:JBest: 3.4130978520732594e+19 GeV2 / cm5\n",
      "INFO:gammapy.astro.darkmatter.utils:Sigma v:1.7396514360183396e-24 cm3 / s\n",
      "INFO:gammapy.astro.darkmatter.utils:----\n",
      "INFO:gammapy.astro.darkmatter.utils:Run: 1\n",
      "INFO:gammapy.astro.darkmatter.utils:Channel: b\n",
      "INFO:gammapy.astro.darkmatter.utils:Mass: 500.0 GeV\n",
      "DEBUG:gammapy.astro.darkmatter.utils:ZeroDeltaL: 1.1027 \t| LZero: 109.127 \t| LMin:  108.025\n",
      "DEBUG:gammapy.astro.darkmatter.utils:MaximumDeltaL: 296.7149 \t| LMax: 404.739 \t| LMin:  108.025\n",
      "DEBUG:gammapy.astro.darkmatter.utils:SvBestFound: 8.478 \t| SvBest: 8.478 \t| SvUL: 21.805\n",
      "DEBUG:gammapy.astro.darkmatter.utils:JBest: 4.997454360644341e+19 GeV2 / cm5\n",
      "INFO:gammapy.astro.darkmatter.utils:Sigma v:6.541389221418886e-25 cm3 / s\n",
      "INFO:gammapy.astro.darkmatter.utils:----\n",
      "INFO:gammapy.astro.darkmatter.utils:Run: 1\n",
      "INFO:gammapy.astro.darkmatter.utils:Channel: b\n",
      "INFO:gammapy.astro.darkmatter.utils:Mass: 1000.0 GeV\n",
      "DEBUG:gammapy.astro.darkmatter.utils:ZeroDeltaL: 0.1930 \t| LZero: 109.127 \t| LMin:  108.934\n",
      "DEBUG:gammapy.astro.darkmatter.utils:MaximumDeltaL: 218.3020 \t| LMax: 327.236 \t| LMin:  108.934\n",
      "DEBUG:gammapy.astro.darkmatter.utils:SvBestFound: 4.217 \t| SvBest: 4.217 \t| SvUL: 20.099\n",
      "DEBUG:gammapy.astro.darkmatter.utils:JBest: 3.4209626749856158e+19 GeV2 / cm5\n",
      "INFO:gammapy.astro.darkmatter.utils:Sigma v:6.0296822957321785e-25 cm3 / s\n",
      "INFO:gammapy.astro.darkmatter.utils:----\n",
      "INFO:gammapy.astro.darkmatter.utils:Run: 1\n",
      "INFO:gammapy.astro.darkmatter.utils:Channel: b\n",
      "INFO:gammapy.astro.darkmatter.utils:Mass: 5000.0 GeV\n",
      "DEBUG:gammapy.astro.darkmatter.utils:ZeroDeltaL: 0.5863 \t| LZero: 109.127 \t| LMin:  108.541\n",
      "DEBUG:gammapy.astro.darkmatter.utils:MaximumDeltaL: 346.5848 \t| LMax: 455.126 \t| LMin:  108.541\n",
      "DEBUG:gammapy.astro.darkmatter.utils:SvBestFound: 5.283 \t| SvBest: 5.283 \t| SvUL: 16.792\n",
      "DEBUG:gammapy.astro.darkmatter.utils:JBest: 4.827115695685636e+19 GeV2 / cm5\n",
      "INFO:gammapy.astro.darkmatter.utils:Sigma v:5.03753659981013e-25 cm3 / s\n"
     ]
    },
    {
     "name": "stderr",
     "output_type": "stream",
     "text": [
      "INFO:gammapy.astro.darkmatter.utils:----\n",
      "INFO:gammapy.astro.darkmatter.utils:Run: 1\n",
      "INFO:gammapy.astro.darkmatter.utils:Channel: b\n",
      "INFO:gammapy.astro.darkmatter.utils:Mass: 10000.0 GeV\n",
      "DEBUG:gammapy.astro.darkmatter.utils:ZeroDeltaL: 1.8032 \t| LZero: 109.127 \t| LMin:  107.324\n",
      "DEBUG:gammapy.astro.darkmatter.utils:MaximumDeltaL: 148.7344 \t| LMax: 256.058 \t| LMin:  107.324\n",
      "DEBUG:gammapy.astro.darkmatter.utils:SvBestFound: 13.126 \t| SvBest: 13.126 \t| SvUL: 29.735\n",
      "DEBUG:gammapy.astro.darkmatter.utils:JBest: 4.066264633875618e+19 GeV2 / cm5\n",
      "INFO:gammapy.astro.darkmatter.utils:Sigma v:8.920415045460567e-25 cm3 / s\n",
      "INFO:gammapy.astro.darkmatter.utils:----\n",
      "INFO:gammapy.astro.darkmatter.utils:Run: 1\n",
      "INFO:gammapy.astro.darkmatter.utils:Channel: b\n",
      "INFO:gammapy.astro.darkmatter.utils:Mass: 50000.0 GeV\n",
      "DEBUG:gammapy.astro.darkmatter.utils:ZeroDeltaL: 3.6869 \t| LZero: 109.127 \t| LMin:  105.440\n",
      "DEBUG:gammapy.astro.darkmatter.utils:MaximumDeltaL: 34.9237 \t| LMax: 140.364 \t| LMin:  105.440\n",
      "DEBUG:gammapy.astro.darkmatter.utils:SvBestFound: 31.897 \t| SvBest: 31.897 \t| SvUL: 61.703\n",
      "DEBUG:gammapy.astro.darkmatter.utils:JBest: 5.088190493040667e+19 GeV2 / cm5\n",
      "INFO:gammapy.astro.darkmatter.utils:Sigma v:1.851090211853868e-24 cm3 / s\n",
      "INFO:gammapy.astro.darkmatter.utils:----\n",
      "INFO:gammapy.astro.darkmatter.utils:Run: 1\n",
      "INFO:gammapy.astro.darkmatter.utils:Channel: tau\n",
      "INFO:gammapy.astro.darkmatter.utils:Mass: 100.0 GeV\n",
      "DEBUG:gammapy.astro.darkmatter.utils:ZeroDeltaL: 2.8479 \t| LZero: 109.127 \t| LMin:  106.279\n",
      "DEBUG:gammapy.astro.darkmatter.utils:MaximumDeltaL: 2662.4601 \t| LMax: 2768.739 \t| LMin:  106.279\n",
      "DEBUG:gammapy.astro.darkmatter.utils:SvBestFound: 4.582 \t| SvBest: 4.582 \t| SvUL: 9.063\n",
      "DEBUG:gammapy.astro.darkmatter.utils:JBest: 4.869446093144807e+19 GeV2 / cm5\n",
      "INFO:gammapy.astro.darkmatter.utils:Sigma v:2.7190279788590404e-25 cm3 / s\n",
      "INFO:gammapy.astro.darkmatter.utils:----\n",
      "INFO:gammapy.astro.darkmatter.utils:Run: 1\n",
      "INFO:gammapy.astro.darkmatter.utils:Channel: tau\n",
      "INFO:gammapy.astro.darkmatter.utils:Mass: 200.0 GeV\n",
      "DEBUG:gammapy.astro.darkmatter.utils:ZeroDeltaL: 0.2561 \t| LZero: 109.127 \t| LMin:  108.871\n",
      "DEBUG:gammapy.astro.darkmatter.utils:MaximumDeltaL: 3690.8815 \t| LMax: 3799.753 \t| LMin:  108.871\n",
      "DEBUG:gammapy.astro.darkmatter.utils:SvBestFound: 1.133 \t| SvBest: 1.133 \t| SvUL: 4.831\n",
      "DEBUG:gammapy.astro.darkmatter.utils:JBest: 3.856537899894074e+19 GeV2 / cm5\n",
      "INFO:gammapy.astro.darkmatter.utils:Sigma v:1.449221904563878e-25 cm3 / s\n",
      "INFO:gammapy.astro.darkmatter.utils:----\n",
      "INFO:gammapy.astro.darkmatter.utils:Run: 1\n",
      "INFO:gammapy.astro.darkmatter.utils:Channel: tau\n",
      "INFO:gammapy.astro.darkmatter.utils:Mass: 500.0 GeV\n",
      "DEBUG:gammapy.astro.darkmatter.utils:ZeroDeltaL: 0.0106 \t| LZero: 109.127 \t| LMin:  109.117\n",
      "DEBUG:gammapy.astro.darkmatter.utils:MaximumDeltaL: 1172.1333 \t| LMax: 1281.250 \t| LMin:  109.117\n",
      "DEBUG:gammapy.astro.darkmatter.utils:SvBestFound: 0.348 \t| SvBest: 0.348 \t| SvUL: 6.799\n",
      "DEBUG:gammapy.astro.darkmatter.utils:JBest: 1.765212786322785e+19 GeV2 / cm5\n",
      "INFO:gammapy.astro.darkmatter.utils:Sigma v:2.0398493856946548e-25 cm3 / s\n",
      "INFO:gammapy.astro.darkmatter.utils:----\n",
      "INFO:gammapy.astro.darkmatter.utils:Run: 1\n",
      "INFO:gammapy.astro.darkmatter.utils:Channel: tau\n",
      "INFO:gammapy.astro.darkmatter.utils:Mass: 1000.0 GeV\n",
      "DEBUG:gammapy.astro.darkmatter.utils:ZeroDeltaL: 0.0587 \t| LZero: 109.127 \t| LMin:  109.068\n",
      "DEBUG:gammapy.astro.darkmatter.utils:MaximumDeltaL: 1599.3814 \t| LMax: 1708.450 \t| LMin:  109.068\n",
      "DEBUG:gammapy.astro.darkmatter.utils:SvBestFound: 0.670 \t| SvBest: 0.670 \t| SvUL: 5.459\n",
      "DEBUG:gammapy.astro.darkmatter.utils:JBest: 2.365160497591737e+19 GeV2 / cm5\n",
      "INFO:gammapy.astro.darkmatter.utils:Sigma v:1.6377382457326643e-25 cm3 / s\n",
      "INFO:gammapy.astro.darkmatter.utils:----\n",
      "INFO:gammapy.astro.darkmatter.utils:Run: 1\n",
      "INFO:gammapy.astro.darkmatter.utils:Channel: tau\n",
      "INFO:gammapy.astro.darkmatter.utils:Mass: 5000.0 GeV\n",
      "DEBUG:gammapy.astro.darkmatter.utils:ZeroDeltaL: 2.6296 \t| LZero: 109.127 \t| LMin:  106.498\n",
      "DEBUG:gammapy.astro.darkmatter.utils:MaximumDeltaL: 264.5519 \t| LMax: 371.050 \t| LMin:  106.498\n",
      "DEBUG:gammapy.astro.darkmatter.utils:SvBestFound: 9.471 \t| SvBest: 9.471 \t| SvUL: 19.853\n",
      "DEBUG:gammapy.astro.darkmatter.utils:JBest: 1.8450431064568926e+19 GeV2 / cm5\n",
      "INFO:gammapy.astro.darkmatter.utils:Sigma v:5.956039029236131e-25 cm3 / s\n",
      "INFO:gammapy.astro.darkmatter.utils:----\n",
      "INFO:gammapy.astro.darkmatter.utils:Run: 1\n",
      "INFO:gammapy.astro.darkmatter.utils:Channel: tau\n",
      "INFO:gammapy.astro.darkmatter.utils:Mass: 10000.0 GeV\n",
      "DEBUG:gammapy.astro.darkmatter.utils:ZeroDeltaL: 2.5440 \t| LZero: 109.127 \t| LMin:  106.583\n",
      "DEBUG:gammapy.astro.darkmatter.utils:MaximumDeltaL: 531.9525 \t| LMax: 638.536 \t| LMin:  106.583\n",
      "DEBUG:gammapy.astro.darkmatter.utils:SvBestFound: 5.046 \t| SvBest: 5.046 \t| SvUL: 10.856\n",
      "DEBUG:gammapy.astro.darkmatter.utils:JBest: 5.0789531498772414e+19 GeV2 / cm5\n",
      "INFO:gammapy.astro.darkmatter.utils:Sigma v:3.256833930535547e-25 cm3 / s\n",
      "INFO:gammapy.astro.darkmatter.utils:----\n",
      "INFO:gammapy.astro.darkmatter.utils:Run: 1\n",
      "INFO:gammapy.astro.darkmatter.utils:Channel: tau\n",
      "INFO:gammapy.astro.darkmatter.utils:Mass: 50000.0 GeV\n",
      "DEBUG:gammapy.astro.darkmatter.utils:ZeroDeltaL: 2.6948 \t| LZero: 109.127 \t| LMin:  106.432\n",
      "DEBUG:gammapy.astro.darkmatter.utils:MaximumDeltaL: 25.1606 \t| LMax: 131.593 \t| LMin:  106.432\n",
      "DEBUG:gammapy.astro.darkmatter.utils:SvBestFound: 26.244 \t| SvBest: 26.244 \t| SvUL: 59.313\n",
      "DEBUG:gammapy.astro.darkmatter.utils:JBest: 5.1063101022940865e+19 GeV2 / cm5\n",
      "INFO:gammapy.astro.darkmatter.utils:Sigma v:1.779396954726898e-24 cm3 / s\n",
      "INFO:gammapy.astro.darkmatter.utils:----\n",
      "INFO:gammapy.astro.darkmatter.utils:Run: 1\n",
      "INFO:gammapy.astro.darkmatter.utils:Channel: Z\n",
      "INFO:gammapy.astro.darkmatter.utils:Mass: 100.0 GeV\n",
      "DEBUG:gammapy.astro.darkmatter.utils:ZeroDeltaL: 2.0921 \t| LZero: 109.127 \t| LMin:  107.035\n",
      "DEBUG:gammapy.astro.darkmatter.utils:MaximumDeltaL: 3.6418 \t| LMax: 110.677 \t| LMin:  107.035\n",
      "DEBUG:gammapy.astro.darkmatter.utils:SvBestFound: 64.573 \t| SvBest: 64.573 \t| SvUL: 138.254\n",
      "DEBUG:gammapy.astro.darkmatter.utils:JBest: 3.0704386751310926e+19 GeV2 / cm5\n",
      "INFO:gammapy.astro.darkmatter.utils:Sigma v:4.147618215398044e-24 cm3 / s\n",
      "INFO:gammapy.astro.darkmatter.utils:----\n",
      "INFO:gammapy.astro.darkmatter.utils:Run: 1\n",
      "INFO:gammapy.astro.darkmatter.utils:Channel: Z\n",
      "INFO:gammapy.astro.darkmatter.utils:Mass: 200.0 GeV\n",
      "DEBUG:gammapy.astro.darkmatter.utils:ZeroDeltaL: 2.4515 \t| LZero: 109.127 \t| LMin:  106.676\n",
      "DEBUG:gammapy.astro.darkmatter.utils:MaximumDeltaL: 124.9147 \t| LMax: 231.590 \t| LMin:  106.676\n",
      "DEBUG:gammapy.astro.darkmatter.utils:SvBestFound: 18.309 \t| SvBest: 18.309 \t| SvUL: 37.597\n",
      "DEBUG:gammapy.astro.darkmatter.utils:JBest: 5.0450094703527846e+19 GeV2 / cm5\n",
      "INFO:gammapy.astro.darkmatter.utils:Sigma v:1.1279217144036793e-24 cm3 / s\n",
      "INFO:gammapy.astro.darkmatter.utils:----\n",
      "INFO:gammapy.astro.darkmatter.utils:Run: 1\n",
      "INFO:gammapy.astro.darkmatter.utils:Channel: Z\n",
      "INFO:gammapy.astro.darkmatter.utils:Mass: 500.0 GeV\n",
      "DEBUG:gammapy.astro.darkmatter.utils:ZeroDeltaL: 0.4357 \t| LZero: 109.127 \t| LMin:  108.692\n",
      "DEBUG:gammapy.astro.darkmatter.utils:MaximumDeltaL: 387.5228 \t| LMax: 496.214 \t| LMin:  108.692\n",
      "DEBUG:gammapy.astro.darkmatter.utils:SvBestFound: 4.744 \t| SvBest: 4.744 \t| SvUL: 16.589\n",
      "DEBUG:gammapy.astro.darkmatter.utils:JBest: 4.991999258223112e+19 GeV2 / cm5\n",
      "INFO:gammapy.astro.darkmatter.utils:Sigma v:4.976685933018842e-25 cm3 / s\n",
      "INFO:gammapy.astro.darkmatter.utils:----\n",
      "INFO:gammapy.astro.darkmatter.utils:Run: 1\n",
      "INFO:gammapy.astro.darkmatter.utils:Channel: Z\n",
      "INFO:gammapy.astro.darkmatter.utils:Mass: 1000.0 GeV\n",
      "DEBUG:gammapy.astro.darkmatter.utils:ZeroDeltaL: 0.0655 \t| LZero: 109.127 \t| LMin:  109.062\n",
      "DEBUG:gammapy.astro.darkmatter.utils:MaximumDeltaL: 542.7188 \t| LMax: 651.780 \t| LMin:  109.062\n",
      "DEBUG:gammapy.astro.darkmatter.utils:SvBestFound: 1.539 \t| SvBest: 1.539 \t| SvUL: 11.485\n",
      "DEBUG:gammapy.astro.darkmatter.utils:JBest: 4.954216033339144e+19 GeV2 / cm5\n",
      "INFO:gammapy.astro.darkmatter.utils:Sigma v:3.445450602859132e-25 cm3 / s\n",
      "INFO:gammapy.astro.darkmatter.utils:----\n",
      "INFO:gammapy.astro.darkmatter.utils:Run: 1\n",
      "INFO:gammapy.astro.darkmatter.utils:Channel: Z\n",
      "INFO:gammapy.astro.darkmatter.utils:Mass: 5000.0 GeV\n",
      "DEBUG:gammapy.astro.darkmatter.utils:ZeroDeltaL: 1.2360 \t| LZero: 109.127 \t| LMin:  107.891\n"
     ]
    },
    {
     "name": "stderr",
     "output_type": "stream",
     "text": [
      "DEBUG:gammapy.astro.darkmatter.utils:MaximumDeltaL: 171.8901 \t| LMax: 279.781 \t| LMin:  107.891\n",
      "DEBUG:gammapy.astro.darkmatter.utils:SvBestFound: 10.490 \t| SvBest: 10.490 \t| SvUL: 26.412\n",
      "DEBUG:gammapy.astro.darkmatter.utils:JBest: 3.460072957814553e+19 GeV2 / cm5\n",
      "INFO:gammapy.astro.darkmatter.utils:Sigma v:7.923568498570407e-25 cm3 / s\n",
      "INFO:gammapy.astro.darkmatter.utils:----\n",
      "INFO:gammapy.astro.darkmatter.utils:Run: 1\n",
      "INFO:gammapy.astro.darkmatter.utils:Channel: Z\n",
      "INFO:gammapy.astro.darkmatter.utils:Mass: 10000.0 GeV\n",
      "DEBUG:gammapy.astro.darkmatter.utils:ZeroDeltaL: 2.4625 \t| LZero: 109.127 \t| LMin:  106.665\n",
      "DEBUG:gammapy.astro.darkmatter.utils:MaximumDeltaL: 202.4358 \t| LMax: 309.101 \t| LMin:  106.665\n",
      "DEBUG:gammapy.astro.darkmatter.utils:SvBestFound: 12.404 \t| SvBest: 12.404 \t| SvUL: 26.002\n",
      "DEBUG:gammapy.astro.darkmatter.utils:JBest: 5.058663425729712e+19 GeV2 / cm5\n",
      "INFO:gammapy.astro.darkmatter.utils:Sigma v:7.800502217611307e-25 cm3 / s\n",
      "INFO:gammapy.astro.darkmatter.utils:----\n",
      "INFO:gammapy.astro.darkmatter.utils:Run: 1\n",
      "INFO:gammapy.astro.darkmatter.utils:Channel: Z\n",
      "INFO:gammapy.astro.darkmatter.utils:Mass: 50000.0 GeV\n",
      "DEBUG:gammapy.astro.darkmatter.utils:ZeroDeltaL: 3.9280 \t| LZero: 109.127 \t| LMin:  105.199\n",
      "DEBUG:gammapy.astro.darkmatter.utils:MaximumDeltaL: 5.9040 \t| LMax: 111.103 \t| LMin:  105.199\n",
      "DEBUG:gammapy.astro.darkmatter.utils:SvBestFound: 62.975 \t| SvBest: 62.975 \t| SvUL: 120.704\n",
      "DEBUG:gammapy.astro.darkmatter.utils:JBest: 2.9695327228543586e+19 GeV2 / cm5\n",
      "INFO:gammapy.astro.darkmatter.utils:Sigma v:3.6211085299901615e-24 cm3 / s\n",
      "INFO:gammapy.astro.darkmatter.utils:----\n",
      "INFO:gammapy.astro.darkmatter.utils:Run: 2\n",
      "INFO:gammapy.astro.darkmatter.utils:Channel: b\n",
      "INFO:gammapy.astro.darkmatter.utils:Mass: 100.0 GeV\n",
      "DEBUG:gammapy.astro.darkmatter.utils:ZeroDeltaL: 0.3414 \t| LZero: 114.039 \t| LMin:  113.698\n",
      "DEBUG:gammapy.astro.darkmatter.utils:MaximumDeltaL: 41.9258 \t| LMax: 155.965 \t| LMin:  114.039\n",
      "DEBUG:gammapy.astro.darkmatter.utils:SvBestFound: -14.745 \t| SvBest: 0.000 \t| SvUL: 29.374\n",
      "DEBUG:gammapy.astro.darkmatter.utils:JBest: 4.005021328844967e+19 GeV2 / cm5\n",
      "INFO:gammapy.astro.darkmatter.utils:Sigma v:8.812171554971915e-25 cm3 / s\n",
      "INFO:gammapy.astro.darkmatter.utils:----\n",
      "INFO:gammapy.astro.darkmatter.utils:Run: 2\n",
      "INFO:gammapy.astro.darkmatter.utils:Channel: b\n",
      "INFO:gammapy.astro.darkmatter.utils:Mass: 200.0 GeV\n",
      "DEBUG:gammapy.astro.darkmatter.utils:ZeroDeltaL: 0.2850 \t| LZero: 114.039 \t| LMin:  113.754\n",
      "DEBUG:gammapy.astro.darkmatter.utils:MaximumDeltaL: 50.7791 \t| LMax: 164.533 \t| LMin:  113.754\n",
      "DEBUG:gammapy.astro.darkmatter.utils:SvBestFound: 10.419 \t| SvBest: 10.419 \t| SvUL: 42.569\n",
      "DEBUG:gammapy.astro.darkmatter.utils:JBest: 3.0982915766273634e+19 GeV2 / cm5\n",
      "INFO:gammapy.astro.darkmatter.utils:Sigma v:1.2770737647946104e-24 cm3 / s\n",
      "INFO:gammapy.astro.darkmatter.utils:----\n",
      "INFO:gammapy.astro.darkmatter.utils:Run: 2\n",
      "INFO:gammapy.astro.darkmatter.utils:Channel: b\n",
      "INFO:gammapy.astro.darkmatter.utils:Mass: 500.0 GeV\n",
      "DEBUG:gammapy.astro.darkmatter.utils:ZeroDeltaL: 1.6135 \t| LZero: 114.039 \t| LMin:  112.426\n",
      "DEBUG:gammapy.astro.darkmatter.utils:MaximumDeltaL: 49.4765 \t| LMax: 161.902 \t| LMin:  112.426\n",
      "DEBUG:gammapy.astro.darkmatter.utils:SvBestFound: 22.772 \t| SvBest: 22.772 \t| SvUL: 52.412\n",
      "DEBUG:gammapy.astro.darkmatter.utils:JBest: 2.2505632763249615e+19 GeV2 / cm5\n",
      "INFO:gammapy.astro.darkmatter.utils:Sigma v:1.5723564059833917e-24 cm3 / s\n",
      "INFO:gammapy.astro.darkmatter.utils:----\n",
      "INFO:gammapy.astro.darkmatter.utils:Run: 2\n",
      "INFO:gammapy.astro.darkmatter.utils:Channel: b\n",
      "INFO:gammapy.astro.darkmatter.utils:Mass: 1000.0 GeV\n",
      "DEBUG:gammapy.astro.darkmatter.utils:ZeroDeltaL: 0.4946 \t| LZero: 114.039 \t| LMin:  113.544\n",
      "DEBUG:gammapy.astro.darkmatter.utils:MaximumDeltaL: 431.0476 \t| LMax: 544.592 \t| LMin:  113.544\n",
      "DEBUG:gammapy.astro.darkmatter.utils:SvBestFound: 4.748 \t| SvBest: 4.748 \t| SvUL: 15.888\n",
      "DEBUG:gammapy.astro.darkmatter.utils:JBest: 4.899105824147929e+19 GeV2 / cm5\n",
      "INFO:gammapy.astro.darkmatter.utils:Sigma v:4.7664749110759485e-25 cm3 / s\n",
      "INFO:gammapy.astro.darkmatter.utils:----\n",
      "INFO:gammapy.astro.darkmatter.utils:Run: 2\n",
      "INFO:gammapy.astro.darkmatter.utils:Channel: b\n",
      "INFO:gammapy.astro.darkmatter.utils:Mass: 5000.0 GeV\n",
      "DEBUG:gammapy.astro.darkmatter.utils:ZeroDeltaL: 0.1170 \t| LZero: 114.039 \t| LMin:  113.922\n",
      "DEBUG:gammapy.astro.darkmatter.utils:MaximumDeltaL: 423.4129 \t| LMax: 537.452 \t| LMin:  114.039\n",
      "DEBUG:gammapy.astro.darkmatter.utils:SvBestFound: -2.224 \t| SvBest: 0.000 \t| SvUL: 8.809\n",
      "DEBUG:gammapy.astro.darkmatter.utils:JBest: 5.114904558336884e+19 GeV2 / cm5\n",
      "INFO:gammapy.astro.darkmatter.utils:Sigma v:2.6426774543624896e-25 cm3 / s\n",
      "INFO:gammapy.astro.darkmatter.utils:----\n",
      "INFO:gammapy.astro.darkmatter.utils:Run: 2\n",
      "INFO:gammapy.astro.darkmatter.utils:Channel: b\n",
      "INFO:gammapy.astro.darkmatter.utils:Mass: 10000.0 GeV\n",
      "DEBUG:gammapy.astro.darkmatter.utils:ZeroDeltaL: 0.6462 \t| LZero: 114.039 \t| LMin:  113.393\n",
      "DEBUG:gammapy.astro.darkmatter.utils:MaximumDeltaL: 73.3076 \t| LMax: 187.347 \t| LMin:  114.039\n",
      "DEBUG:gammapy.astro.darkmatter.utils:SvBestFound: -14.062 \t| SvBest: 0.000 \t| SvUL: 18.358\n",
      "DEBUG:gammapy.astro.darkmatter.utils:JBest: 2.2602376500304036e+19 GeV2 / cm5\n",
      "INFO:gammapy.astro.darkmatter.utils:Sigma v:5.507483309934598e-25 cm3 / s\n",
      "INFO:gammapy.astro.darkmatter.utils:----\n",
      "INFO:gammapy.astro.darkmatter.utils:Run: 2\n",
      "INFO:gammapy.astro.darkmatter.utils:Channel: b\n",
      "INFO:gammapy.astro.darkmatter.utils:Mass: 50000.0 GeV\n",
      "DEBUG:gammapy.astro.darkmatter.utils:ZeroDeltaL: 1.2048 \t| LZero: 114.039 \t| LMin:  112.834\n",
      "DEBUG:gammapy.astro.darkmatter.utils:MaximumDeltaL: 55.6907 \t| LMax: 169.730 \t| LMin:  114.039\n",
      "DEBUG:gammapy.astro.darkmatter.utils:SvBestFound: -21.141 \t| SvBest: 0.000 \t| SvUL: 17.842\n",
      "DEBUG:gammapy.astro.darkmatter.utils:JBest: 4.2428357239258644e+19 GeV2 / cm5\n",
      "INFO:gammapy.astro.darkmatter.utils:Sigma v:5.352696600425789e-25 cm3 / s\n",
      "INFO:gammapy.astro.darkmatter.utils:----\n",
      "INFO:gammapy.astro.darkmatter.utils:Run: 2\n",
      "INFO:gammapy.astro.darkmatter.utils:Channel: tau\n",
      "INFO:gammapy.astro.darkmatter.utils:Mass: 100.0 GeV\n",
      "DEBUG:gammapy.astro.darkmatter.utils:ZeroDeltaL: 1.3093 \t| LZero: 114.039 \t| LMin:  112.730\n",
      "DEBUG:gammapy.astro.darkmatter.utils:MaximumDeltaL: 651.0930 \t| LMax: 763.823 \t| LMin:  112.730\n",
      "DEBUG:gammapy.astro.darkmatter.utils:SvBestFound: 6.323 \t| SvBest: 6.323 \t| SvUL: 15.442\n",
      "DEBUG:gammapy.astro.darkmatter.utils:JBest: 2.394151247399628e+19 GeV2 / cm5\n",
      "INFO:gammapy.astro.darkmatter.utils:Sigma v:4.632618268029125e-25 cm3 / s\n",
      "INFO:gammapy.astro.darkmatter.utils:----\n",
      "INFO:gammapy.astro.darkmatter.utils:Run: 2\n",
      "INFO:gammapy.astro.darkmatter.utils:Channel: tau\n",
      "INFO:gammapy.astro.darkmatter.utils:Mass: 200.0 GeV\n",
      "DEBUG:gammapy.astro.darkmatter.utils:ZeroDeltaL: 3.4455 \t| LZero: 114.039 \t| LMin:  110.594\n",
      "DEBUG:gammapy.astro.darkmatter.utils:MaximumDeltaL: 710.1574 \t| LMax: 820.751 \t| LMin:  110.594\n",
      "DEBUG:gammapy.astro.darkmatter.utils:SvBestFound: 9.472 \t| SvBest: 9.472 \t| SvUL: 17.767\n",
      "DEBUG:gammapy.astro.darkmatter.utils:JBest: 1.7100766895405636e+19 GeV2 / cm5\n",
      "INFO:gammapy.astro.darkmatter.utils:Sigma v:5.330118240738025e-25 cm3 / s\n",
      "INFO:gammapy.astro.darkmatter.utils:----\n",
      "INFO:gammapy.astro.darkmatter.utils:Run: 2\n",
      "INFO:gammapy.astro.darkmatter.utils:Channel: tau\n",
      "INFO:gammapy.astro.darkmatter.utils:Mass: 500.0 GeV\n",
      "DEBUG:gammapy.astro.darkmatter.utils:ZeroDeltaL: 0.1089 \t| LZero: 114.039 \t| LMin:  113.930\n",
      "DEBUG:gammapy.astro.darkmatter.utils:MaximumDeltaL: 4121.0006 \t| LMax: 4235.040 \t| LMin:  114.039\n",
      "DEBUG:gammapy.astro.darkmatter.utils:SvBestFound: -0.620 \t| SvBest: 0.000 \t| SvUL: 2.548\n",
      "DEBUG:gammapy.astro.darkmatter.utils:JBest: 3.6577196692412183e+19 GeV2 / cm5\n",
      "INFO:gammapy.astro.darkmatter.utils:Sigma v:7.643019023846518e-26 cm3 / s\n",
      "INFO:gammapy.astro.darkmatter.utils:----\n",
      "INFO:gammapy.astro.darkmatter.utils:Run: 2\n",
      "INFO:gammapy.astro.darkmatter.utils:Channel: tau\n",
      "INFO:gammapy.astro.darkmatter.utils:Mass: 1000.0 GeV\n",
      "DEBUG:gammapy.astro.darkmatter.utils:ZeroDeltaL: 0.0076 \t| LZero: 114.039 \t| LMin:  114.031\n",
      "DEBUG:gammapy.astro.darkmatter.utils:MaximumDeltaL: 963.7572 \t| LMax: 1077.789 \t| LMin:  114.031\n",
      "DEBUG:gammapy.astro.darkmatter.utils:SvBestFound: 0.311 \t| SvBest: 0.311 \t| SvUL: 6.847\n",
      "DEBUG:gammapy.astro.darkmatter.utils:JBest: 1.7364872851342832e+19 GeV2 / cm5\n"
     ]
    },
    {
     "name": "stderr",
     "output_type": "stream",
     "text": [
      "INFO:gammapy.astro.darkmatter.utils:Sigma v:2.0541147108153904e-25 cm3 / s\n",
      "INFO:gammapy.astro.darkmatter.utils:----\n",
      "INFO:gammapy.astro.darkmatter.utils:Run: 2\n",
      "INFO:gammapy.astro.darkmatter.utils:Channel: tau\n",
      "INFO:gammapy.astro.darkmatter.utils:Mass: 5000.0 GeV\n",
      "DEBUG:gammapy.astro.darkmatter.utils:ZeroDeltaL: 1.9707 \t| LZero: 114.039 \t| LMin:  112.068\n",
      "DEBUG:gammapy.astro.darkmatter.utils:MaximumDeltaL: 819.3143 \t| LMax: 933.353 \t| LMin:  114.039\n",
      "DEBUG:gammapy.astro.darkmatter.utils:SvBestFound: -4.052 \t| SvBest: 0.000 \t| SvUL: 2.315\n",
      "DEBUG:gammapy.astro.darkmatter.utils:JBest: 3.471525361608366e+19 GeV2 / cm5\n",
      "INFO:gammapy.astro.darkmatter.utils:Sigma v:6.94483773517622e-26 cm3 / s\n",
      "INFO:gammapy.astro.darkmatter.utils:----\n",
      "INFO:gammapy.astro.darkmatter.utils:Run: 2\n",
      "INFO:gammapy.astro.darkmatter.utils:Channel: tau\n",
      "INFO:gammapy.astro.darkmatter.utils:Mass: 10000.0 GeV\n",
      "DEBUG:gammapy.astro.darkmatter.utils:ZeroDeltaL: 0.8410 \t| LZero: 114.039 \t| LMin:  113.198\n",
      "DEBUG:gammapy.astro.darkmatter.utils:MaximumDeltaL: 473.7111 \t| LMax: 587.750 \t| LMin:  114.039\n",
      "DEBUG:gammapy.astro.darkmatter.utils:SvBestFound: -3.508 \t| SvBest: 0.000 \t| SvUL: 3.934\n",
      "DEBUG:gammapy.astro.darkmatter.utils:JBest: 4.099439877424342e+19 GeV2 / cm5\n",
      "INFO:gammapy.astro.darkmatter.utils:Sigma v:1.1802533468613853e-25 cm3 / s\n",
      "INFO:gammapy.astro.darkmatter.utils:----\n",
      "INFO:gammapy.astro.darkmatter.utils:Run: 2\n",
      "INFO:gammapy.astro.darkmatter.utils:Channel: tau\n",
      "INFO:gammapy.astro.darkmatter.utils:Mass: 50000.0 GeV\n",
      "DEBUG:gammapy.astro.darkmatter.utils:ZeroDeltaL: 0.0897 \t| LZero: 114.039 \t| LMin:  113.949\n",
      "DEBUG:gammapy.astro.darkmatter.utils:MaximumDeltaL: 29.1373 \t| LMax: 143.176 \t| LMin:  114.039\n",
      "DEBUG:gammapy.astro.darkmatter.utils:SvBestFound: -5.382 \t| SvBest: 0.000 \t| SvUL: 29.476\n",
      "DEBUG:gammapy.astro.darkmatter.utils:JBest: 3.764174485183908e+19 GeV2 / cm5\n",
      "INFO:gammapy.astro.darkmatter.utils:Sigma v:8.842736006583992e-25 cm3 / s\n",
      "INFO:gammapy.astro.darkmatter.utils:----\n",
      "INFO:gammapy.astro.darkmatter.utils:Run: 2\n",
      "INFO:gammapy.astro.darkmatter.utils:Channel: Z\n",
      "INFO:gammapy.astro.darkmatter.utils:Mass: 100.0 GeV\n",
      "DEBUG:gammapy.astro.darkmatter.utils:ZeroDeltaL: 0.4747 \t| LZero: 114.039 \t| LMin:  113.564\n",
      "DEBUG:gammapy.astro.darkmatter.utils:MaximumDeltaL: 31.8941 \t| LMax: 145.933 \t| LMin:  114.039\n",
      "DEBUG:gammapy.astro.darkmatter.utils:SvBestFound: -20.588 \t| SvBest: 0.000 \t| SvUL: 32.778\n",
      "DEBUG:gammapy.astro.darkmatter.utils:JBest: 4.595228063489541e+19 GeV2 / cm5\n",
      "INFO:gammapy.astro.darkmatter.utils:Sigma v:9.833288571452087e-25 cm3 / s\n",
      "INFO:gammapy.astro.darkmatter.utils:----\n",
      "INFO:gammapy.astro.darkmatter.utils:Run: 2\n",
      "INFO:gammapy.astro.darkmatter.utils:Channel: Z\n",
      "INFO:gammapy.astro.darkmatter.utils:Mass: 200.0 GeV\n",
      "DEBUG:gammapy.astro.darkmatter.utils:ZeroDeltaL: 1.2871 \t| LZero: 114.039 \t| LMin:  112.752\n",
      "DEBUG:gammapy.astro.darkmatter.utils:MaximumDeltaL: 108.1940 \t| LMax: 220.946 \t| LMin:  112.752\n",
      "DEBUG:gammapy.astro.darkmatter.utils:SvBestFound: 14.660 \t| SvBest: 14.660 \t| SvUL: 35.970\n",
      "DEBUG:gammapy.astro.darkmatter.utils:JBest: 4.568431393283996e+19 GeV2 / cm5\n",
      "INFO:gammapy.astro.darkmatter.utils:Sigma v:1.0790928030329887e-24 cm3 / s\n",
      "INFO:gammapy.astro.darkmatter.utils:----\n",
      "INFO:gammapy.astro.darkmatter.utils:Run: 2\n",
      "INFO:gammapy.astro.darkmatter.utils:Channel: Z\n",
      "INFO:gammapy.astro.darkmatter.utils:Mass: 500.0 GeV\n",
      "DEBUG:gammapy.astro.darkmatter.utils:ZeroDeltaL: 0.8499 \t| LZero: 114.039 \t| LMin:  113.189\n",
      "DEBUG:gammapy.astro.darkmatter.utils:MaximumDeltaL: 100.3928 \t| LMax: 213.582 \t| LMin:  113.189\n",
      "DEBUG:gammapy.astro.darkmatter.utils:SvBestFound: 12.469 \t| SvBest: 12.469 \t| SvUL: 34.809\n",
      "DEBUG:gammapy.astro.darkmatter.utils:JBest: 2.6562799191042937e+19 GeV2 / cm5\n",
      "INFO:gammapy.astro.darkmatter.utils:Sigma v:1.0442566750688572e-24 cm3 / s\n",
      "INFO:gammapy.astro.darkmatter.utils:----\n",
      "INFO:gammapy.astro.darkmatter.utils:Run: 2\n",
      "INFO:gammapy.astro.darkmatter.utils:Channel: Z\n",
      "INFO:gammapy.astro.darkmatter.utils:Mass: 1000.0 GeV\n",
      "DEBUG:gammapy.astro.darkmatter.utils:ZeroDeltaL: 0.1021 \t| LZero: 114.039 \t| LMin:  113.937\n",
      "DEBUG:gammapy.astro.darkmatter.utils:MaximumDeltaL: 375.0938 \t| LMax: 489.031 \t| LMin:  113.937\n",
      "DEBUG:gammapy.astro.darkmatter.utils:SvBestFound: 2.323 \t| SvBest: 2.323 \t| SvUL: 14.342\n",
      "DEBUG:gammapy.astro.darkmatter.utils:JBest: 4.129428512873192e+19 GeV2 / cm5\n",
      "INFO:gammapy.astro.darkmatter.utils:Sigma v:4.30270583855301e-25 cm3 / s\n",
      "INFO:gammapy.astro.darkmatter.utils:----\n",
      "INFO:gammapy.astro.darkmatter.utils:Run: 2\n",
      "INFO:gammapy.astro.darkmatter.utils:Channel: Z\n",
      "INFO:gammapy.astro.darkmatter.utils:Mass: 5000.0 GeV\n",
      "DEBUG:gammapy.astro.darkmatter.utils:ZeroDeltaL: 0.4064 \t| LZero: 114.039 \t| LMin:  113.633\n",
      "DEBUG:gammapy.astro.darkmatter.utils:MaximumDeltaL: 271.5544 \t| LMax: 385.593 \t| LMin:  114.039\n",
      "DEBUG:gammapy.astro.darkmatter.utils:SvBestFound: -5.223 \t| SvBest: 0.000 \t| SvUL: 9.390\n",
      "DEBUG:gammapy.astro.darkmatter.utils:JBest: 3.981780296675064e+19 GeV2 / cm5\n",
      "INFO:gammapy.astro.darkmatter.utils:Sigma v:2.8169563162574428e-25 cm3 / s\n",
      "INFO:gammapy.astro.darkmatter.utils:----\n",
      "INFO:gammapy.astro.darkmatter.utils:Run: 2\n",
      "INFO:gammapy.astro.darkmatter.utils:Channel: Z\n",
      "INFO:gammapy.astro.darkmatter.utils:Mass: 10000.0 GeV\n",
      "DEBUG:gammapy.astro.darkmatter.utils:ZeroDeltaL: 1.1432 \t| LZero: 114.039 \t| LMin:  112.896\n",
      "DEBUG:gammapy.astro.darkmatter.utils:MaximumDeltaL: 189.1883 \t| LMax: 303.227 \t| LMin:  114.039\n",
      "DEBUG:gammapy.astro.darkmatter.utils:SvBestFound: -10.369 \t| SvBest: 0.000 \t| SvUL: 8.926\n",
      "DEBUG:gammapy.astro.darkmatter.utils:JBest: 4.064612914950042e+19 GeV2 / cm5\n",
      "INFO:gammapy.astro.darkmatter.utils:Sigma v:2.677663325030631e-25 cm3 / s\n",
      "INFO:gammapy.astro.darkmatter.utils:----\n",
      "INFO:gammapy.astro.darkmatter.utils:Run: 2\n",
      "INFO:gammapy.astro.darkmatter.utils:Channel: Z\n",
      "INFO:gammapy.astro.darkmatter.utils:Mass: 50000.0 GeV\n",
      "DEBUG:gammapy.astro.darkmatter.utils:ZeroDeltaL: 0.9254 \t| LZero: 114.039 \t| LMin:  113.114\n",
      "DEBUG:gammapy.astro.darkmatter.utils:MaximumDeltaL: 14.9276 \t| LMax: 128.967 \t| LMin:  114.039\n",
      "DEBUG:gammapy.astro.darkmatter.utils:SvBestFound: -42.743 \t| SvBest: 0.000 \t| SvUL: 44.271\n",
      "DEBUG:gammapy.astro.darkmatter.utils:JBest: 2.056457284404143e+19 GeV2 / cm5\n",
      "INFO:gammapy.astro.darkmatter.utils:Sigma v:1.328136373795722e-24 cm3 / s\n",
      "INFO:gammapy.astro.darkmatter.utils:Number of good runs: 3\n"
     ]
    },
    {
     "name": "stdout",
     "output_type": "stream",
     "text": [
      "CPU times: user 4min 45s, sys: 1.6 s, total: 4min 47s\n",
      "Wall time: 4min 48s\n"
     ]
    }
   ],
   "source": [
    "%%time\n",
    "# stat_profile_opts=dict(bounds=(-25, 100), nvalues=50)     # default param\n",
    "# if nuisance = True the process takes the nuisance parameters into account\n",
    "result = estimator.run(runs=3, nuisance=True)"
   ]
  },
  {
   "cell_type": "markdown",
   "metadata": {},
   "source": [
    "**Display results for channel b and run 1**"
   ]
  },
  {
   "cell_type": "code",
   "execution_count": 18,
   "metadata": {
    "scrolled": false
   },
   "outputs": [
    {
     "data": {
      "text/html": [
       "<i>Table length=7</i>\n",
       "<table id=\"table4725153688\" class=\"table-striped table-bordered table-condensed\">\n",
       "<thead><tr><th>mass</th><th>sigma_v</th><th>sv_ul</th><th>sv_best</th><th>j_best</th></tr></thead>\n",
       "<thead><tr><th>GeV</th><th>cm3 / s</th><th></th><th></th><th>GeV2 / cm5</th></tr></thead>\n",
       "<thead><tr><th>float64</th><th>float64</th><th>float64</th><th>float64</th><th>float64</th></tr></thead>\n",
       "<tr><td>100.0</td><td>8.812171554971915e-25</td><td>29.373905183239717</td><td>0.0</td><td>4.005021328844967e+19</td></tr>\n",
       "<tr><td>200.0</td><td>1.2770737647946104e-24</td><td>42.56912549315368</td><td>10.418582131846083</td><td>3.0982915766273634e+19</td></tr>\n",
       "<tr><td>500.0</td><td>1.5723564059833917e-24</td><td>52.41188019944639</td><td>22.772182206848036</td><td>2.2505632763249615e+19</td></tr>\n",
       "<tr><td>1000.0</td><td>4.7664749110759485e-25</td><td>15.888249703586496</td><td>4.7477903140615965</td><td>4.899105824147929e+19</td></tr>\n",
       "<tr><td>5000.0</td><td>2.6426774543624896e-25</td><td>8.808924847874964</td><td>0.0</td><td>5.114904558336884e+19</td></tr>\n",
       "<tr><td>10000.0</td><td>5.507483309934598e-25</td><td>18.35827769978199</td><td>0.0</td><td>2.2602376500304036e+19</td></tr>\n",
       "<tr><td>50000.0</td><td>5.352696600425789e-25</td><td>17.842322001419294</td><td>0.0</td><td>4.2428357239258644e+19</td></tr>\n",
       "</table>"
      ],
      "text/plain": [
       "<Table length=7>\n",
       "  mass         sigma_v         ...      sv_best               j_best        \n",
       "  GeV          cm3 / s         ...                          GeV2 / cm5      \n",
       "float64        float64         ...      float64              float64        \n",
       "------- ---------------------- ... ------------------ ----------------------\n",
       "  100.0  8.812171554971915e-25 ...                0.0  4.005021328844967e+19\n",
       "  200.0 1.2770737647946104e-24 ... 10.418582131846083 3.0982915766273634e+19\n",
       "  500.0 1.5723564059833917e-24 ... 22.772182206848036 2.2505632763249615e+19\n",
       " 1000.0 4.7664749110759485e-25 ... 4.7477903140615965  4.899105824147929e+19\n",
       " 5000.0 2.6426774543624896e-25 ...                0.0  5.114904558336884e+19\n",
       "10000.0  5.507483309934598e-25 ...                0.0 2.2602376500304036e+19\n",
       "50000.0  5.352696600425789e-25 ...                0.0 4.2428357239258644e+19"
      ]
     },
     "execution_count": 18,
     "metadata": {},
     "output_type": "execute_result"
    }
   ],
   "source": [
    "cols = [\"mass\", \"sigma_v\", \"sv_ul\", \"sv_best\", \"j_best\"]\n",
    "result[\"runs\"][\"b\"][2][cols]"
   ]
  },
  {
   "cell_type": "markdown",
   "metadata": {},
   "source": [
    "**Plot likelihood profile for a specific fit**"
   ]
  },
  {
   "cell_type": "code",
   "execution_count": 19,
   "metadata": {},
   "outputs": [],
   "source": [
    "idx = np.argwhere(masses.value==100)\n",
    "profile = result[\"runs\"][\"Z\"][0][\"statprofile\"][idx][0][0]"
   ]
  },
  {
   "cell_type": "code",
   "execution_count": 20,
   "metadata": {
    "scrolled": true
   },
   "outputs": [
    {
     "data": {
      "image/png": "[encoded data removed]",
      "text/plain": [
       "<Figure size 432x288 with 1 Axes>"
      ]
     },
     "metadata": {
      "needs_background": "light"
     },
     "output_type": "display_data"
    }
   ],
   "source": [
    "plt.plot(profile[\"values\"], profile[\"stat\"]);"
   ]
  },
  {
   "cell_type": "markdown",
   "metadata": {},
   "source": [
    "## Obtained results"
   ]
  },
  {
   "cell_type": "code",
   "execution_count": 21,
   "metadata": {
    "scrolled": false
   },
   "outputs": [
    {
     "data": {
      "text/html": [
       "<i>Table length=7</i>\n",
       "<table id=\"table4734482416\" class=\"table-striped table-bordered table-condensed\">\n",
       "<thead><tr><th>mass</th><th>sigma_v</th><th>sigma_v_std</th><th>jfactor</th><th>jfactor_std</th></tr></thead>\n",
       "<thead><tr><th>GeV</th><th>cm3 / s</th><th>cm3 / s</th><th>GeV2 / cm5</th><th>GeV2 / cm5</th></tr></thead>\n",
       "<thead><tr><th>float64</th><th>float64</th><th>float64</th><th>float64</th><th>float64</th></tr></thead>\n",
       "<tr><td>100.0</td><td>1.1887081931465127e-24</td><td>7.759822372291295e-25</td><td>4.423584903339712e+19</td><td>4.811536516201265e+18</td></tr>\n",
       "<tr><td>200.0</td><td>1.1080183459938923e-24</td><td>5.968367122321883e-25</td><td>3.794176563827949e+19</td><td>7.722969439343911e+18</td></tr>\n",
       "<tr><td>500.0</td><td>7.966492328578844e-25</td><td>5.839432260257227e-25</td><td>4.120948901479239e+19</td><td>1.3234301380726092e+19</td></tr>\n",
       "<tr><td>1000.0</td><td>4.403832054826973e-25</td><td>1.4976652545957162e-25</td><td>3.4128276779363455e+19</td><td>1.2168757193230428e+19</td></tr>\n",
       "<tr><td>5000.0</td><td>2.924465245962913e-25</td><td>1.6225570756576444e-25</td><td>4.73974641785841e+19</td><td>3.475191283751406e+18</td></tr>\n",
       "<tr><td>10000.0</td><td>5.65855256662598e-25</td><td>2.603817916193982e-25</td><td>3.0242608249982513e+19</td><td>7.630588842353798e+18</td></tr>\n",
       "<tr><td>50000.0</td><td>1.2344434886725412e-24</td><td>5.403418507405222e-25</td><td>3.698558750610803e+19</td><td>1.4103565416924246e+19</td></tr>\n",
       "</table>"
      ],
      "text/plain": [
       "<Table length=7>\n",
       "  mass         sigma_v         ...        jfactor              jfactor_std      \n",
       "  GeV          cm3 / s         ...       GeV2 / cm5             GeV2 / cm5      \n",
       "float64        float64         ...        float64                float64        \n",
       "------- ---------------------- ... ---------------------- ----------------------\n",
       "  100.0 1.1887081931465127e-24 ...  4.423584903339712e+19  4.811536516201265e+18\n",
       "  200.0 1.1080183459938923e-24 ...  3.794176563827949e+19  7.722969439343911e+18\n",
       "  500.0  7.966492328578844e-25 ...  4.120948901479239e+19 1.3234301380726092e+19\n",
       " 1000.0  4.403832054826973e-25 ... 3.4128276779363455e+19 1.2168757193230428e+19\n",
       " 5000.0  2.924465245962913e-25 ...   4.73974641785841e+19  3.475191283751406e+18\n",
       "10000.0   5.65855256662598e-25 ... 3.0242608249982513e+19  7.630588842353798e+18\n",
       "50000.0 1.2344434886725412e-24 ...  3.698558750610803e+19 1.4103565416924246e+19"
      ]
     },
     "execution_count": 21,
     "metadata": {},
     "output_type": "execute_result"
    }
   ],
   "source": [
    "result[\"mean\"][\"b\"]"
   ]
  },
  {
   "cell_type": "code",
   "execution_count": 22,
   "metadata": {},
   "outputs": [
    {
     "data": {
      "image/png": "[encoded data removed]",
      "text/plain": [
       "<Figure size 648x504 with 1 Axes>"
      ]
     },
     "metadata": {
      "needs_background": "light"
     },
     "output_type": "display_data"
    }
   ],
   "source": [
    "plt.figure(figsize=(9,7))\n",
    "plt.ylim(1e-29, 1e-22)\n",
    "plt.ylabel(r\"<$\\sigma_{ann}v$> (cm$^3$s$^{-1}$)\", fontsize=12)\n",
    "plt.xlabel(\"M$_{DM}$ (GeV)\", fontsize=12)\n",
    "plt.title('m$_{DM}$ 5000 GeV')\n",
    "\n",
    "for ch in channels:\n",
    "    plt.loglog(\n",
    "        result[\"mean\"][ch][\"mass\"].data,\n",
    "        result[\"mean\"][ch][\"sigma_v\"].data,\n",
    "        ls=\"--\",\n",
    "        label='channel {}'.format(ch)\n",
    "       )\n",
    "plt.legend();"
   ]
  },
  {
   "cell_type": "code",
   "execution_count": null,
   "metadata": {},
   "outputs": [],
   "source": []
  }
 ],
 "metadata": {
  "kernelspec": {
   "display_name": "gammapy-dev",
   "language": "python",
   "name": "gammapy-dev"
  },
  "language_info": {
   "codemirror_mode": {
    "name": "ipython",
    "version": 3
   },
   "file_extension": ".py",
   "mimetype": "text/x-python",
   "name": "python",
   "nbconvert_exporter": "python",
   "pygments_lexer": "ipython3",
   "version": "3.7.0"
  },
  "toc": {
   "base_numbering": 1,
   "nav_menu": {},
   "number_sections": false,
   "sideBar": true,
   "skip_h1_title": false,
   "title_cell": "Table of Contents",
   "title_sidebar": "Contents",
   "toc_cell": false,
   "toc_position": {},
   "toc_section_display": true,
   "toc_window_display": false
  },
  "varInspector": {
   "cols": {
    "lenName": 16,
    "lenType": 16,
    "lenVar": 40
   },
   "kernels_config": {
    "python": {
     "delete_cmd_postfix": "",
     "delete_cmd_prefix": "del ",
     "library": "var_list.py",
     "varRefreshCmd": "print(var_dic_list())"
    },
    "r": {
     "delete_cmd_postfix": ") ",
     "delete_cmd_prefix": "rm(",
     "library": "var_list.r",
     "varRefreshCmd": "cat(var_dic_list()) "
    }
   },
   "types_to_exclude": [
    "module",
    "function",
    "builtin_function_or_method",
    "instance",
    "_Feature"
   ],
   "window_display": false
  }
 },
 "nbformat": 4,
 "nbformat_minor": 2
}
