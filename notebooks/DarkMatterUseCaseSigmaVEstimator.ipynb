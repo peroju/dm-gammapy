{
 "cells": [
  {
   "cell_type": "markdown",
   "metadata": {},
   "source": [
    "# Calculate sigmav vs. mDM for simulated DM datasets"
   ]
  },
  {
   "cell_type": "code",
   "execution_count": 1,
   "metadata": {},
   "outputs": [],
   "source": [
    "%matplotlib inline\n",
    "import matplotlib.pyplot as plt\n",
    "\n",
    "import numpy as np\n",
    "import astropy.units as u\n",
    "\n",
    "from gammapy.astro.darkmatter.utils import SigmaVEstimator, DMDatasetOnOff\n",
    "from gammapy.spectrum import CountsSpectrum\n",
    "from gammapy.astro.darkmatter import DarkMatterAnnihilationSpectralModel\n",
    "from gammapy.irf import load_cta_irfs"
   ]
  },
  {
   "cell_type": "markdown",
   "metadata": {},
   "source": [
    "## Define parameters for simulated observation"
   ]
  },
  {
   "cell_type": "code",
   "execution_count": 2,
   "metadata": {},
   "outputs": [],
   "source": [
    "# -\n",
    "livetime = 100 * u.h # in hours\n",
    "offset = 0.5 * u.deg\n",
    "FOVLON=0 * u.deg\n",
    "FOVLAT=0 * u.deg\n",
    "\n",
    "# Energy from 0.01 to 100 TeV with 20 bins/decade\n",
    "energy = np.logspace(-1.8, 1.5, 20) * u.TeV\n",
    "\n",
    "# Energy true wider range and higher number of bins\n",
    "energy_true = np.logspace(-2, 2, 100) * u.TeV\n",
    "\n",
    "# DMAnnihilation Model\n",
    "JFAC = 3.41e19 * u.Unit(\"GeV2 cm-5\") # point source\n",
    "mDM = 5000*u.Unit(\"GeV\")\n",
    "channel = \"b\"\n",
    "redshift = 0"
   ]
  },
  {
   "cell_type": "markdown",
   "metadata": {},
   "source": [
    "## Build IRFs with the defined parameters"
   ]
  },
  {
   "cell_type": "code",
   "execution_count": 3,
   "metadata": {},
   "outputs": [],
   "source": [
    "# Load IRFs\n",
    "filename = (\n",
    "    \"$GAMMAPY_DATA/cta-1dc/caldb/data/cta/1dc/bcf/South_z20_50h/irf_file.fits\"\n",
    ")\n",
    "cta_irf = load_cta_irfs(filename)"
   ]
  },
  {
   "cell_type": "code",
   "execution_count": 4,
   "metadata": {},
   "outputs": [
    {
     "name": "stdout",
     "output_type": "stream",
     "text": [
      "NDDataArray summary info\n",
      "MapAxis\n",
      "\n",
      "\tname       : energy    \n",
      "\tunit       : 'TeV'     \n",
      "\tnbins      : 42        \n",
      "\tnode type  : edges     \n",
      "\tedges min  : 1.3e-02 TeV\n",
      "\tedges max  : 2.0e+02 TeV\n",
      "\tinterp     : log       \n",
      "MapAxis\n",
      "\n",
      "\tname       : offset    \n",
      "\tunit       : 'deg'     \n",
      "\tnbins      : 6         \n",
      "\tnode type  : edges     \n",
      "\tedges min  : 0.0e+00 deg\n",
      "\tedges max  : 6.0e+00 deg\n",
      "\tinterp     : lin       \n",
      "Data           : size =   252, min =  0.000 m2, max = 5371581.000 m2\n",
      "\n"
     ]
    },
    {
     "data": {
      "image/png": "[encoded data removed]",
      "text/plain": [
       "<Figure size 432x288 with 1 Axes>"
      ]
     },
     "metadata": {
      "needs_background": "light"
     },
     "output_type": "display_data"
    }
   ],
   "source": [
    "aeff = cta_irf[\"aeff\"].to_effective_area_table(offset=offset, energy=energy)\n",
    "aeff.plot()\n",
    "plt.loglog()\n",
    "print(cta_irf[\"aeff\"].data)"
   ]
  },
  {
   "cell_type": "code",
   "execution_count": 5,
   "metadata": {
    "code_folding": []
   },
   "outputs": [],
   "source": [
    "#edisp = cta_irf[\"edisp\"].to_energy_dispersion(\n",
    "#    offset=offset, e_true=energy_true, e_reco=energy\n",
    "#)\n",
    "#edisp.plot_matrix()\n",
    "#print(edisp.data)"
   ]
  },
  {
   "cell_type": "markdown",
   "metadata": {},
   "source": [
    "## Build the background counts from PSF and IRF background"
   ]
  },
  {
   "cell_type": "code",
   "execution_count": 6,
   "metadata": {},
   "outputs": [],
   "source": [
    "containment = 0.68\n",
    "energies = np.sqrt(energy[1:] * energy[:-1])\n",
    "psf = cta_irf[\"psf\"].to_energy_dependent_table_psf(theta=offset)\n",
    "on_radii = psf.containment_radius(energy=energies, fraction=containment)\n",
    "solid_angles = 2 * np.pi * (1 - np.cos(on_radii)) * u.sr\n",
    "\n",
    "#\n",
    "aeff.data.data *= containment"
   ]
  },
  {
   "cell_type": "code",
   "execution_count": 7,
   "metadata": {},
   "outputs": [],
   "source": [
    "bkg_data = cta_irf[\"bkg\"].evaluate_integrate(\n",
    "    fov_lon=FOVLON, fov_lat=FOVLAT, energy_reco=energy\n",
    ")\n",
    "bkg = CountsSpectrum(\n",
    "    energy[:-1],\n",
    "    energy[1:],\n",
    "    data=(bkg_data * solid_angles).to_value(\"h-1\")*livetime\n",
    ")"
   ]
  },
  {
   "cell_type": "code",
   "execution_count": 8,
   "metadata": {},
   "outputs": [
    {
     "data": {
      "text/plain": [
       "<matplotlib.axes._subplots.AxesSubplot at 0x11e9ed9b0>"
      ]
     },
     "execution_count": 8,
     "metadata": {},
     "output_type": "execute_result"
    },
    {
     "data": {
      "image/png": "[encoded data removed]",
      "text/plain": [
       "<Figure size 432x288 with 1 Axes>"
      ]
     },
     "metadata": {
      "needs_background": "light"
     },
     "output_type": "display_data"
    }
   ],
   "source": [
    "bkg.plot_hist()"
   ]
  },
  {
   "cell_type": "markdown",
   "metadata": {},
   "source": [
    "## Simulate OnOff observation with DM emission model"
   ]
  },
  {
   "cell_type": "code",
   "execution_count": 9,
   "metadata": {},
   "outputs": [],
   "source": [
    "# DM Flux\n",
    "flux_model = DarkMatterAnnihilationSpectralModel(\n",
    "    mass=mDM, \n",
    "    channel=channel, \n",
    "    jfactor=JFAC, \n",
    "    z=redshift\n",
    ")"
   ]
  },
  {
   "cell_type": "code",
   "execution_count": 10,
   "metadata": {},
   "outputs": [],
   "source": [
    "#from gammapy.modeling.models import Absorption, AbsorbedSpectralModel\n",
    "#absorption_model = Absorption.read_builtin('dominguez')\n",
    "#flux_model = AbsorbedSpectralModel(flux_model, absorption_model, redshift)"
   ]
  },
  {
   "cell_type": "code",
   "execution_count": 12,
   "metadata": {},
   "outputs": [],
   "source": [
    "dataset = DMDatasetOnOff(\n",
    "    aeff=aeff,\n",
    "    model=flux_model,\n",
    "    livetime=livetime,\n",
    "    acceptance=1,\n",
    "    acceptance_off=5,\n",
    ")"
   ]
  },
  {
   "cell_type": "code",
   "execution_count": 13,
   "metadata": {},
   "outputs": [],
   "source": [
    "nuissance = dict(\n",
    "    j=JFAC,\n",
    "    jobs=JFAC,\n",
    "    sigmaj=0.1*JFAC,\n",
    "    #width=5,\n",
    "    #steps=15,\n",
    ")\n",
    "dataset.nuissance = nuissance\n",
    "#dataset.check_nuissance() is True if valid values for nuissance are defined in the dataset."
   ]
  },
  {
   "cell_type": "markdown",
   "metadata": {},
   "source": [
    "**Enable inspection**"
   ]
  },
  {
   "cell_type": "code",
   "execution_count": 15,
   "metadata": {},
   "outputs": [],
   "source": [
    "import logging\n",
    "logging.basicConfig()\n",
    "logging.getLogger(\"gammapy.astro.darkmatter.utils\").setLevel(\"WARNING\")\n",
    "#logging.getLogger(\"gammapy.astro.darkmatter.utils\").setLevel(\"DEBUG\")"
   ]
  },
  {
   "cell_type": "markdown",
   "metadata": {},
   "source": [
    "**The SigmaVEstimator class estimates $\\sigma\\nu$ for a list of annihilation channels and particle masses.**\n",
    "\n",
    "In order to have statistics the overall process below is repeated for a given number of `runs`.\n",
    "\n",
    "- For each run a **random poisson realization** of a `DMDatasetOnOff` is created as a simulated observation.\n",
    "- For each run we consider a list of annihilation channels.\n",
    "    - For each channel we consider a list of masses.\n",
    "        - For each mass in each channel:\n",
    "            - A specific `DarkMatterAnnihilationSpectralModel` is instantiated with parameters `JFactor`, `channel`, `mass`.\n",
    "            - This specific annhilation flux model is attached to the `DMDatasetOnOff` dataset instance.\n",
    "            - A fit of this specific annhilation model to the simulated observation of the run is performed for each of the `steps` values that the nuissance parameter `j` takes in a range of ± `sigmaj` * `width`. \n",
    "            - A fit is chosen: the one giving the minimum value for the likelihood.\n",
    "            - A check (L<sub>min</sub> - L<sub>0</sub> ≤ 25) is done.\n",
    "            - A value of the scale parameter `sv` giving ΔL=2.71 in the likelihood profile is chosen.\n",
    "            - If the value of `sv` is not in the range of the physical region (>=0) or does not reach ΔL=2.71 we skip the run and take the next one.\n",
    "            -  $\\sigma\\nu$  is the chosen value of `sv`is multiplied by the thermal relic cross section.\n",
    "\n",
    "- Profile likelihoods and values calculated for `sv` and $\\sigma\\nu$ are provided for each run, channel and mass.\n",
    "- For each channel a table of mean values across all runs of $\\sigma\\nu$ vs. mass is provided. \n",
    "- Messages are displayed according to the logging level sonfiguration defined."
   ]
  },
  {
   "cell_type": "markdown",
   "metadata": {},
   "source": [
    "**Instatiate estimator**"
   ]
  },
  {
   "cell_type": "code",
   "execution_count": 16,
   "metadata": {},
   "outputs": [],
   "source": [
    "masses = [100, 200, 500, 1000, 5000, 10000, 50000]*u.GeV\n",
    "channels = [\"b\", \"tau\", \"Z\"] \n",
    "estimator = SigmaVEstimator(dataset, masses, channels, background_model=bkg, jfactor=JFAC)"
   ]
  },
  {
   "cell_type": "markdown",
   "metadata": {},
   "source": [
    "**Run estimator and fetch results**"
   ]
  },
  {
   "cell_type": "code",
   "execution_count": 17,
   "metadata": {
    "scrolled": false
   },
   "outputs": [
    {
     "name": "stderr",
     "output_type": "stream",
     "text": [
      "WARNING:gammapy.astro.darkmatter.utils:Skipping Run: 1\n",
      "WARNING:gammapy.astro.darkmatter.utils:Channel: tau - Mass: 50000.0 GeV\n",
      "WARNING:gammapy.astro.darkmatter.utils:Wider range needed in likelihood profile\n",
      "WARNING:gammapy.astro.darkmatter.utils:Skipping Run: 8\n",
      "WARNING:gammapy.astro.darkmatter.utils:Channel: b - Mass: 50000.0 GeV\n",
      "WARNING:gammapy.astro.darkmatter.utils:Wider range needed in likelihood profile\n"
     ]
    },
    {
     "name": "stdout",
     "output_type": "stream",
     "text": [
      "CPU times: user 7min 19s, sys: 5.09 s, total: 7min 25s\n",
      "Wall time: 7min 33s\n"
     ]
    }
   ],
   "source": [
    "%%time\n",
    "#likelihood_profile_opts=dict(bounds=50, nvalues=50)\n",
    "result = estimator.run(runs=10, nuissance=True)\n",
    "#if nuissance = True the process takes the nuissance parameters into account."
   ]
  },
  {
   "cell_type": "markdown",
   "metadata": {},
   "source": [
    "## Inspection of results"
   ]
  },
  {
   "cell_type": "markdown",
   "metadata": {},
   "source": [
    "**Display results for channel b and run 0**"
   ]
  },
  {
   "cell_type": "code",
   "execution_count": 18,
   "metadata": {
    "scrolled": false
   },
   "outputs": [
    {
     "data": {
      "text/html": [
       "<i>Table length=7</i>\n",
       "<table id=\"table4806153720\" class=\"table-striped table-bordered table-condensed\">\n",
       "<thead><tr><th>mass</th><th>sigma_v</th><th>sv_best</th><th>sv_ul</th><th>likeprofile</th></tr></thead>\n",
       "<thead><tr><th>GeV</th><th>cm3 / s</th><th></th><th></th><th></th></tr></thead>\n",
       "<thead><tr><th>float64</th><th>float64</th><th>float64</th><th>float64</th><th>object</th></tr></thead>\n",
       "<tr><td>100.0</td><td>1.2216477909002988e-24</td><td>0.0</td><td>40.721593030009956</td><td>{&apos;values&apos;: array([-2765.677084  , -2652.9992272 , -2540.32137039, -2427.64351359,\n",
       "       -2314.96565679, -2202.28779999, -2089.60994319, -1976.93208638,\n",
       "       -1864.25422958, -1751.57637278, -1638.89851598, -1526.22065918,\n",
       "       -1413.54280237, -1300.86494557, -1188.18708877, -1075.50923197,\n",
       "        -962.83137516,  -850.15351836,  -737.47566156,  -624.79780476,\n",
       "        -512.11994796,  -399.44209115,  -286.76423435,  -174.08637755,\n",
       "         -61.40852075,    51.26933606,   163.94719286,   276.62504966,\n",
       "         389.30290646,   501.98076326,   614.65862007,   727.33647687,\n",
       "         840.01433367,   952.69219047,  1065.37004727,  1178.04790408,\n",
       "        1290.72576088,  1403.40361768,  1516.08147448,  1628.75933129,\n",
       "        1741.43718809,  1854.11504489,  1966.79290169,  2079.47075849,\n",
       "        2192.1486153 ,  2304.8264721 ,  2417.5043289 ,  2530.1821857 ,\n",
       "        2642.86004251,  2755.53789931]), &apos;likelihood&apos;: array([11943.41202171, 10940.82470085,  9986.47555001,  9079.84653076,\n",
       "        8220.42322803,  7407.69543455,  6641.1574707 ,  5920.30810147,\n",
       "        5244.64985089,  4613.68746158,  4026.92526946,  3483.86345564,\n",
       "        2983.99348823,  2526.79320191,  2111.71031425,  1738.10781839,\n",
       "        1405.35442776,  1112.77856268,   859.65382258,   645.20438096,\n",
       "         468.62097902,   329.02060936,   225.53353235,   157.32969906,\n",
       "         123.60121405,   123.57032401,   156.49589146,   221.67555901,\n",
       "         318.4440938 ,   446.17002949,   604.25205089,   792.11569916,\n",
       "        1009.21053784,  1255.00776118,  1528.99818282,  1830.69053955,\n",
       "        2159.61005214,  2515.29719562,  2897.30664019,  3305.20633203,\n",
       "        3738.57668889,  4197.00989101,  4680.10925105,  5187.4886505 ,\n",
       "        5718.77203198,  6273.59293904,  6851.59409651,  7452.42702571,\n",
       "        8075.75168993,  8721.23616606])}</td></tr>\n",
       "<tr><td>200.0</td><td>7.524331551033384e-25</td><td>0.0</td><td>25.08110517011128</td><td>{&apos;values&apos;: array([-1698.10069576, -1628.91375186, -1559.72680796, -1490.53986406,\n",
       "       -1421.35292016, -1352.16597625, -1282.97903235, -1213.79208845,\n",
       "       -1144.60514455, -1075.41820065, -1006.23125674,  -937.04431284,\n",
       "        -867.85736894,  -798.67042504,  -729.48348114,  -660.29653724,\n",
       "        -591.10959333,  -521.92264943,  -452.73570553,  -383.54876163,\n",
       "        -314.36181773,  -245.17487382,  -175.98792992,  -106.80098602,\n",
       "         -37.61404212,    31.57290178,   100.75984568,   169.94678959,\n",
       "         239.13373349,   308.32067739,   377.50762129,   446.69456519,\n",
       "         515.8815091 ,   585.068453  ,   654.2553969 ,   723.4423408 ,\n",
       "         792.6292847 ,   861.8162286 ,   931.00317251,  1000.19011641,\n",
       "        1069.37706031,  1138.56400421,  1207.75094811,  1276.93789201,\n",
       "        1346.12483592,  1415.31177982,  1484.49872372,  1553.68566762,\n",
       "        1622.87261152,  1692.05955543]), &apos;likelihood&apos;: array([11582.7790906 , 10624.56392508,  9710.89341477,  8841.37643726,\n",
       "        8015.63064795,  7233.28311417,  6493.97089861,  5797.34148954,\n",
       "        5143.05288939,  4530.77303941,  3960.178065  ,  3430.94860897,\n",
       "        2942.7634413 ,  2495.29000858,  2088.17303532,  1721.02393327,\n",
       "        1393.4132906 ,  1104.86249035,   854.72667378,   642.34859507,\n",
       "         467.08251094,   328.27593683,   225.26993651,   157.27603168,\n",
       "         123.60108071,   123.5741585 ,   156.55071507,   221.92643645,\n",
       "         319.13691266,   447.65186937,   606.96936995,   796.61118618,\n",
       "        1016.11925214,  1265.05293441,  1542.98689764,  1849.50940818,\n",
       "        2184.22096542,  2546.73318264,  2936.66786075,  3353.65621331,\n",
       "        3797.3382113 ,  4267.36202403,  4763.3835376 ,  5285.06593678,\n",
       "        5832.0793388 ,  6404.10047028,  7000.81238005,  7621.90418207,\n",
       "        8267.07082372,  8936.01287573])}</td></tr>\n",
       "<tr><td>500.0</td><td>5.706485093090071e-25</td><td>0.0</td><td>19.021616976966904</td><td>{&apos;values&apos;: array([-1162.52002565, -1115.07654475, -1067.63306385, -1020.18958295,\n",
       "        -972.74610205,  -925.30262115,  -877.85914025,  -830.41565935,\n",
       "        -782.97217845,  -735.52869755,  -688.08521665,  -640.64173575,\n",
       "        -593.19825485,  -545.75477395,  -498.31129305,  -450.86781215,\n",
       "        -403.42433125,  -355.98085035,  -308.53736945,  -261.09388855,\n",
       "        -213.65040764,  -166.20692674,  -118.76344584,   -71.31996494,\n",
       "         -23.87648404,    23.56699686,    71.01047776,   118.45395866,\n",
       "         165.89743956,   213.34092046,   260.78440136,   308.22788226,\n",
       "         355.67136316,   403.11484406,   450.55832496,   498.00180586,\n",
       "         545.44528676,   592.88876766,   640.33224856,   687.77572946,\n",
       "         735.21921036,   782.66269126,   830.10617216,   877.54965306,\n",
       "         924.99313396,   972.43661487,  1019.88009577,  1067.32357667,\n",
       "        1114.76705757,  1162.21053847]), &apos;likelihood&apos;: array([12369.35956394, 11302.11942163, 10289.96660069,  9332.09180462,\n",
       "        8427.65693323,  7575.79829608,  6775.62953349,  6026.24417583,\n",
       "        5326.71788441,  4676.11055822,  4073.46856576,  3517.82727062,\n",
       "        3008.21381954,  2543.65009231,  2123.15459557,  1745.68784275,\n",
       "        1410.22978712,  1115.79562115,   861.41285609,   646.12773479,\n",
       "         469.01246461,   329.14061503,   225.54301932,   157.32847586,\n",
       "         123.62778168,   123.59356446,   156.40495041,   221.27012222,\n",
       "         317.42649057,   444.13964114,   600.70193167,   786.4311038 ,\n",
       "        1000.66900942,  1242.78045734,  1512.15216222,  1808.19177642,\n",
       "        2130.32698888,  2478.0046797 ,  2850.6901219 ,  3247.8662245 ,\n",
       "        3669.03281256,  4113.70594079,  4581.41723833,  5071.71328255,\n",
       "        5584.15500043,  6118.31709587,  6673.78750182,  7250.16685616,\n",
       "        7847.06800016,  8464.1154987 ])}</td></tr>\n",
       "<tr><td>1000.0</td><td>4.818587584420534e-25</td><td>0.3492586498932626</td><td>16.06195861473511</td><td>{&apos;values&apos;: array([-951.03059025, -912.19875968, -873.36692911, -834.53509855,\n",
       "       -795.70326798, -756.87143741, -718.03960685, -679.20777628,\n",
       "       -640.37594571, -601.54411514, -562.71228458, -523.88045401,\n",
       "       -485.04862344, -446.21679287, -407.38496231, -368.55313174,\n",
       "       -329.72130117, -290.8894706 , -252.05764004, -213.22580947,\n",
       "       -174.3939789 , -135.56214834,  -96.73031777,  -57.8984872 ,\n",
       "        -19.06665663,   19.76517393,   58.5970045 ,   97.42883507,\n",
       "        136.26066564,  175.0924962 ,  213.92432677,  252.75615734,\n",
       "        291.5879879 ,  330.41981847,  369.25164904,  408.08347961,\n",
       "        446.91531017,  485.74714074,  524.57897131,  563.41080188,\n",
       "        602.24263244,  641.07446301,  679.90629358,  718.73812414,\n",
       "        757.56995471,  796.40178528,  835.23361585,  874.06544641,\n",
       "        912.89727698,  951.72910755]), &apos;likelihood&apos;: array([14045.75287021, 12806.69175113, 11630.49831391, 10517.1522412 ,\n",
       "        9466.50079081,  8478.24809921,  7551.94606412,  6686.98744926,\n",
       "        5882.60181441,  5137.85474774,  4451.65069271,  3822.73954626,\n",
       "        3249.72738209,  2731.09216983,  2265.20549199,  1850.35985867,\n",
       "        1484.79899233,  1166.74808871,   894.44321856,   666.15886723,\n",
       "         480.0242868 ,   334.26323661,   227.30645552,   157.68629495,\n",
       "         123.63832191,   123.57684061,   156.03046206,   219.61917096,\n",
       "         313.05585015,   435.13682721,   584.73312849,   760.7836848 ,\n",
       "         962.28986478,  1188.31082153,  1437.95936921,  1710.39824318,\n",
       "        2004.83666661,  2320.52717936,  2656.7627018 ,  3012.87381347,\n",
       "        3388.2262307 ,  3782.218469  ,  4194.27967749,  4623.86763317,\n",
       "        5070.46688342,  5533.58702615,  6012.76111698,  6507.54419401,\n",
       "        7017.51191101,  7542.25927064])}</td></tr>\n",
       "<tr><td>5000.0</td><td>4.7258455326970275e-25</td><td>0.0</td><td>15.752818442323425</td><td>{&apos;values&apos;: array([-979.24251413, -939.29301869, -899.34352325, -859.39402781,\n",
       "       -819.44453237, -779.49503692, -739.54554148, -699.59604604,\n",
       "       -659.6465506 , -619.69705516, -579.74755972, -539.79806428,\n",
       "       -499.84856884, -459.89907339, -419.94957795, -380.00008251,\n",
       "       -340.05058707, -300.10109163, -260.15159619, -220.20210075,\n",
       "       -180.25260531, -140.30310987, -100.35361442,  -60.40411898,\n",
       "        -20.45462354,   19.4948719 ,   59.44436734,   99.39386278,\n",
       "        139.34335822,  179.29285366,  219.24234911,  259.19184455,\n",
       "        299.14133999,  339.09083543,  379.04033087,  418.98982631,\n",
       "        458.93932175,  498.88881719,  538.83831263,  578.78780808,\n",
       "        618.73730352,  658.68679896,  698.6362944 ,  738.58578984,\n",
       "        778.53528528,  818.48478072,  858.43427616,  898.38377161,\n",
       "        938.33326705,  978.28276249]), &apos;likelihood&apos;: array([14993.04341384, 13906.86502651, 12849.47759146, 11822.00594765,\n",
       "       10825.65477178,  9861.71849626,  8931.59274696,  8036.78689784,\n",
       "        7178.93725472,  6359.82006923,  5581.36324683,  4845.65528979,\n",
       "        4154.9497138 ,  3511.66270728,  2918.36037823,  2377.71718205,\n",
       "        1892.46136533,  1465.24472763,  1098.37179819,   793.34426723,\n",
       "         550.20740639,   366.87904553,   238.9135171 ,   160.11208233,\n",
       "         123.72783332,   123.50763   ,   154.16561941,   211.41726499,\n",
       "         291.83030283,   392.64534775,   511.62115349,   646.91445616,\n",
       "         796.9899552 ,   960.55340184,  1136.50164354,  1323.88495993,\n",
       "        1521.87832398,  1729.75919696,  1946.89015855,  2172.70515835,\n",
       "        2406.69851292,  2648.41600861,  2897.44763829,  3153.4216192 ,\n",
       "        3415.99942529,  3684.8716308 ,  3959.75440781,  4240.38655568,\n",
       "        4526.52696617,  4817.95244808])}</td></tr>\n",
       "<tr><td>10000.0</td><td>4.961818561486211e-25</td><td>0.0</td><td>16.539395204954037</td><td>{&apos;values&apos;: array([-1141.7870718 , -1095.29459309, -1048.80211438, -1002.30963568,\n",
       "        -955.81715697,  -909.32467826,  -862.83219956,  -816.33972085,\n",
       "        -769.84724214,  -723.35476344,  -676.86228473,  -630.36980602,\n",
       "        -583.87732732,  -537.38484861,  -490.8923699 ,  -444.3998912 ,\n",
       "        -397.90741249,  -351.41493378,  -304.92245508,  -258.42997637,\n",
       "        -211.93749766,  -165.44501895,  -118.95254025,   -72.46006154,\n",
       "         -25.96758283,    20.52489587,    67.01737458,   113.50985329,\n",
       "         160.00233199,   206.4948107 ,   252.98728941,   299.47976811,\n",
       "         345.97224682,   392.46472553,   438.95720423,   485.44968294,\n",
       "         531.94216165,   578.43464035,   624.92711906,   671.41959777,\n",
       "         717.91207647,   764.40455518,   810.89703389,   857.3895126 ,\n",
       "         903.8819913 ,   950.37447001,   996.86694872,  1043.35942742,\n",
       "        1089.85190613,  1136.34438484]), &apos;likelihood&apos;: array([12598.45522066, 11773.49933599, 10965.16031288, 10174.18974368,\n",
       "        9401.39975063,  8647.66076691,  7913.9096891 ,  7201.18230291,\n",
       "        6510.61209639,  5843.44680399,  5201.07021978,  4585.02953098,\n",
       "        3997.06798173,  3439.16175827,  2913.5590864 ,  2422.81901253,\n",
       "        1969.84433763,  1557.90270963,  1190.68877075,   872.32037549,\n",
       "         607.21240225,   399.56545342,   252.01523655,   162.85477817,\n",
       "         123.76824639,   123.37405945,   152.23752277,   203.8206479 ,\n",
       "         273.67725456,   358.68995887,   456.58683588,   565.65227668,\n",
       "         684.55107079,   812.217568  ,   947.78320403,  1090.52744622,\n",
       "        1239.84355243,  1395.21401375,  1556.19251878,  1722.39042842,\n",
       "        1893.46644455,  2069.11858853,  2249.07788209,  2433.1033039 ,\n",
       "        2620.97771699,  2812.50454515,  3007.50503442,  3205.81597686,\n",
       "        3407.2878033 ,  3611.7829736 ])}</td></tr>\n",
       "<tr><td>50000.0</td><td>6.035515640333167e-25</td><td>0.0</td><td>20.118385467777223</td><td>{&apos;values&apos;: array([-2299.37684496, -2206.79972331, -2114.22260167, -2021.64548003,\n",
       "       -1929.06835839, -1836.49123675, -1743.9141151 , -1651.33699346,\n",
       "       -1558.75987182, -1466.18275018, -1373.60562854, -1281.02850689,\n",
       "       -1188.45138525, -1095.87426361, -1003.29714197,  -910.72002033,\n",
       "        -818.14289869,  -725.56577704,  -632.9886554 ,  -540.41153376,\n",
       "        -447.83441212,  -355.25729048,  -262.68016883,  -170.10304719,\n",
       "         -77.52592555,    15.05119609,   107.62831773,   200.20543938,\n",
       "         292.78256102,   385.35968266,   477.9368043 ,   570.51392594,\n",
       "         663.09104759,   755.66816923,   848.24529087,   940.82241251,\n",
       "        1033.39953415,  1125.97665579,  1218.55377744,  1311.13089908,\n",
       "        1403.70802072,  1496.28514236,  1588.862264  ,  1681.43938565,\n",
       "        1774.01650729,  1866.59362893,  1959.17075057,  2051.74787221,\n",
       "        2144.32499386,  2236.9021155 ]), &apos;likelihood&apos;: array([7961.00055626, 7521.6601158 , 7087.19864031, 6657.86215667,\n",
       "       6233.92229504, 5815.68058447, 5403.47355789, 4997.67881352,\n",
       "       4598.72222585, 4207.086583  , 3823.32208357, 3448.05942166,\n",
       "       3082.02673689, 2726.07268678, 2381.19955933, 2048.6129718 ,\n",
       "       1729.79858667, 1426.64184444, 1141.61526866,  878.07380153,\n",
       "        640.73231724,  436.19762624,  274.36778707,  168.14217183,\n",
       "        122.31935167,  121.44555539,  145.94675281,  185.31049949,\n",
       "        234.57469795,  291.07490858,  353.19609172,  419.87068018,\n",
       "        490.34762095,  564.07342363,  640.62532201,  719.67108875,\n",
       "        800.94354313,  884.22366176,  969.32898022, 1056.10538466,\n",
       "       1144.42115149, 1234.16252266, 1325.23035705, 1417.53755272,\n",
       "       1511.00703275, 1605.57015001, 1701.16540852, 1797.7374273 ,\n",
       "       1895.23609236, 1993.61585654])}</td></tr>\n",
       "</table>"
      ],
      "text/plain": [
       "<Table length=7>\n",
       "  mass  ...\n",
       "  GeV   ...\n",
       "float64 ...\n",
       "------- ...\n",
       "  100.0 ...\n",
       "  200.0 ...\n",
       "  500.0 ...\n",
       " 1000.0 ...\n",
       " 5000.0 ...\n",
       "10000.0 ...\n",
       "50000.0 ..."
      ]
     },
     "execution_count": 18,
     "metadata": {},
     "output_type": "execute_result"
    }
   ],
   "source": [
    "cols = [\"mass\", \"sigma_v\", \"sv_best\", \"sv_ul\", \"likeprofile\"]\n",
    "result[\"runs\"][\"b\"][0][cols]"
   ]
  },
  {
   "cell_type": "markdown",
   "metadata": {},
   "source": [
    "**Plot likelihood profile for a specific fit**"
   ]
  },
  {
   "cell_type": "code",
   "execution_count": 19,
   "metadata": {},
   "outputs": [],
   "source": [
    "idx = np.argwhere(masses.value==100)\n",
    "profile = result[\"runs\"][\"b\"][0][\"likeprofile\"][idx][0][0]"
   ]
  },
  {
   "cell_type": "code",
   "execution_count": 20,
   "metadata": {
    "scrolled": true
   },
   "outputs": [
    {
     "data": {
      "image/png": "[encoded data removed]",
      "text/plain": [
       "<Figure size 432x288 with 1 Axes>"
      ]
     },
     "metadata": {
      "needs_background": "light"
     },
     "output_type": "display_data"
    }
   ],
   "source": [
    "plt.plot(profile[\"values\"], profile[\"likelihood\"]);"
   ]
  },
  {
   "cell_type": "markdown",
   "metadata": {},
   "source": [
    "## Plot obtained results for sigma"
   ]
  },
  {
   "cell_type": "code",
   "execution_count": 21,
   "metadata": {},
   "outputs": [
    {
     "data": {
      "text/html": [
       "<i>Table length=7</i>\n",
       "<table id=\"table4807149944\" class=\"table-striped table-bordered table-condensed\">\n",
       "<thead><tr><th>mass</th><th>sigma_v</th><th>std</th></tr></thead>\n",
       "<thead><tr><th>GeV</th><th>cm3 / s</th><th>cm3 / s</th></tr></thead>\n",
       "<thead><tr><th>float64</th><th>float64</th><th>float64</th></tr></thead>\n",
       "<tr><td>100.0</td><td>1.2715046149334289e-24</td><td>3.306713484125295e-25</td></tr>\n",
       "<tr><td>200.0</td><td>8.236691518156498e-25</td><td>2.085313789469468e-25</td></tr>\n",
       "<tr><td>500.0</td><td>5.938996787881568e-25</td><td>2.30992622679511e-25</td></tr>\n",
       "<tr><td>1000.0</td><td>4.9482862553403325e-25</td><td>2.2151164675803526e-25</td></tr>\n",
       "<tr><td>5000.0</td><td>4.488220702547062e-25</td><td>1.7103651388207013e-25</td></tr>\n",
       "<tr><td>10000.0</td><td>5.521706365479471e-25</td><td>2.3799852762832977e-25</td></tr>\n",
       "<tr><td>50000.0</td><td>1.3252882348644033e-24</td><td>5.169988777805491e-25</td></tr>\n",
       "</table>"
      ],
      "text/plain": [
       "<Table length=7>\n",
       "  mass         sigma_v                  std          \n",
       "  GeV          cm3 / s                cm3 / s        \n",
       "float64        float64                float64        \n",
       "------- ---------------------- ----------------------\n",
       "  100.0 1.2715046149334289e-24  3.306713484125295e-25\n",
       "  200.0  8.236691518156498e-25  2.085313789469468e-25\n",
       "  500.0  5.938996787881568e-25   2.30992622679511e-25\n",
       " 1000.0 4.9482862553403325e-25 2.2151164675803526e-25\n",
       " 5000.0  4.488220702547062e-25 1.7103651388207013e-25\n",
       "10000.0  5.521706365479471e-25 2.3799852762832977e-25\n",
       "50000.0 1.3252882348644033e-24  5.169988777805491e-25"
      ]
     },
     "execution_count": 21,
     "metadata": {},
     "output_type": "execute_result"
    }
   ],
   "source": [
    "result[\"mean\"][\"b\"]"
   ]
  },
  {
   "cell_type": "code",
   "execution_count": 22,
   "metadata": {},
   "outputs": [
    {
     "data": {
      "image/png": "[encoded data removed]",
      "text/plain": [
       "<Figure size 648x504 with 1 Axes>"
      ]
     },
     "metadata": {
      "needs_background": "light"
     },
     "output_type": "display_data"
    }
   ],
   "source": [
    "plt.figure(figsize=(9,7))\n",
    "plt.ylim(1e-29, 1e-22)\n",
    "plt.ylabel(r\"<$\\sigma_{ann}v$> (cm$^3$s$^{-1}$)\", fontsize=12)\n",
    "plt.xlabel(\"M$_{DM}$ (GeV)\", fontsize=12)\n",
    "plt.title('m$_{DM}$ 5000 GeV')\n",
    "\n",
    "for ch in channels:\n",
    "    plt.loglog(\n",
    "        result[\"mean\"][ch][\"mass\"].data,\n",
    "        result[\"mean\"][ch][\"sigma_v\"].data,\n",
    "        ls=\"--\",\n",
    "        label='channel {}'.format(ch)\n",
    "       )\n",
    "plt.legend();"
   ]
  },
  {
   "cell_type": "code",
   "execution_count": null,
   "metadata": {},
   "outputs": [],
   "source": []
  }
 ],
 "metadata": {
  "kernelspec": {
   "display_name": "gammapy-dev",
   "language": "python",
   "name": "gammapy-dev"
  },
  "language_info": {
   "codemirror_mode": {
    "name": "ipython",
    "version": 3
   },
   "file_extension": ".py",
   "mimetype": "text/x-python",
   "name": "python",
   "nbconvert_exporter": "python",
   "pygments_lexer": "ipython3",
   "version": "3.7.0"
  },
  "toc": {
   "base_numbering": 1,
   "nav_menu": {},
   "number_sections": false,
   "sideBar": true,
   "skip_h1_title": false,
   "title_cell": "Table of Contents",
   "title_sidebar": "Contents",
   "toc_cell": false,
   "toc_position": {},
   "toc_section_display": true,
   "toc_window_display": false
  },
  "varInspector": {
   "cols": {
    "lenName": 16,
    "lenType": 16,
    "lenVar": 40
   },
   "kernels_config": {
    "python": {
     "delete_cmd_postfix": "",
     "delete_cmd_prefix": "del ",
     "library": "var_list.py",
     "varRefreshCmd": "print(var_dic_list())"
    },
    "r": {
     "delete_cmd_postfix": ") ",
     "delete_cmd_prefix": "rm(",
     "library": "var_list.r",
     "varRefreshCmd": "cat(var_dic_list()) "
    }
   },
   "types_to_exclude": [
    "module",
    "function",
    "builtin_function_or_method",
    "instance",
    "_Feature"
   ],
   "window_display": false
  }
 },
 "nbformat": 4,
 "nbformat_minor": 2
}
