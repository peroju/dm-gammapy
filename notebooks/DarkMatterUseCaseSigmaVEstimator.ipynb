{
 "cells": [
  {
   "cell_type": "markdown",
   "metadata": {},
   "source": [
    "# Calculate sigmav vs. mDM for simulated DM datasets"
   ]
  },
  {
   "cell_type": "code",
   "execution_count": 1,
   "metadata": {},
   "outputs": [],
   "source": [
    "%matplotlib inline\n",
    "import matplotlib.pyplot as plt\n",
    "\n",
    "import numpy as np\n",
    "import astropy.units as u\n",
    "\n",
    "from gammapy.astro.darkmatter.utils import SigmaVEstimator\n",
    "from gammapy.spectrum import SpectrumDatasetOnOff, CountsSpectrum\n",
    "from gammapy.astro.darkmatter import DMAnnihilation\n",
    "from gammapy.irf import load_cta_irfs"
   ]
  },
  {
   "cell_type": "markdown",
   "metadata": {},
   "source": [
    "## Define parameters for simulated observation"
   ]
  },
  {
   "cell_type": "code",
   "execution_count": 2,
   "metadata": {},
   "outputs": [],
   "source": [
    "# -\n",
    "livetime = 100 * u.h # in hours\n",
    "offset = 0.5 * u.deg\n",
    "GLON=0 * u.deg  # -> convert to ALtAz\n",
    "GLAT=0 * u.deg  # -> convert to ALtAz\n",
    "\n",
    "# Energy from 0.01 to 100 TeV with 20 bins/decade\n",
    "energy = np.logspace(-1.8, 1.5, 20) * u.TeV\n",
    "\n",
    "# Energy true wider range and higher number of bins\n",
    "energy_true = np.logspace(-2, 2, 100) * u.TeV\n",
    "\n",
    "# DMAnnihilation Model\n",
    "JFAC = 3.41e19 * u.Unit(\"GeV2 cm-5\") # point source\n",
    "mDM = 5000*u.Unit(\"GeV\")\n",
    "channel = \"b\"\n",
    "redshift = 0"
   ]
  },
  {
   "cell_type": "markdown",
   "metadata": {},
   "source": [
    "## Build IRFs with the defined parameters"
   ]
  },
  {
   "cell_type": "code",
   "execution_count": 3,
   "metadata": {},
   "outputs": [],
   "source": [
    "# Load IRFs\n",
    "filename = (\n",
    "    \"$GAMMAPY_DATA/cta-1dc/caldb/data/cta/1dc/bcf/South_z20_50h/irf_file.fits\"\n",
    ")\n",
    "cta_irf = load_cta_irfs(filename)"
   ]
  },
  {
   "cell_type": "code",
   "execution_count": 4,
   "metadata": {},
   "outputs": [
    {
     "name": "stdout",
     "output_type": "stream",
     "text": [
      "NDDataArray summary info\n",
      "MapAxis\n",
      "\n",
      "\tname       : energy    \n",
      "\tunit       : 'TeV'     \n",
      "\tnbins      : 42        \n",
      "\tnode type  : edges     \n",
      "\tedges min  : 1.3e-02 TeV\n",
      "\tedges max  : 2.0e+02 TeV\n",
      "\tinterp     : log       \n",
      "MapAxis\n",
      "\n",
      "\tname       : offset    \n",
      "\tunit       : 'deg'     \n",
      "\tnbins      : 6         \n",
      "\tnode type  : edges     \n",
      "\tedges min  : 0.0e+00 deg\n",
      "\tedges max  : 6.0e+00 deg\n",
      "\tinterp     : lin       \n",
      "Data           : size =   252, min =  0.000 m2, max = 5371581.000 m2\n",
      "\n"
     ]
    },
    {
     "data": {
      "image/png": "[encoded data removed]",
      "text/plain": [
       "<Figure size 432x288 with 1 Axes>"
      ]
     },
     "metadata": {
      "needs_background": "light"
     },
     "output_type": "display_data"
    }
   ],
   "source": [
    "aeff = cta_irf[\"aeff\"].to_effective_area_table(offset=offset, energy=energy_true)\n",
    "aeff.plot()\n",
    "plt.loglog()\n",
    "print(cta_irf[\"aeff\"].data)"
   ]
  },
  {
   "cell_type": "code",
   "execution_count": 5,
   "metadata": {
    "code_folding": []
   },
   "outputs": [
    {
     "name": "stdout",
     "output_type": "stream",
     "text": [
      "NDDataArray summary info\n",
      "MapAxis\n",
      "\n",
      "\tname       : e_true    \n",
      "\tunit       : 'TeV'     \n",
      "\tnbins      : 99        \n",
      "\tnode type  : edges     \n",
      "\tedges min  : 1.0e-02 TeV\n",
      "\tedges max  : 1.0e+02 TeV\n",
      "\tinterp     : log       \n",
      "MapAxis\n",
      "\n",
      "\tname       : e_reco    \n",
      "\tunit       : 'TeV'     \n",
      "\tnbins      : 19        \n",
      "\tnode type  : edges     \n",
      "\tedges min  : 1.6e-02 TeV\n",
      "\tedges max  : 3.2e+01 TeV\n",
      "\tinterp     : log       \n",
      "Data           : size =  1881, min =  0.000, max =  0.997\n",
      "\n"
     ]
    },
    {
     "data": {
      "image/png": "[encoded data removed]",
      "text/plain": [
       "<Figure size 432x288 with 1 Axes>"
      ]
     },
     "metadata": {
      "needs_background": "light"
     },
     "output_type": "display_data"
    }
   ],
   "source": [
    "edisp = cta_irf[\"edisp\"].to_energy_dispersion(\n",
    "    offset=offset, e_true=energy_true, e_reco=energy\n",
    ")\n",
    "edisp.plot_matrix()\n",
    "print(edisp.data)"
   ]
  },
  {
   "cell_type": "markdown",
   "metadata": {},
   "source": [
    "## Build the background counts from PSF and IRF background"
   ]
  },
  {
   "cell_type": "code",
   "execution_count": 6,
   "metadata": {},
   "outputs": [],
   "source": [
    "containment = 0.68\n",
    "energies = np.sqrt(energy[1:] * energy[:-1])\n",
    "psf = cta_irf[\"psf\"].to_energy_dependent_table_psf(theta=offset)\n",
    "on_radii = psf.containment_radius(energy=energies, fraction=containment)\n",
    "solid_angles = 2 * np.pi * (1 - np.cos(on_radii)) * u.sr\n",
    "\n",
    "#\n",
    "aeff.data.data *= containment"
   ]
  },
  {
   "cell_type": "code",
   "execution_count": 7,
   "metadata": {},
   "outputs": [],
   "source": [
    "bkg_data = cta_irf[\"bkg\"].evaluate_integrate(\n",
    "    fov_lon=GLON, fov_lat=GLAT, energy_reco=energy\n",
    ")\n",
    "bkg = CountsSpectrum(\n",
    "    energy[:-1],\n",
    "    energy[1:],\n",
    "    data=(bkg_data * solid_angles).to_value(\"h-1\")*livetime\n",
    ")"
   ]
  },
  {
   "cell_type": "code",
   "execution_count": 8,
   "metadata": {},
   "outputs": [
    {
     "data": {
      "text/plain": [
       "<matplotlib.axes._subplots.AxesSubplot at 0x11c76b080>"
      ]
     },
     "execution_count": 8,
     "metadata": {},
     "output_type": "execute_result"
    },
    {
     "data": {
      "image/png": "[encoded data removed]",
      "text/plain": [
       "<Figure size 432x288 with 1 Axes>"
      ]
     },
     "metadata": {
      "needs_background": "light"
     },
     "output_type": "display_data"
    }
   ],
   "source": [
    "bkg.plot_hist()"
   ]
  },
  {
   "cell_type": "markdown",
   "metadata": {},
   "source": [
    "## Simulate OnOff observation with DM emission model"
   ]
  },
  {
   "cell_type": "code",
   "execution_count": 9,
   "metadata": {},
   "outputs": [],
   "source": [
    "# DM Flux\n",
    "flux_model = DMAnnihilation(\n",
    "    mass=mDM, \n",
    "    channel=channel, \n",
    "    jfactor=JFAC, \n",
    "    z=redshift\n",
    ")"
   ]
  },
  {
   "cell_type": "code",
   "execution_count": 10,
   "metadata": {},
   "outputs": [],
   "source": [
    "dataset = SpectrumDatasetOnOff(\n",
    "    aeff=aeff,\n",
    "    edisp=edisp,\n",
    "    model=flux_model,\n",
    "    livetime=livetime,\n",
    "    acceptance=1,\n",
    "    acceptance_off=5,\n",
    ")\n",
    "# dataset.fake(background_model=bkg) #simulation"
   ]
  },
  {
   "cell_type": "code",
   "execution_count": 11,
   "metadata": {},
   "outputs": [],
   "source": [
    "#from gammapy.modeling.models import Absorption, AbsorbedSpectralModel\n",
    "#absorption_model = Absorption.read_builtin('dominguez')\n",
    "#flux_model = AbsorbedSpectralModel(flux_model, absorption_model, redshift)"
   ]
  },
  {
   "cell_type": "code",
   "execution_count": 12,
   "metadata": {},
   "outputs": [],
   "source": [
    "#type(dataset.model.spectral_model)"
   ]
  },
  {
   "cell_type": "code",
   "execution_count": 13,
   "metadata": {},
   "outputs": [],
   "source": [
    "#dataset.parameters.parameters"
   ]
  },
  {
   "cell_type": "markdown",
   "metadata": {},
   "source": [
    "**Enable inspection**"
   ]
  },
  {
   "cell_type": "code",
   "execution_count": 14,
   "metadata": {},
   "outputs": [],
   "source": [
    "import logging\n",
    "logging.basicConfig()\n",
    "logging.getLogger(\"gammapy.astro.darkmatter.utils\").setLevel(\"WARNING\")\n",
    "#logging.getLogger(\"gammapy.astro.darkmatter.utils\").setLevel(\"ERROR\")"
   ]
  },
  {
   "cell_type": "markdown",
   "metadata": {},
   "source": [
    "**Instatiate estimator**"
   ]
  },
  {
   "cell_type": "code",
   "execution_count": 15,
   "metadata": {},
   "outputs": [],
   "source": [
    "masses = [100, 200, 500, 1000, 5000, 10000, 50000]*u.GeV\n",
    "channels = [\"b\", \"tau\", \"Z\", \"W\"] \n",
    "estimator = SigmaVEstimator(dataset, masses, channels, background_model=bkg)"
   ]
  },
  {
   "cell_type": "markdown",
   "metadata": {},
   "source": [
    "**Run estimator and fetch results**"
   ]
  },
  {
   "cell_type": "code",
   "execution_count": 16,
   "metadata": {
    "scrolled": false
   },
   "outputs": [
    {
     "name": "stderr",
     "output_type": "stream",
     "text": [
      "ERROR:gammapy.astro.darkmatter.utils:Channel: W - Run: 0 - Mass: 50000.0 GeV\n",
      "ERROR:gammapy.astro.darkmatter.utils:Wider range needed in likelihood profile\n",
      "ERROR:gammapy.astro.darkmatter.utils:Channel: tau - Run: 1 - Mass: 5000.0 GeV\n",
      "ERROR:gammapy.astro.darkmatter.utils:Wider range needed in likelihood profile\n",
      "ERROR:gammapy.astro.darkmatter.utils:Channel: tau - Run: 1 - Mass: 50000.0 GeV\n",
      "ERROR:gammapy.astro.darkmatter.utils:Wider range needed in likelihood profile\n",
      "ERROR:gammapy.astro.darkmatter.utils:Channel: Z - Run: 1 - Mass: 50000.0 GeV\n",
      "ERROR:gammapy.astro.darkmatter.utils:Wider range needed in likelihood profile\n",
      "ERROR:gammapy.astro.darkmatter.utils:Channel: W - Run: 1 - Mass: 10000.0 GeV\n",
      "ERROR:gammapy.astro.darkmatter.utils:f(a) and f(b) must have different signs\n",
      "ERROR:gammapy.astro.darkmatter.utils:Channel: W - Run: 1 - Mass: 50000.0 GeV\n",
      "ERROR:gammapy.astro.darkmatter.utils:Wider range needed in likelihood profile\n",
      "ERROR:gammapy.astro.darkmatter.utils:Channel: tau - Run: 5 - Mass: 50000.0 GeV\n",
      "ERROR:gammapy.astro.darkmatter.utils:Wider range needed in likelihood profile\n",
      "ERROR:gammapy.astro.darkmatter.utils:Channel: W - Run: 18 - Mass: 10000.0 GeV\n",
      "ERROR:gammapy.astro.darkmatter.utils:Wider range needed in likelihood profile\n",
      "ERROR:gammapy.astro.darkmatter.utils:Channel: W - Run: 24 - Mass: 10000.0 GeV\n",
      "ERROR:gammapy.astro.darkmatter.utils:Wider range needed in likelihood profile\n",
      "ERROR:gammapy.astro.darkmatter.utils:Channel: tau - Run: 26 - Mass: 50000.0 GeV\n",
      "ERROR:gammapy.astro.darkmatter.utils:Wider range needed in likelihood profile\n",
      "ERROR:gammapy.astro.darkmatter.utils:Channel: W - Run: 26 - Mass: 10000.0 GeV\n",
      "ERROR:gammapy.astro.darkmatter.utils:Wider range needed in likelihood profile\n",
      "ERROR:gammapy.astro.darkmatter.utils:Channel: W - Run: 26 - Mass: 50000.0 GeV\n",
      "ERROR:gammapy.astro.darkmatter.utils:Wider range needed in likelihood profile\n"
     ]
    },
    {
     "name": "stdout",
     "output_type": "stream",
     "text": [
      "CPU times: user 2min 44s, sys: 5.63 s, total: 2min 50s\n",
      "Wall time: 3min 8s\n"
     ]
    }
   ],
   "source": [
    "%%time\n",
    "#likelihood_profile_opts=dict(bounds=50, nvalues=50)\n",
    "#result = estimator.run(10, likelihood_profile_opts=likelihood_profile_opts)\n",
    "result = estimator.run(30)"
   ]
  },
  {
   "cell_type": "markdown",
   "metadata": {},
   "source": [
    "## Inspection of results"
   ]
  },
  {
   "cell_type": "markdown",
   "metadata": {},
   "source": [
    "**Display results for channel b and second run**"
   ]
  },
  {
   "cell_type": "code",
   "execution_count": 17,
   "metadata": {
    "scrolled": false
   },
   "outputs": [
    {
     "data": {
      "text/html": [
       "<i>Table length=7</i>\n",
       "<table id=\"table4772032352\" class=\"table-striped table-bordered table-condensed\">\n",
       "<thead><tr><th>mass</th><th>sigma_v</th><th>jfactor_best</th><th>jfactor_ul</th><th>likeprofile</th></tr></thead>\n",
       "<thead><tr><th>GeV</th><th>cm3 / s</th><th></th><th></th><th></th></tr></thead>\n",
       "<thead><tr><th>float64</th><th>float64</th><th>int64</th><th>float64</th><th>object</th></tr></thead>\n",
       "<tr><td>100.0</td><td>9.989600681735672e-25</td><td>0</td><td>1.1354846108239548e+21</td><td>{&apos;values&apos;: array([0.00000000e+00, 1.43225855e+21, 5.61938249e+21, 9.80650642e+21,\n",
       "       1.39936304e+22, 1.81807543e+22, 2.23678782e+22, 2.65550022e+22,\n",
       "       3.07421261e+22, 3.49292500e+22, 3.91163740e+22, 4.33034979e+22,\n",
       "       4.74906218e+22, 5.16777458e+22, 5.58648697e+22, 6.00519936e+22,\n",
       "       6.42391176e+22, 6.84262415e+22, 7.26133654e+22, 7.68004894e+22,\n",
       "       8.09876133e+22, 8.51747372e+22, 8.93618612e+22, 9.35489851e+22,\n",
       "       9.77361090e+22, 1.01923233e+23]), &apos;likelihood&apos;: array([  15.84953809,   19.67190876,   53.0827444 ,  118.84139013,\n",
       "        216.34538911,  345.02182001,  504.32465645,  693.73221615,\n",
       "        912.74480387, 1160.88259262, 1437.68375143, 1742.70280726,\n",
       "       2075.50921954, 2435.68614194, 2822.82934671, 3236.54628841,\n",
       "       3676.45528647, 4142.18480903, 4633.37284269, 5149.66633545,\n",
       "       5690.72070204, 6256.19938237, 6845.77344575, 7459.12123421,\n",
       "       8095.92803966, 8755.88581037])}</td></tr>\n",
       "<tr><td>200.0</td><td>6.328052655040571e-25</td><td>0</td><td>7.192886517896116e+20</td><td>{&apos;values&apos;: array([0.00000000e+00, 9.35877417e+20, 3.28356713e+21, 5.63125685e+21,\n",
       "       7.97894656e+21, 1.03266363e+22, 1.26743260e+22, 1.50220157e+22,\n",
       "       1.73697054e+22, 1.97173951e+22, 2.20650848e+22, 2.44127746e+22,\n",
       "       2.67604643e+22, 2.91081540e+22, 3.14558437e+22, 3.38035334e+22,\n",
       "       3.61512231e+22, 3.84989129e+22, 4.08466026e+22, 4.31942923e+22,\n",
       "       4.55419820e+22, 4.78896717e+22, 5.02373614e+22, 5.25850511e+22,\n",
       "       5.49327409e+22, 5.72804306e+22]), &apos;likelihood&apos;: array([  15.8711036 ,   20.01148896,   53.63350058,  119.70320648,\n",
       "        217.67268451,  347.01702729,  507.23215535,  697.8328383 ,\n",
       "        918.35093033, 1168.33381688, 1447.34305965, 1754.95322101,\n",
       "       2090.75084663, 2454.33358479, 2845.30942282, 3263.29602287,\n",
       "       3707.92014172, 4178.81712158, 4675.63044088, 5198.0113157 ,\n",
       "       5745.61834418, 6318.1171875 , 6915.18028198, 7536.48657787,\n",
       "       8181.72130099, 8850.57573424])}</td></tr>\n",
       "<tr><td>500.0</td><td>4.284009676155137e-25</td><td>0</td><td>4.8694909985630054e+20</td><td>{&apos;values&apos;: array([0.00000000e+00, 6.27170422e+20, 2.17460275e+21, 3.72203508e+21,\n",
       "       5.26946741e+21, 6.81689974e+21, 8.36433207e+21, 9.91176440e+21,\n",
       "       1.14591967e+22, 1.30066291e+22, 1.45540614e+22, 1.61014937e+22,\n",
       "       1.76489260e+22, 1.91963584e+22, 2.07437907e+22, 2.22912230e+22,\n",
       "       2.38386554e+22, 2.53860877e+22, 2.69335200e+22, 2.84809523e+22,\n",
       "       3.00283847e+22, 3.15758170e+22, 3.31232493e+22, 3.46706817e+22,\n",
       "       3.62181140e+22, 3.77655463e+22]), &apos;likelihood&apos;: array([  15.86206189,   19.96288557,   53.28384781,  118.66499712,\n",
       "        215.28716038,  342.36030057,  499.12271931,  684.84020715,\n",
       "        898.80515623, 1140.3356489 , 1408.7745344 , 1703.48850357,\n",
       "       2023.86716984, 2369.32216316, 2739.28624185, 3133.21242635,\n",
       "       3550.57315767, 3990.85948265, 4453.58026734, 4938.26143928,\n",
       "       5444.44525928, 5971.68962246, 6519.56738854, 7087.66574079,\n",
       "       7675.5855732 , 8282.94090492])}</td></tr>\n",
       "<tr><td>1000.0</td><td>2.774508496676089e-25</td><td>0</td><td>3.153691324555154e+20</td><td>{&apos;values&apos;: array([0.00000000e+00, 3.91726103e+20, 1.69060754e+21, 2.98948898e+21,\n",
       "       4.28837043e+21, 5.58725187e+21, 6.88613331e+21, 8.18501475e+21,\n",
       "       9.48389619e+21, 1.07827776e+22, 1.20816591e+22, 1.33805405e+22,\n",
       "       1.46794220e+22, 1.59783034e+22, 1.72771848e+22, 1.85760663e+22,\n",
       "       1.98749477e+22, 2.11738292e+22, 2.24727106e+22, 2.37715920e+22,\n",
       "       2.50704735e+22, 2.63693549e+22, 2.76682364e+22, 2.89671178e+22,\n",
       "       3.02659992e+22, 3.15648807e+22]), &apos;likelihood&apos;: array([  15.89769965,   19.5592859 ,   53.12259226,  118.000224  ,\n",
       "        212.93713516,  336.74650872,  488.30623162,  666.55544925,\n",
       "        870.49118202, 1099.16501817, 1351.67990602, 1627.18706712,\n",
       "       1924.88304637, 2244.00690974, 2583.83759497, 2943.69141646,\n",
       "       3322.91972253, 3720.90670116, 4137.06732823, 4570.84545207,\n",
       "       5021.71200669, 5489.16334659, 5972.71969542, 6471.9237011 ,\n",
       "       6986.33909034, 7515.5494156 ])}</td></tr>\n",
       "<tr><td>5000.0</td><td>2.7847074912895436e-25</td><td>0</td><td>3.165284181765781e+20</td><td>{&apos;values&apos;: array([0.00000000e+00, 3.49140195e+20, 1.70053958e+21, 3.05193897e+21,\n",
       "       4.40333836e+21, 5.75473775e+21, 7.10613714e+21, 8.45753653e+21,\n",
       "       9.80893592e+21, 1.11603353e+22, 1.25117347e+22, 1.38631341e+22,\n",
       "       1.52145335e+22, 1.65659329e+22, 1.79173323e+22, 1.92687317e+22,\n",
       "       2.06201310e+22, 2.19715304e+22, 2.33229298e+22, 2.46743292e+22,\n",
       "       2.60257286e+22, 2.73771280e+22, 2.87285274e+22, 3.00799268e+22,\n",
       "       3.14313262e+22, 3.27827255e+22]), &apos;likelihood&apos;: array([  15.8396966 ,   18.92533653,   49.7681469 ,  107.17442686,\n",
       "        187.68267904,  288.50943021,  407.39566607,  542.48635828,\n",
       "        692.23952802,  855.35827588, 1030.73984134, 1217.43710722,\n",
       "       1414.62919607, 1621.59875132, 1837.71417958, 2062.41561487,\n",
       "       2295.20370605, 2535.63056951, 2783.29242031, 3037.82351772,\n",
       "       3298.89114992, 3566.1914479 , 3839.44586666, 4118.39820766,\n",
       "       4402.81208387, 4692.46874888])}</td></tr>\n",
       "<tr><td>10000.0</td><td>3.831322593168814e-25</td><td>0</td><td>4.354936680901885e+20</td><td>{&apos;values&apos;: array([0.00000000e+00, 5.16836144e+20, 2.12650497e+21, 3.73617379e+21,\n",
       "       5.34584261e+21, 6.95551143e+21, 8.56518025e+21, 1.01748491e+22,\n",
       "       1.17845179e+22, 1.33941867e+22, 1.50038555e+22, 1.66135244e+22,\n",
       "       1.82231932e+22, 1.98328620e+22, 2.14425308e+22, 2.30521996e+22,\n",
       "       2.46618685e+22, 2.62715373e+22, 2.78812061e+22, 2.94908749e+22,\n",
       "       3.11005438e+22, 3.27102126e+22, 3.43198814e+22, 3.59295502e+22,\n",
       "       3.75392190e+22, 3.91488879e+22]), &apos;likelihood&apos;: array([  15.86325185,   19.31787579,   48.68983456,  101.31128546,\n",
       "        172.77747495,  259.92842335,  360.42677231,  472.49091152,\n",
       "        594.72633161,  726.01645563,  865.44982278, 1012.27005884,\n",
       "       1165.84055198, 1325.61889403, 1491.13798135, 1661.9917681 ,\n",
       "       1837.82434113, 2018.32141311, 2203.2036074 , 2392.22109154,\n",
       "       2585.14924056, 2781.78509701, 2981.94445449, 3185.45943462,\n",
       "       3392.17645837, 3601.95453537])}</td></tr>\n",
       "<tr><td>50000.0</td><td>1.0721005247183412e-24</td><td>0</td><td>1.2186209297631813e+21</td><td>{&apos;values&apos;: array([0.00000000e+00, 1.59468102e+21, 4.97157644e+21, 8.34847186e+21,\n",
       "       1.17253673e+22, 1.51022627e+22, 1.84791581e+22, 2.18560535e+22,\n",
       "       2.52329489e+22, 2.86098444e+22, 3.19867398e+22, 3.53636352e+22,\n",
       "       3.87405306e+22, 4.21174260e+22, 4.54943215e+22, 4.88712169e+22,\n",
       "       5.22481123e+22, 5.56250077e+22, 5.90019031e+22, 6.23787985e+22,\n",
       "       6.57556940e+22, 6.91325894e+22, 7.25094848e+22, 7.58863802e+22,\n",
       "       7.92632756e+22, 8.26401710e+22]), &apos;likelihood&apos;: array([  15.69084724,   19.88268948,   45.66979424,   87.28375695,\n",
       "        139.67248462,  200.01389502,  266.56117931,  338.14658284,\n",
       "        413.94330107,  493.33964914,  575.86722489,  661.15728465,\n",
       "        748.91289047,  838.89037707,  930.88658653, 1024.72981405,\n",
       "       1120.27322246, 1217.38994688, 1315.9693857 , 1415.91434275,\n",
       "       1517.13879228, 1619.56610752, 1723.12763973, 1827.76156598,\n",
       "       1933.41194555, 2040.02794036])}</td></tr>\n",
       "</table>"
      ],
      "text/plain": [
       "<Table length=7>\n",
       "  mass  ...\n",
       "  GeV   ...\n",
       "float64 ...\n",
       "------- ...\n",
       "  100.0 ...\n",
       "  200.0 ...\n",
       "  500.0 ...\n",
       " 1000.0 ...\n",
       " 5000.0 ...\n",
       "10000.0 ...\n",
       "50000.0 ..."
      ]
     },
     "execution_count": 17,
     "metadata": {},
     "output_type": "execute_result"
    }
   ],
   "source": [
    "cols = [\"mass\", \"sigma_v\", \"jfactor_best\", \"jfactor_ul\", \"likeprofile\"]\n",
    "result[\"runs\"][\"b\"][0][cols]"
   ]
  },
  {
   "cell_type": "markdown",
   "metadata": {},
   "source": [
    "**Plot likelihood profile for a specific fit**"
   ]
  },
  {
   "cell_type": "code",
   "execution_count": 18,
   "metadata": {},
   "outputs": [],
   "source": [
    "mask = result[\"runs\"][\"W\"][0][\"mass\"] == 50000.0\n",
    "profile = result[\"runs\"][\"W\"][0][\"likeprofile\"][mask][0]"
   ]
  },
  {
   "cell_type": "code",
   "execution_count": 19,
   "metadata": {},
   "outputs": [
    {
     "data": {
      "image/png": "[encoded data removed]",
      "text/plain": [
       "<Figure size 432x288 with 1 Axes>"
      ]
     },
     "metadata": {
      "needs_background": "light"
     },
     "output_type": "display_data"
    }
   ],
   "source": [
    "plt.plot(profile[\"values\"], profile[\"likelihood\"]);"
   ]
  },
  {
   "cell_type": "markdown",
   "metadata": {},
   "source": [
    "## Plot obtained results for sigma"
   ]
  },
  {
   "cell_type": "code",
   "execution_count": 28,
   "metadata": {},
   "outputs": [
    {
     "data": {
      "text/html": [
       "<i>Table length=7</i>\n",
       "<table id=\"table4710787056\" class=\"table-striped table-bordered table-condensed\">\n",
       "<thead><tr><th>mass</th><th>sigma_v</th><th>std</th></tr></thead>\n",
       "<thead><tr><th>GeV</th><th>cm3 / s</th><th>cm3 / s</th></tr></thead>\n",
       "<thead><tr><th>float64</th><th>float64</th><th>float64</th></tr></thead>\n",
       "<tr><td>100.0</td><td>1.555997295502194e-24</td><td>5.70334856791474e-25</td></tr>\n",
       "<tr><td>200.0</td><td>6.156227783808692e-25</td><td>3.121929217137411e-25</td></tr>\n",
       "<tr><td>500.0</td><td>3.6614503961619135e-25</td><td>1.8369147262693924e-25</td></tr>\n",
       "<tr><td>1000.0</td><td>2.8485038735928096e-25</td><td>1.1066248602554653e-25</td></tr>\n",
       "<tr><td>5000.0</td><td>2.8418613577373322e-25</td><td>1.2842133858233215e-25</td></tr>\n",
       "<tr><td>10000.0</td><td>2.6147506322746936e-25</td><td>9.54402414716792e-26</td></tr>\n",
       "<tr><td>50000.0</td><td>1.475372894124036e-24</td><td>5.9574713632638755e-25</td></tr>\n",
       "</table>"
      ],
      "text/plain": [
       "<Table length=7>\n",
       "  mass         sigma_v                  std          \n",
       "  GeV          cm3 / s                cm3 / s        \n",
       "float64        float64                float64        \n",
       "------- ---------------------- ----------------------\n",
       "  100.0  1.555997295502194e-24   5.70334856791474e-25\n",
       "  200.0  6.156227783808692e-25  3.121929217137411e-25\n",
       "  500.0 3.6614503961619135e-25 1.8369147262693924e-25\n",
       " 1000.0 2.8485038735928096e-25 1.1066248602554653e-25\n",
       " 5000.0 2.8418613577373322e-25 1.2842133858233215e-25\n",
       "10000.0 2.6147506322746936e-25   9.54402414716792e-26\n",
       "50000.0  1.475372894124036e-24 5.9574713632638755e-25"
      ]
     },
     "execution_count": 28,
     "metadata": {},
     "output_type": "execute_result"
    }
   ],
   "source": [
    "result[\"mean\"][\"W\"]"
   ]
  },
  {
   "cell_type": "code",
   "execution_count": 32,
   "metadata": {},
   "outputs": [
    {
     "data": {
      "image/png": "[encoded data removed]",
      "text/plain": [
       "<Figure size 648x504 with 1 Axes>"
      ]
     },
     "metadata": {
      "needs_background": "light"
     },
     "output_type": "display_data"
    }
   ],
   "source": [
    "plt.figure(figsize=(9,7))\n",
    "plt.ylim(1e-26, 1e-22)\n",
    "plt.ylabel(r\"<$\\sigma_{ann}v$> (cm$^3$s$^{-1}$)\", fontsize=12)\n",
    "plt.xlabel(\"M$_{DM}$ (GeV)\", fontsize=12)\n",
    "plt.title('m$_{DM}$ 5000 GeV')\n",
    "\n",
    "for ch in channels:\n",
    "    plt.loglog(\n",
    "        result[\"mean\"][ch][\"mass\"].data,\n",
    "        result[\"mean\"][ch][\"sigma_v\"].data,\n",
    "        ls=\"--\",\n",
    "        label='channel {}'.format(ch)\n",
    "       )\n",
    "plt.legend();"
   ]
  },
  {
   "cell_type": "code",
   "execution_count": null,
   "metadata": {},
   "outputs": [],
   "source": []
  },
  {
   "cell_type": "code",
   "execution_count": null,
   "metadata": {},
   "outputs": [],
   "source": []
  }
 ],
 "metadata": {
  "kernelspec": {
   "display_name": "gammapy-dev",
   "language": "python",
   "name": "gammapy-dev"
  },
  "language_info": {
   "codemirror_mode": {
    "name": "ipython",
    "version": 3
   },
   "file_extension": ".py",
   "mimetype": "text/x-python",
   "name": "python",
   "nbconvert_exporter": "python",
   "pygments_lexer": "ipython3",
   "version": "3.7.0"
  },
  "toc": {
   "base_numbering": 1,
   "nav_menu": {},
   "number_sections": false,
   "sideBar": true,
   "skip_h1_title": false,
   "title_cell": "Table of Contents",
   "title_sidebar": "Contents",
   "toc_cell": false,
   "toc_position": {},
   "toc_section_display": true,
   "toc_window_display": false
  },
  "varInspector": {
   "cols": {
    "lenName": 16,
    "lenType": 16,
    "lenVar": 40
   },
   "kernels_config": {
    "python": {
     "delete_cmd_postfix": "",
     "delete_cmd_prefix": "del ",
     "library": "var_list.py",
     "varRefreshCmd": "print(var_dic_list())"
    },
    "r": {
     "delete_cmd_postfix": ") ",
     "delete_cmd_prefix": "rm(",
     "library": "var_list.r",
     "varRefreshCmd": "cat(var_dic_list()) "
    }
   },
   "types_to_exclude": [
    "module",
    "function",
    "builtin_function_or_method",
    "instance",
    "_Feature"
   ],
   "window_display": false
  }
 },
 "nbformat": 4,
 "nbformat_minor": 2
}
