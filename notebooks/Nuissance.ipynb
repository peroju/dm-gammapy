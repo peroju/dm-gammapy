{
 "cells": [
  {
   "cell_type": "markdown",
   "metadata": {},
   "source": [
    "# Calculate sigmav vs. mDM for simulated DM datasets"
   ]
  },
  {
   "cell_type": "code",
   "execution_count": 1,
   "metadata": {},
   "outputs": [],
   "source": [
    "%matplotlib inline\n",
    "import matplotlib.pyplot as plt\n",
    "\n",
    "import numpy as np\n",
    "import astropy.units as u\n",
    "\n",
    "from gammapy.astro.darkmatter.utils import SigmaVEstimator\n",
    "from gammapy.spectrum import SpectrumDatasetOnOff, CountsSpectrum\n",
    "from gammapy.astro.darkmatter import DMAnnihilation\n",
    "from gammapy.irf import load_cta_irfs"
   ]
  },
  {
   "cell_type": "markdown",
   "metadata": {},
   "source": [
    "## Define parameters for simulated observation"
   ]
  },
  {
   "cell_type": "code",
   "execution_count": 2,
   "metadata": {},
   "outputs": [],
   "source": [
    "# -\n",
    "livetime = 100 * u.h # in hours\n",
    "offset = 0.5 * u.deg\n",
    "GLON=0 * u.deg  # -> convert to ALtAz\n",
    "GLAT=0 * u.deg  # -> convert to ALtAz\n",
    "\n",
    "# Energy from 0.01 to 100 TeV with 20 bins/decade\n",
    "energy = np.logspace(-1.8, 1.5, 20) * u.TeV\n",
    "\n",
    "# Energy true wider range and higher number of bins\n",
    "energy_true = np.logspace(-2, 2, 100) * u.TeV\n",
    "\n",
    "# DMAnnihilation Model\n",
    "JFAC = 3.41e19 * u.Unit(\"GeV2 cm-5\") # point source\n",
    "mDM = 5000*u.Unit(\"GeV\")\n",
    "channel = \"b\"\n",
    "redshift = 0"
   ]
  },
  {
   "cell_type": "markdown",
   "metadata": {},
   "source": [
    "## Build IRFs with the defined parameters"
   ]
  },
  {
   "cell_type": "code",
   "execution_count": 3,
   "metadata": {},
   "outputs": [],
   "source": [
    "# Load IRFs\n",
    "filename = (\n",
    "    \"$GAMMAPY_DATA/cta-1dc/caldb/data/cta/1dc/bcf/South_z20_50h/irf_file.fits\"\n",
    ")\n",
    "cta_irf = load_cta_irfs(filename)"
   ]
  },
  {
   "cell_type": "code",
   "execution_count": 4,
   "metadata": {},
   "outputs": [
    {
     "name": "stdout",
     "output_type": "stream",
     "text": [
      "NDDataArray summary info\n",
      "MapAxis\n",
      "\n",
      "\tname       : energy    \n",
      "\tunit       : 'TeV'     \n",
      "\tnbins      : 42        \n",
      "\tnode type  : edges     \n",
      "\tedges min  : 1.3e-02 TeV\n",
      "\tedges max  : 2.0e+02 TeV\n",
      "\tinterp     : log       \n",
      "MapAxis\n",
      "\n",
      "\tname       : offset    \n",
      "\tunit       : 'deg'     \n",
      "\tnbins      : 6         \n",
      "\tnode type  : edges     \n",
      "\tedges min  : 0.0e+00 deg\n",
      "\tedges max  : 6.0e+00 deg\n",
      "\tinterp     : lin       \n",
      "Data           : size =   252, min =  0.000 m2, max = 5371581.000 m2\n",
      "\n"
     ]
    },
    {
     "data": {
      "image/png": "[encoded data removed]",
      "text/plain": [
       "<Figure size 432x288 with 1 Axes>"
      ]
     },
     "metadata": {
      "needs_background": "light"
     },
     "output_type": "display_data"
    }
   ],
   "source": [
    "aeff = cta_irf[\"aeff\"].to_effective_area_table(offset=offset, energy=energy_true)\n",
    "aeff.plot()\n",
    "plt.loglog()\n",
    "print(cta_irf[\"aeff\"].data)"
   ]
  },
  {
   "cell_type": "code",
   "execution_count": 5,
   "metadata": {
    "code_folding": []
   },
   "outputs": [
    {
     "name": "stdout",
     "output_type": "stream",
     "text": [
      "NDDataArray summary info\n",
      "MapAxis\n",
      "\n",
      "\tname       : e_true    \n",
      "\tunit       : 'TeV'     \n",
      "\tnbins      : 99        \n",
      "\tnode type  : edges     \n",
      "\tedges min  : 1.0e-02 TeV\n",
      "\tedges max  : 1.0e+02 TeV\n",
      "\tinterp     : log       \n",
      "MapAxis\n",
      "\n",
      "\tname       : e_reco    \n",
      "\tunit       : 'TeV'     \n",
      "\tnbins      : 19        \n",
      "\tnode type  : edges     \n",
      "\tedges min  : 1.6e-02 TeV\n",
      "\tedges max  : 3.2e+01 TeV\n",
      "\tinterp     : log       \n",
      "Data           : size =  1881, min =  0.000, max =  0.997\n",
      "\n"
     ]
    },
    {
     "data": {
      "image/png": "[encoded data removed]",
      "text/plain": [
       "<Figure size 432x288 with 1 Axes>"
      ]
     },
     "metadata": {
      "needs_background": "light"
     },
     "output_type": "display_data"
    }
   ],
   "source": [
    "edisp = cta_irf[\"edisp\"].to_energy_dispersion(\n",
    "    offset=offset, e_true=energy_true, e_reco=energy\n",
    ")\n",
    "edisp.plot_matrix()\n",
    "print(edisp.data)"
   ]
  },
  {
   "cell_type": "markdown",
   "metadata": {},
   "source": [
    "## Build the background counts from PSF and IRF background"
   ]
  },
  {
   "cell_type": "code",
   "execution_count": 6,
   "metadata": {},
   "outputs": [],
   "source": [
    "containment = 0.68\n",
    "energies = np.sqrt(energy[1:] * energy[:-1])\n",
    "psf = cta_irf[\"psf\"].to_energy_dependent_table_psf(theta=offset)\n",
    "on_radii = psf.containment_radius(energy=energies, fraction=containment)\n",
    "solid_angles = 2 * np.pi * (1 - np.cos(on_radii)) * u.sr\n",
    "\n",
    "#\n",
    "aeff.data.data *= containment"
   ]
  },
  {
   "cell_type": "code",
   "execution_count": 7,
   "metadata": {},
   "outputs": [],
   "source": [
    "bkg_data = cta_irf[\"bkg\"].evaluate_integrate(\n",
    "    fov_lon=GLON, fov_lat=GLAT, energy_reco=energy\n",
    ")\n",
    "bkg = CountsSpectrum(\n",
    "    energy[:-1],\n",
    "    energy[1:],\n",
    "    data=(bkg_data * solid_angles).to_value(\"h-1\")*livetime\n",
    ")"
   ]
  },
  {
   "cell_type": "code",
   "execution_count": 8,
   "metadata": {},
   "outputs": [
    {
     "data": {
      "text/plain": [
       "<matplotlib.axes._subplots.AxesSubplot at 0x121612c18>"
      ]
     },
     "execution_count": 8,
     "metadata": {},
     "output_type": "execute_result"
    },
    {
     "data": {
      "image/png": "[encoded data removed]",
      "text/plain": [
       "<Figure size 432x288 with 1 Axes>"
      ]
     },
     "metadata": {
      "needs_background": "light"
     },
     "output_type": "display_data"
    }
   ],
   "source": [
    "bkg.plot_hist()"
   ]
  },
  {
   "cell_type": "markdown",
   "metadata": {},
   "source": [
    "## Simulate OnOff observation with DM emission model"
   ]
  },
  {
   "cell_type": "code",
   "execution_count": 70,
   "metadata": {},
   "outputs": [],
   "source": [
    "from gammapy.modeling import Fit\n",
    "from gammapy.modeling import Parameter\n",
    "\n",
    "class DMDatasetOnOff(SpectrumDatasetOnOff):\n",
    "    \n",
    "    def __init__(self, nuissance, **kwargs):\n",
    "        super().__init__(**kwargs)\n",
    "        self.parameters.parameters\n",
    "        self.parameters.parameters += [Parameter(\"tau\", nuissance[\"tauobs\"], frozen=False)]\n",
    "        self.nuissance = nuissance\n",
    "    \n",
    "    def likelihood(self):\n",
    "        wstat = super().likelihood()\n",
    "        likeg_res = self.likeg()\n",
    "        likej_res = self.likej()\n",
    "        #liketotal = wstat * likegres * likejres\n",
    "        liketotal = wstat * likegres\n",
    "        #liketotal = wstat\n",
    "        print(\"WSTAT:\", wstat, \"GLIKE:\", likeg_res, \"JLIKE:\", likej_res)\n",
    "        print(self.parameters.parameters[0].value)\n",
    "        print(\"TOTAL:\", liketotal)\n",
    "        print(\"\")\n",
    "        return liketotal\n",
    "\n",
    "    def likeg(self):\n",
    "        exp_up = (self.parameters.parameters[1].value - self.nuissance[\"tauobs\"])**2\n",
    "        exp_down = 2*(self.nuissance[\"sigmatau\"]**2)\n",
    "        up = np.exp(-1*exp_up/exp_down)\n",
    "        down = np.sqrt(2*np.pi)*self.nuissance[\"sigmatau\"]\n",
    "        res = up/down\n",
    "        #print(up, down, res)\n",
    "        return res\n",
    "    \n",
    "    def likej(self):\n",
    "        exp_up = (np.log10(self.parameters.parameters[0].value) - np.log10(self.nuissance[\"jobs\"].value))**2\n",
    "        exp_down = 2*(self.nuissance[\"sigmaj\"]**2)\n",
    "        up = np.exp(-1*exp_up/exp_down)\n",
    "        down = np.log(10)*self.nuissance[\"jobs\"].value*np.sqrt(2*np.pi)*self.nuissance[\"sigmaj\"]\n",
    "        res = up/down\n",
    "        #print(up, down, res)\n",
    "        return res"
   ]
  },
  {
   "cell_type": "code",
   "execution_count": 71,
   "metadata": {},
   "outputs": [],
   "source": [
    "# DM Flux\n",
    "flux_model = DMAnnihilation(\n",
    "    mass=mDM, \n",
    "    channel=channel, \n",
    "    jfactor=JFAC, \n",
    "    z=redshift\n",
    ")"
   ]
  },
  {
   "cell_type": "code",
   "execution_count": 72,
   "metadata": {},
   "outputs": [],
   "source": [
    "nuissance = dict(\n",
    "    jobs=JFAC,\n",
    "    sigmaj=100,\n",
    "    tauobs=5,\n",
    "    sigmatau=0.1\n",
    ")"
   ]
  },
  {
   "cell_type": "code",
   "execution_count": 73,
   "metadata": {},
   "outputs": [],
   "source": [
    "dataset = DMDatasetOnOff(\n",
    "    nuissance=nuissance,\n",
    "    aeff=aeff,\n",
    "    edisp=edisp,\n",
    "    model=flux_model,\n",
    "    livetime=livetime,\n",
    "    acceptance=1,\n",
    "    acceptance_off=5,\n",
    ")"
   ]
  },
  {
   "cell_type": "code",
   "execution_count": 74,
   "metadata": {},
   "outputs": [],
   "source": [
    "dataset.parameters.parameters[0].frozen = False"
   ]
  },
  {
   "cell_type": "code",
   "execution_count": 75,
   "metadata": {
    "scrolled": false
   },
   "outputs": [
    {
     "name": "stdout",
     "output_type": "stream",
     "text": [
      "WSTAT: 31.54945425879396 GLIKE: 3.989422804014327 JLIKE: 5.0808924039953665e-23\n",
      "3.41e+19\n",
      "TOTAL: 31.54945425879396\n",
      "\n",
      "WSTAT: 31.549295305963817 GLIKE: 3.989422804014327 JLIKE: 5.0808924035845024e-23\n",
      "3.42e+19\n",
      "TOTAL: 31.549295305963817\n",
      "\n",
      "WSTAT: 31.549613382091707 GLIKE: 3.989422804014327 JLIKE: 5.0808924035820856e-23\n",
      "3.4000000000000004e+19\n",
      "TOTAL: 31.549613382091707\n",
      "\n",
      "WSTAT: 31.547944695775897 GLIKE: 3.989422804014327 JLIKE: 5.080892367504537e-23\n",
      "3.5054142409981223e+19\n",
      "TOTAL: 31.547944695775897\n",
      "\n",
      "WSTAT: 31.5509796194648 GLIKE: 3.989422804014327 JLIKE: 5.080892365403815e-23\n",
      "3.3145857590018777e+19\n",
      "TOTAL: 31.5509796194648\n",
      "\n",
      "WSTAT: 31.54945425879396 GLIKE: 3.9695254747701187 JLIKE: 5.0808924039953665e-23\n",
      "3.41e+19\n",
      "TOTAL: 31.54945425879396\n",
      "\n",
      "WSTAT: 31.54945425879396 GLIKE: 3.9695254747701187 JLIKE: 5.0808924039953665e-23\n",
      "3.41e+19\n",
      "TOTAL: 31.54945425879396\n",
      "\n",
      "WSTAT: 31.54945425879396 GLIKE: 2.4197072451914425 JLIKE: 5.0808924039953665e-23\n",
      "3.41e+19\n",
      "TOTAL: 31.54945425879396\n",
      "\n",
      "WSTAT: 31.54945425879396 GLIKE: 2.4197072451914425 JLIKE: 5.0808924039953665e-23\n",
      "3.41e+19\n",
      "TOTAL: 31.54945425879396\n",
      "\n",
      "WSTAT: 31.476338334204886 GLIKE: 3.989422804014327 JLIKE: 5.0808108018165975e-23\n",
      "1.2575125492016431e+20\n",
      "TOTAL: 31.476338334204886\n",
      "\n",
      "WSTAT: 31.476338619929834 GLIKE: 3.989422804014327 JLIKE: 5.080809863179158e-23\n",
      "1.2669592011555663e+20\n",
      "TOTAL: 31.476338619929834\n",
      "\n",
      "WSTAT: 31.476353383135578 GLIKE: 3.989422804014327 JLIKE: 5.0808117421036006e-23\n",
      "1.2480658972477199e+20\n",
      "TOTAL: 31.476353383135578\n",
      "\n",
      "WSTAT: 31.476338334204886 GLIKE: 7.694598626706474e-22 JLIKE: 5.0808108018165975e-23\n",
      "1.2575125492016431e+20\n",
      "TOTAL: 31.476338334204886\n",
      "\n",
      "WSTAT: 31.476338334204886 GLIKE: 7.694598626706474e-22 JLIKE: 5.0808108018165975e-23\n",
      "1.2575125492016431e+20\n",
      "TOTAL: 31.476338334204886\n",
      "\n",
      "WSTAT: 31.476338334204886 GLIKE: 3.989422804014327 JLIKE: 5.0808108018165975e-23\n",
      "1.2575125492016431e+20\n",
      "TOTAL: 31.476338334204886\n",
      "\n",
      "WSTAT: 31.476338619929834 GLIKE: 3.989422804014327 JLIKE: 5.080809863179158e-23\n",
      "1.2669592011555663e+20\n",
      "TOTAL: 31.476338619929834\n",
      "\n",
      "WSTAT: 31.476353383135578 GLIKE: 3.989422804014327 JLIKE: 5.0808117421036006e-23\n",
      "1.2480658972477199e+20\n",
      "TOTAL: 31.476353383135578\n",
      "\n",
      "WSTAT: 31.476338334204886 GLIKE: 7.694598626706474e-22 JLIKE: 5.0808108018165975e-23\n",
      "1.2575125492016431e+20\n",
      "TOTAL: 31.476338334204886\n",
      "\n",
      "WSTAT: 31.476338334204886 GLIKE: 7.694598626706474e-22 JLIKE: 5.0808108018165975e-23\n",
      "1.2575125492016431e+20\n",
      "TOTAL: 31.476338334204886\n",
      "\n",
      "WSTAT: 31.476338334204886 GLIKE: 0.0 JLIKE: 5.0808108018165975e-23\n",
      "1.2575125492016431e+20\n",
      "TOTAL: 31.476338334204886\n",
      "\n",
      "WSTAT: 31.476338334204886 GLIKE: 0.0 JLIKE: 5.0808108018165975e-23\n",
      "1.2575125492016431e+20\n",
      "TOTAL: 31.476338334204886\n",
      "\n",
      "WSTAT: 31.476338334204886 GLIKE: 0.0 JLIKE: 5.0808108018165975e-23\n",
      "1.2575125492016431e+20\n",
      "TOTAL: 31.476338334204886\n",
      "\n",
      "WSTAT: 31.476338334204886 GLIKE: 0.0 JLIKE: 5.0808108018165975e-23\n",
      "1.2575125492016431e+20\n",
      "TOTAL: 31.476338334204886\n",
      "\n",
      "WSTAT: 31.476338334204886 GLIKE: 0.0 JLIKE: 5.0808108018165975e-23\n",
      "1.2575125492016431e+20\n",
      "TOTAL: 31.476338334204886\n",
      "\n",
      "WSTAT: 31.476338334204886 GLIKE: 0.0 JLIKE: 5.0808108018165975e-23\n",
      "1.2575125492016431e+20\n",
      "TOTAL: 31.476338334204886\n",
      "\n",
      "WSTAT: 31.476338334204886 GLIKE: 0.0 JLIKE: 5.0808108018165975e-23\n",
      "1.2575125492016431e+20\n",
      "TOTAL: 31.476338334204886\n",
      "\n",
      "WSTAT: 31.476338334204886 GLIKE: 0.0 JLIKE: 5.0808108018165975e-23\n",
      "1.2575125492016431e+20\n",
      "TOTAL: 31.476338334204886\n",
      "\n",
      "WSTAT: 31.476338334204886 GLIKE: 3.989422804014327 JLIKE: 5.0808108018165975e-23\n",
      "1.2575125492016431e+20\n",
      "TOTAL: 31.476338334204886\n",
      "\n",
      "1.2575125492016431e+20 5.0\n"
     ]
    }
   ],
   "source": [
    "dataset.fake(background_model=bkg) #simulation\n",
    "fit = Fit(dataset)\n",
    "fit_result = fit.run()\n",
    "#likelihood_profile_opts=dict(bounds=10, nvalues=50)\n",
    "#likelihood_profile_opts[\"parameter\"] = \"jfactor\"\n",
    "#fit_ds.likelihood_profile(**likelihood_profile_opts)\n",
    "jfactor_best = fit_result.parameters[\"jfactor\"].value\n",
    "tau_best = fit_result.parameters[\"tau\"].value\n",
    "print(jfactor_best, tau_best)"
   ]
  },
  {
   "cell_type": "code",
   "execution_count": 76,
   "metadata": {},
   "outputs": [
    {
     "data": {
      "text/html": [
       "<i>Table length=2</i>\n",
       "<table id=\"table4860144440\" class=\"table-striped table-bordered table-condensed\">\n",
       "<thead><tr><th>name</th><th>value</th><th>error</th><th>unit</th><th>min</th><th>max</th><th>frozen</th></tr></thead>\n",
       "<thead><tr><th>str7</th><th>float64</th><th>float64</th><th>str9</th><th>float64</th><th>float64</th><th>bool</th></tr></thead>\n",
       "<tr><td>jfactor</td><td>1.258e+20</td><td>nan</td><td>cm-5 GeV2</td><td>nan</td><td>nan</td><td>False</td></tr>\n",
       "<tr><td>tau</td><td>5.000e+00</td><td>nan</td><td></td><td>nan</td><td>nan</td><td>False</td></tr>\n",
       "</table>"
      ],
      "text/plain": [
       "<Table length=2>\n",
       "  name    value    error     unit     min     max   frozen\n",
       "  str7   float64  float64    str9   float64 float64  bool \n",
       "------- --------- ------- --------- ------- ------- ------\n",
       "jfactor 1.258e+20     nan cm-5 GeV2     nan     nan  False\n",
       "    tau 5.000e+00     nan               nan     nan  False"
      ]
     },
     "execution_count": 76,
     "metadata": {},
     "output_type": "execute_result"
    }
   ],
   "source": [
    "fit_result.parameters.to_table()"
   ]
  },
  {
   "cell_type": "code",
   "execution_count": 59,
   "metadata": {},
   "outputs": [],
   "source": [
    "#type(dataset.model.spectral_model)"
   ]
  },
  {
   "cell_type": "code",
   "execution_count": null,
   "metadata": {},
   "outputs": [],
   "source": []
  },
  {
   "cell_type": "code",
   "execution_count": null,
   "metadata": {},
   "outputs": [],
   "source": []
  }
 ],
 "metadata": {
  "kernelspec": {
   "display_name": "gammapy-dev",
   "language": "python",
   "name": "gammapy-dev"
  },
  "language_info": {
   "codemirror_mode": {
    "name": "ipython",
    "version": 3
   },
   "file_extension": ".py",
   "mimetype": "text/x-python",
   "name": "python",
   "nbconvert_exporter": "python",
   "pygments_lexer": "ipython3",
   "version": "3.7.0"
  }
 },
 "nbformat": 4,
 "nbformat_minor": 2
}
