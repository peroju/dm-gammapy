{
 "cells": [
  {
   "cell_type": "markdown",
   "metadata": {},
   "source": [
    "## Setup"
   ]
  },
  {
   "cell_type": "code",
   "execution_count": 1,
   "metadata": {},
   "outputs": [],
   "source": [
    "%matplotlib inline\n",
    "import matplotlib.pyplot as plt\n",
    "\n",
    "import numpy as np\n",
    "import astropy.units as u\n",
    "from astropy.table import Table\n",
    "\n",
    "from gammapy.irf import EnergyDispersion, EffectiveAreaTable\n",
    "from gammapy.spectrum import SpectrumSimulation, SpectrumFit\n",
    "from gammapy.spectrum.models import TableModel\n",
    "from gammapy.irf import load_cta_irfs"
   ]
  },
  {
   "cell_type": "code",
   "execution_count": 2,
   "metadata": {},
   "outputs": [
    {
     "name": "stdout",
     "output_type": "stream",
     "text": [
      "\n",
      "System:\n",
      "\n",
      "\tpython_executable      : /Users/jer/anaconda/envs/gammapy-dev/bin/python \n",
      "\tpython_version         : 3.7.0      \n",
      "\tmachine                : x86_64     \n",
      "\tsystem                 : Darwin     \n",
      "\n",
      "\n",
      "Gammapy package:\n",
      "\n",
      "\tpath                   : /Users/jer/git/gammapy/gammapy/gammapy \n",
      "\tversion                : 0.9.dev7902 \n",
      "\tgithash                : 93b4238ae6a3c36e605f77eaa16b9def0692b34d \n",
      "\n",
      "\n",
      "Other packages:\n",
      "\n",
      "\tnumpy                  : 1.15.4     \n",
      "\tscipy                  : 1.1.0      \n",
      "\tmatplotlib             : 3.0.2      \n",
      "\tcython                 : 0.29       \n",
      "\tastropy                : 3.0.5      \n",
      "\tastropy_healpix        : 0.3.1      \n",
      "\treproject              : 0.4        \n",
      "\tsherpa                 : 4.10.1     \n",
      "\tpytest                 : 4.0.0      \n",
      "\tsphinx                 : 1.7.9      \n",
      "\thealpy                 : 1.12.5     \n",
      "\tregions                : 0.3        \n",
      "\timinuit                : 1.3.3      \n",
      "\tnaima                  : 0.8.1      \n",
      "\tuncertainties          : 3.0.3      \n",
      "\n",
      "\n",
      "Gammapy environment variables:\n",
      "\n",
      "\tGAMMAPY_DATA           : /Users/jer/DATA/GAMMAPY \n",
      "\tGAMMAPY_EXTRA          : /Users/jer/git/gammapy/gammapy-extra \n",
      "\tGAMMA_CAT              : /Users/jer/git/gammapy/gamma-cat \n",
      "\tGAMMAPY_FERMI_LAT_DATA : /Users/jer/git/gammapy/gammapy-fermi-lat-data \n",
      "\tCTADATA                : /Users/jer/DATA/DC/1dc \n",
      "\n"
     ]
    }
   ],
   "source": [
    "!gammapy info"
   ]
  },
  {
   "cell_type": "markdown",
   "metadata": {},
   "source": [
    "### Prepare model from an ASCI Table"
   ]
  },
  {
   "cell_type": "code",
   "execution_count": 3,
   "metadata": {},
   "outputs": [],
   "source": [
    "opts = {\n",
    "   'format': 'ascii',\n",
    "   'names': ['e_ref', 'e2_flux'], \n",
    "}\n",
    "\n",
    "t = Table.read('../datasets/spectra_CIRELLI11_EW_GAMMA_m2000.txt', **opts)\n",
    "\n",
    "# Let's add some units\n",
    "t['e_ref'].unit, t['e2_flux'].unit = \"MeV\", \"cm-2 s-1 MeV\""
   ]
  },
  {
   "cell_type": "code",
   "execution_count": 4,
   "metadata": {},
   "outputs": [
    {
     "data": {
      "text/html": [
       "<i>Table length=100</i>\n",
       "<table id=\"table4562632488\" class=\"table-striped table-bordered table-condensed\">\n",
       "<thead><tr><th>e_ref</th><th>e2_flux</th></tr></thead>\n",
       "<thead><tr><th>MeV</th><th>MeV / (cm2 s)</th></tr></thead>\n",
       "<thead><tr><th>float64</th><th>float64</th></tr></thead>\n",
       "<tr><td>1000.0</td><td>3.61e-12</td></tr>\n",
       "<tr><td>1089.8</td><td>3.95e-12</td></tr>\n",
       "<tr><td>1187.8</td><td>4.33e-12</td></tr>\n",
       "<tr><td>1294.5</td><td>4.73e-12</td></tr>\n",
       "<tr><td>1410.8</td><td>5.16e-12</td></tr>\n",
       "<tr><td>1537.5</td><td>5.62e-12</td></tr>\n",
       "<tr><td>1675.6</td><td>6.11e-12</td></tr>\n",
       "<tr><td>1826.2</td><td>6.64e-12</td></tr>\n",
       "<tr><td>1990.2</td><td>7.2e-12</td></tr>\n",
       "<tr><td>...</td><td>...</td></tr>\n",
       "<tr><td>2305200.0</td><td>1e-40</td></tr>\n",
       "<tr><td>2512300.0</td><td>1e-40</td></tr>\n",
       "<tr><td>2738000.0</td><td>1e-40</td></tr>\n",
       "<tr><td>2983900.0</td><td>1e-40</td></tr>\n",
       "<tr><td>3252000.0</td><td>1e-40</td></tr>\n",
       "<tr><td>3544200.0</td><td>1e-40</td></tr>\n",
       "<tr><td>3862600.0</td><td>1e-40</td></tr>\n",
       "<tr><td>4209600.0</td><td>1e-40</td></tr>\n",
       "<tr><td>4587800.0</td><td>1e-40</td></tr>\n",
       "<tr><td>5000000.0</td><td>1e-40</td></tr>\n",
       "</table>"
      ],
      "text/plain": [
       "<Table length=100>\n",
       "  e_ref      e2_flux   \n",
       "   MeV    MeV / (cm2 s)\n",
       " float64     float64   \n",
       "--------- -------------\n",
       "   1000.0      3.61e-12\n",
       "   1089.8      3.95e-12\n",
       "   1187.8      4.33e-12\n",
       "   1294.5      4.73e-12\n",
       "   1410.8      5.16e-12\n",
       "   1537.5      5.62e-12\n",
       "   1675.6      6.11e-12\n",
       "   1826.2      6.64e-12\n",
       "   1990.2       7.2e-12\n",
       "      ...           ...\n",
       "2305200.0         1e-40\n",
       "2512300.0         1e-40\n",
       "2738000.0         1e-40\n",
       "2983900.0         1e-40\n",
       "3252000.0         1e-40\n",
       "3544200.0         1e-40\n",
       "3862600.0         1e-40\n",
       "4209600.0         1e-40\n",
       "4587800.0         1e-40\n",
       "5000000.0         1e-40"
      ]
     },
     "execution_count": 4,
     "metadata": {},
     "output_type": "execute_result"
    }
   ],
   "source": [
    "t"
   ]
  },
  {
   "cell_type": "code",
   "execution_count": 5,
   "metadata": {},
   "outputs": [],
   "source": [
    "### Boost flux\n",
    "t['dnde'] = t['e2_flux']/(t['e_ref']*t['e_ref'])*10e3\n",
    "t['dnde'].unit = \"cm-2 s-1 MeV-1\""
   ]
  },
  {
   "cell_type": "code",
   "execution_count": 6,
   "metadata": {},
   "outputs": [
    {
     "data": {
      "text/html": [
       "<i>Table length=100</i>\n",
       "<table id=\"table4562632488\" class=\"table-striped table-bordered table-condensed\">\n",
       "<thead><tr><th>e_ref</th><th>e2_flux</th><th>dnde</th></tr></thead>\n",
       "<thead><tr><th>MeV</th><th>MeV / (cm2 s)</th><th>1 / (cm2 MeV s)</th></tr></thead>\n",
       "<thead><tr><th>float64</th><th>float64</th><th>float64</th></tr></thead>\n",
       "<tr><td>1000.0</td><td>3.61e-12</td><td>3.61e-14</td></tr>\n",
       "<tr><td>1089.8</td><td>3.95e-12</td><td>3.325856359177129e-14</td></tr>\n",
       "<tr><td>1187.8</td><td>4.33e-12</td><td>3.069030853357e-14</td></tr>\n",
       "<tr><td>1294.5</td><td>4.73e-12</td><td>2.8226500058705753e-14</td></tr>\n",
       "<tr><td>1410.8</td><td>5.16e-12</td><td>2.5925002063951717e-14</td></tr>\n",
       "<tr><td>1537.5</td><td>5.62e-12</td><td>2.3774208473792055e-14</td></tr>\n",
       "<tr><td>1675.6</td><td>6.11e-12</td><td>2.176208523032706e-14</td></tr>\n",
       "<tr><td>1826.2</td><td>6.64e-12</td><td>1.9910006530602085e-14</td></tr>\n",
       "<tr><td>1990.2</td><td>7.2e-12</td><td>1.8177705062918035e-14</td></tr>\n",
       "<tr><td>...</td><td>...</td><td>...</td></tr>\n",
       "<tr><td>2305200.0</td><td>1e-40</td><td>1.8818403579724044e-49</td></tr>\n",
       "<tr><td>2512300.0</td><td>1e-40</td><td>1.5843714331689576e-49</td></tr>\n",
       "<tr><td>2738000.0</td><td>1e-40</td><td>1.3339302226436255e-49</td></tr>\n",
       "<tr><td>2983900.0</td><td>1e-40</td><td>1.1231337323387963e-49</td></tr>\n",
       "<tr><td>3252000.0</td><td>1e-40</td><td>9.455814115336725e-50</td></tr>\n",
       "<tr><td>3544200.0</td><td>1e-40</td><td>7.960925459622678e-50</td></tr>\n",
       "<tr><td>3862600.0</td><td>1e-40</td><td>6.702557180259288e-50</td></tr>\n",
       "<tr><td>4209600.0</td><td>1e-40</td><td>5.643107694259061e-50</td></tr>\n",
       "<tr><td>4587800.0</td><td>1e-40</td><td>4.751065807067605e-50</td></tr>\n",
       "<tr><td>5000000.0</td><td>1e-40</td><td>3.9999999999999996e-50</td></tr>\n",
       "</table>"
      ],
      "text/plain": [
       "<Table length=100>\n",
       "  e_ref      e2_flux             dnde         \n",
       "   MeV    MeV / (cm2 s)    1 / (cm2 MeV s)    \n",
       " float64     float64           float64        \n",
       "--------- ------------- ----------------------\n",
       "   1000.0      3.61e-12               3.61e-14\n",
       "   1089.8      3.95e-12  3.325856359177129e-14\n",
       "   1187.8      4.33e-12     3.069030853357e-14\n",
       "   1294.5      4.73e-12 2.8226500058705753e-14\n",
       "   1410.8      5.16e-12 2.5925002063951717e-14\n",
       "   1537.5      5.62e-12 2.3774208473792055e-14\n",
       "   1675.6      6.11e-12  2.176208523032706e-14\n",
       "   1826.2      6.64e-12 1.9910006530602085e-14\n",
       "   1990.2       7.2e-12 1.8177705062918035e-14\n",
       "      ...           ...                    ...\n",
       "2305200.0         1e-40 1.8818403579724044e-49\n",
       "2512300.0         1e-40 1.5843714331689576e-49\n",
       "2738000.0         1e-40 1.3339302226436255e-49\n",
       "2983900.0         1e-40 1.1231337323387963e-49\n",
       "3252000.0         1e-40  9.455814115336725e-50\n",
       "3544200.0         1e-40  7.960925459622678e-50\n",
       "3862600.0         1e-40  6.702557180259288e-50\n",
       "4209600.0         1e-40  5.643107694259061e-50\n",
       "4587800.0         1e-40  4.751065807067605e-50\n",
       "5000000.0         1e-40 3.9999999999999996e-50"
      ]
     },
     "execution_count": 6,
     "metadata": {},
     "output_type": "execute_result"
    }
   ],
   "source": [
    "t"
   ]
  },
  {
   "cell_type": "code",
   "execution_count": 7,
   "metadata": {},
   "outputs": [],
   "source": [
    "mask = t['dnde']>1e-30\n",
    "t = t[mask]"
   ]
  },
  {
   "cell_type": "code",
   "execution_count": 8,
   "metadata": {},
   "outputs": [
    {
     "data": {
      "text/html": [
       "<i>Table length=89</i>\n",
       "<table id=\"table4562629072\" class=\"table-striped table-bordered table-condensed\">\n",
       "<thead><tr><th>e_ref</th><th>e2_flux</th><th>dnde</th></tr></thead>\n",
       "<thead><tr><th>MeV</th><th>MeV / (cm2 s)</th><th>1 / (cm2 MeV s)</th></tr></thead>\n",
       "<thead><tr><th>float64</th><th>float64</th><th>float64</th></tr></thead>\n",
       "<tr><td>1000.0</td><td>3.61e-12</td><td>3.61e-14</td></tr>\n",
       "<tr><td>1089.8</td><td>3.95e-12</td><td>3.325856359177129e-14</td></tr>\n",
       "<tr><td>1187.8</td><td>4.33e-12</td><td>3.069030853357e-14</td></tr>\n",
       "<tr><td>1294.5</td><td>4.73e-12</td><td>2.8226500058705753e-14</td></tr>\n",
       "<tr><td>1410.8</td><td>5.16e-12</td><td>2.5925002063951717e-14</td></tr>\n",
       "<tr><td>1537.5</td><td>5.62e-12</td><td>2.3774208473792055e-14</td></tr>\n",
       "<tr><td>1675.6</td><td>6.11e-12</td><td>2.176208523032706e-14</td></tr>\n",
       "<tr><td>1826.2</td><td>6.64e-12</td><td>1.9910006530602085e-14</td></tr>\n",
       "<tr><td>1990.2</td><td>7.2e-12</td><td>1.8177705062918035e-14</td></tr>\n",
       "<tr><td>...</td><td>...</td><td>...</td></tr>\n",
       "<tr><td>894750.0</td><td>1.69e-12</td><td>2.1109759742985556e-20</td></tr>\n",
       "<tr><td>975140.0</td><td>1.31e-12</td><td>1.3776451028376926e-20</td></tr>\n",
       "<tr><td>1062700.0</td><td>1.04e-12</td><td>9.208989507410178e-21</td></tr>\n",
       "<tr><td>1158200.0</td><td>8.43e-13</td><td>6.2843512854264094e-21</td></tr>\n",
       "<tr><td>1262300.0</td><td>7.01e-13</td><td>4.3993939530449356e-21</td></tr>\n",
       "<tr><td>1375700.0</td><td>6.12e-13</td><td>3.2337314287451325e-21</td></tr>\n",
       "<tr><td>1499300.0</td><td>5.5e-13</td><td>2.4467275239572548e-21</td></tr>\n",
       "<tr><td>1634000.0</td><td>4.91e-13</td><td>1.8389816161764466e-21</td></tr>\n",
       "<tr><td>1780800.0</td><td>4.38e-13</td><td>1.3811594413486292e-21</td></tr>\n",
       "<tr><td>1940800.0</td><td>4.13e-13</td><td>1.0964491232314938e-21</td></tr>\n",
       "</table>"
      ],
      "text/plain": [
       "<Table length=89>\n",
       "  e_ref      e2_flux             dnde         \n",
       "   MeV    MeV / (cm2 s)    1 / (cm2 MeV s)    \n",
       " float64     float64           float64        \n",
       "--------- ------------- ----------------------\n",
       "   1000.0      3.61e-12               3.61e-14\n",
       "   1089.8      3.95e-12  3.325856359177129e-14\n",
       "   1187.8      4.33e-12     3.069030853357e-14\n",
       "   1294.5      4.73e-12 2.8226500058705753e-14\n",
       "   1410.8      5.16e-12 2.5925002063951717e-14\n",
       "   1537.5      5.62e-12 2.3774208473792055e-14\n",
       "   1675.6      6.11e-12  2.176208523032706e-14\n",
       "   1826.2      6.64e-12 1.9910006530602085e-14\n",
       "   1990.2       7.2e-12 1.8177705062918035e-14\n",
       "      ...           ...                    ...\n",
       " 894750.0      1.69e-12 2.1109759742985556e-20\n",
       " 975140.0      1.31e-12 1.3776451028376926e-20\n",
       "1062700.0      1.04e-12  9.208989507410178e-21\n",
       "1158200.0      8.43e-13 6.2843512854264094e-21\n",
       "1262300.0      7.01e-13 4.3993939530449356e-21\n",
       "1375700.0      6.12e-13 3.2337314287451325e-21\n",
       "1499300.0       5.5e-13 2.4467275239572548e-21\n",
       "1634000.0      4.91e-13 1.8389816161764466e-21\n",
       "1780800.0      4.38e-13 1.3811594413486292e-21\n",
       "1940800.0      4.13e-13 1.0964491232314938e-21"
      ]
     },
     "execution_count": 8,
     "metadata": {},
     "output_type": "execute_result"
    }
   ],
   "source": [
    "t"
   ]
  },
  {
   "cell_type": "markdown",
   "metadata": {},
   "source": [
    "### Define spectral model"
   ]
  },
  {
   "cell_type": "code",
   "execution_count": 9,
   "metadata": {},
   "outputs": [],
   "source": [
    "# Offset to evaluate IRFs\n",
    "offset = 0.5 * u.deg\n",
    "\n",
    "# Energy from 0.01 to 10 TeV with 10 bins\n",
    "energy = t['e_ref'].data * t['e_ref'].unit\n",
    "values = t['dnde'].data * t['dnde'].unit"
   ]
  },
  {
   "cell_type": "code",
   "execution_count": 10,
   "metadata": {},
   "outputs": [],
   "source": [
    "model = TableModel(\n",
    "    energy=energy,\n",
    "    values=values,\n",
    ")"
   ]
  },
  {
   "cell_type": "markdown",
   "metadata": {},
   "source": [
    "### Load IRFs"
   ]
  },
  {
   "cell_type": "code",
   "execution_count": 11,
   "metadata": {},
   "outputs": [
    {
     "name": "stdout",
     "output_type": "stream",
     "text": [
      "aeff EffectiveAreaTable2D\n",
      "NDDataArray summary info\n",
      "energy         : size =    42, min =  0.014 TeV, max = 177.828 TeV\n",
      "offset         : size =     6, min =  0.500 deg, max =  5.500 deg\n",
      "Data           : size =   252, min =  0.000 m2, max = 7238342.000 m2\n",
      "\n",
      "bkg Background3D\n",
      "NDDataArray summary info\n",
      "energy         : size =    21, min =  0.016 TeV, max = 158.489 TeV\n",
      "fov_lon        : size =    36, min = -5.833 deg, max =  5.833 deg\n",
      "fov_lat        : size =    36, min = -5.833 deg, max =  5.833 deg\n",
      "Data           : size = 27216, min =  0.000 1 / (MeV s sr), max =  0.259 1 / (MeV s sr)\n",
      "\n",
      "edisp EnergyDispersion2D\n",
      "NDDataArray summary info\n",
      "e_true         : size =   500, min =  0.005 TeV, max = 495.450 TeV\n",
      "migra          : size =   300, min =  0.005, max =  2.995\n",
      "offset         : size =     6, min =  0.500 deg, max =  5.500 deg\n",
      "Data           : size = 900000, min =  0.000, max = 27173.320\n",
      "\n",
      "psf <gammapy.irf.psf_gauss.EnergyDependentMultiGaussPSF object at 0x10ff6cef0>\n"
     ]
    }
   ],
   "source": [
    "irfs = load_cta_irfs(\"$CTADATA/caldb/data/cta/1dc/bcf/South_z40_50h/irf_file.fits\")\n",
    "for k, v in irfs.items():\n",
    "    print(k, v)"
   ]
  },
  {
   "cell_type": "code",
   "execution_count": 12,
   "metadata": {},
   "outputs": [
    {
     "name": "stdout",
     "output_type": "stream",
     "text": [
      "NDDataArray summary info\n",
      "energy         : size =    42, min =  0.014 TeV, max = 177.828 TeV\n",
      "offset         : size =     6, min =  0.500 deg, max =  5.500 deg\n",
      "Data           : size =   252, min =  0.000 m2, max = 7238342.000 m2\n",
      "\n"
     ]
    },
    {
     "data": {
      "image/png": "[encoded data removed]",
      "text/plain": [
       "<Figure size 432x288 with 1 Axes>"
      ]
     },
     "metadata": {
      "needs_background": "light"
     },
     "output_type": "display_data"
    }
   ],
   "source": [
    "aeff = irfs['aeff'].to_effective_area_table(offset=offset, energy=energy)\n",
    "aeff.plot()\n",
    "plt.loglog()\n",
    "print(irfs['aeff'].data)"
   ]
  },
  {
   "cell_type": "code",
   "execution_count": 13,
   "metadata": {},
   "outputs": [
    {
     "name": "stdout",
     "output_type": "stream",
     "text": [
      "NDDataArray summary info\n",
      "e_true         : size =    88, min = 1043.935 MeV, max = 1859079.514 MeV\n",
      "e_reco         : size =    88, min = 1043.935 MeV, max = 1859079.514 MeV\n",
      "Data           : size =  7744, min =  0.000, max =  1.000\n",
      "\n"
     ]
    },
    {
     "data": {
      "image/png": "[encoded data removed]",
      "text/plain": [
       "<Figure size 432x288 with 1 Axes>"
      ]
     },
     "metadata": {
      "needs_background": "light"
     },
     "output_type": "display_data"
    }
   ],
   "source": [
    "edisp = irfs['edisp'].to_energy_dispersion(\n",
    "    offset=offset, e_true=energy, e_reco=energy\n",
    ")\n",
    "edisp.plot_matrix()\n",
    "print(edisp.data)"
   ]
  },
  {
   "cell_type": "markdown",
   "metadata": {},
   "source": [
    "### Simulate data"
   ]
  },
  {
   "cell_type": "code",
   "execution_count": 14,
   "metadata": {},
   "outputs": [],
   "source": [
    "# observation time\n",
    "livetime = 5 * u.h"
   ]
  },
  {
   "cell_type": "code",
   "execution_count": 15,
   "metadata": {},
   "outputs": [],
   "source": [
    "# Simulate data\n",
    "sim = SpectrumSimulation(\n",
    "    aeff=aeff, edisp=edisp, source_model=model, livetime=livetime\n",
    ")\n",
    "sim.simulate_obs(obs_id=0)"
   ]
  },
  {
   "cell_type": "code",
   "execution_count": 16,
   "metadata": {
    "scrolled": false
   },
   "outputs": [
    {
     "name": "stdout",
     "output_type": "stream",
     "text": [
      "*** Observation summary report ***\n",
      "Observation Id: 0\n",
      "Livetime: 5.000 h\n",
      "On events: 230\n",
      "Off events: 0\n",
      "Alpha: 1.000\n",
      "Bkg events in On region: 0.00\n",
      "Excess: 230.00\n",
      "Excess / Background: inf\n",
      "Gamma rate: 46.00 1 / h\n",
      "Bkg rate: 0.00 1 / min\n",
      "Sigma: nan\n",
      "energy range: 1000.00 MeV - 1940800.00 MeV\n"
     ]
    },
    {
     "data": {
      "image/png": "[encoded data removed]",
      "text/plain": [
       "<Figure size 720x720 with 4 Axes>"
      ]
     },
     "metadata": {
      "needs_background": "light"
     },
     "output_type": "display_data"
    }
   ],
   "source": [
    "sim.obs.peek()\n",
    "print(sim.obs)"
   ]
  },
  {
   "cell_type": "code",
   "execution_count": null,
   "metadata": {},
   "outputs": [],
   "source": []
  }
 ],
 "metadata": {
  "kernelspec": {
   "display_name": "Python 3",
   "language": "python",
   "name": "python3"
  },
  "language_info": {
   "codemirror_mode": {
    "name": "ipython",
    "version": 3
   },
   "file_extension": ".py",
   "mimetype": "text/x-python",
   "name": "python",
   "nbconvert_exporter": "python",
   "pygments_lexer": "ipython3",
   "version": "3.7.0"
  }
 },
 "nbformat": 4,
 "nbformat_minor": 2
}
